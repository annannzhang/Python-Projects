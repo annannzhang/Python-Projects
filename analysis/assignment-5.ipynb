{
 "cells": [
  {
   "cell_type": "markdown",
   "metadata": {},
   "source": [
    "# Solutions for Assignment 5: Exploring Yelp Reviews in Philadelphia\n",
    "\n",
    "In this assignment, we'll explore restaurant review data available through the [Yelp Dataset Challenge](https://www.yelp.com/dataset). The dataset includes Yelp data for user reviews and business information for many metropolitan areas. I've already downloaded this dataset (8 GB total!) and extracted out the data files for reviews and restaurants in Philadelphia. I've placed these data files into the `data` directory in this repository. \n",
    "\n",
    "This assignment is broken into two parts:\n",
    "\n",
    "**Part 1:** Analyzing correlations between restaurant reviews and census data\n",
    "\n",
    "We'll explore the relationship between restaurant reviews and the income levels of the restaurant's surrounding area.\n",
    "\n",
    "**Part 2:** Exploring the impact of fast food restaurants\n",
    "\n",
    "We'll run a sentiment analysis on reviews of fast food restaurants and estimate income levels in neighborhoods with fast food restaurants. We'll test how well our sentiment analysis works by comparing the number of stars to the sentiment of reviews.\n",
    "\n",
    "\n",
    "**Background readings**\n",
    "- [Does sentiment analysis work?](http://varianceexplained.org/r/yelp-sentiment/)\n",
    "- [The Geography of Taste: Using Yelp to Study Urban Culture](https://www.mdpi.com/2220-9964/7/9/376/pdf/1)"
   ]
  },
  {
   "cell_type": "code",
   "execution_count": 8,
   "metadata": {
    "tags": []
   },
   "outputs": [],
   "source": [
    "import pandas as pd\n",
    "import geopandas as gpd\n",
    "import altair as alt\n",
    "import numpy as np"
   ]
  },
  {
   "cell_type": "markdown",
   "metadata": {},
   "source": [
    "## 1. Correlating restaurant ratings and income levels\n",
    "\n",
    "In this part, we'll use the census API to download household income data and explore how it correlates with restaurant review data."
   ]
  },
  {
   "cell_type": "markdown",
   "metadata": {},
   "source": [
    "### 1.1 Query the Census API\n",
    "\n",
    "Use the `cenpy` package to download **median household income in the past 12 months** by census tract from the 2021 ACS 5-year data set for your county of interest.\n",
    "\n",
    "You have two options to find the correct variable names:\n",
    "- Search through: [https://api.census.gov/data/2021/acs/acs5/variables.html](https://api.census.gov/data/2021/acs/acs5/variables.html)\n",
    "- Initialize an API connection and use the `.varslike()` function to search for the proper keywords \n",
    "\n",
    "At the end of this step, you should have a pandas DataFrame holding the income data for all census tracts within the county being analyzed. Feel free to rename your variable from the ACS so it has a more meaningful name!\n",
    "\n",
    "::: {.callout-caution}\n",
    "Some census tracts won't have any value because there are not enough households in that tract. The census will use a negative number as a default value for those tracts. You can safely remove those tracts from the analysis!\n",
    ":::"
   ]
  },
  {
   "cell_type": "code",
   "execution_count": 9,
   "metadata": {
    "tags": []
   },
   "outputs": [
    {
     "name": "stderr",
     "output_type": "stream",
     "text": [
      "/Users/annzhang/mambaforge/envs/musa-550-fall-2023/lib/python3.10/site-packages/libpysal/cg/alpha_shapes.py:39: NumbaDeprecationWarning: \u001b[1mThe 'nopython' keyword argument was not supplied to the 'numba.jit' decorator. The implicit default value for this argument is currently False, but it will be changed to True in Numba 0.59.0. See https://numba.readthedocs.io/en/stable/reference/deprecation.html#deprecation-of-object-mode-fall-back-behaviour-when-using-jit for details.\u001b[0m\n",
      "  def nb_dist(x, y):\n",
      "/Users/annzhang/mambaforge/envs/musa-550-fall-2023/lib/python3.10/site-packages/libpysal/cg/alpha_shapes.py:165: NumbaDeprecationWarning: \u001b[1mThe 'nopython' keyword argument was not supplied to the 'numba.jit' decorator. The implicit default value for this argument is currently False, but it will be changed to True in Numba 0.59.0. See https://numba.readthedocs.io/en/stable/reference/deprecation.html#deprecation-of-object-mode-fall-back-behaviour-when-using-jit for details.\u001b[0m\n",
      "  def get_faces(triangle):\n",
      "/Users/annzhang/mambaforge/envs/musa-550-fall-2023/lib/python3.10/site-packages/libpysal/cg/alpha_shapes.py:199: NumbaDeprecationWarning: \u001b[1mThe 'nopython' keyword argument was not supplied to the 'numba.jit' decorator. The implicit default value for this argument is currently False, but it will be changed to True in Numba 0.59.0. See https://numba.readthedocs.io/en/stable/reference/deprecation.html#deprecation-of-object-mode-fall-back-behaviour-when-using-jit for details.\u001b[0m\n",
      "  def build_faces(faces, triangles_is, num_triangles, num_faces_single):\n",
      "/Users/annzhang/mambaforge/envs/musa-550-fall-2023/lib/python3.10/site-packages/libpysal/cg/alpha_shapes.py:261: NumbaDeprecationWarning: \u001b[1mThe 'nopython' keyword argument was not supplied to the 'numba.jit' decorator. The implicit default value for this argument is currently False, but it will be changed to True in Numba 0.59.0. See https://numba.readthedocs.io/en/stable/reference/deprecation.html#deprecation-of-object-mode-fall-back-behaviour-when-using-jit for details.\u001b[0m\n",
      "  def nb_mask_faces(mask, faces):\n"
     ]
    }
   ],
   "source": [
    "import cenpy"
   ]
  },
  {
   "cell_type": "code",
   "execution_count": 10,
   "metadata": {
    "tags": []
   },
   "outputs": [],
   "source": [
    "acs = cenpy.remote.APIConnection(\"ACSDT5Y2021\")"
   ]
  },
  {
   "cell_type": "code",
   "execution_count": 11,
   "metadata": {
    "tags": []
   },
   "outputs": [],
   "source": [
    "matches = acs.varslike(\n",
    "    pattern=\"household income\",\n",
    "    by=\"label\",\n",
    ").sort_index()"
   ]
  },
  {
   "cell_type": "code",
   "execution_count": 12,
   "metadata": {
    "tags": []
   },
   "outputs": [
    {
     "data": {
      "text/html": [
       "<div>\n",
       "<style scoped>\n",
       "    .dataframe tbody tr th:only-of-type {\n",
       "        vertical-align: middle;\n",
       "    }\n",
       "\n",
       "    .dataframe tbody tr th {\n",
       "        vertical-align: top;\n",
       "    }\n",
       "\n",
       "    .dataframe thead th {\n",
       "        text-align: right;\n",
       "    }\n",
       "</style>\n",
       "<table border=\"1\" class=\"dataframe\">\n",
       "  <thead>\n",
       "    <tr style=\"text-align: right;\">\n",
       "      <th></th>\n",
       "      <th>label</th>\n",
       "      <th>concept</th>\n",
       "      <th>predicateType</th>\n",
       "      <th>group</th>\n",
       "      <th>limit</th>\n",
       "      <th>predicateOnly</th>\n",
       "      <th>hasGeoCollectionSupport</th>\n",
       "      <th>attributes</th>\n",
       "      <th>required</th>\n",
       "    </tr>\n",
       "  </thead>\n",
       "  <tbody>\n",
       "    <tr>\n",
       "      <th>B19013A_001E</th>\n",
       "      <td>Estimate!!Median household income in the past 12 months (in 2021 inflation-adjusted dollars)</td>\n",
       "      <td>MEDIAN HOUSEHOLD INCOME IN THE PAST 12 MONTHS (IN 2021 INFLATION-ADJUSTED DOLLARS) (WHITE ALONE HOUSEHOLDER)</td>\n",
       "      <td>int</td>\n",
       "      <td>B19013A</td>\n",
       "      <td>0</td>\n",
       "      <td>NaN</td>\n",
       "      <td>NaN</td>\n",
       "      <td>B19013A_001EA,B19013A_001M,B19013A_001MA</td>\n",
       "      <td>NaN</td>\n",
       "    </tr>\n",
       "    <tr>\n",
       "      <th>B19013B_001E</th>\n",
       "      <td>Estimate!!Median household income in the past 12 months (in 2021 inflation-adjusted dollars)</td>\n",
       "      <td>MEDIAN HOUSEHOLD INCOME IN THE PAST 12 MONTHS (IN 2021 INFLATION-ADJUSTED DOLLARS) (BLACK OR AFRICAN AMERICAN ALONE HOUSEHOLDER)</td>\n",
       "      <td>int</td>\n",
       "      <td>B19013B</td>\n",
       "      <td>0</td>\n",
       "      <td>NaN</td>\n",
       "      <td>NaN</td>\n",
       "      <td>B19013B_001EA,B19013B_001M,B19013B_001MA</td>\n",
       "      <td>NaN</td>\n",
       "    </tr>\n",
       "    <tr>\n",
       "      <th>B19013C_001E</th>\n",
       "      <td>Estimate!!Median household income in the past 12 months (in 2021 inflation-adjusted dollars)</td>\n",
       "      <td>MEDIAN HOUSEHOLD INCOME IN THE PAST 12 MONTHS (IN 2021 INFLATION-ADJUSTED DOLLARS) (AMERICAN INDIAN AND ALASKA NATIVE ALONE HOUSEHOLDER)</td>\n",
       "      <td>int</td>\n",
       "      <td>B19013C</td>\n",
       "      <td>0</td>\n",
       "      <td>NaN</td>\n",
       "      <td>NaN</td>\n",
       "      <td>B19013C_001EA,B19013C_001M,B19013C_001MA</td>\n",
       "      <td>NaN</td>\n",
       "    </tr>\n",
       "    <tr>\n",
       "      <th>B19013D_001E</th>\n",
       "      <td>Estimate!!Median household income in the past 12 months (in 2021 inflation-adjusted dollars)</td>\n",
       "      <td>MEDIAN HOUSEHOLD INCOME IN THE PAST 12 MONTHS (IN 2021 INFLATION-ADJUSTED DOLLARS) (ASIAN ALONE HOUSEHOLDER)</td>\n",
       "      <td>int</td>\n",
       "      <td>B19013D</td>\n",
       "      <td>0</td>\n",
       "      <td>NaN</td>\n",
       "      <td>NaN</td>\n",
       "      <td>B19013D_001EA,B19013D_001M,B19013D_001MA</td>\n",
       "      <td>NaN</td>\n",
       "    </tr>\n",
       "    <tr>\n",
       "      <th>B19013E_001E</th>\n",
       "      <td>Estimate!!Median household income in the past 12 months (in 2021 inflation-adjusted dollars)</td>\n",
       "      <td>MEDIAN HOUSEHOLD INCOME IN THE PAST 12 MONTHS (IN 2021 INFLATION-ADJUSTED DOLLARS) (NATIVE HAWAIIAN AND OTHER PACIFIC ISLANDER ALONE HOUSEHOLDER)</td>\n",
       "      <td>int</td>\n",
       "      <td>B19013E</td>\n",
       "      <td>0</td>\n",
       "      <td>NaN</td>\n",
       "      <td>NaN</td>\n",
       "      <td>B19013E_001EA,B19013E_001M,B19013E_001MA</td>\n",
       "      <td>NaN</td>\n",
       "    </tr>\n",
       "    <tr>\n",
       "      <th>B19013F_001E</th>\n",
       "      <td>Estimate!!Median household income in the past 12 months (in 2021 inflation-adjusted dollars)</td>\n",
       "      <td>MEDIAN HOUSEHOLD INCOME IN THE PAST 12 MONTHS (IN 2021 INFLATION-ADJUSTED DOLLARS) (SOME OTHER RACE ALONE HOUSEHOLDER)</td>\n",
       "      <td>int</td>\n",
       "      <td>B19013F</td>\n",
       "      <td>0</td>\n",
       "      <td>NaN</td>\n",
       "      <td>NaN</td>\n",
       "      <td>B19013F_001EA,B19013F_001M,B19013F_001MA</td>\n",
       "      <td>NaN</td>\n",
       "    </tr>\n",
       "    <tr>\n",
       "      <th>B19013G_001E</th>\n",
       "      <td>Estimate!!Median household income in the past 12 months (in 2021 inflation-adjusted dollars)</td>\n",
       "      <td>MEDIAN HOUSEHOLD INCOME IN THE PAST 12 MONTHS (IN 2021 INFLATION-ADJUSTED DOLLARS) (TWO OR MORE RACES HOUSEHOLDER)</td>\n",
       "      <td>int</td>\n",
       "      <td>B19013G</td>\n",
       "      <td>0</td>\n",
       "      <td>NaN</td>\n",
       "      <td>NaN</td>\n",
       "      <td>B19013G_001EA,B19013G_001M,B19013G_001MA</td>\n",
       "      <td>NaN</td>\n",
       "    </tr>\n",
       "    <tr>\n",
       "      <th>B19013H_001E</th>\n",
       "      <td>Estimate!!Median household income in the past 12 months (in 2021 inflation-adjusted dollars)</td>\n",
       "      <td>MEDIAN HOUSEHOLD INCOME IN THE PAST 12 MONTHS (IN 2021 INFLATION-ADJUSTED DOLLARS) (WHITE ALONE, NOT HISPANIC OR LATINO HOUSEHOLDER)</td>\n",
       "      <td>int</td>\n",
       "      <td>B19013H</td>\n",
       "      <td>0</td>\n",
       "      <td>NaN</td>\n",
       "      <td>NaN</td>\n",
       "      <td>B19013H_001EA,B19013H_001M,B19013H_001MA</td>\n",
       "      <td>NaN</td>\n",
       "    </tr>\n",
       "    <tr>\n",
       "      <th>B19013I_001E</th>\n",
       "      <td>Estimate!!Median household income in the past 12 months (in 2021 inflation-adjusted dollars)</td>\n",
       "      <td>MEDIAN HOUSEHOLD INCOME IN THE PAST 12 MONTHS (IN 2021 INFLATION-ADJUSTED DOLLARS) (HISPANIC OR LATINO HOUSEHOLDER)</td>\n",
       "      <td>int</td>\n",
       "      <td>B19013I</td>\n",
       "      <td>0</td>\n",
       "      <td>NaN</td>\n",
       "      <td>NaN</td>\n",
       "      <td>B19013I_001EA,B19013I_001M,B19013I_001MA</td>\n",
       "      <td>NaN</td>\n",
       "    </tr>\n",
       "    <tr>\n",
       "      <th>B19013_001E</th>\n",
       "      <td>Estimate!!Median household income in the past 12 months (in 2021 inflation-adjusted dollars)</td>\n",
       "      <td>MEDIAN HOUSEHOLD INCOME IN THE PAST 12 MONTHS (IN 2021 INFLATION-ADJUSTED DOLLARS)</td>\n",
       "      <td>int</td>\n",
       "      <td>B19013</td>\n",
       "      <td>0</td>\n",
       "      <td>NaN</td>\n",
       "      <td>NaN</td>\n",
       "      <td>B19013_001EA,B19013_001M,B19013_001MA</td>\n",
       "      <td>NaN</td>\n",
       "    </tr>\n",
       "  </tbody>\n",
       "</table>\n",
       "</div>"
      ],
      "text/plain": [
       "                                                                                                     label  \\\n",
       "B19013A_001E  Estimate!!Median household income in the past 12 months (in 2021 inflation-adjusted dollars)   \n",
       "B19013B_001E  Estimate!!Median household income in the past 12 months (in 2021 inflation-adjusted dollars)   \n",
       "B19013C_001E  Estimate!!Median household income in the past 12 months (in 2021 inflation-adjusted dollars)   \n",
       "B19013D_001E  Estimate!!Median household income in the past 12 months (in 2021 inflation-adjusted dollars)   \n",
       "B19013E_001E  Estimate!!Median household income in the past 12 months (in 2021 inflation-adjusted dollars)   \n",
       "B19013F_001E  Estimate!!Median household income in the past 12 months (in 2021 inflation-adjusted dollars)   \n",
       "B19013G_001E  Estimate!!Median household income in the past 12 months (in 2021 inflation-adjusted dollars)   \n",
       "B19013H_001E  Estimate!!Median household income in the past 12 months (in 2021 inflation-adjusted dollars)   \n",
       "B19013I_001E  Estimate!!Median household income in the past 12 months (in 2021 inflation-adjusted dollars)   \n",
       "B19013_001E   Estimate!!Median household income in the past 12 months (in 2021 inflation-adjusted dollars)   \n",
       "\n",
       "                                                                                                                                                        concept  \\\n",
       "B19013A_001E                                       MEDIAN HOUSEHOLD INCOME IN THE PAST 12 MONTHS (IN 2021 INFLATION-ADJUSTED DOLLARS) (WHITE ALONE HOUSEHOLDER)   \n",
       "B19013B_001E                   MEDIAN HOUSEHOLD INCOME IN THE PAST 12 MONTHS (IN 2021 INFLATION-ADJUSTED DOLLARS) (BLACK OR AFRICAN AMERICAN ALONE HOUSEHOLDER)   \n",
       "B19013C_001E           MEDIAN HOUSEHOLD INCOME IN THE PAST 12 MONTHS (IN 2021 INFLATION-ADJUSTED DOLLARS) (AMERICAN INDIAN AND ALASKA NATIVE ALONE HOUSEHOLDER)   \n",
       "B19013D_001E                                       MEDIAN HOUSEHOLD INCOME IN THE PAST 12 MONTHS (IN 2021 INFLATION-ADJUSTED DOLLARS) (ASIAN ALONE HOUSEHOLDER)   \n",
       "B19013E_001E  MEDIAN HOUSEHOLD INCOME IN THE PAST 12 MONTHS (IN 2021 INFLATION-ADJUSTED DOLLARS) (NATIVE HAWAIIAN AND OTHER PACIFIC ISLANDER ALONE HOUSEHOLDER)   \n",
       "B19013F_001E                             MEDIAN HOUSEHOLD INCOME IN THE PAST 12 MONTHS (IN 2021 INFLATION-ADJUSTED DOLLARS) (SOME OTHER RACE ALONE HOUSEHOLDER)   \n",
       "B19013G_001E                                 MEDIAN HOUSEHOLD INCOME IN THE PAST 12 MONTHS (IN 2021 INFLATION-ADJUSTED DOLLARS) (TWO OR MORE RACES HOUSEHOLDER)   \n",
       "B19013H_001E               MEDIAN HOUSEHOLD INCOME IN THE PAST 12 MONTHS (IN 2021 INFLATION-ADJUSTED DOLLARS) (WHITE ALONE, NOT HISPANIC OR LATINO HOUSEHOLDER)   \n",
       "B19013I_001E                                MEDIAN HOUSEHOLD INCOME IN THE PAST 12 MONTHS (IN 2021 INFLATION-ADJUSTED DOLLARS) (HISPANIC OR LATINO HOUSEHOLDER)   \n",
       "B19013_001E                                                                  MEDIAN HOUSEHOLD INCOME IN THE PAST 12 MONTHS (IN 2021 INFLATION-ADJUSTED DOLLARS)   \n",
       "\n",
       "             predicateType    group limit predicateOnly  \\\n",
       "B19013A_001E           int  B19013A     0           NaN   \n",
       "B19013B_001E           int  B19013B     0           NaN   \n",
       "B19013C_001E           int  B19013C     0           NaN   \n",
       "B19013D_001E           int  B19013D     0           NaN   \n",
       "B19013E_001E           int  B19013E     0           NaN   \n",
       "B19013F_001E           int  B19013F     0           NaN   \n",
       "B19013G_001E           int  B19013G     0           NaN   \n",
       "B19013H_001E           int  B19013H     0           NaN   \n",
       "B19013I_001E           int  B19013I     0           NaN   \n",
       "B19013_001E            int   B19013     0           NaN   \n",
       "\n",
       "             hasGeoCollectionSupport  \\\n",
       "B19013A_001E                     NaN   \n",
       "B19013B_001E                     NaN   \n",
       "B19013C_001E                     NaN   \n",
       "B19013D_001E                     NaN   \n",
       "B19013E_001E                     NaN   \n",
       "B19013F_001E                     NaN   \n",
       "B19013G_001E                     NaN   \n",
       "B19013H_001E                     NaN   \n",
       "B19013I_001E                     NaN   \n",
       "B19013_001E                      NaN   \n",
       "\n",
       "                                            attributes required  \n",
       "B19013A_001E  B19013A_001EA,B19013A_001M,B19013A_001MA      NaN  \n",
       "B19013B_001E  B19013B_001EA,B19013B_001M,B19013B_001MA      NaN  \n",
       "B19013C_001E  B19013C_001EA,B19013C_001M,B19013C_001MA      NaN  \n",
       "B19013D_001E  B19013D_001EA,B19013D_001M,B19013D_001MA      NaN  \n",
       "B19013E_001E  B19013E_001EA,B19013E_001M,B19013E_001MA      NaN  \n",
       "B19013F_001E  B19013F_001EA,B19013F_001M,B19013F_001MA      NaN  \n",
       "B19013G_001E  B19013G_001EA,B19013G_001M,B19013G_001MA      NaN  \n",
       "B19013H_001E  B19013H_001EA,B19013H_001M,B19013H_001MA      NaN  \n",
       "B19013I_001E  B19013I_001EA,B19013I_001M,B19013I_001MA      NaN  \n",
       "B19013_001E      B19013_001EA,B19013_001M,B19013_001MA      NaN  "
      ]
     },
     "execution_count": 12,
     "metadata": {},
     "output_type": "execute_result"
    }
   ],
   "source": [
    "pd.set_option('display.max_colwidth', None)\n",
    "matches.head(10)"
   ]
  },
  {
   "cell_type": "code",
   "execution_count": 13,
   "metadata": {
    "tags": []
   },
   "outputs": [],
   "source": [
    "variables = [\n",
    "    \"NAME\",\n",
    "    \"B19013_001E\" #median income in the past 12 month\n",
    "]"
   ]
  },
  {
   "cell_type": "code",
   "execution_count": 14,
   "metadata": {
    "tags": []
   },
   "outputs": [],
   "source": [
    "philly_county_code = \"101\"\n",
    "pa_state_code = \"42\"\n",
    "\n",
    "philly_income = acs.query(cols=variables, geo_unit=\"block group:*\", geo_filter={\"state\": pa_state_code, \"county\": philly_county_code, \"tract\": \"*\"}, apikey='b3abcecc231fa30ccaa18cb5e854c30f1982fe3f')\n",
    "philly_income.head(10)\n",
    "\n",
    "philly_income['B19013_001E'] = philly_income['B19013_001E'].replace('-666666666', '0').astype('int32')"
   ]
  },
  {
   "cell_type": "code",
   "execution_count": 15,
   "metadata": {
    "tags": []
   },
   "outputs": [
    {
     "data": {
      "text/html": [
       "<div>\n",
       "<style scoped>\n",
       "    .dataframe tbody tr th:only-of-type {\n",
       "        vertical-align: middle;\n",
       "    }\n",
       "\n",
       "    .dataframe tbody tr th {\n",
       "        vertical-align: top;\n",
       "    }\n",
       "\n",
       "    .dataframe thead th {\n",
       "        text-align: right;\n",
       "    }\n",
       "</style>\n",
       "<table border=\"1\" class=\"dataframe\">\n",
       "  <thead>\n",
       "    <tr style=\"text-align: right;\">\n",
       "      <th></th>\n",
       "      <th>NAME</th>\n",
       "      <th>B19013_001E</th>\n",
       "      <th>state</th>\n",
       "      <th>county</th>\n",
       "      <th>tract</th>\n",
       "      <th>block group</th>\n",
       "    </tr>\n",
       "  </thead>\n",
       "  <tbody>\n",
       "    <tr>\n",
       "      <th>0</th>\n",
       "      <td>Block Group 1, Census Tract 1.01, Philadelphia County, Pennsylvania</td>\n",
       "      <td>0</td>\n",
       "      <td>42</td>\n",
       "      <td>101</td>\n",
       "      <td>000101</td>\n",
       "      <td>1</td>\n",
       "    </tr>\n",
       "    <tr>\n",
       "      <th>1</th>\n",
       "      <td>Block Group 2, Census Tract 1.01, Philadelphia County, Pennsylvania</td>\n",
       "      <td>0</td>\n",
       "      <td>42</td>\n",
       "      <td>101</td>\n",
       "      <td>000101</td>\n",
       "      <td>2</td>\n",
       "    </tr>\n",
       "    <tr>\n",
       "      <th>2</th>\n",
       "      <td>Block Group 3, Census Tract 1.01, Philadelphia County, Pennsylvania</td>\n",
       "      <td>0</td>\n",
       "      <td>42</td>\n",
       "      <td>101</td>\n",
       "      <td>000101</td>\n",
       "      <td>3</td>\n",
       "    </tr>\n",
       "    <tr>\n",
       "      <th>3</th>\n",
       "      <td>Block Group 4, Census Tract 1.01, Philadelphia County, Pennsylvania</td>\n",
       "      <td>97210</td>\n",
       "      <td>42</td>\n",
       "      <td>101</td>\n",
       "      <td>000101</td>\n",
       "      <td>4</td>\n",
       "    </tr>\n",
       "    <tr>\n",
       "      <th>4</th>\n",
       "      <td>Block Group 5, Census Tract 1.01, Philadelphia County, Pennsylvania</td>\n",
       "      <td>109269</td>\n",
       "      <td>42</td>\n",
       "      <td>101</td>\n",
       "      <td>000101</td>\n",
       "      <td>5</td>\n",
       "    </tr>\n",
       "  </tbody>\n",
       "</table>\n",
       "</div>"
      ],
      "text/plain": [
       "                                                                  NAME  \\\n",
       "0  Block Group 1, Census Tract 1.01, Philadelphia County, Pennsylvania   \n",
       "1  Block Group 2, Census Tract 1.01, Philadelphia County, Pennsylvania   \n",
       "2  Block Group 3, Census Tract 1.01, Philadelphia County, Pennsylvania   \n",
       "3  Block Group 4, Census Tract 1.01, Philadelphia County, Pennsylvania   \n",
       "4  Block Group 5, Census Tract 1.01, Philadelphia County, Pennsylvania   \n",
       "\n",
       "   B19013_001E state county   tract block group  \n",
       "0            0    42    101  000101           1  \n",
       "1            0    42    101  000101           2  \n",
       "2            0    42    101  000101           3  \n",
       "3        97210    42    101  000101           4  \n",
       "4       109269    42    101  000101           5  "
      ]
     },
     "execution_count": 15,
     "metadata": {},
     "output_type": "execute_result"
    }
   ],
   "source": [
    "philly_income.head()"
   ]
  },
  {
   "cell_type": "markdown",
   "metadata": {},
   "source": [
    "### 1.2 Download census tracts from the Census and merge the data from part 1.1\n",
    "\n",
    "- Download census tracts for the desired geography using the `pygris` package\n",
    "- Merge the downloaded census tracts with the household income DataFrame"
   ]
  },
  {
   "cell_type": "code",
   "execution_count": 16,
   "metadata": {
    "tags": []
   },
   "outputs": [],
   "source": [
    "import pygris\n",
    "philly_blocks = pygris.block_groups(state=pa_state_code, county=philly_county_code, year=2021)"
   ]
  },
  {
   "cell_type": "code",
   "execution_count": 17,
   "metadata": {
    "tags": []
   },
   "outputs": [],
   "source": [
    "philly_merged = philly_blocks.merge(\n",
    "    philly_income,\n",
    "    left_on=[\"STATEFP\", \"COUNTYFP\", \"TRACTCE\", \"BLKGRPCE\"],\n",
    "    right_on=[\"state\", \"county\", \"tract\", \"block group\"],)"
   ]
  },
  {
   "cell_type": "code",
   "execution_count": 18,
   "metadata": {
    "tags": []
   },
   "outputs": [
    {
     "data": {
      "text/html": [
       "<div>\n",
       "<style scoped>\n",
       "    .dataframe tbody tr th:only-of-type {\n",
       "        vertical-align: middle;\n",
       "    }\n",
       "\n",
       "    .dataframe tbody tr th {\n",
       "        vertical-align: top;\n",
       "    }\n",
       "\n",
       "    .dataframe thead th {\n",
       "        text-align: right;\n",
       "    }\n",
       "</style>\n",
       "<table border=\"1\" class=\"dataframe\">\n",
       "  <thead>\n",
       "    <tr style=\"text-align: right;\">\n",
       "      <th></th>\n",
       "      <th>STATEFP</th>\n",
       "      <th>COUNTYFP</th>\n",
       "      <th>TRACTCE</th>\n",
       "      <th>BLKGRPCE</th>\n",
       "      <th>GEOID</th>\n",
       "      <th>NAMELSAD</th>\n",
       "      <th>MTFCC</th>\n",
       "      <th>FUNCSTAT</th>\n",
       "      <th>ALAND</th>\n",
       "      <th>AWATER</th>\n",
       "      <th>INTPTLAT</th>\n",
       "      <th>INTPTLON</th>\n",
       "      <th>geometry</th>\n",
       "      <th>NAME</th>\n",
       "      <th>B19013_001E</th>\n",
       "      <th>state</th>\n",
       "      <th>county</th>\n",
       "      <th>tract</th>\n",
       "      <th>block group</th>\n",
       "    </tr>\n",
       "  </thead>\n",
       "  <tbody>\n",
       "    <tr>\n",
       "      <th>0</th>\n",
       "      <td>42</td>\n",
       "      <td>101</td>\n",
       "      <td>989100</td>\n",
       "      <td>2</td>\n",
       "      <td>421019891002</td>\n",
       "      <td>Block Group 2</td>\n",
       "      <td>G5030</td>\n",
       "      <td>S</td>\n",
       "      <td>373653</td>\n",
       "      <td>7060</td>\n",
       "      <td>+40.0373207</td>\n",
       "      <td>-075.0177378</td>\n",
       "      <td>POLYGON ((-75.02195 40.03435, -75.02191 40.03451, -75.02173 40.03482, -75.02151 40.03515, -75.02135 40.03544, -75.02129 40.03562, -75.02130 40.03582, -75.02134 40.03607, -75.02150 40.03638, -75.02163 40.03663, -75.02181 40.03702, -75.02168 40.03709, -75.01967 40.03813, -75.01902 40.03847, -75.01843 40.03877, -75.01783 40.03908, -75.01703 40.03950, -75.01621 40.03991, -75.01535 40.03894, -75.01500 40.03910, -75.01432 40.03945, -75.01254 40.03803, -75.01216 40.03772, -75.01195 40.03755, -75.01131 40.03704, -75.01225 40.03654, -75.01530 40.03485, -75.01790 40.03340, -75.01797 40.03336, -75.01817 40.03350, -75.01862 40.03366, -75.01959 40.03374, -75.01986 40.03376, -75.02000 40.03377, -75.02011 40.03377, -75.02022 40.03378, -75.02043 40.03379, -75.02083 40.03378, -75.02125 40.03374, -75.02142 40.03375, -75.02157 40.03381, -75.02173 40.03392, -75.02180 40.03401, -75.02189 40.03411, -75.02195 40.03422, -75.02195 40.03435))</td>\n",
       "      <td>Block Group 2, Census Tract 9891, Philadelphia County, Pennsylvania</td>\n",
       "      <td>0</td>\n",
       "      <td>42</td>\n",
       "      <td>101</td>\n",
       "      <td>989100</td>\n",
       "      <td>2</td>\n",
       "    </tr>\n",
       "  </tbody>\n",
       "</table>\n",
       "</div>"
      ],
      "text/plain": [
       "  STATEFP COUNTYFP TRACTCE BLKGRPCE         GEOID       NAMELSAD  MTFCC  \\\n",
       "0      42      101  989100        2  421019891002  Block Group 2  G5030   \n",
       "\n",
       "  FUNCSTAT   ALAND  AWATER     INTPTLAT      INTPTLON  \\\n",
       "0        S  373653    7060  +40.0373207  -075.0177378   \n",
       "\n",
       "                                                                                                                                                                                                                                                                                                                                                                                                                                                                                                                                                                                                                                                                                                                                                                                                                                                                                                                                                             geometry  \\\n",
       "0  POLYGON ((-75.02195 40.03435, -75.02191 40.03451, -75.02173 40.03482, -75.02151 40.03515, -75.02135 40.03544, -75.02129 40.03562, -75.02130 40.03582, -75.02134 40.03607, -75.02150 40.03638, -75.02163 40.03663, -75.02181 40.03702, -75.02168 40.03709, -75.01967 40.03813, -75.01902 40.03847, -75.01843 40.03877, -75.01783 40.03908, -75.01703 40.03950, -75.01621 40.03991, -75.01535 40.03894, -75.01500 40.03910, -75.01432 40.03945, -75.01254 40.03803, -75.01216 40.03772, -75.01195 40.03755, -75.01131 40.03704, -75.01225 40.03654, -75.01530 40.03485, -75.01790 40.03340, -75.01797 40.03336, -75.01817 40.03350, -75.01862 40.03366, -75.01959 40.03374, -75.01986 40.03376, -75.02000 40.03377, -75.02011 40.03377, -75.02022 40.03378, -75.02043 40.03379, -75.02083 40.03378, -75.02125 40.03374, -75.02142 40.03375, -75.02157 40.03381, -75.02173 40.03392, -75.02180 40.03401, -75.02189 40.03411, -75.02195 40.03422, -75.02195 40.03435))   \n",
       "\n",
       "                                                                  NAME  \\\n",
       "0  Block Group 2, Census Tract 9891, Philadelphia County, Pennsylvania   \n",
       "\n",
       "   B19013_001E state county   tract block group  \n",
       "0            0    42    101  989100           2  "
      ]
     },
     "execution_count": 18,
     "metadata": {},
     "output_type": "execute_result"
    }
   ],
   "source": [
    "philly_merged.head(1)"
   ]
  },
  {
   "cell_type": "markdown",
   "metadata": {
    "tags": []
   },
   "source": [
    "### 1.3 Load the restaurants data\n",
    "\n",
    "The Yelp dataset includes data for 7,350 restaurants across the city. Load the data from the `data/` folder and use the `latitude` and `longitude` columns to create a GeoDataFrame after loading the JSON data. Be sure to set the right CRS on when initializing the GeoDataFrame!\n",
    "\n",
    "**Notes**\n",
    "\n",
    "The JSON data is in a \"records\" format. To load it, you'll need to pass the following keywords: \n",
    "\n",
    "- `orient='records'`\n",
    "- `lines=True`"
   ]
  },
  {
   "cell_type": "code",
   "execution_count": 19,
   "metadata": {
    "tags": []
   },
   "outputs": [],
   "source": [
    "data = pd.read_json(\"data/restaurants_philly.json.gz\", orient='records', lines=True)\n",
    "gpd_Data = gpd.GeoDataFrame(data, geometry=gpd.points_from_xy(data.longitude, data.latitude), crs=\"EPSG:4326\")"
   ]
  },
  {
   "cell_type": "code",
   "execution_count": 20,
   "metadata": {
    "tags": []
   },
   "outputs": [
    {
     "data": {
      "text/html": [
       "<div>\n",
       "<style scoped>\n",
       "    .dataframe tbody tr th:only-of-type {\n",
       "        vertical-align: middle;\n",
       "    }\n",
       "\n",
       "    .dataframe tbody tr th {\n",
       "        vertical-align: top;\n",
       "    }\n",
       "\n",
       "    .dataframe thead th {\n",
       "        text-align: right;\n",
       "    }\n",
       "</style>\n",
       "<table border=\"1\" class=\"dataframe\">\n",
       "  <thead>\n",
       "    <tr style=\"text-align: right;\">\n",
       "      <th></th>\n",
       "      <th>business_id</th>\n",
       "      <th>latitude</th>\n",
       "      <th>longitude</th>\n",
       "      <th>name</th>\n",
       "      <th>review_count</th>\n",
       "      <th>stars</th>\n",
       "      <th>categories</th>\n",
       "      <th>geometry</th>\n",
       "    </tr>\n",
       "  </thead>\n",
       "  <tbody>\n",
       "    <tr>\n",
       "      <th>0</th>\n",
       "      <td>MTSW4McQd7CbVtyjqoe9mw</td>\n",
       "      <td>39.955505</td>\n",
       "      <td>-75.155564</td>\n",
       "      <td>St Honore Pastries</td>\n",
       "      <td>80</td>\n",
       "      <td>4.0</td>\n",
       "      <td>Restaurants, Food, Bubble Tea, Coffee &amp; Tea, Bakeries</td>\n",
       "      <td>POINT (-75.15556 39.95551)</td>\n",
       "    </tr>\n",
       "    <tr>\n",
       "      <th>1</th>\n",
       "      <td>MUTTqe8uqyMdBl186RmNeA</td>\n",
       "      <td>39.953949</td>\n",
       "      <td>-75.143226</td>\n",
       "      <td>Tuna Bar</td>\n",
       "      <td>245</td>\n",
       "      <td>4.0</td>\n",
       "      <td>Sushi Bars, Restaurants, Japanese</td>\n",
       "      <td>POINT (-75.14323 39.95395)</td>\n",
       "    </tr>\n",
       "    <tr>\n",
       "      <th>2</th>\n",
       "      <td>ROeacJQwBeh05Rqg7F6TCg</td>\n",
       "      <td>39.943223</td>\n",
       "      <td>-75.162568</td>\n",
       "      <td>BAP</td>\n",
       "      <td>205</td>\n",
       "      <td>4.5</td>\n",
       "      <td>Korean, Restaurants</td>\n",
       "      <td>POINT (-75.16257 39.94322)</td>\n",
       "    </tr>\n",
       "    <tr>\n",
       "      <th>3</th>\n",
       "      <td>QdN72BWoyFypdGJhhI5r7g</td>\n",
       "      <td>39.939825</td>\n",
       "      <td>-75.157447</td>\n",
       "      <td>Bar One</td>\n",
       "      <td>65</td>\n",
       "      <td>4.0</td>\n",
       "      <td>Cocktail Bars, Bars, Italian, Nightlife, Restaurants</td>\n",
       "      <td>POINT (-75.15745 39.93982)</td>\n",
       "    </tr>\n",
       "    <tr>\n",
       "      <th>4</th>\n",
       "      <td>Mjboz24M9NlBeiOJKLEd_Q</td>\n",
       "      <td>40.022466</td>\n",
       "      <td>-75.218314</td>\n",
       "      <td>DeSandro on Main</td>\n",
       "      <td>41</td>\n",
       "      <td>3.0</td>\n",
       "      <td>Pizza, Restaurants, Salad, Soup</td>\n",
       "      <td>POINT (-75.21831 40.02247)</td>\n",
       "    </tr>\n",
       "  </tbody>\n",
       "</table>\n",
       "</div>"
      ],
      "text/plain": [
       "              business_id   latitude  longitude                name  \\\n",
       "0  MTSW4McQd7CbVtyjqoe9mw  39.955505 -75.155564  St Honore Pastries   \n",
       "1  MUTTqe8uqyMdBl186RmNeA  39.953949 -75.143226            Tuna Bar   \n",
       "2  ROeacJQwBeh05Rqg7F6TCg  39.943223 -75.162568                 BAP   \n",
       "3  QdN72BWoyFypdGJhhI5r7g  39.939825 -75.157447             Bar One   \n",
       "4  Mjboz24M9NlBeiOJKLEd_Q  40.022466 -75.218314    DeSandro on Main   \n",
       "\n",
       "   review_count  stars                                             categories  \\\n",
       "0            80    4.0  Restaurants, Food, Bubble Tea, Coffee & Tea, Bakeries   \n",
       "1           245    4.0                      Sushi Bars, Restaurants, Japanese   \n",
       "2           205    4.5                                    Korean, Restaurants   \n",
       "3            65    4.0   Cocktail Bars, Bars, Italian, Nightlife, Restaurants   \n",
       "4            41    3.0                        Pizza, Restaurants, Salad, Soup   \n",
       "\n",
       "                     geometry  \n",
       "0  POINT (-75.15556 39.95551)  \n",
       "1  POINT (-75.14323 39.95395)  \n",
       "2  POINT (-75.16257 39.94322)  \n",
       "3  POINT (-75.15745 39.93982)  \n",
       "4  POINT (-75.21831 40.02247)  "
      ]
     },
     "execution_count": 20,
     "metadata": {},
     "output_type": "execute_result"
    }
   ],
   "source": [
    "gpd_Data.head()"
   ]
  },
  {
   "cell_type": "markdown",
   "metadata": {},
   "source": [
    "### 1.4 Add tract info for each restaurant\n",
    "\n",
    "Do a spatial join to identify which census tract each restaurant is within. Make sure each dataframe has the same CRS!\n",
    "\n",
    "At the end of this step, you should have a new dataframe with a column identifying the tract number for each restaurant."
   ]
  },
  {
   "cell_type": "code",
   "execution_count": 21,
   "metadata": {
    "tags": []
   },
   "outputs": [
    {
     "name": "stderr",
     "output_type": "stream",
     "text": [
      "/Users/annzhang/mambaforge/envs/musa-550-fall-2023/lib/python3.10/site-packages/IPython/core/interactiveshell.py:3448: FutureWarning: The `op` parameter is deprecated and will be removed in a future release. Please use the `predicate` parameter instead.\n",
      "  if await self.run_code(code, result, async_=asy):\n",
      "/var/folders/q3/y0zpvj752qg3_3nvpkx6v2300000gn/T/ipykernel_14881/1177895681.py:1: UserWarning: CRS mismatch between the CRS of left geometries and the CRS of right geometries.\n",
      "Use `to_crs()` to reproject one of the input geometries to match the CRS of the other.\n",
      "\n",
      "Left CRS: EPSG:4326\n",
      "Right CRS: EPSG:4269\n",
      "\n",
      "  tract_restaurant = gpd.sjoin(gpd_Data, philly_merged.loc[:,[\"geometry\", \"tract\", \"B19013_001E\"]], how=\"left\", op=\"within\")\n"
     ]
    },
    {
     "data": {
      "text/html": [
       "<div>\n",
       "<style scoped>\n",
       "    .dataframe tbody tr th:only-of-type {\n",
       "        vertical-align: middle;\n",
       "    }\n",
       "\n",
       "    .dataframe tbody tr th {\n",
       "        vertical-align: top;\n",
       "    }\n",
       "\n",
       "    .dataframe thead th {\n",
       "        text-align: right;\n",
       "    }\n",
       "</style>\n",
       "<table border=\"1\" class=\"dataframe\">\n",
       "  <thead>\n",
       "    <tr style=\"text-align: right;\">\n",
       "      <th></th>\n",
       "      <th>business_id</th>\n",
       "      <th>latitude</th>\n",
       "      <th>longitude</th>\n",
       "      <th>name</th>\n",
       "      <th>review_count</th>\n",
       "      <th>stars</th>\n",
       "      <th>categories</th>\n",
       "      <th>geometry</th>\n",
       "      <th>index_right</th>\n",
       "      <th>tract</th>\n",
       "      <th>Median Household Income</th>\n",
       "    </tr>\n",
       "  </thead>\n",
       "  <tbody>\n",
       "    <tr>\n",
       "      <th>0</th>\n",
       "      <td>MTSW4McQd7CbVtyjqoe9mw</td>\n",
       "      <td>39.955505</td>\n",
       "      <td>-75.155564</td>\n",
       "      <td>St Honore Pastries</td>\n",
       "      <td>80</td>\n",
       "      <td>4.0</td>\n",
       "      <td>Restaurants, Food, Bubble Tea, Coffee &amp; Tea, Bakeries</td>\n",
       "      <td>POINT (-75.15556 39.95551)</td>\n",
       "      <td>988.0</td>\n",
       "      <td>000200</td>\n",
       "      <td>42308.0</td>\n",
       "    </tr>\n",
       "    <tr>\n",
       "      <th>1</th>\n",
       "      <td>MUTTqe8uqyMdBl186RmNeA</td>\n",
       "      <td>39.953949</td>\n",
       "      <td>-75.143226</td>\n",
       "      <td>Tuna Bar</td>\n",
       "      <td>245</td>\n",
       "      <td>4.0</td>\n",
       "      <td>Sushi Bars, Restaurants, Japanese</td>\n",
       "      <td>POINT (-75.14323 39.95395)</td>\n",
       "      <td>658.0</td>\n",
       "      <td>000102</td>\n",
       "      <td>198125.0</td>\n",
       "    </tr>\n",
       "    <tr>\n",
       "      <th>2</th>\n",
       "      <td>ROeacJQwBeh05Rqg7F6TCg</td>\n",
       "      <td>39.943223</td>\n",
       "      <td>-75.162568</td>\n",
       "      <td>BAP</td>\n",
       "      <td>205</td>\n",
       "      <td>4.5</td>\n",
       "      <td>Korean, Restaurants</td>\n",
       "      <td>POINT (-75.16257 39.94322)</td>\n",
       "      <td>689.0</td>\n",
       "      <td>001500</td>\n",
       "      <td>107292.0</td>\n",
       "    </tr>\n",
       "    <tr>\n",
       "      <th>3</th>\n",
       "      <td>QdN72BWoyFypdGJhhI5r7g</td>\n",
       "      <td>39.939825</td>\n",
       "      <td>-75.157447</td>\n",
       "      <td>Bar One</td>\n",
       "      <td>65</td>\n",
       "      <td>4.0</td>\n",
       "      <td>Cocktail Bars, Bars, Italian, Nightlife, Restaurants</td>\n",
       "      <td>POINT (-75.15745 39.93982)</td>\n",
       "      <td>774.0</td>\n",
       "      <td>001800</td>\n",
       "      <td>103125.0</td>\n",
       "    </tr>\n",
       "    <tr>\n",
       "      <th>4</th>\n",
       "      <td>Mjboz24M9NlBeiOJKLEd_Q</td>\n",
       "      <td>40.022466</td>\n",
       "      <td>-75.218314</td>\n",
       "      <td>DeSandro on Main</td>\n",
       "      <td>41</td>\n",
       "      <td>3.0</td>\n",
       "      <td>Pizza, Restaurants, Salad, Soup</td>\n",
       "      <td>POINT (-75.21831 40.02247)</td>\n",
       "      <td>715.0</td>\n",
       "      <td>021000</td>\n",
       "      <td>86146.0</td>\n",
       "    </tr>\n",
       "  </tbody>\n",
       "</table>\n",
       "</div>"
      ],
      "text/plain": [
       "              business_id   latitude  longitude                name  \\\n",
       "0  MTSW4McQd7CbVtyjqoe9mw  39.955505 -75.155564  St Honore Pastries   \n",
       "1  MUTTqe8uqyMdBl186RmNeA  39.953949 -75.143226            Tuna Bar   \n",
       "2  ROeacJQwBeh05Rqg7F6TCg  39.943223 -75.162568                 BAP   \n",
       "3  QdN72BWoyFypdGJhhI5r7g  39.939825 -75.157447             Bar One   \n",
       "4  Mjboz24M9NlBeiOJKLEd_Q  40.022466 -75.218314    DeSandro on Main   \n",
       "\n",
       "   review_count  stars                                             categories  \\\n",
       "0            80    4.0  Restaurants, Food, Bubble Tea, Coffee & Tea, Bakeries   \n",
       "1           245    4.0                      Sushi Bars, Restaurants, Japanese   \n",
       "2           205    4.5                                    Korean, Restaurants   \n",
       "3            65    4.0   Cocktail Bars, Bars, Italian, Nightlife, Restaurants   \n",
       "4            41    3.0                        Pizza, Restaurants, Salad, Soup   \n",
       "\n",
       "                     geometry  index_right   tract  Median Household Income  \n",
       "0  POINT (-75.15556 39.95551)        988.0  000200                  42308.0  \n",
       "1  POINT (-75.14323 39.95395)        658.0  000102                 198125.0  \n",
       "2  POINT (-75.16257 39.94322)        689.0  001500                 107292.0  \n",
       "3  POINT (-75.15745 39.93982)        774.0  001800                 103125.0  \n",
       "4  POINT (-75.21831 40.02247)        715.0  021000                  86146.0  "
      ]
     },
     "execution_count": 21,
     "metadata": {},
     "output_type": "execute_result"
    }
   ],
   "source": [
    "tract_restaurant = gpd.sjoin(gpd_Data, philly_merged.loc[:,[\"geometry\", \"tract\", \"B19013_001E\"]], how=\"left\", op=\"within\")\n",
    "tract_restaurant = tract_restaurant.rename(columns={'B19013_001E': 'Median Household Income'})\n",
    "tract_restaurant.head()"
   ]
  },
  {
   "cell_type": "markdown",
   "metadata": {},
   "source": [
    "### 1.5 Add income data to your restaurant data\n",
    "\n",
    "Add the income data to your dataframe from the previous step, merging the census data based on the tract that each restaurant is within."
   ]
  },
  {
   "cell_type": "code",
   "execution_count": null,
   "metadata": {},
   "outputs": [],
   "source": [
    "# this step is completed in 1.4"
   ]
  },
  {
   "cell_type": "markdown",
   "metadata": {},
   "source": [
    "### 1.6 Make a plot of median household income vs. Yelp stars\n",
    "\n",
    "Our dataset has the number of stars for each restaurant, rounded to the nearest 0.5 star. In this step, create a line plot that shows the average income value for each stars category (e.g., all restaurants with 1 star, 1.5 stars, 2 stars, etc.)\n",
    "\n",
    "While their are multiple ways to do this, the [seaborn.lineplot()](https://seaborn.pydata.org/generated/seaborn.lineplot.html) is a great option. This can show the average value in each category as well as 95% uncertainty intervals. Use this function to plot the stars (\"x\") vs. average income (\"y\") for all of our restaurants, using the dataframe from last step. Be sure to format your figure to make it look nice!\n",
    "\n",
    "**Question:** Is there a correlation between a restaurant's ratings and the income levels of its surrounding neighborhood?"
   ]
  },
  {
   "cell_type": "code",
   "execution_count": 22,
   "metadata": {
    "tags": []
   },
   "outputs": [],
   "source": [
    "stars = tract_restaurant.loc[:, ['stars','Median Household Income']].groupby(['stars']).median(['Median Household Income']).reset_index()"
   ]
  },
  {
   "cell_type": "code",
   "execution_count": 23,
   "metadata": {
    "tags": []
   },
   "outputs": [],
   "source": [
    "import seaborn as sns"
   ]
  },
  {
   "cell_type": "code",
   "execution_count": 24,
   "metadata": {
    "tags": []
   },
   "outputs": [
    {
     "data": {
      "text/plain": [
       "<Axes: xlabel='stars', ylabel='Median Household Income'>"
      ]
     },
     "execution_count": 24,
     "metadata": {},
     "output_type": "execute_result"
    },
    {
     "data": {
      "image/png": "[encoded data removed]",
      "text/plain": [
       "<Figure size 640x480 with 1 Axes>"
      ]
     },
     "metadata": {},
     "output_type": "display_data"
    }
   ],
   "source": [
    "sns.set_theme()\n",
    "sns.lineplot(data=stars, x=\"stars\", y=\"Median Household Income\")"
   ]
  },
  {
   "cell_type": "markdown",
   "metadata": {},
   "source": [
    "As suggested by the graph above, there is an overall trend of higher ratings of restaurants associated with higeher median household income in the tracts that restaurants are located in."
   ]
  },
  {
   "cell_type": "markdown",
   "metadata": {},
   "source": [
    "## 2. Fast food trends in Philadelphia\n",
    "\n",
    "At the end of part 1, you should have seen a strong trend where higher income tracts generally had restaurants with better reviews. In this section, we'll explore the impact of fast food restaurants and how they might be impacting this trend. \n",
    "\n",
    "**Hypothesis**\n",
    "\n",
    "1. Fast food restaurants are predominantly located in areas with lower median income levels. \n",
    "1. Fast food restaurants have worse reviews compared to typical restaurants. \n",
    "\n",
    "If true, these two hypotheses could help to explain the trend we found in part 1. Let's dive in and test our hypotheses!"
   ]
  },
  {
   "cell_type": "markdown",
   "metadata": {},
   "source": [
    "### 2.1 Identify fast food restaurants\n",
    "\n",
    "The \"categories\" column in our dataset contains multiple classifications for each restaurant. One such category is \"Fast Food\". In this step, add a new column called \"is_fast_food\" that is `True` if the \"categories\" column contains the term \"Fast Food\" and `False` otherwise"
   ]
  },
  {
   "cell_type": "code",
   "execution_count": 25,
   "metadata": {
    "tags": []
   },
   "outputs": [],
   "source": [
    "tract_restaurant['is_fast_food'] = tract_restaurant['categories'].str.contains('Fast Food')"
   ]
  },
  {
   "cell_type": "markdown",
   "metadata": {},
   "source": [
    "### 2.2 Calculate the median income for fast food and otherwise\n",
    "\n",
    "Group by the \"is_fast_food\" column and calculate the median income for restaurants that are and are not fast food. You should find that income levels are lower in tracts with fast food.\n",
    "\n",
    "*Note:* this is just an estimate, since we are calculating a median of median income values."
   ]
  },
  {
   "cell_type": "code",
   "execution_count": 26,
   "metadata": {
    "tags": []
   },
   "outputs": [
    {
     "data": {
      "text/html": [
       "<div>\n",
       "<style scoped>\n",
       "    .dataframe tbody tr th:only-of-type {\n",
       "        vertical-align: middle;\n",
       "    }\n",
       "\n",
       "    .dataframe tbody tr th {\n",
       "        vertical-align: top;\n",
       "    }\n",
       "\n",
       "    .dataframe thead th {\n",
       "        text-align: right;\n",
       "    }\n",
       "</style>\n",
       "<table border=\"1\" class=\"dataframe\">\n",
       "  <thead>\n",
       "    <tr style=\"text-align: right;\">\n",
       "      <th></th>\n",
       "      <th>is_fast_food</th>\n",
       "      <th>Median Household Income</th>\n",
       "    </tr>\n",
       "  </thead>\n",
       "  <tbody>\n",
       "    <tr>\n",
       "      <th>0</th>\n",
       "      <td>False</td>\n",
       "      <td>66290.0</td>\n",
       "    </tr>\n",
       "    <tr>\n",
       "      <th>1</th>\n",
       "      <td>True</td>\n",
       "      <td>46668.0</td>\n",
       "    </tr>\n",
       "  </tbody>\n",
       "</table>\n",
       "</div>"
      ],
      "text/plain": [
       "   is_fast_food  Median Household Income\n",
       "0         False                  66290.0\n",
       "1          True                  46668.0"
      ]
     },
     "execution_count": 26,
     "metadata": {},
     "output_type": "execute_result"
    }
   ],
   "source": [
    "fastfood_income = tract_restaurant.loc[:, ['is_fast_food','Median Household Income']].groupby(['is_fast_food']).median(['Median Household Income']).reset_index()\n",
    "fastfood_income"
   ]
  },
  {
   "cell_type": "markdown",
   "metadata": {},
   "source": [
    "### 2.3 Load fast food review data\n",
    "\n",
    "In the rest of part 2, we're going to run a sentiment analysis on the reviews for fast food restaurants. \n",
    "The review data for all fast food restaurants identified in part 2.1 is already stored in the `data/` folder. The data is stored as a JSON file and you can use `pandas.read_json` to load it. \n",
    "\n",
    "**Notes**\n",
    "\n",
    "The JSON data is in a \"records\" format. To load it, you'll need to pass the following keywords: \n",
    "\n",
    "- `orient='records'`\n",
    "- `lines=True`"
   ]
  },
  {
   "cell_type": "code",
   "execution_count": 27,
   "metadata": {
    "tags": []
   },
   "outputs": [
    {
     "data": {
      "text/html": [
       "<div>\n",
       "<style scoped>\n",
       "    .dataframe tbody tr th:only-of-type {\n",
       "        vertical-align: middle;\n",
       "    }\n",
       "\n",
       "    .dataframe tbody tr th {\n",
       "        vertical-align: top;\n",
       "    }\n",
       "\n",
       "    .dataframe thead th {\n",
       "        text-align: right;\n",
       "    }\n",
       "</style>\n",
       "<table border=\"1\" class=\"dataframe\">\n",
       "  <thead>\n",
       "    <tr style=\"text-align: right;\">\n",
       "      <th></th>\n",
       "      <th>business_id</th>\n",
       "      <th>review_id</th>\n",
       "      <th>stars</th>\n",
       "      <th>text</th>\n",
       "    </tr>\n",
       "  </thead>\n",
       "  <tbody>\n",
       "    <tr>\n",
       "      <th>0</th>\n",
       "      <td>kgMEBZG6rjkGeFzPaIM4MQ</td>\n",
       "      <td>E-yGr1OhsUBxNeUVLDVouA</td>\n",
       "      <td>1</td>\n",
       "      <td>I know I shouldn't expect much but everything I asked for that was on the drive thru menu was not available. I was actually afraid of what I was going to get once I did get it. I saw the movie \"waiting\".  Word of advice stay clear of this arch. Just so you know I was only trying to order a beverage how pathetic is that.</td>\n",
       "    </tr>\n",
       "    <tr>\n",
       "      <th>1</th>\n",
       "      <td>FKrP06TDAKtxNG1vrRQcQQ</td>\n",
       "      <td>0IpFZoaY_RRNjha8Q_Wz6w</td>\n",
       "      <td>2</td>\n",
       "      <td>Perfect place to go  if you like waiting 20 minutes at the counter and getting dirty looks from the waiters while you're waiting for service. My friend and I made the mistake of coming here after being famished after a long day. Hey Johnny Rockets, I understand that you guys can get busy, but a quick acknowledgment that we existed would have sufficed. After finally waving down a waitress, we finally got a menu with a heavy sigh on the side as if we were troubling the staff. I urged my friend that we should probably leave, but we had already waited long enough, so I reluctantly ordered.\\nI got the original burger and fries as did my friend as per usual. Don't get me wrong, the burgers and fries are decent but definitely not worth the wait or hassle. Even the chocolate shake that I ordered was pretty good with a good consistency, but the taste of bad service still lingered and eventually overpowered the chocolate flavored concoction. Needless to say, I will definitely not be coming back to this location if it continues to be managed so rudely.</td>\n",
       "    </tr>\n",
       "    <tr>\n",
       "      <th>2</th>\n",
       "      <td>w9hS5x1F52Id-G1KTrAOZg</td>\n",
       "      <td>0KlwfaHZyvao41_3S47dyg</td>\n",
       "      <td>2</td>\n",
       "      <td>Was not a fan of their cheesesteak. Their wiz sauce was mustard based and it was not terrible as a sandwich itself but mustard is not the flavor one expects or wants in a cheesesteak. It was overwhelming and not good.</td>\n",
       "    </tr>\n",
       "    <tr>\n",
       "      <th>3</th>\n",
       "      <td>fr2qDm_mY1afIGMvqsKUCg</td>\n",
       "      <td>oKSUOq7pCQzyypFDSa1HoA</td>\n",
       "      <td>3</td>\n",
       "      <td>Ok this is an aberration from my city foodie reviews but I figured I'll take the time and review some of the local establishments that I order from on a consistent base while working in Bensalem, P.A.  Without further adieu...\\nGeorge's Chix is good.  I'm always satisfied with the food and value each and every time.  I haven't branched out seeking much more than a good deal each time and trust me I'm not looking to find the healthiest option on the menu (usually I get the nugget/fries/soda deal, the chix fingers/fries/soda deal, or Ceasar wrap/fries/soda deal- $8 or $9 after a nice tip) but the food is alright.\\nGive George's a try if you're in town and looking to get down on some fried grub!</td>\n",
       "    </tr>\n",
       "    <tr>\n",
       "      <th>4</th>\n",
       "      <td>fr2qDm_mY1afIGMvqsKUCg</td>\n",
       "      <td>6SMUmb7Npwnq6AusxqOXzQ</td>\n",
       "      <td>5</td>\n",
       "      <td>My family has been customers of George's for years. You pay for what you get. The quality of the food is premier and they don't hold back on portion size. Their cheesesteaks are amazing (chopped steak) and their chicken cheesesteaks are made from the same chicken as their Char platters, which is legit. Their Char platters come with some of the best and juciest grilled chicken I've ever had. They make their own sauce, so just that alone puts their wings above the other restaurants in the neighborhood that just use Franks Red Hot. I have yet to have something on their menu that I didn't like.</td>\n",
       "    </tr>\n",
       "  </tbody>\n",
       "</table>\n",
       "</div>"
      ],
      "text/plain": [
       "              business_id               review_id  stars  \\\n",
       "0  kgMEBZG6rjkGeFzPaIM4MQ  E-yGr1OhsUBxNeUVLDVouA      1   \n",
       "1  FKrP06TDAKtxNG1vrRQcQQ  0IpFZoaY_RRNjha8Q_Wz6w      2   \n",
       "2  w9hS5x1F52Id-G1KTrAOZg  0KlwfaHZyvao41_3S47dyg      2   \n",
       "3  fr2qDm_mY1afIGMvqsKUCg  oKSUOq7pCQzyypFDSa1HoA      3   \n",
       "4  fr2qDm_mY1afIGMvqsKUCg  6SMUmb7Npwnq6AusxqOXzQ      5   \n",
       "\n",
       "                                                                                                                                                                                                                                                                                                                                                                                                                                                                                                                                                                                                                                                                                                                                                                                                                                                                                                                                                                                                                                                                                                text  \n",
       "0                                                                                                                                                                                                                                                                                                                                                                                                                                                                                                                                                                                                                                                                                                                                                                  I know I shouldn't expect much but everything I asked for that was on the drive thru menu was not available. I was actually afraid of what I was going to get once I did get it. I saw the movie \"waiting\".  Word of advice stay clear of this arch. Just so you know I was only trying to order a beverage how pathetic is that.  \n",
       "1  Perfect place to go  if you like waiting 20 minutes at the counter and getting dirty looks from the waiters while you're waiting for service. My friend and I made the mistake of coming here after being famished after a long day. Hey Johnny Rockets, I understand that you guys can get busy, but a quick acknowledgment that we existed would have sufficed. After finally waving down a waitress, we finally got a menu with a heavy sigh on the side as if we were troubling the staff. I urged my friend that we should probably leave, but we had already waited long enough, so I reluctantly ordered.\\nI got the original burger and fries as did my friend as per usual. Don't get me wrong, the burgers and fries are decent but definitely not worth the wait or hassle. Even the chocolate shake that I ordered was pretty good with a good consistency, but the taste of bad service still lingered and eventually overpowered the chocolate flavored concoction. Needless to say, I will definitely not be coming back to this location if it continues to be managed so rudely.  \n",
       "2                                                                                                                                                                                                                                                                                                                                                                                                                                                                                                                                                                                                                                                                                                                                                                                                                                                                          Was not a fan of their cheesesteak. Their wiz sauce was mustard based and it was not terrible as a sandwich itself but mustard is not the flavor one expects or wants in a cheesesteak. It was overwhelming and not good.  \n",
       "3                                                                                                                                                                                                                                                                                                                                                                      Ok this is an aberration from my city foodie reviews but I figured I'll take the time and review some of the local establishments that I order from on a consistent base while working in Bensalem, P.A.  Without further adieu...\\nGeorge's Chix is good.  I'm always satisfied with the food and value each and every time.  I haven't branched out seeking much more than a good deal each time and trust me I'm not looking to find the healthiest option on the menu (usually I get the nugget/fries/soda deal, the chix fingers/fries/soda deal, or Ceasar wrap/fries/soda deal- $8 or $9 after a nice tip) but the food is alright.\\nGive George's a try if you're in town and looking to get down on some fried grub!  \n",
       "4                                                                                                                                                                                                                                                                                                                                                                                                                                                                              My family has been customers of George's for years. You pay for what you get. The quality of the food is premier and they don't hold back on portion size. Their cheesesteaks are amazing (chopped steak) and their chicken cheesesteaks are made from the same chicken as their Char platters, which is legit. Their Char platters come with some of the best and juciest grilled chicken I've ever had. They make their own sauce, so just that alone puts their wings above the other restaurants in the neighborhood that just use Franks Red Hot. I have yet to have something on their menu that I didn't like.  "
      ]
     },
     "execution_count": 27,
     "metadata": {},
     "output_type": "execute_result"
    }
   ],
   "source": [
    "reviews = pd.read_json(\"data/reviews_philly_fast_food.json.gz\", orient='records',lines=True)\n",
    "reviews.head()"
   ]
  },
  {
   "cell_type": "markdown",
   "metadata": {},
   "source": [
    "### 2.4 Trim to the most popular fast food restaurants\n",
    "\n",
    "There's too many reviews to run a sentiment analysis on all of them in a reasonable time. Let's trim our reviews dataset to the most popular fast food restaurants, using the list provided below.\n",
    "\n",
    "You will need to get the \"business_id\" values for each of these restaurants from the restaurants data loaded in part 1.3. Then, trim the reviews data to include reviews only for those business IDs."
   ]
  },
  {
   "cell_type": "code",
   "execution_count": 28,
   "metadata": {
    "tags": []
   },
   "outputs": [],
   "source": [
    "popular_fast_food = [\n",
    "    \"McDonald's\",\n",
    "    \"Wendy's\",\n",
    "    \"Subway\",\n",
    "    \"Popeyes Louisiana Kitchen\",\n",
    "    \"Taco Bell\",\n",
    "    \"KFC\",\n",
    "    \"Burger King\",\n",
    "]"
   ]
  },
  {
   "cell_type": "code",
   "execution_count": 29,
   "metadata": {
    "tags": []
   },
   "outputs": [
    {
     "data": {
      "text/html": [
       "<div>\n",
       "<style scoped>\n",
       "    .dataframe tbody tr th:only-of-type {\n",
       "        vertical-align: middle;\n",
       "    }\n",
       "\n",
       "    .dataframe tbody tr th {\n",
       "        vertical-align: top;\n",
       "    }\n",
       "\n",
       "    .dataframe thead th {\n",
       "        text-align: right;\n",
       "    }\n",
       "</style>\n",
       "<table border=\"1\" class=\"dataframe\">\n",
       "  <thead>\n",
       "    <tr style=\"text-align: right;\">\n",
       "      <th></th>\n",
       "      <th>business_id</th>\n",
       "      <th>review_id</th>\n",
       "      <th>stars</th>\n",
       "      <th>text</th>\n",
       "    </tr>\n",
       "  </thead>\n",
       "  <tbody>\n",
       "    <tr>\n",
       "      <th>0</th>\n",
       "      <td>kgMEBZG6rjkGeFzPaIM4MQ</td>\n",
       "      <td>E-yGr1OhsUBxNeUVLDVouA</td>\n",
       "      <td>1</td>\n",
       "      <td>I know I shouldn't expect much but everything I asked for that was on the drive thru menu was not available. I was actually afraid of what I was going to get once I did get it. I saw the movie \"waiting\".  Word of advice stay clear of this arch. Just so you know I was only trying to order a beverage how pathetic is that.</td>\n",
       "    </tr>\n",
       "    <tr>\n",
       "      <th>8</th>\n",
       "      <td>PjknD8uD_0tisZQbomiYoQ</td>\n",
       "      <td>6TqKBa-HDiq2_W_ip2AItA</td>\n",
       "      <td>5</td>\n",
       "      <td>I am only giving 5 stars because the Shamrock Shake is back and delicious!! Too bad it's around only once a year ;(</td>\n",
       "    </tr>\n",
       "    <tr>\n",
       "      <th>13</th>\n",
       "      <td>kgMEBZG6rjkGeFzPaIM4MQ</td>\n",
       "      <td>NGaXI03qbtBLshjfJV4pbQ</td>\n",
       "      <td>3</td>\n",
       "      <td>Dirty bathrooms and very slow service, but I was pleased because they had a TV on with subtitles and the volume on, and it was turned to the news!  A good place to pass some time with a tasty Mc-snack and a hot coffee while in Philly during a chilly day!  We stopped here on the way to a football game and found it a very pleasant and relaxing place to hang out for a while.</td>\n",
       "    </tr>\n",
       "    <tr>\n",
       "      <th>17</th>\n",
       "      <td>LACylKxImNI29DKUQpWuHw</td>\n",
       "      <td>HHy9yIjW07VHUE6nXVbsVA</td>\n",
       "      <td>3</td>\n",
       "      <td>Burger King is an okay alternative to Mcdonalds. 6/10 Would recommend but idk about coming again.</td>\n",
       "    </tr>\n",
       "    <tr>\n",
       "      <th>21</th>\n",
       "      <td>gq4zw-ru_rkZ2UBIanaZFQ</td>\n",
       "      <td>yMZTK5B_0SAdUXSrIkXrmA</td>\n",
       "      <td>1</td>\n",
       "      <td>ive tried going here four times with no success because the drive tru takes so long that i have pulled away every single time. great job idiots!</td>\n",
       "    </tr>\n",
       "  </tbody>\n",
       "</table>\n",
       "</div>"
      ],
      "text/plain": [
       "               business_id               review_id  stars  \\\n",
       "0   kgMEBZG6rjkGeFzPaIM4MQ  E-yGr1OhsUBxNeUVLDVouA      1   \n",
       "8   PjknD8uD_0tisZQbomiYoQ  6TqKBa-HDiq2_W_ip2AItA      5   \n",
       "13  kgMEBZG6rjkGeFzPaIM4MQ  NGaXI03qbtBLshjfJV4pbQ      3   \n",
       "17  LACylKxImNI29DKUQpWuHw  HHy9yIjW07VHUE6nXVbsVA      3   \n",
       "21  gq4zw-ru_rkZ2UBIanaZFQ  yMZTK5B_0SAdUXSrIkXrmA      1   \n",
       "\n",
       "                                                                                                                                                                                                                                                                                                                                                                                      text  \n",
       "0                                                        I know I shouldn't expect much but everything I asked for that was on the drive thru menu was not available. I was actually afraid of what I was going to get once I did get it. I saw the movie \"waiting\".  Word of advice stay clear of this arch. Just so you know I was only trying to order a beverage how pathetic is that.  \n",
       "8                                                                                                                                                                                                                                                                      I am only giving 5 stars because the Shamrock Shake is back and delicious!! Too bad it's around only once a year ;(  \n",
       "13  Dirty bathrooms and very slow service, but I was pleased because they had a TV on with subtitles and the volume on, and it was turned to the news!  A good place to pass some time with a tasty Mc-snack and a hot coffee while in Philly during a chilly day!  We stopped here on the way to a football game and found it a very pleasant and relaxing place to hang out for a while.  \n",
       "17                                                                                                                                                                                                                                                                                       Burger King is an okay alternative to Mcdonalds. 6/10 Would recommend but idk about coming again.  \n",
       "21                                                                                                                                                                                                                                        ive tried going here four times with no success because the drive tru takes so long that i have pulled away every single time. great job idiots!  "
      ]
     },
     "execution_count": 29,
     "metadata": {},
     "output_type": "execute_result"
    }
   ],
   "source": [
    "pop_fast_food = tract_restaurant[tract_restaurant['name'].isin(popular_fast_food)]\n",
    "selected_reviews = reviews[reviews['business_id'].isin(pop_fast_food['business_id'])]\n",
    "selected_reviews.head()"
   ]
  },
  {
   "cell_type": "markdown",
   "metadata": {},
   "source": [
    "### 2.5 Run the emotions classifier on fast food reviews\n",
    "\n",
    "Run a sentiment analysis on the reviews data from the previous step. Use the [DistilBERT model](https://huggingface.co/bhadresh-savani/distilbert-base-uncased-emotion) that can predict emotion labels (anger, fear, sadness, joy, love, and surprise). Transform the result from the classifier into a DataFrame so that you have a column for each of the emotion labels."
   ]
  },
  {
   "cell_type": "code",
   "execution_count": 3,
   "metadata": {
    "tags": []
   },
   "outputs": [
    {
     "name": "stderr",
     "output_type": "stream",
     "text": [
      "2023-11-11 21:15:57.312117: I tensorflow/core/platform/cpu_feature_guard.cc:182] This TensorFlow binary is optimized to use available CPU instructions in performance-critical operations.\n",
      "To enable the following instructions: AVX2 FMA, in other operations, rebuild TensorFlow with the appropriate compiler flags.\n"
     ]
    }
   ],
   "source": [
    "from transformers import pipeline"
   ]
  },
  {
   "cell_type": "code",
   "execution_count": 40,
   "metadata": {
    "tags": []
   },
   "outputs": [
    {
     "name": "stderr",
     "output_type": "stream",
     "text": [
      "Some weights of DistilBertForSequenceClassification were not initialized from the model checkpoint at distilbert-base-uncased and are newly initialized: ['classifier.weight', 'pre_classifier.weight', 'pre_classifier.bias', 'classifier.bias']\n",
      "You should probably TRAIN this model on a down-stream task to be able to use it for predictions and inference.\n"
     ]
    },
    {
     "data": {
      "text/plain": [
       "'LABEL_0'"
      ]
     },
     "execution_count": 40,
     "metadata": {},
     "output_type": "execute_result"
    }
   ],
   "source": [
    "import torch\n",
    "from transformers import DistilBertTokenizer, DistilBertForSequenceClassification\n",
    "\n",
    "tokenizer = DistilBertTokenizer.from_pretrained(\"distilbert-base-uncased\")\n",
    "model = DistilBertForSequenceClassification.from_pretrained(\"distilbert-base-uncased\")\n",
    "\n",
    "inputs = tokenizer(\"Hello, my daog is cute\", return_tensors=\"pt\")\n",
    "with torch.no_grad():\n",
    "    logits = model(**inputs).logits\n",
    "\n",
    "predicted_class_id = logits.argmax().item()\n",
    "model.config.id2label[predicted_class_id]\n"
   ]
  },
  {
   "cell_type": "code",
   "execution_count": 41,
   "metadata": {},
   "outputs": [
    {
     "data": {
      "application/vnd.jupyter.widget-view+json": {
       "model_id": "51302f8a873e4b90b168bcb28fe02bf9",
       "version_major": 2,
       "version_minor": 0
      },
      "text/plain": [
       "Downloading (…)cial_tokens_map.json:   0%|          | 0.00/112 [00:00<?, ?B/s]"
      ]
     },
     "metadata": {},
     "output_type": "display_data"
    }
   ],
   "source": [
    "# The model\n",
    "model = \"bhadresh-savani/distilbert-base-uncased-emotion\"\n",
    "\n",
    "# Initialize our sentiment analyzer\n",
    "emotion_classifier = pipeline(\n",
    "    task=\"text-classification\",  # The task we are doing\n",
    "    model=model,  # The specific model name\n",
    "    top_k=None,  # Predict all labels, not just top ones\n",
    "    tokenizer=model,  # Tokenize inputs using model tokenizer\n",
    "    truncation=True,  # Truncate text if we need to\n",
    ")"
   ]
  },
  {
   "cell_type": "code",
   "execution_count": 33,
   "metadata": {
    "tags": []
   },
   "outputs": [],
   "source": [
    "review = selected_reviews['text'].str.strip().tolist()"
   ]
  },
  {
   "cell_type": "code",
   "execution_count": 48,
   "metadata": {
    "tags": []
   },
   "outputs": [
    {
     "name": "stdout",
     "output_type": "stream",
     "text": [
      "CPU times: user 11min 18s, sys: 19.7 s, total: 11min 38s\n",
      "Wall time: 2min 56s\n"
     ]
    }
   ],
   "source": [
    "%%time\n",
    "scores = emotion_classifier(review)"
   ]
  },
  {
   "cell_type": "code",
   "execution_count": 49,
   "metadata": {
    "tags": []
   },
   "outputs": [
    {
     "data": {
      "text/plain": [
       "[{'label': 'sadness', 'score': 0.7338692545890808},\n",
       " {'label': 'fear', 'score': 0.2506760060787201},\n",
       " {'label': 'anger', 'score': 0.011038999073207378},\n",
       " {'label': 'joy', 'score': 0.0027580487076193094},\n",
       " {'label': 'surprise', 'score': 0.0010148979490622878},\n",
       " {'label': 'love', 'score': 0.0006427845801226795}]"
      ]
     },
     "execution_count": 49,
     "metadata": {},
     "output_type": "execute_result"
    }
   ],
   "source": [
    "scores[0]"
   ]
  },
  {
   "cell_type": "code",
   "execution_count": 50,
   "metadata": {
    "tags": []
   },
   "outputs": [
    {
     "data": {
      "text/html": [
       "<div>\n",
       "<style scoped>\n",
       "    .dataframe tbody tr th:only-of-type {\n",
       "        vertical-align: middle;\n",
       "    }\n",
       "\n",
       "    .dataframe tbody tr th {\n",
       "        vertical-align: top;\n",
       "    }\n",
       "\n",
       "    .dataframe thead th {\n",
       "        text-align: right;\n",
       "    }\n",
       "</style>\n",
       "<table border=\"1\" class=\"dataframe\">\n",
       "  <thead>\n",
       "    <tr style=\"text-align: right;\">\n",
       "      <th></th>\n",
       "      <th>sadness</th>\n",
       "      <th>fear</th>\n",
       "      <th>anger</th>\n",
       "      <th>joy</th>\n",
       "      <th>surprise</th>\n",
       "      <th>love</th>\n",
       "      <th>text</th>\n",
       "    </tr>\n",
       "  </thead>\n",
       "  <tbody>\n",
       "    <tr>\n",
       "      <th>0</th>\n",
       "      <td>0.733869</td>\n",
       "      <td>0.250676</td>\n",
       "      <td>0.011039</td>\n",
       "      <td>0.002758</td>\n",
       "      <td>0.001015</td>\n",
       "      <td>0.000643</td>\n",
       "      <td>I know I shouldn't expect much but everything I asked for that was on the drive thru menu was not available. I was actually afraid of what I was going to get once I did get it. I saw the movie \"waiting\".  Word of advice stay clear of this arch. Just so you know I was only trying to order a beverage how pathetic is that.</td>\n",
       "    </tr>\n",
       "    <tr>\n",
       "      <th>1</th>\n",
       "      <td>0.000230</td>\n",
       "      <td>0.000126</td>\n",
       "      <td>0.000165</td>\n",
       "      <td>0.998759</td>\n",
       "      <td>0.000246</td>\n",
       "      <td>0.000475</td>\n",
       "      <td>I am only giving 5 stars because the Shamrock Shake is back and delicious!! Too bad it's around only once a year ;(</td>\n",
       "    </tr>\n",
       "    <tr>\n",
       "      <th>2</th>\n",
       "      <td>0.000216</td>\n",
       "      <td>0.000088</td>\n",
       "      <td>0.000153</td>\n",
       "      <td>0.998563</td>\n",
       "      <td>0.000161</td>\n",
       "      <td>0.000819</td>\n",
       "      <td>Dirty bathrooms and very slow service, but I was pleased because they had a TV on with subtitles and the volume on, and it was turned to the news!  A good place to pass some time with a tasty Mc-snack and a hot coffee while in Philly during a chilly day!  We stopped here on the way to a football game and found it a very pleasant and relaxing place to hang out for a while.</td>\n",
       "    </tr>\n",
       "    <tr>\n",
       "      <th>3</th>\n",
       "      <td>0.000838</td>\n",
       "      <td>0.000403</td>\n",
       "      <td>0.000811</td>\n",
       "      <td>0.996928</td>\n",
       "      <td>0.000140</td>\n",
       "      <td>0.000880</td>\n",
       "      <td>Burger King is an okay alternative to Mcdonalds. 6/10 Would recommend but idk about coming again.</td>\n",
       "    </tr>\n",
       "    <tr>\n",
       "      <th>4</th>\n",
       "      <td>0.005284</td>\n",
       "      <td>0.000753</td>\n",
       "      <td>0.006195</td>\n",
       "      <td>0.985421</td>\n",
       "      <td>0.001620</td>\n",
       "      <td>0.000726</td>\n",
       "      <td>ive tried going here four times with no success because the drive tru takes so long that i have pulled away every single time. great job idiots!</td>\n",
       "    </tr>\n",
       "  </tbody>\n",
       "</table>\n",
       "</div>"
      ],
      "text/plain": [
       "    sadness      fear     anger       joy  surprise      love  \\\n",
       "0  0.733869  0.250676  0.011039  0.002758  0.001015  0.000643   \n",
       "1  0.000230  0.000126  0.000165  0.998759  0.000246  0.000475   \n",
       "2  0.000216  0.000088  0.000153  0.998563  0.000161  0.000819   \n",
       "3  0.000838  0.000403  0.000811  0.996928  0.000140  0.000880   \n",
       "4  0.005284  0.000753  0.006195  0.985421  0.001620  0.000726   \n",
       "\n",
       "                                                                                                                                                                                                                                                                                                                                                                                     text  \n",
       "0                                                       I know I shouldn't expect much but everything I asked for that was on the drive thru menu was not available. I was actually afraid of what I was going to get once I did get it. I saw the movie \"waiting\".  Word of advice stay clear of this arch. Just so you know I was only trying to order a beverage how pathetic is that.  \n",
       "1                                                                                                                                                                                                                                                                     I am only giving 5 stars because the Shamrock Shake is back and delicious!! Too bad it's around only once a year ;(  \n",
       "2  Dirty bathrooms and very slow service, but I was pleased because they had a TV on with subtitles and the volume on, and it was turned to the news!  A good place to pass some time with a tasty Mc-snack and a hot coffee while in Philly during a chilly day!  We stopped here on the way to a football game and found it a very pleasant and relaxing place to hang out for a while.  \n",
       "3                                                                                                                                                                                                                                                                                       Burger King is an okay alternative to Mcdonalds. 6/10 Would recommend but idk about coming again.  \n",
       "4                                                                                                                                                                                                                                        ive tried going here four times with no success because the drive tru takes so long that i have pulled away every single time. great job idiots!  "
      ]
     },
     "execution_count": 50,
     "metadata": {},
     "output_type": "execute_result"
    }
   ],
   "source": [
    "emo = pd.DataFrame([{d[\"label\"]: d[\"score\"] for d in dd} for dd in scores]).assign(\n",
    "    text=review\n",
    ")\n",
    "emo.head()"
   ]
  },
  {
   "cell_type": "markdown",
   "metadata": {},
   "source": [
    "### 2.6 Identify the predicted emotion for each text\n",
    "\n",
    "Use the pandas [idxmax()](https://pandas.pydata.org/pandas-docs/stable/reference/api/pandas.DataFrame.idxmax.html) to identify the predicted emotion for each review, and add this value to a new column called \"prediction\"\n",
    "\n",
    "The predicted emotion has the highest confidence score across all emotion labels for a particular label."
   ]
  },
  {
   "cell_type": "code",
   "execution_count": 51,
   "metadata": {},
   "outputs": [
    {
     "data": {
      "text/html": [
       "<div>\n",
       "<style scoped>\n",
       "    .dataframe tbody tr th:only-of-type {\n",
       "        vertical-align: middle;\n",
       "    }\n",
       "\n",
       "    .dataframe tbody tr th {\n",
       "        vertical-align: top;\n",
       "    }\n",
       "\n",
       "    .dataframe thead th {\n",
       "        text-align: right;\n",
       "    }\n",
       "</style>\n",
       "<table border=\"1\" class=\"dataframe\">\n",
       "  <thead>\n",
       "    <tr style=\"text-align: right;\">\n",
       "      <th></th>\n",
       "      <th>sadness</th>\n",
       "      <th>fear</th>\n",
       "      <th>anger</th>\n",
       "      <th>joy</th>\n",
       "      <th>surprise</th>\n",
       "      <th>love</th>\n",
       "      <th>text</th>\n",
       "      <th>prediction</th>\n",
       "    </tr>\n",
       "  </thead>\n",
       "  <tbody>\n",
       "    <tr>\n",
       "      <th>0</th>\n",
       "      <td>0.733869</td>\n",
       "      <td>0.250676</td>\n",
       "      <td>0.011039</td>\n",
       "      <td>0.002758</td>\n",
       "      <td>0.001015</td>\n",
       "      <td>0.000643</td>\n",
       "      <td>I know I shouldn't expect much but everything I asked for that was on the drive thru menu was not available. I was actually afraid of what I was going to get once I did get it. I saw the movie \"waiting\".  Word of advice stay clear of this arch. Just so you know I was only trying to order a beverage how pathetic is that.</td>\n",
       "      <td>sadness</td>\n",
       "    </tr>\n",
       "    <tr>\n",
       "      <th>1</th>\n",
       "      <td>0.000230</td>\n",
       "      <td>0.000126</td>\n",
       "      <td>0.000165</td>\n",
       "      <td>0.998759</td>\n",
       "      <td>0.000246</td>\n",
       "      <td>0.000475</td>\n",
       "      <td>I am only giving 5 stars because the Shamrock Shake is back and delicious!! Too bad it's around only once a year ;(</td>\n",
       "      <td>joy</td>\n",
       "    </tr>\n",
       "    <tr>\n",
       "      <th>2</th>\n",
       "      <td>0.000216</td>\n",
       "      <td>0.000088</td>\n",
       "      <td>0.000153</td>\n",
       "      <td>0.998563</td>\n",
       "      <td>0.000161</td>\n",
       "      <td>0.000819</td>\n",
       "      <td>Dirty bathrooms and very slow service, but I was pleased because they had a TV on with subtitles and the volume on, and it was turned to the news!  A good place to pass some time with a tasty Mc-snack and a hot coffee while in Philly during a chilly day!  We stopped here on the way to a football game and found it a very pleasant and relaxing place to hang out for a while.</td>\n",
       "      <td>joy</td>\n",
       "    </tr>\n",
       "    <tr>\n",
       "      <th>3</th>\n",
       "      <td>0.000838</td>\n",
       "      <td>0.000403</td>\n",
       "      <td>0.000811</td>\n",
       "      <td>0.996928</td>\n",
       "      <td>0.000140</td>\n",
       "      <td>0.000880</td>\n",
       "      <td>Burger King is an okay alternative to Mcdonalds. 6/10 Would recommend but idk about coming again.</td>\n",
       "      <td>joy</td>\n",
       "    </tr>\n",
       "    <tr>\n",
       "      <th>4</th>\n",
       "      <td>0.005284</td>\n",
       "      <td>0.000753</td>\n",
       "      <td>0.006195</td>\n",
       "      <td>0.985421</td>\n",
       "      <td>0.001620</td>\n",
       "      <td>0.000726</td>\n",
       "      <td>ive tried going here four times with no success because the drive tru takes so long that i have pulled away every single time. great job idiots!</td>\n",
       "      <td>joy</td>\n",
       "    </tr>\n",
       "  </tbody>\n",
       "</table>\n",
       "</div>"
      ],
      "text/plain": [
       "    sadness      fear     anger       joy  surprise      love  \\\n",
       "0  0.733869  0.250676  0.011039  0.002758  0.001015  0.000643   \n",
       "1  0.000230  0.000126  0.000165  0.998759  0.000246  0.000475   \n",
       "2  0.000216  0.000088  0.000153  0.998563  0.000161  0.000819   \n",
       "3  0.000838  0.000403  0.000811  0.996928  0.000140  0.000880   \n",
       "4  0.005284  0.000753  0.006195  0.985421  0.001620  0.000726   \n",
       "\n",
       "                                                                                                                                                                                                                                                                                                                                                                                     text  \\\n",
       "0                                                       I know I shouldn't expect much but everything I asked for that was on the drive thru menu was not available. I was actually afraid of what I was going to get once I did get it. I saw the movie \"waiting\".  Word of advice stay clear of this arch. Just so you know I was only trying to order a beverage how pathetic is that.   \n",
       "1                                                                                                                                                                                                                                                                     I am only giving 5 stars because the Shamrock Shake is back and delicious!! Too bad it's around only once a year ;(   \n",
       "2  Dirty bathrooms and very slow service, but I was pleased because they had a TV on with subtitles and the volume on, and it was turned to the news!  A good place to pass some time with a tasty Mc-snack and a hot coffee while in Philly during a chilly day!  We stopped here on the way to a football game and found it a very pleasant and relaxing place to hang out for a while.   \n",
       "3                                                                                                                                                                                                                                                                                       Burger King is an okay alternative to Mcdonalds. 6/10 Would recommend but idk about coming again.   \n",
       "4                                                                                                                                                                                                                                        ive tried going here four times with no success because the drive tru takes so long that i have pulled away every single time. great job idiots!   \n",
       "\n",
       "  prediction  \n",
       "0    sadness  \n",
       "1        joy  \n",
       "2        joy  \n",
       "3        joy  \n",
       "4        joy  "
      ]
     },
     "execution_count": 51,
     "metadata": {},
     "output_type": "execute_result"
    }
   ],
   "source": [
    "emo_labels = [\"anger\", \"fear\", \"sadness\", \"joy\", \"surprise\", \"love\"]\n",
    "emo['prediction'] = emo[emo_labels].idxmax(axis=1)\n",
    "emo.head()"
   ]
  },
  {
   "cell_type": "markdown",
   "metadata": {},
   "source": [
    "### 2.7 Combine the ratings and sentiment data\n",
    "\n",
    "Combine the data from part 2.4 (reviews data) and part 2.6 (emotion data). Use the `pd.concat()` function and combine along the column axis.\n",
    "\n",
    "**Note:** You'll need to reset the index of your reviews data frame so it matches the emotion data index (it should run from 0 to the length of the data - 1).\n"
   ]
  },
  {
   "cell_type": "code",
   "execution_count": 56,
   "metadata": {},
   "outputs": [
    {
     "data": {
      "text/html": [
       "<div>\n",
       "<style scoped>\n",
       "    .dataframe tbody tr th:only-of-type {\n",
       "        vertical-align: middle;\n",
       "    }\n",
       "\n",
       "    .dataframe tbody tr th {\n",
       "        vertical-align: top;\n",
       "    }\n",
       "\n",
       "    .dataframe thead th {\n",
       "        text-align: right;\n",
       "    }\n",
       "</style>\n",
       "<table border=\"1\" class=\"dataframe\">\n",
       "  <thead>\n",
       "    <tr style=\"text-align: right;\">\n",
       "      <th></th>\n",
       "      <th>index</th>\n",
       "      <th>business_id</th>\n",
       "      <th>review_id</th>\n",
       "      <th>stars</th>\n",
       "      <th>text</th>\n",
       "      <th>sadness</th>\n",
       "      <th>fear</th>\n",
       "      <th>anger</th>\n",
       "      <th>joy</th>\n",
       "      <th>surprise</th>\n",
       "      <th>love</th>\n",
       "      <th>text</th>\n",
       "      <th>prediction</th>\n",
       "    </tr>\n",
       "  </thead>\n",
       "  <tbody>\n",
       "    <tr>\n",
       "      <th>0</th>\n",
       "      <td>0</td>\n",
       "      <td>kgMEBZG6rjkGeFzPaIM4MQ</td>\n",
       "      <td>E-yGr1OhsUBxNeUVLDVouA</td>\n",
       "      <td>1</td>\n",
       "      <td>I know I shouldn't expect much but everything I asked for that was on the drive thru menu was not available. I was actually afraid of what I was going to get once I did get it. I saw the movie \"waiting\".  Word of advice stay clear of this arch. Just so you know I was only trying to order a beverage how pathetic is that.</td>\n",
       "      <td>0.733869</td>\n",
       "      <td>0.250676</td>\n",
       "      <td>0.011039</td>\n",
       "      <td>0.002758</td>\n",
       "      <td>0.001015</td>\n",
       "      <td>0.000643</td>\n",
       "      <td>I know I shouldn't expect much but everything I asked for that was on the drive thru menu was not available. I was actually afraid of what I was going to get once I did get it. I saw the movie \"waiting\".  Word of advice stay clear of this arch. Just so you know I was only trying to order a beverage how pathetic is that.</td>\n",
       "      <td>sadness</td>\n",
       "    </tr>\n",
       "    <tr>\n",
       "      <th>1</th>\n",
       "      <td>8</td>\n",
       "      <td>PjknD8uD_0tisZQbomiYoQ</td>\n",
       "      <td>6TqKBa-HDiq2_W_ip2AItA</td>\n",
       "      <td>5</td>\n",
       "      <td>I am only giving 5 stars because the Shamrock Shake is back and delicious!! Too bad it's around only once a year ;(</td>\n",
       "      <td>0.000230</td>\n",
       "      <td>0.000126</td>\n",
       "      <td>0.000165</td>\n",
       "      <td>0.998759</td>\n",
       "      <td>0.000246</td>\n",
       "      <td>0.000475</td>\n",
       "      <td>I am only giving 5 stars because the Shamrock Shake is back and delicious!! Too bad it's around only once a year ;(</td>\n",
       "      <td>joy</td>\n",
       "    </tr>\n",
       "    <tr>\n",
       "      <th>2</th>\n",
       "      <td>13</td>\n",
       "      <td>kgMEBZG6rjkGeFzPaIM4MQ</td>\n",
       "      <td>NGaXI03qbtBLshjfJV4pbQ</td>\n",
       "      <td>3</td>\n",
       "      <td>Dirty bathrooms and very slow service, but I was pleased because they had a TV on with subtitles and the volume on, and it was turned to the news!  A good place to pass some time with a tasty Mc-snack and a hot coffee while in Philly during a chilly day!  We stopped here on the way to a football game and found it a very pleasant and relaxing place to hang out for a while.</td>\n",
       "      <td>0.000216</td>\n",
       "      <td>0.000088</td>\n",
       "      <td>0.000153</td>\n",
       "      <td>0.998563</td>\n",
       "      <td>0.000161</td>\n",
       "      <td>0.000819</td>\n",
       "      <td>Dirty bathrooms and very slow service, but I was pleased because they had a TV on with subtitles and the volume on, and it was turned to the news!  A good place to pass some time with a tasty Mc-snack and a hot coffee while in Philly during a chilly day!  We stopped here on the way to a football game and found it a very pleasant and relaxing place to hang out for a while.</td>\n",
       "      <td>joy</td>\n",
       "    </tr>\n",
       "    <tr>\n",
       "      <th>3</th>\n",
       "      <td>17</td>\n",
       "      <td>LACylKxImNI29DKUQpWuHw</td>\n",
       "      <td>HHy9yIjW07VHUE6nXVbsVA</td>\n",
       "      <td>3</td>\n",
       "      <td>Burger King is an okay alternative to Mcdonalds. 6/10 Would recommend but idk about coming again.</td>\n",
       "      <td>0.000838</td>\n",
       "      <td>0.000403</td>\n",
       "      <td>0.000811</td>\n",
       "      <td>0.996928</td>\n",
       "      <td>0.000140</td>\n",
       "      <td>0.000880</td>\n",
       "      <td>Burger King is an okay alternative to Mcdonalds. 6/10 Would recommend but idk about coming again.</td>\n",
       "      <td>joy</td>\n",
       "    </tr>\n",
       "    <tr>\n",
       "      <th>4</th>\n",
       "      <td>21</td>\n",
       "      <td>gq4zw-ru_rkZ2UBIanaZFQ</td>\n",
       "      <td>yMZTK5B_0SAdUXSrIkXrmA</td>\n",
       "      <td>1</td>\n",
       "      <td>ive tried going here four times with no success because the drive tru takes so long that i have pulled away every single time. great job idiots!</td>\n",
       "      <td>0.005284</td>\n",
       "      <td>0.000753</td>\n",
       "      <td>0.006195</td>\n",
       "      <td>0.985421</td>\n",
       "      <td>0.001620</td>\n",
       "      <td>0.000726</td>\n",
       "      <td>ive tried going here four times with no success because the drive tru takes so long that i have pulled away every single time. great job idiots!</td>\n",
       "      <td>joy</td>\n",
       "    </tr>\n",
       "  </tbody>\n",
       "</table>\n",
       "</div>"
      ],
      "text/plain": [
       "   index             business_id               review_id  stars  \\\n",
       "0      0  kgMEBZG6rjkGeFzPaIM4MQ  E-yGr1OhsUBxNeUVLDVouA      1   \n",
       "1      8  PjknD8uD_0tisZQbomiYoQ  6TqKBa-HDiq2_W_ip2AItA      5   \n",
       "2     13  kgMEBZG6rjkGeFzPaIM4MQ  NGaXI03qbtBLshjfJV4pbQ      3   \n",
       "3     17  LACylKxImNI29DKUQpWuHw  HHy9yIjW07VHUE6nXVbsVA      3   \n",
       "4     21  gq4zw-ru_rkZ2UBIanaZFQ  yMZTK5B_0SAdUXSrIkXrmA      1   \n",
       "\n",
       "                                                                                                                                                                                                                                                                                                                                                                                     text  \\\n",
       "0                                                       I know I shouldn't expect much but everything I asked for that was on the drive thru menu was not available. I was actually afraid of what I was going to get once I did get it. I saw the movie \"waiting\".  Word of advice stay clear of this arch. Just so you know I was only trying to order a beverage how pathetic is that.   \n",
       "1                                                                                                                                                                                                                                                                     I am only giving 5 stars because the Shamrock Shake is back and delicious!! Too bad it's around only once a year ;(   \n",
       "2  Dirty bathrooms and very slow service, but I was pleased because they had a TV on with subtitles and the volume on, and it was turned to the news!  A good place to pass some time with a tasty Mc-snack and a hot coffee while in Philly during a chilly day!  We stopped here on the way to a football game and found it a very pleasant and relaxing place to hang out for a while.   \n",
       "3                                                                                                                                                                                                                                                                                       Burger King is an okay alternative to Mcdonalds. 6/10 Would recommend but idk about coming again.   \n",
       "4                                                                                                                                                                                                                                        ive tried going here four times with no success because the drive tru takes so long that i have pulled away every single time. great job idiots!   \n",
       "\n",
       "    sadness      fear     anger       joy  surprise      love  \\\n",
       "0  0.733869  0.250676  0.011039  0.002758  0.001015  0.000643   \n",
       "1  0.000230  0.000126  0.000165  0.998759  0.000246  0.000475   \n",
       "2  0.000216  0.000088  0.000153  0.998563  0.000161  0.000819   \n",
       "3  0.000838  0.000403  0.000811  0.996928  0.000140  0.000880   \n",
       "4  0.005284  0.000753  0.006195  0.985421  0.001620  0.000726   \n",
       "\n",
       "                                                                                                                                                                                                                                                                                                                                                                                     text  \\\n",
       "0                                                       I know I shouldn't expect much but everything I asked for that was on the drive thru menu was not available. I was actually afraid of what I was going to get once I did get it. I saw the movie \"waiting\".  Word of advice stay clear of this arch. Just so you know I was only trying to order a beverage how pathetic is that.   \n",
       "1                                                                                                                                                                                                                                                                     I am only giving 5 stars because the Shamrock Shake is back and delicious!! Too bad it's around only once a year ;(   \n",
       "2  Dirty bathrooms and very slow service, but I was pleased because they had a TV on with subtitles and the volume on, and it was turned to the news!  A good place to pass some time with a tasty Mc-snack and a hot coffee while in Philly during a chilly day!  We stopped here on the way to a football game and found it a very pleasant and relaxing place to hang out for a while.   \n",
       "3                                                                                                                                                                                                                                                                                       Burger King is an okay alternative to Mcdonalds. 6/10 Would recommend but idk about coming again.   \n",
       "4                                                                                                                                                                                                                                        ive tried going here four times with no success because the drive tru takes so long that i have pulled away every single time. great job idiots!   \n",
       "\n",
       "  prediction  \n",
       "0    sadness  \n",
       "1        joy  \n",
       "2        joy  \n",
       "3        joy  \n",
       "4        joy  "
      ]
     },
     "execution_count": 56,
     "metadata": {},
     "output_type": "execute_result"
    }
   ],
   "source": [
    "combined = pd.concat([selected_reviews.reset_index(), emo], axis=1)\n",
    "combined.head()"
   ]
  },
  {
   "cell_type": "markdown",
   "metadata": {},
   "source": [
    "### 2.8 Plot sentiment vs. stars\n",
    "\n",
    "We now have a dataframe with the predicted primary emotion for each review and the associated number of stars for each review. Let's explore two questions:\n",
    "\n",
    "1. Does sentiment analysis work? Do reviews with fewer stars have negative emotions?\n",
    "1. For our fast food restaurants, are reviews generally positive or negative? \n",
    "\n",
    "Use seaborn's [histplot()](https://seaborn.pydata.org/generated/seaborn.histplot.html) to make a stacked bar chart showing the breakdown of each emotion for each stars category (1 star, 2 stars, etc.). A few notes:\n",
    "\n",
    "- To stack multiple emotion labels in one bar, use the `multiple=\"stack\"` keyword\n",
    "- The `discrete=True` can be helpful to tell seaborn our stars values are discrete categories\n"
   ]
  },
  {
   "cell_type": "code",
   "execution_count": 58,
   "metadata": {},
   "outputs": [
    {
     "data": {
      "text/plain": [
       "<Axes: xlabel='stars', ylabel='Count'>"
      ]
     },
     "execution_count": 58,
     "metadata": {},
     "output_type": "execute_result"
    },
    {
     "data": {
      "image/png": "[encoded data removed]",
      "text/plain": [
       "<Figure size 640x480 with 1 Axes>"
      ]
     },
     "metadata": {},
     "output_type": "display_data"
    }
   ],
   "source": [
    "sns.set_theme()\n",
    "sns.histplot(data=combined, x=\"stars\", hue=\"prediction\", multiple=\"stack\", discrete=True)"
   ]
  },
  {
   "cell_type": "markdown",
   "metadata": {},
   "source": [
    "**Question:** What does your chart indicate for the effectiveness of our sentiment analysis? Does our original hypothesis about fast food restaurants seem plausible?"
   ]
  },
  {
   "cell_type": "markdown",
   "metadata": {},
   "source": [
    "The chart indicates two important pieces of information -- 1) disproportionally large number of reviews on fast food restaurants are 1-star; 2) based on results from sentiment analysis, highly rated reviews usually reflects joy, while 1-star reviews largely reflects sadness and anger, despite a small portion reflecting joy. "
   ]
  }
 ],
 "metadata": {
  "kernelspec": {
   "display_name": "Python 3 (ipykernel)",
   "language": "python",
   "name": "python3"
  },
  "language_info": {
   "codemirror_mode": {
    "name": "ipython",
    "version": 3
   },
   "file_extension": ".py",
   "mimetype": "text/x-python",
   "name": "python",
   "nbconvert_exporter": "python",
   "pygments_lexer": "ipython3",
   "version": "3.10.12"
  }
 },
 "nbformat": 4,
 "nbformat_minor": 4
}
