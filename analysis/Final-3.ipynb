{
 "cells": [
  {
   "cell_type": "markdown",
   "metadata": {},
   "source": [
    "---\n",
    "format:\n",
    "  html:\n",
    "   code-fold: true\n",
    "   code-summary: \"Show the code\"\n",
    "   toc: true\n",
    "   page-layout: full\n",
    "jupyter: Python3\n",
    "\n",
    "---"
   ]
  },
  {
   "cell_type": "markdown",
   "metadata": {},
   "source": [
    "# Part III - Museum Collections - MET, MoMA, British Museum, and Tate"
   ]
  },
  {
   "cell_type": "code",
   "execution_count": 434,
   "metadata": {
    "tags": []
   },
   "outputs": [],
   "source": [
    "import pandas as pd\n",
    "import geopandas as gpd\n",
    "import plotly.express as px\n",
    "from plotly.offline import init_notebook_mode, iplot\n",
    "import plotly.graph_objects as go\n",
    "import numpy as np\n",
    "pd.set_option('display.max_columns', None)"
   ]
  },
  {
   "cell_type": "markdown",
   "metadata": {},
   "source": [
    "# 0. World Museum at a Glance"
   ]
  },
  {
   "cell_type": "markdown",
   "metadata": {},
   "source": []
  },
  {
   "cell_type": "code",
   "execution_count": 441,
   "metadata": {
    "tags": []
   },
   "outputs": [],
   "source": [
    "world_museums = pd.read_csv(\"./Final_Data/Museum Collection Numbers.csv\").dropna()\n",
    "world_museums_location = gpd.read_file(\"./Final_Data/world_museum_location.geojson\")\n",
    "world_museums['Quantity'] = world_museums['Quantity'].astype(int)\n",
    "world_museums['Museum'] = world_museums['Museum'].astype(object)"
   ]
  },
  {
   "cell_type": "code",
   "execution_count": 442,
   "metadata": {
    "tags": []
   },
   "outputs": [
    {
     "data": {
      "text/html": [
       "<div style=\"width:100%;\"><div style=\"position:relative;width:100%;height:0;padding-bottom:60%;\"><span style=\"color:#565656\">Make this Notebook Trusted to load map: File -> Trust Notebook</span><iframe srcdoc=\"&lt;!DOCTYPE html&gt;\n",
       "&lt;html&gt;\n",
       "&lt;head&gt;\n",
       "    \n",
       "    &lt;meta http-equiv=&quot;content-type&quot; content=&quot;text/html; charset=UTF-8&quot; /&gt;\n",
       "    \n",
       "        &lt;script&gt;\n",
       "            L_NO_TOUCH = false;\n",
       "            L_DISABLE_3D = false;\n",
       "        &lt;/script&gt;\n",
       "    \n",
       "    &lt;style&gt;html, body {width: 100%;height: 100%;margin: 0;padding: 0;}&lt;/style&gt;\n",
       "    &lt;style&gt;#map {position:absolute;top:0;bottom:0;right:0;left:0;}&lt;/style&gt;\n",
       "    &lt;script src=&quot;https://cdn.jsdelivr.net/npm/leaflet@1.9.3/dist/leaflet.js&quot;&gt;&lt;/script&gt;\n",
       "    &lt;script src=&quot;https://code.jquery.com/jquery-1.12.4.min.js&quot;&gt;&lt;/script&gt;\n",
       "    &lt;script src=&quot;https://cdn.jsdelivr.net/npm/bootstrap@5.2.2/dist/js/bootstrap.bundle.min.js&quot;&gt;&lt;/script&gt;\n",
       "    &lt;script src=&quot;https://cdnjs.cloudflare.com/ajax/libs/Leaflet.awesome-markers/2.0.2/leaflet.awesome-markers.js&quot;&gt;&lt;/script&gt;\n",
       "    &lt;link rel=&quot;stylesheet&quot; href=&quot;https://cdn.jsdelivr.net/npm/leaflet@1.9.3/dist/leaflet.css&quot;/&gt;\n",
       "    &lt;link rel=&quot;stylesheet&quot; href=&quot;https://cdn.jsdelivr.net/npm/bootstrap@5.2.2/dist/css/bootstrap.min.css&quot;/&gt;\n",
       "    &lt;link rel=&quot;stylesheet&quot; href=&quot;https://netdna.bootstrapcdn.com/bootstrap/3.0.0/css/bootstrap.min.css&quot;/&gt;\n",
       "    &lt;link rel=&quot;stylesheet&quot; href=&quot;https://cdn.jsdelivr.net/npm/@fortawesome/fontawesome-free@6.2.0/css/all.min.css&quot;/&gt;\n",
       "    &lt;link rel=&quot;stylesheet&quot; href=&quot;https://cdnjs.cloudflare.com/ajax/libs/Leaflet.awesome-markers/2.0.2/leaflet.awesome-markers.css&quot;/&gt;\n",
       "    &lt;link rel=&quot;stylesheet&quot; href=&quot;https://cdn.jsdelivr.net/gh/python-visualization/folium/folium/templates/leaflet.awesome.rotate.min.css&quot;/&gt;\n",
       "    \n",
       "            &lt;meta name=&quot;viewport&quot; content=&quot;width=device-width,\n",
       "                initial-scale=1.0, maximum-scale=1.0, user-scalable=no&quot; /&gt;\n",
       "            &lt;style&gt;\n",
       "                #map_ed57f5d2342e2f683329176350f7fd9e {\n",
       "                    position: relative;\n",
       "                    width: 100.0%;\n",
       "                    height: 100.0%;\n",
       "                    left: 0.0%;\n",
       "                    top: 0.0%;\n",
       "                }\n",
       "                .leaflet-container { font-size: 1rem; }\n",
       "            &lt;/style&gt;\n",
       "        \n",
       "    \n",
       "                    &lt;style&gt;\n",
       "                        .foliumtooltip {\n",
       "                            \n",
       "                        }\n",
       "                       .foliumtooltip table{\n",
       "                            margin: auto;\n",
       "                        }\n",
       "                        .foliumtooltip tr{\n",
       "                            text-align: left;\n",
       "                        }\n",
       "                        .foliumtooltip th{\n",
       "                            padding: 2px; padding-right: 8px;\n",
       "                        }\n",
       "                    &lt;/style&gt;\n",
       "            \n",
       "&lt;/head&gt;\n",
       "&lt;body&gt;\n",
       "    \n",
       "    \n",
       "            &lt;div class=&quot;folium-map&quot; id=&quot;map_ed57f5d2342e2f683329176350f7fd9e&quot; &gt;&lt;/div&gt;\n",
       "        \n",
       "&lt;/body&gt;\n",
       "&lt;script&gt;\n",
       "    \n",
       "    \n",
       "            var map_ed57f5d2342e2f683329176350f7fd9e = L.map(\n",
       "                &quot;map_ed57f5d2342e2f683329176350f7fd9e&quot;,\n",
       "                {\n",
       "                    center: [35.47261361962551, 20.295111675412528],\n",
       "                    crs: L.CRS.EPSG3857,\n",
       "                    zoom: 10,\n",
       "                    zoomControl: true,\n",
       "                    preferCanvas: false,\n",
       "                }\n",
       "            );\n",
       "            L.control.scale().addTo(map_ed57f5d2342e2f683329176350f7fd9e);\n",
       "\n",
       "            \n",
       "\n",
       "        \n",
       "    \n",
       "            var tile_layer_856be04e9ae6cbd810bfafeee1dd9e83 = L.tileLayer(\n",
       "                &quot;https://a.basemaps.cartocdn.com/light_all/{z}/{x}/{y}{r}.png&quot;,\n",
       "                {&quot;attribution&quot;: &quot;\\u0026copy; \\u003ca href=\\&quot;https://www.openstreetmap.org/copyright\\&quot;\\u003eOpenStreetMap\\u003c/a\\u003e contributors \\u0026copy; \\u003ca href=\\&quot;https://carto.com/attributions\\&quot;\\u003eCARTO\\u003c/a\\u003e&quot;, &quot;detectRetina&quot;: false, &quot;maxNativeZoom&quot;: 20, &quot;maxZoom&quot;: 20, &quot;minZoom&quot;: 0, &quot;noWrap&quot;: false, &quot;opacity&quot;: 1, &quot;subdomains&quot;: &quot;abc&quot;, &quot;tms&quot;: false}\n",
       "            ).addTo(map_ed57f5d2342e2f683329176350f7fd9e);\n",
       "        \n",
       "    \n",
       "            map_ed57f5d2342e2f683329176350f7fd9e.fitBounds(\n",
       "                [[19.42602588073261, -99.18640684366625], [51.519201358518416, 139.7766301944913]],\n",
       "                {}\n",
       "            );\n",
       "        \n",
       "    \n",
       "        function geo_json_b3654cccf49e23e3cac29a464078bb13_styler(feature) {\n",
       "            switch(feature.id) {\n",
       "                default:\n",
       "                    return {&quot;fillOpacity&quot;: 0.5, &quot;weight&quot;: 2};\n",
       "            }\n",
       "        }\n",
       "        function geo_json_b3654cccf49e23e3cac29a464078bb13_highlighter(feature) {\n",
       "            switch(feature.id) {\n",
       "                default:\n",
       "                    return {&quot;fillOpacity&quot;: 0.75};\n",
       "            }\n",
       "        }\n",
       "        function geo_json_b3654cccf49e23e3cac29a464078bb13_pointToLayer(feature, latlng) {\n",
       "            var opts = {&quot;bubblingMouseEvents&quot;: true, &quot;color&quot;: &quot;#3388ff&quot;, &quot;dashArray&quot;: null, &quot;dashOffset&quot;: null, &quot;fill&quot;: true, &quot;fillColor&quot;: &quot;#3388ff&quot;, &quot;fillOpacity&quot;: 0.2, &quot;fillRule&quot;: &quot;evenodd&quot;, &quot;lineCap&quot;: &quot;round&quot;, &quot;lineJoin&quot;: &quot;round&quot;, &quot;opacity&quot;: 1.0, &quot;radius&quot;: 2, &quot;stroke&quot;: true, &quot;weight&quot;: 3};\n",
       "            \n",
       "            let style = geo_json_b3654cccf49e23e3cac29a464078bb13_styler(feature)\n",
       "            Object.assign(opts, style)\n",
       "            \n",
       "            return new L.CircleMarker(latlng, opts)\n",
       "        }\n",
       "\n",
       "        function geo_json_b3654cccf49e23e3cac29a464078bb13_onEachFeature(feature, layer) {\n",
       "            layer.on({\n",
       "                mouseout: function(e) {\n",
       "                    if(typeof e.target.setStyle === &quot;function&quot;){\n",
       "                        geo_json_b3654cccf49e23e3cac29a464078bb13.resetStyle(e.target);\n",
       "                    }\n",
       "                },\n",
       "                mouseover: function(e) {\n",
       "                    if(typeof e.target.setStyle === &quot;function&quot;){\n",
       "                        const highlightStyle = geo_json_b3654cccf49e23e3cac29a464078bb13_highlighter(e.target.feature)\n",
       "                        e.target.setStyle(highlightStyle);\n",
       "                    }\n",
       "                },\n",
       "            });\n",
       "        };\n",
       "        var geo_json_b3654cccf49e23e3cac29a464078bb13 = L.geoJson(null, {\n",
       "                onEachFeature: geo_json_b3654cccf49e23e3cac29a464078bb13_onEachFeature,\n",
       "            \n",
       "                style: geo_json_b3654cccf49e23e3cac29a464078bb13_styler,\n",
       "                pointToLayer: geo_json_b3654cccf49e23e3cac29a464078bb13_pointToLayer\n",
       "        });\n",
       "\n",
       "        function geo_json_b3654cccf49e23e3cac29a464078bb13_add (data) {\n",
       "            geo_json_b3654cccf49e23e3cac29a464078bb13\n",
       "                .addData(data)\n",
       "                .addTo(map_ed57f5d2342e2f683329176350f7fd9e);\n",
       "        }\n",
       "            geo_json_b3654cccf49e23e3cac29a464078bb13_add({&quot;bbox&quot;: [-99.18640684366625, 19.42602588073261, 139.7766301944913, 51.519201358518416], &quot;features&quot;: [{&quot;bbox&quot;: [-73.96354302095394, 40.77937938966477, -73.96354302095394, 40.77937938966477], &quot;geometry&quot;: {&quot;coordinates&quot;: [-73.96354302095394, 40.77937938966477], &quot;type&quot;: &quot;Point&quot;}, &quot;id&quot;: &quot;0&quot;, &quot;properties&quot;: {&quot;Museum&quot;: &quot;The Metropolitan Museum of Art (MET)&quot;, &quot;Place&quot;: &quot;New York City&quot;, &quot;Quantity&quot;: 1500000, &quot;Region&quot;: &quot;Americas&quot;, &quot;URL&quot;: &quot;https://www.metmuseum.org/press/general-information?st=facet\\u0026rpp=10\\u0026pg=2#:~:text=Its%20collections%20include%201.5%20million,every%20part%20of%20the%20globe.&quot;, &quot;Year&quot;: 1880.0}, &quot;type&quot;: &quot;Feature&quot;}, {&quot;bbox&quot;: [-73.9776205888268, 40.7614892230533, -73.9776205888268, 40.7614892230533], &quot;geometry&quot;: {&quot;coordinates&quot;: [-73.9776205888268, 40.7614892230533], &quot;type&quot;: &quot;Point&quot;}, &quot;id&quot;: &quot;1&quot;, &quot;properties&quot;: {&quot;Museum&quot;: &quot;Museum of Modern Art (MoMA)&quot;, &quot;Place&quot;: &quot;New York City&quot;, &quot;Quantity&quot;: 200000, &quot;Region&quot;: &quot;Americas&quot;, &quot;URL&quot;: &quot;https://www.moma.org/collection/about/#:~:text=The%20Museum%20of%20Modern%20Art,spanning%20the%20last%20150%20years.&quot;, &quot;Year&quot;: 1929.0}, &quot;type&quot;: &quot;Feature&quot;}, {&quot;bbox&quot;: [-0.0994731313140278, 51.507542123847344, -0.0994731313140278, 51.507542123847344], &quot;geometry&quot;: {&quot;coordinates&quot;: [-0.0994731313140278, 51.507542123847344], &quot;type&quot;: &quot;Point&quot;}, &quot;id&quot;: &quot;2&quot;, &quot;properties&quot;: {&quot;Museum&quot;: &quot;Tate Modern&quot;, &quot;Place&quot;: &quot;London&quot;, &quot;Quantity&quot;: 700000, &quot;Region&quot;: &quot;Europe&quot;, &quot;URL&quot;: &quot;https://www.tate.org.uk/about-us/history-tate#:~:text=Today%20we%20have%20four%20major,which%20includes%20nearly%2070%2C000%20artworks.&quot;, &quot;Year&quot;: 1897.0}, &quot;type&quot;: &quot;Feature&quot;}, {&quot;bbox&quot;: [-0.12755902270021124, 51.519201358518416, -0.12755902270021124, 51.519201358518416], &quot;geometry&quot;: {&quot;coordinates&quot;: [-0.12755902270021124, 51.519201358518416], &quot;type&quot;: &quot;Point&quot;}, &quot;id&quot;: &quot;3&quot;, &quot;properties&quot;: {&quot;Museum&quot;: &quot;The British Museum&quot;, &quot;Place&quot;: &quot;London&quot;, &quot;Quantity&quot;: 8000000, &quot;Region&quot;: &quot;Europe&quot;, &quot;URL&quot;: &quot;https://www.britishmuseum.org/about-us&quot;, &quot;Year&quot;: 1759.0}, &quot;type&quot;: &quot;Feature&quot;}, {&quot;bbox&quot;: [2.336776814746173, 48.8615101101384, 2.336776814746173, 48.8615101101384], &quot;geometry&quot;: {&quot;coordinates&quot;: [2.336776814746173, 48.8615101101384], &quot;type&quot;: &quot;Point&quot;}, &quot;id&quot;: &quot;4&quot;, &quot;properties&quot;: {&quot;Museum&quot;: &quot;Mus\\u00e9e du Louvre&quot;, &quot;Place&quot;: &quot;Paris&quot;, &quot;Quantity&quot;: 497081, &quot;Region&quot;: &quot;Europe&quot;, &quot;URL&quot;: &quot;https://mini-site.louvre.fr/trimestriel/2023/RA_2022/22/&quot;, &quot;Year&quot;: 1793.0}, &quot;type&quot;: &quot;Feature&quot;}, {&quot;bbox&quot;: [12.453801384227916, 41.90601802430797, 12.453801384227916, 41.90601802430797], &quot;geometry&quot;: {&quot;coordinates&quot;: [12.453801384227916, 41.90601802430797], &quot;type&quot;: &quot;Point&quot;}, &quot;id&quot;: &quot;5&quot;, &quot;properties&quot;: {&quot;Museum&quot;: &quot;Vatican&quot;, &quot;Place&quot;: &quot;Vatican City&quot;, &quot;Quantity&quot;: 70000, &quot;Region&quot;: &quot;Europe&quot;, &quot;URL&quot;: &quot;https://www.thevaticantickets.com/vatican-museums/&quot;, &quot;Year&quot;: 1506.0}, &quot;type&quot;: &quot;Feature&quot;}, {&quot;bbox&quot;: [139.7766301944913, 35.718942336198964, 139.7766301944913, 35.718942336198964], &quot;geometry&quot;: {&quot;coordinates&quot;: [139.7766301944913, 35.718942336198964], &quot;type&quot;: &quot;Point&quot;}, &quot;id&quot;: &quot;6&quot;, &quot;properties&quot;: {&quot;Museum&quot;: &quot;Tokyo National Museum&quot;, &quot;Place&quot;: &quot;Tokyo&quot;, &quot;Quantity&quot;: 120000, &quot;Region&quot;: &quot;Asia&quot;, &quot;URL&quot;: &quot;https://www.tnm.jp/modules/r_free_page/index.php?id=156&quot;, &quot;Year&quot;: 1872.0}, &quot;type&quot;: &quot;Feature&quot;}, {&quot;bbox&quot;: [116.39074619771122, 39.915502703082296, 116.39074619771122, 39.915502703082296], &quot;geometry&quot;: {&quot;coordinates&quot;: [116.39074619771122, 39.915502703082296], &quot;type&quot;: &quot;Point&quot;}, &quot;id&quot;: &quot;7&quot;, &quot;properties&quot;: {&quot;Museum&quot;: &quot;Forbidden City / The Palace Museum&quot;, &quot;Place&quot;: &quot;Beijing&quot;, &quot;Quantity&quot;: 1863404, &quot;Region&quot;: &quot;Asia&quot;, &quot;URL&quot;: &quot;https://www.dpm.org.cn/explore/collections#:~:text=%E2%80%9C%E6%95%85%E5%AE%AB%E5%8D%9A%E7%89%A9%E9%99%A2%E2%80%9D%E9%99%A2%E8%97%8F%E6%96%87%E7%89%A9,%E5%A0%AA%E7%A7%B0%E8%89%BA%E6%9C%AF%E7%9A%84%E5%AE%9D%E5%BA%93%E3%80%82&quot;, &quot;Year&quot;: 1925.0}, &quot;type&quot;: &quot;Feature&quot;}, {&quot;bbox&quot;: [121.54892039836778, 25.101206946204286, 121.54892039836778, 25.101206946204286], &quot;geometry&quot;: {&quot;coordinates&quot;: [121.54892039836778, 25.101206946204286], &quot;type&quot;: &quot;Point&quot;}, &quot;id&quot;: &quot;8&quot;, &quot;properties&quot;: {&quot;Museum&quot;: &quot;National Palace Museum&quot;, &quot;Place&quot;: &quot;Taipei&quot;, &quot;Quantity&quot;: 608985, &quot;Region&quot;: &quot;Asia&quot;, &quot;URL&quot;: &quot;https://www.npm.gov.tw/Articles.aspx?sno=03001513\\u0026l=2&quot;, &quot;Year&quot;: 1965.0}, &quot;type&quot;: &quot;Feature&quot;}, {&quot;bbox&quot;: [-99.18640684366625, 19.42602588073261, -99.18640684366625, 19.42602588073261], &quot;geometry&quot;: {&quot;coordinates&quot;: [-99.18640684366625, 19.42602588073261], &quot;type&quot;: &quot;Point&quot;}, &quot;id&quot;: &quot;9&quot;, &quot;properties&quot;: {&quot;Museum&quot;: &quot;National Museum of Anthropology&quot;, &quot;Place&quot;: &quot;Mexico City&quot;, &quot;Quantity&quot;: 600000, &quot;Region&quot;: &quot;Americas&quot;, &quot;URL&quot;: &quot;https://sailingstonetravel.com/national-museum-of-anthropology-visitors-guide/#:~:text=The%20museum%20is%20home%20to,Museum%20of%20Anthropology%20comes%20in.&quot;, &quot;Year&quot;: 1964.0}, &quot;type&quot;: &quot;Feature&quot;}], &quot;type&quot;: &quot;FeatureCollection&quot;});\n",
       "\n",
       "        \n",
       "    \n",
       "    geo_json_b3654cccf49e23e3cac29a464078bb13.bindTooltip(\n",
       "    function(layer){\n",
       "    let div = L.DomUtil.create(&#x27;div&#x27;);\n",
       "    \n",
       "    let handleObject = feature=&gt;typeof(feature)==&#x27;object&#x27; ? JSON.stringify(feature) : feature;\n",
       "    let fields = [&quot;Museum&quot;, &quot;Place&quot;, &quot;Region&quot;, &quot;Year&quot;, &quot;Quantity&quot;, &quot;URL&quot;];\n",
       "    let aliases = [&quot;Museum&quot;, &quot;Place&quot;, &quot;Region&quot;, &quot;Year&quot;, &quot;Quantity&quot;, &quot;URL&quot;];\n",
       "    let table = &#x27;&lt;table&gt;&#x27; +\n",
       "        String(\n",
       "        fields.map(\n",
       "        (v,i)=&gt;\n",
       "        `&lt;tr&gt;\n",
       "            &lt;th&gt;${aliases[i]}&lt;/th&gt;\n",
       "            \n",
       "            &lt;td&gt;${handleObject(layer.feature.properties[v])}&lt;/td&gt;\n",
       "        &lt;/tr&gt;`).join(&#x27;&#x27;))\n",
       "    +&#x27;&lt;/table&gt;&#x27;;\n",
       "    div.innerHTML=table;\n",
       "    \n",
       "    return div\n",
       "    }\n",
       "    ,{&quot;className&quot;: &quot;foliumtooltip&quot;, &quot;sticky&quot;: true});\n",
       "                     \n",
       "&lt;/script&gt;\n",
       "&lt;/html&gt;\" style=\"position:absolute;width:100%;height:100%;left:0;top:0;border:none !important;\" allowfullscreen webkitallowfullscreen mozallowfullscreen></iframe></div></div>"
      ],
      "text/plain": [
       "<folium.folium.Map at 0x1b5fb2770>"
      ]
     },
     "execution_count": 442,
     "metadata": {},
     "output_type": "execute_result"
    }
   ],
   "source": [
    "location = world_museums_location.merge(world_museums, on=\"Museum\")\n",
    "location.explore(\n",
    "     tiles=\"cartodbpositron\",\n",
    ")"
   ]
  },
  {
   "cell_type": "code",
   "execution_count": 437,
   "metadata": {
    "tags": []
   },
   "outputs": [
    {
     "data": {
      "application/vnd.plotly.v1+json": {
       "config": {
        "plotlyServerURL": "https://plot.ly"
       },
       "data": [
        {
         "alignmentgroup": "True",
         "hovertemplate": "Museum=%{x}<br>Quantity=%{y}<extra></extra>",
         "legendgroup": "",
         "marker": {
          "color": "#636efa",
          "pattern": {
           "shape": ""
          }
         },
         "name": "",
         "offsetgroup": "",
         "orientation": "v",
         "showlegend": false,
         "textposition": "auto",
         "type": "bar",
         "x": [
          "The Metropolitan Museum of Art (MET)",
          "Museum of Modern Art (MoMA)",
          "Tate Modern",
          "The British Museum",
          "Musée du Louvre",
          "Vatican",
          "Tokyo National Museum",
          "Forbidden City / The Palace Museum",
          "National Palace Museum",
          "National Museum of Anthropology"
         ],
         "xaxis": "x",
         "y": [
          1500000,
          200000,
          700000,
          8000000,
          497081,
          70000,
          120000,
          1863404,
          608985,
          600000
         ],
         "yaxis": "y"
        }
       ],
       "layout": {
        "barmode": "relative",
        "height": 700,
        "legend": {
         "tracegroupgap": 0
        },
        "template": {
         "data": {
          "bar": [
           {
            "error_x": {
             "color": "#2a3f5f"
            },
            "error_y": {
             "color": "#2a3f5f"
            },
            "marker": {
             "line": {
              "color": "white",
              "width": 0.5
             },
             "pattern": {
              "fillmode": "overlay",
              "size": 10,
              "solidity": 0.2
             }
            },
            "type": "bar"
           }
          ],
          "barpolar": [
           {
            "marker": {
             "line": {
              "color": "white",
              "width": 0.5
             },
             "pattern": {
              "fillmode": "overlay",
              "size": 10,
              "solidity": 0.2
             }
            },
            "type": "barpolar"
           }
          ],
          "carpet": [
           {
            "aaxis": {
             "endlinecolor": "#2a3f5f",
             "gridcolor": "#C8D4E3",
             "linecolor": "#C8D4E3",
             "minorgridcolor": "#C8D4E3",
             "startlinecolor": "#2a3f5f"
            },
            "baxis": {
             "endlinecolor": "#2a3f5f",
             "gridcolor": "#C8D4E3",
             "linecolor": "#C8D4E3",
             "minorgridcolor": "#C8D4E3",
             "startlinecolor": "#2a3f5f"
            },
            "type": "carpet"
           }
          ],
          "choropleth": [
           {
            "colorbar": {
             "outlinewidth": 0,
             "ticks": ""
            },
            "type": "choropleth"
           }
          ],
          "contour": [
           {
            "colorbar": {
             "outlinewidth": 0,
             "ticks": ""
            },
            "colorscale": [
             [
              0,
              "#0d0887"
             ],
             [
              0.1111111111111111,
              "#46039f"
             ],
             [
              0.2222222222222222,
              "#7201a8"
             ],
             [
              0.3333333333333333,
              "#9c179e"
             ],
             [
              0.4444444444444444,
              "#bd3786"
             ],
             [
              0.5555555555555556,
              "#d8576b"
             ],
             [
              0.6666666666666666,
              "#ed7953"
             ],
             [
              0.7777777777777778,
              "#fb9f3a"
             ],
             [
              0.8888888888888888,
              "#fdca26"
             ],
             [
              1,
              "#f0f921"
             ]
            ],
            "type": "contour"
           }
          ],
          "contourcarpet": [
           {
            "colorbar": {
             "outlinewidth": 0,
             "ticks": ""
            },
            "type": "contourcarpet"
           }
          ],
          "heatmap": [
           {
            "colorbar": {
             "outlinewidth": 0,
             "ticks": ""
            },
            "colorscale": [
             [
              0,
              "#0d0887"
             ],
             [
              0.1111111111111111,
              "#46039f"
             ],
             [
              0.2222222222222222,
              "#7201a8"
             ],
             [
              0.3333333333333333,
              "#9c179e"
             ],
             [
              0.4444444444444444,
              "#bd3786"
             ],
             [
              0.5555555555555556,
              "#d8576b"
             ],
             [
              0.6666666666666666,
              "#ed7953"
             ],
             [
              0.7777777777777778,
              "#fb9f3a"
             ],
             [
              0.8888888888888888,
              "#fdca26"
             ],
             [
              1,
              "#f0f921"
             ]
            ],
            "type": "heatmap"
           }
          ],
          "heatmapgl": [
           {
            "colorbar": {
             "outlinewidth": 0,
             "ticks": ""
            },
            "colorscale": [
             [
              0,
              "#0d0887"
             ],
             [
              0.1111111111111111,
              "#46039f"
             ],
             [
              0.2222222222222222,
              "#7201a8"
             ],
             [
              0.3333333333333333,
              "#9c179e"
             ],
             [
              0.4444444444444444,
              "#bd3786"
             ],
             [
              0.5555555555555556,
              "#d8576b"
             ],
             [
              0.6666666666666666,
              "#ed7953"
             ],
             [
              0.7777777777777778,
              "#fb9f3a"
             ],
             [
              0.8888888888888888,
              "#fdca26"
             ],
             [
              1,
              "#f0f921"
             ]
            ],
            "type": "heatmapgl"
           }
          ],
          "histogram": [
           {
            "marker": {
             "pattern": {
              "fillmode": "overlay",
              "size": 10,
              "solidity": 0.2
             }
            },
            "type": "histogram"
           }
          ],
          "histogram2d": [
           {
            "colorbar": {
             "outlinewidth": 0,
             "ticks": ""
            },
            "colorscale": [
             [
              0,
              "#0d0887"
             ],
             [
              0.1111111111111111,
              "#46039f"
             ],
             [
              0.2222222222222222,
              "#7201a8"
             ],
             [
              0.3333333333333333,
              "#9c179e"
             ],
             [
              0.4444444444444444,
              "#bd3786"
             ],
             [
              0.5555555555555556,
              "#d8576b"
             ],
             [
              0.6666666666666666,
              "#ed7953"
             ],
             [
              0.7777777777777778,
              "#fb9f3a"
             ],
             [
              0.8888888888888888,
              "#fdca26"
             ],
             [
              1,
              "#f0f921"
             ]
            ],
            "type": "histogram2d"
           }
          ],
          "histogram2dcontour": [
           {
            "colorbar": {
             "outlinewidth": 0,
             "ticks": ""
            },
            "colorscale": [
             [
              0,
              "#0d0887"
             ],
             [
              0.1111111111111111,
              "#46039f"
             ],
             [
              0.2222222222222222,
              "#7201a8"
             ],
             [
              0.3333333333333333,
              "#9c179e"
             ],
             [
              0.4444444444444444,
              "#bd3786"
             ],
             [
              0.5555555555555556,
              "#d8576b"
             ],
             [
              0.6666666666666666,
              "#ed7953"
             ],
             [
              0.7777777777777778,
              "#fb9f3a"
             ],
             [
              0.8888888888888888,
              "#fdca26"
             ],
             [
              1,
              "#f0f921"
             ]
            ],
            "type": "histogram2dcontour"
           }
          ],
          "mesh3d": [
           {
            "colorbar": {
             "outlinewidth": 0,
             "ticks": ""
            },
            "type": "mesh3d"
           }
          ],
          "parcoords": [
           {
            "line": {
             "colorbar": {
              "outlinewidth": 0,
              "ticks": ""
             }
            },
            "type": "parcoords"
           }
          ],
          "pie": [
           {
            "automargin": true,
            "type": "pie"
           }
          ],
          "scatter": [
           {
            "fillpattern": {
             "fillmode": "overlay",
             "size": 10,
             "solidity": 0.2
            },
            "type": "scatter"
           }
          ],
          "scatter3d": [
           {
            "line": {
             "colorbar": {
              "outlinewidth": 0,
              "ticks": ""
             }
            },
            "marker": {
             "colorbar": {
              "outlinewidth": 0,
              "ticks": ""
             }
            },
            "type": "scatter3d"
           }
          ],
          "scattercarpet": [
           {
            "marker": {
             "colorbar": {
              "outlinewidth": 0,
              "ticks": ""
             }
            },
            "type": "scattercarpet"
           }
          ],
          "scattergeo": [
           {
            "marker": {
             "colorbar": {
              "outlinewidth": 0,
              "ticks": ""
             }
            },
            "type": "scattergeo"
           }
          ],
          "scattergl": [
           {
            "marker": {
             "colorbar": {
              "outlinewidth": 0,
              "ticks": ""
             }
            },
            "type": "scattergl"
           }
          ],
          "scattermapbox": [
           {
            "marker": {
             "colorbar": {
              "outlinewidth": 0,
              "ticks": ""
             }
            },
            "type": "scattermapbox"
           }
          ],
          "scatterpolar": [
           {
            "marker": {
             "colorbar": {
              "outlinewidth": 0,
              "ticks": ""
             }
            },
            "type": "scatterpolar"
           }
          ],
          "scatterpolargl": [
           {
            "marker": {
             "colorbar": {
              "outlinewidth": 0,
              "ticks": ""
             }
            },
            "type": "scatterpolargl"
           }
          ],
          "scatterternary": [
           {
            "marker": {
             "colorbar": {
              "outlinewidth": 0,
              "ticks": ""
             }
            },
            "type": "scatterternary"
           }
          ],
          "surface": [
           {
            "colorbar": {
             "outlinewidth": 0,
             "ticks": ""
            },
            "colorscale": [
             [
              0,
              "#0d0887"
             ],
             [
              0.1111111111111111,
              "#46039f"
             ],
             [
              0.2222222222222222,
              "#7201a8"
             ],
             [
              0.3333333333333333,
              "#9c179e"
             ],
             [
              0.4444444444444444,
              "#bd3786"
             ],
             [
              0.5555555555555556,
              "#d8576b"
             ],
             [
              0.6666666666666666,
              "#ed7953"
             ],
             [
              0.7777777777777778,
              "#fb9f3a"
             ],
             [
              0.8888888888888888,
              "#fdca26"
             ],
             [
              1,
              "#f0f921"
             ]
            ],
            "type": "surface"
           }
          ],
          "table": [
           {
            "cells": {
             "fill": {
              "color": "#EBF0F8"
             },
             "line": {
              "color": "white"
             }
            },
            "header": {
             "fill": {
              "color": "#C8D4E3"
             },
             "line": {
              "color": "white"
             }
            },
            "type": "table"
           }
          ]
         },
         "layout": {
          "annotationdefaults": {
           "arrowcolor": "#2a3f5f",
           "arrowhead": 0,
           "arrowwidth": 1
          },
          "autotypenumbers": "strict",
          "coloraxis": {
           "colorbar": {
            "outlinewidth": 0,
            "ticks": ""
           }
          },
          "colorscale": {
           "diverging": [
            [
             0,
             "#8e0152"
            ],
            [
             0.1,
             "#c51b7d"
            ],
            [
             0.2,
             "#de77ae"
            ],
            [
             0.3,
             "#f1b6da"
            ],
            [
             0.4,
             "#fde0ef"
            ],
            [
             0.5,
             "#f7f7f7"
            ],
            [
             0.6,
             "#e6f5d0"
            ],
            [
             0.7,
             "#b8e186"
            ],
            [
             0.8,
             "#7fbc41"
            ],
            [
             0.9,
             "#4d9221"
            ],
            [
             1,
             "#276419"
            ]
           ],
           "sequential": [
            [
             0,
             "#0d0887"
            ],
            [
             0.1111111111111111,
             "#46039f"
            ],
            [
             0.2222222222222222,
             "#7201a8"
            ],
            [
             0.3333333333333333,
             "#9c179e"
            ],
            [
             0.4444444444444444,
             "#bd3786"
            ],
            [
             0.5555555555555556,
             "#d8576b"
            ],
            [
             0.6666666666666666,
             "#ed7953"
            ],
            [
             0.7777777777777778,
             "#fb9f3a"
            ],
            [
             0.8888888888888888,
             "#fdca26"
            ],
            [
             1,
             "#f0f921"
            ]
           ],
           "sequentialminus": [
            [
             0,
             "#0d0887"
            ],
            [
             0.1111111111111111,
             "#46039f"
            ],
            [
             0.2222222222222222,
             "#7201a8"
            ],
            [
             0.3333333333333333,
             "#9c179e"
            ],
            [
             0.4444444444444444,
             "#bd3786"
            ],
            [
             0.5555555555555556,
             "#d8576b"
            ],
            [
             0.6666666666666666,
             "#ed7953"
            ],
            [
             0.7777777777777778,
             "#fb9f3a"
            ],
            [
             0.8888888888888888,
             "#fdca26"
            ],
            [
             1,
             "#f0f921"
            ]
           ]
          },
          "colorway": [
           "#636efa",
           "#EF553B",
           "#00cc96",
           "#ab63fa",
           "#FFA15A",
           "#19d3f3",
           "#FF6692",
           "#B6E880",
           "#FF97FF",
           "#FECB52"
          ],
          "font": {
           "color": "#2a3f5f"
          },
          "geo": {
           "bgcolor": "white",
           "lakecolor": "white",
           "landcolor": "white",
           "showlakes": true,
           "showland": true,
           "subunitcolor": "#C8D4E3"
          },
          "hoverlabel": {
           "align": "left"
          },
          "hovermode": "closest",
          "mapbox": {
           "style": "light"
          },
          "paper_bgcolor": "white",
          "plot_bgcolor": "white",
          "polar": {
           "angularaxis": {
            "gridcolor": "#EBF0F8",
            "linecolor": "#EBF0F8",
            "ticks": ""
           },
           "bgcolor": "white",
           "radialaxis": {
            "gridcolor": "#EBF0F8",
            "linecolor": "#EBF0F8",
            "ticks": ""
           }
          },
          "scene": {
           "xaxis": {
            "backgroundcolor": "white",
            "gridcolor": "#DFE8F3",
            "gridwidth": 2,
            "linecolor": "#EBF0F8",
            "showbackground": true,
            "ticks": "",
            "zerolinecolor": "#EBF0F8"
           },
           "yaxis": {
            "backgroundcolor": "white",
            "gridcolor": "#DFE8F3",
            "gridwidth": 2,
            "linecolor": "#EBF0F8",
            "showbackground": true,
            "ticks": "",
            "zerolinecolor": "#EBF0F8"
           },
           "zaxis": {
            "backgroundcolor": "white",
            "gridcolor": "#DFE8F3",
            "gridwidth": 2,
            "linecolor": "#EBF0F8",
            "showbackground": true,
            "ticks": "",
            "zerolinecolor": "#EBF0F8"
           }
          },
          "shapedefaults": {
           "line": {
            "color": "#2a3f5f"
           }
          },
          "ternary": {
           "aaxis": {
            "gridcolor": "#DFE8F3",
            "linecolor": "#A2B1C6",
            "ticks": ""
           },
           "baxis": {
            "gridcolor": "#DFE8F3",
            "linecolor": "#A2B1C6",
            "ticks": ""
           },
           "bgcolor": "white",
           "caxis": {
            "gridcolor": "#DFE8F3",
            "linecolor": "#A2B1C6",
            "ticks": ""
           }
          },
          "title": {
           "x": 0.05
          },
          "xaxis": {
           "automargin": true,
           "gridcolor": "#EBF0F8",
           "linecolor": "#EBF0F8",
           "ticks": "",
           "title": {
            "standoff": 15
           },
           "zerolinecolor": "#EBF0F8",
           "zerolinewidth": 2
          },
          "yaxis": {
           "automargin": true,
           "gridcolor": "#EBF0F8",
           "linecolor": "#EBF0F8",
           "ticks": "",
           "title": {
            "standoff": 15
           },
           "zerolinecolor": "#EBF0F8",
           "zerolinewidth": 2
          }
         }
        },
        "title": {
         "text": "Size of Collections at World Famous Museums (by Works)"
        },
        "width": 1000,
        "xaxis": {
         "anchor": "y",
         "autorange": true,
         "domain": [
          0,
          1
         ],
         "range": [
          -0.5,
          9.5
         ],
         "title": {
          "text": "Museum"
         },
         "type": "category"
        },
        "yaxis": {
         "anchor": "x",
         "autorange": true,
         "domain": [
          0,
          1
         ],
         "range": [
          0,
          8421052.631578948
         ],
         "title": {
          "text": "Quantity"
         },
         "type": "linear"
        }
       }
      },
      "image/png": "[encoded data removed]",
      "text/html": [
       "<div>                            <div id=\"8330f554-9e5a-42ab-96a8-dde6680225a5\" class=\"plotly-graph-div\" style=\"height:700px; width:1000px;\"></div>            <script type=\"text/javascript\">                require([\"plotly\"], function(Plotly) {                    window.PLOTLYENV=window.PLOTLYENV || {};                                    if (document.getElementById(\"8330f554-9e5a-42ab-96a8-dde6680225a5\")) {                    Plotly.newPlot(                        \"8330f554-9e5a-42ab-96a8-dde6680225a5\",                        [{\"alignmentgroup\":\"True\",\"hovertemplate\":\"Museum=%{x}\\u003cbr\\u003eQuantity=%{y}\\u003cextra\\u003e\\u003c\\u002fextra\\u003e\",\"legendgroup\":\"\",\"marker\":{\"color\":\"#636efa\",\"pattern\":{\"shape\":\"\"}},\"name\":\"\",\"offsetgroup\":\"\",\"orientation\":\"v\",\"showlegend\":false,\"textposition\":\"auto\",\"x\":[\"The Metropolitan Museum of Art (MET)\",\"Museum of Modern Art (MoMA)\",\"Tate Modern\",\"The British Museum\",\"Mus\\u00e9e du Louvre\",\"Vatican\",\"Tokyo National Museum\",\"Forbidden City \\u002f The Palace Museum\",\"National Palace Museum\",\"National Museum of Anthropology\"],\"xaxis\":\"x\",\"y\":[1500000,200000,700000,8000000,497081,70000,120000,1863404,608985,600000],\"yaxis\":\"y\",\"type\":\"bar\"}],                        {\"template\":{\"data\":{\"barpolar\":[{\"marker\":{\"line\":{\"color\":\"white\",\"width\":0.5},\"pattern\":{\"fillmode\":\"overlay\",\"size\":10,\"solidity\":0.2}},\"type\":\"barpolar\"}],\"bar\":[{\"error_x\":{\"color\":\"#2a3f5f\"},\"error_y\":{\"color\":\"#2a3f5f\"},\"marker\":{\"line\":{\"color\":\"white\",\"width\":0.5},\"pattern\":{\"fillmode\":\"overlay\",\"size\":10,\"solidity\":0.2}},\"type\":\"bar\"}],\"carpet\":[{\"aaxis\":{\"endlinecolor\":\"#2a3f5f\",\"gridcolor\":\"#C8D4E3\",\"linecolor\":\"#C8D4E3\",\"minorgridcolor\":\"#C8D4E3\",\"startlinecolor\":\"#2a3f5f\"},\"baxis\":{\"endlinecolor\":\"#2a3f5f\",\"gridcolor\":\"#C8D4E3\",\"linecolor\":\"#C8D4E3\",\"minorgridcolor\":\"#C8D4E3\",\"startlinecolor\":\"#2a3f5f\"},\"type\":\"carpet\"}],\"choropleth\":[{\"colorbar\":{\"outlinewidth\":0,\"ticks\":\"\"},\"type\":\"choropleth\"}],\"contourcarpet\":[{\"colorbar\":{\"outlinewidth\":0,\"ticks\":\"\"},\"type\":\"contourcarpet\"}],\"contour\":[{\"colorbar\":{\"outlinewidth\":0,\"ticks\":\"\"},\"colorscale\":[[0.0,\"#0d0887\"],[0.1111111111111111,\"#46039f\"],[0.2222222222222222,\"#7201a8\"],[0.3333333333333333,\"#9c179e\"],[0.4444444444444444,\"#bd3786\"],[0.5555555555555556,\"#d8576b\"],[0.6666666666666666,\"#ed7953\"],[0.7777777777777778,\"#fb9f3a\"],[0.8888888888888888,\"#fdca26\"],[1.0,\"#f0f921\"]],\"type\":\"contour\"}],\"heatmapgl\":[{\"colorbar\":{\"outlinewidth\":0,\"ticks\":\"\"},\"colorscale\":[[0.0,\"#0d0887\"],[0.1111111111111111,\"#46039f\"],[0.2222222222222222,\"#7201a8\"],[0.3333333333333333,\"#9c179e\"],[0.4444444444444444,\"#bd3786\"],[0.5555555555555556,\"#d8576b\"],[0.6666666666666666,\"#ed7953\"],[0.7777777777777778,\"#fb9f3a\"],[0.8888888888888888,\"#fdca26\"],[1.0,\"#f0f921\"]],\"type\":\"heatmapgl\"}],\"heatmap\":[{\"colorbar\":{\"outlinewidth\":0,\"ticks\":\"\"},\"colorscale\":[[0.0,\"#0d0887\"],[0.1111111111111111,\"#46039f\"],[0.2222222222222222,\"#7201a8\"],[0.3333333333333333,\"#9c179e\"],[0.4444444444444444,\"#bd3786\"],[0.5555555555555556,\"#d8576b\"],[0.6666666666666666,\"#ed7953\"],[0.7777777777777778,\"#fb9f3a\"],[0.8888888888888888,\"#fdca26\"],[1.0,\"#f0f921\"]],\"type\":\"heatmap\"}],\"histogram2dcontour\":[{\"colorbar\":{\"outlinewidth\":0,\"ticks\":\"\"},\"colorscale\":[[0.0,\"#0d0887\"],[0.1111111111111111,\"#46039f\"],[0.2222222222222222,\"#7201a8\"],[0.3333333333333333,\"#9c179e\"],[0.4444444444444444,\"#bd3786\"],[0.5555555555555556,\"#d8576b\"],[0.6666666666666666,\"#ed7953\"],[0.7777777777777778,\"#fb9f3a\"],[0.8888888888888888,\"#fdca26\"],[1.0,\"#f0f921\"]],\"type\":\"histogram2dcontour\"}],\"histogram2d\":[{\"colorbar\":{\"outlinewidth\":0,\"ticks\":\"\"},\"colorscale\":[[0.0,\"#0d0887\"],[0.1111111111111111,\"#46039f\"],[0.2222222222222222,\"#7201a8\"],[0.3333333333333333,\"#9c179e\"],[0.4444444444444444,\"#bd3786\"],[0.5555555555555556,\"#d8576b\"],[0.6666666666666666,\"#ed7953\"],[0.7777777777777778,\"#fb9f3a\"],[0.8888888888888888,\"#fdca26\"],[1.0,\"#f0f921\"]],\"type\":\"histogram2d\"}],\"histogram\":[{\"marker\":{\"pattern\":{\"fillmode\":\"overlay\",\"size\":10,\"solidity\":0.2}},\"type\":\"histogram\"}],\"mesh3d\":[{\"colorbar\":{\"outlinewidth\":0,\"ticks\":\"\"},\"type\":\"mesh3d\"}],\"parcoords\":[{\"line\":{\"colorbar\":{\"outlinewidth\":0,\"ticks\":\"\"}},\"type\":\"parcoords\"}],\"pie\":[{\"automargin\":true,\"type\":\"pie\"}],\"scatter3d\":[{\"line\":{\"colorbar\":{\"outlinewidth\":0,\"ticks\":\"\"}},\"marker\":{\"colorbar\":{\"outlinewidth\":0,\"ticks\":\"\"}},\"type\":\"scatter3d\"}],\"scattercarpet\":[{\"marker\":{\"colorbar\":{\"outlinewidth\":0,\"ticks\":\"\"}},\"type\":\"scattercarpet\"}],\"scattergeo\":[{\"marker\":{\"colorbar\":{\"outlinewidth\":0,\"ticks\":\"\"}},\"type\":\"scattergeo\"}],\"scattergl\":[{\"marker\":{\"colorbar\":{\"outlinewidth\":0,\"ticks\":\"\"}},\"type\":\"scattergl\"}],\"scattermapbox\":[{\"marker\":{\"colorbar\":{\"outlinewidth\":0,\"ticks\":\"\"}},\"type\":\"scattermapbox\"}],\"scatterpolargl\":[{\"marker\":{\"colorbar\":{\"outlinewidth\":0,\"ticks\":\"\"}},\"type\":\"scatterpolargl\"}],\"scatterpolar\":[{\"marker\":{\"colorbar\":{\"outlinewidth\":0,\"ticks\":\"\"}},\"type\":\"scatterpolar\"}],\"scatter\":[{\"fillpattern\":{\"fillmode\":\"overlay\",\"size\":10,\"solidity\":0.2},\"type\":\"scatter\"}],\"scatterternary\":[{\"marker\":{\"colorbar\":{\"outlinewidth\":0,\"ticks\":\"\"}},\"type\":\"scatterternary\"}],\"surface\":[{\"colorbar\":{\"outlinewidth\":0,\"ticks\":\"\"},\"colorscale\":[[0.0,\"#0d0887\"],[0.1111111111111111,\"#46039f\"],[0.2222222222222222,\"#7201a8\"],[0.3333333333333333,\"#9c179e\"],[0.4444444444444444,\"#bd3786\"],[0.5555555555555556,\"#d8576b\"],[0.6666666666666666,\"#ed7953\"],[0.7777777777777778,\"#fb9f3a\"],[0.8888888888888888,\"#fdca26\"],[1.0,\"#f0f921\"]],\"type\":\"surface\"}],\"table\":[{\"cells\":{\"fill\":{\"color\":\"#EBF0F8\"},\"line\":{\"color\":\"white\"}},\"header\":{\"fill\":{\"color\":\"#C8D4E3\"},\"line\":{\"color\":\"white\"}},\"type\":\"table\"}]},\"layout\":{\"annotationdefaults\":{\"arrowcolor\":\"#2a3f5f\",\"arrowhead\":0,\"arrowwidth\":1},\"autotypenumbers\":\"strict\",\"coloraxis\":{\"colorbar\":{\"outlinewidth\":0,\"ticks\":\"\"}},\"colorscale\":{\"diverging\":[[0,\"#8e0152\"],[0.1,\"#c51b7d\"],[0.2,\"#de77ae\"],[0.3,\"#f1b6da\"],[0.4,\"#fde0ef\"],[0.5,\"#f7f7f7\"],[0.6,\"#e6f5d0\"],[0.7,\"#b8e186\"],[0.8,\"#7fbc41\"],[0.9,\"#4d9221\"],[1,\"#276419\"]],\"sequential\":[[0.0,\"#0d0887\"],[0.1111111111111111,\"#46039f\"],[0.2222222222222222,\"#7201a8\"],[0.3333333333333333,\"#9c179e\"],[0.4444444444444444,\"#bd3786\"],[0.5555555555555556,\"#d8576b\"],[0.6666666666666666,\"#ed7953\"],[0.7777777777777778,\"#fb9f3a\"],[0.8888888888888888,\"#fdca26\"],[1.0,\"#f0f921\"]],\"sequentialminus\":[[0.0,\"#0d0887\"],[0.1111111111111111,\"#46039f\"],[0.2222222222222222,\"#7201a8\"],[0.3333333333333333,\"#9c179e\"],[0.4444444444444444,\"#bd3786\"],[0.5555555555555556,\"#d8576b\"],[0.6666666666666666,\"#ed7953\"],[0.7777777777777778,\"#fb9f3a\"],[0.8888888888888888,\"#fdca26\"],[1.0,\"#f0f921\"]]},\"colorway\":[\"#636efa\",\"#EF553B\",\"#00cc96\",\"#ab63fa\",\"#FFA15A\",\"#19d3f3\",\"#FF6692\",\"#B6E880\",\"#FF97FF\",\"#FECB52\"],\"font\":{\"color\":\"#2a3f5f\"},\"geo\":{\"bgcolor\":\"white\",\"lakecolor\":\"white\",\"landcolor\":\"white\",\"showlakes\":true,\"showland\":true,\"subunitcolor\":\"#C8D4E3\"},\"hoverlabel\":{\"align\":\"left\"},\"hovermode\":\"closest\",\"mapbox\":{\"style\":\"light\"},\"paper_bgcolor\":\"white\",\"plot_bgcolor\":\"white\",\"polar\":{\"angularaxis\":{\"gridcolor\":\"#EBF0F8\",\"linecolor\":\"#EBF0F8\",\"ticks\":\"\"},\"bgcolor\":\"white\",\"radialaxis\":{\"gridcolor\":\"#EBF0F8\",\"linecolor\":\"#EBF0F8\",\"ticks\":\"\"}},\"scene\":{\"xaxis\":{\"backgroundcolor\":\"white\",\"gridcolor\":\"#DFE8F3\",\"gridwidth\":2,\"linecolor\":\"#EBF0F8\",\"showbackground\":true,\"ticks\":\"\",\"zerolinecolor\":\"#EBF0F8\"},\"yaxis\":{\"backgroundcolor\":\"white\",\"gridcolor\":\"#DFE8F3\",\"gridwidth\":2,\"linecolor\":\"#EBF0F8\",\"showbackground\":true,\"ticks\":\"\",\"zerolinecolor\":\"#EBF0F8\"},\"zaxis\":{\"backgroundcolor\":\"white\",\"gridcolor\":\"#DFE8F3\",\"gridwidth\":2,\"linecolor\":\"#EBF0F8\",\"showbackground\":true,\"ticks\":\"\",\"zerolinecolor\":\"#EBF0F8\"}},\"shapedefaults\":{\"line\":{\"color\":\"#2a3f5f\"}},\"ternary\":{\"aaxis\":{\"gridcolor\":\"#DFE8F3\",\"linecolor\":\"#A2B1C6\",\"ticks\":\"\"},\"baxis\":{\"gridcolor\":\"#DFE8F3\",\"linecolor\":\"#A2B1C6\",\"ticks\":\"\"},\"bgcolor\":\"white\",\"caxis\":{\"gridcolor\":\"#DFE8F3\",\"linecolor\":\"#A2B1C6\",\"ticks\":\"\"}},\"title\":{\"x\":0.05},\"xaxis\":{\"automargin\":true,\"gridcolor\":\"#EBF0F8\",\"linecolor\":\"#EBF0F8\",\"ticks\":\"\",\"title\":{\"standoff\":15},\"zerolinecolor\":\"#EBF0F8\",\"zerolinewidth\":2},\"yaxis\":{\"automargin\":true,\"gridcolor\":\"#EBF0F8\",\"linecolor\":\"#EBF0F8\",\"ticks\":\"\",\"title\":{\"standoff\":15},\"zerolinecolor\":\"#EBF0F8\",\"zerolinewidth\":2}}},\"xaxis\":{\"anchor\":\"y\",\"domain\":[0.0,1.0],\"title\":{\"text\":\"Museum\"}},\"yaxis\":{\"anchor\":\"x\",\"domain\":[0.0,1.0],\"title\":{\"text\":\"Quantity\"}},\"legend\":{\"tracegroupgap\":0},\"title\":{\"text\":\"Size of Collections at World Famous Museums (by Works)\"},\"barmode\":\"relative\",\"height\":700,\"width\":1000},                        {\"responsive\": true}                    ).then(function(){\n",
       "                            \n",
       "var gd = document.getElementById('8330f554-9e5a-42ab-96a8-dde6680225a5');\n",
       "var x = new MutationObserver(function (mutations, observer) {{\n",
       "        var display = window.getComputedStyle(gd).display;\n",
       "        if (!display || display === 'none') {{\n",
       "            console.log([gd, 'removed!']);\n",
       "            Plotly.purge(gd);\n",
       "            observer.disconnect();\n",
       "        }}\n",
       "}});\n",
       "\n",
       "// Listen for the removal of the full notebook cells\n",
       "var notebookContainer = gd.closest('#notebook-container');\n",
       "if (notebookContainer) {{\n",
       "    x.observe(notebookContainer, {childList: true});\n",
       "}}\n",
       "\n",
       "// Listen for the clearing of the current output cell\n",
       "var outputEl = gd.closest('.output');\n",
       "if (outputEl) {{\n",
       "    x.observe(outputEl, {childList: true});\n",
       "}}\n",
       "\n",
       "                        })                };                });            </script>        </div>"
      ]
     },
     "metadata": {},
     "output_type": "display_data"
    }
   ],
   "source": [
    "fig = px.bar(world_museums, x='Museum', y='Quantity', \n",
    "             title='Size of Collections at World Famous Museums (by Works)', \n",
    "             height=700, width=1000,\n",
    "             template=\"plotly_white\")\n",
    "fig.show()\n",
    "\n"
   ]
  },
  {
   "cell_type": "markdown",
   "metadata": {
    "tags": []
   },
   "source": [
    "# 1. MET & MoMA's Open Access Digital Collection\n",
    "\n",
    "https://github.com/MuseumofModernArt \n",
    "\n",
    "https://github.com/metmuseum/openaccess\n"
   ]
  },
  {
   "cell_type": "code",
   "execution_count": 438,
   "metadata": {
    "tags": []
   },
   "outputs": [
    {
     "name": "stderr",
     "output_type": "stream",
     "text": [
      "/var/folders/q3/y0zpvj752qg3_3nvpkx6v2300000gn/T/ipykernel_14921/3272275578.py:2: DtypeWarning:\n",
      "\n",
      "Columns (5,7,10,11,12,13,14,34,35,36,37,38,39,40,41,42,43,44,45,46) have mixed types. Specify dtype option on import or set low_memory=False.\n",
      "\n"
     ]
    }
   ],
   "source": [
    "# Load Data\n",
    "met = pd.read_csv(\"./Final_Data/MetObjects.txt\")\n",
    "moma_artist = pd.read_csv(\"./Final_Data/Moma_Artists.txt\")\n",
    "moma_artwork = pd.read_csv(\"./Final_Data/Moma_artworks.txt\")"
   ]
  },
  {
   "cell_type": "markdown",
   "metadata": {
    "tags": []
   },
   "source": [
    "## 1.1 Department Breakdown"
   ]
  },
  {
   "cell_type": "code",
   "execution_count": 439,
   "metadata": {
    "tags": []
   },
   "outputs": [],
   "source": [
    "met_dept = pd.DataFrame(met.groupby(['Department']).size()).reset_index()\n",
    "met_dept = met_dept.rename(columns={met_dept.columns[1]: 'Counts'})\n",
    "moma_dept = pd.DataFrame(moma_artwork.groupby(['Department']).size()).reset_index()\n",
    "moma_dept = moma_dept.rename(columns={moma_dept.columns[1]: 'Counts'})"
   ]
  },
  {
   "cell_type": "code",
   "execution_count": 440,
   "metadata": {
    "tags": []
   },
   "outputs": [
    {
     "data": {
      "application/vnd.plotly.v1+json": {
       "config": {
        "plotlyServerURL": "https://plot.ly"
       },
       "data": [
        {
         "marker": {
          "color": "#E81D2E"
         },
         "name": "Met Dept",
         "type": "bar",
         "visible": true,
         "x": [
          "Ancient Near Eastern Art",
          "Arms and Armor",
          "Arts of Africa, Oceania, and the Americas",
          "Asian Art",
          "Costume Institute",
          "Drawings and Prints",
          "Egyptian Art",
          "European Paintings",
          "European Sculpture and Decorative Arts",
          "Greek and Roman Art",
          "Islamic Art",
          "Medieval Art",
          "Modern and Contemporary Art",
          "Musical Instruments",
          "Photographs",
          "Robert Lehman Collection",
          "The American Wing",
          "The Cloisters",
          "The Libraries"
         ],
         "y": [
          6223,
          13623,
          12367,
          37000,
          31652,
          172630,
          27969,
          2626,
          43051,
          33726,
          15573,
          7142,
          14696,
          5227,
          37459,
          2586,
          18532,
          2340,
          534
         ]
        },
        {
         "marker": {
          "color": "Black"
         },
         "name": "MoMA Dept",
         "type": "bar",
         "visible": false,
         "x": [
          "Architecture & Design",
          "Architecture & Design - Image Archive",
          "Drawings & Prints",
          "Film",
          "Fluxus Collection",
          "Media and Performance",
          "Painting & Sculpture",
          "Photography"
         ],
         "y": [
          20237,
          30,
          77791,
          874,
          1938,
          3006,
          3981,
          32991
         ]
        }
       ],
       "layout": {
        "annotations": [],
        "autosize": true,
        "template": {
         "data": {
          "bar": [
           {
            "error_x": {
             "color": "#2a3f5f"
            },
            "error_y": {
             "color": "#2a3f5f"
            },
            "marker": {
             "line": {
              "color": "white",
              "width": 0.5
             },
             "pattern": {
              "fillmode": "overlay",
              "size": 10,
              "solidity": 0.2
             }
            },
            "type": "bar"
           }
          ],
          "barpolar": [
           {
            "marker": {
             "line": {
              "color": "white",
              "width": 0.5
             },
             "pattern": {
              "fillmode": "overlay",
              "size": 10,
              "solidity": 0.2
             }
            },
            "type": "barpolar"
           }
          ],
          "carpet": [
           {
            "aaxis": {
             "endlinecolor": "#2a3f5f",
             "gridcolor": "#C8D4E3",
             "linecolor": "#C8D4E3",
             "minorgridcolor": "#C8D4E3",
             "startlinecolor": "#2a3f5f"
            },
            "baxis": {
             "endlinecolor": "#2a3f5f",
             "gridcolor": "#C8D4E3",
             "linecolor": "#C8D4E3",
             "minorgridcolor": "#C8D4E3",
             "startlinecolor": "#2a3f5f"
            },
            "type": "carpet"
           }
          ],
          "choropleth": [
           {
            "colorbar": {
             "outlinewidth": 0,
             "ticks": ""
            },
            "type": "choropleth"
           }
          ],
          "contour": [
           {
            "colorbar": {
             "outlinewidth": 0,
             "ticks": ""
            },
            "colorscale": [
             [
              0,
              "#0d0887"
             ],
             [
              0.1111111111111111,
              "#46039f"
             ],
             [
              0.2222222222222222,
              "#7201a8"
             ],
             [
              0.3333333333333333,
              "#9c179e"
             ],
             [
              0.4444444444444444,
              "#bd3786"
             ],
             [
              0.5555555555555556,
              "#d8576b"
             ],
             [
              0.6666666666666666,
              "#ed7953"
             ],
             [
              0.7777777777777778,
              "#fb9f3a"
             ],
             [
              0.8888888888888888,
              "#fdca26"
             ],
             [
              1,
              "#f0f921"
             ]
            ],
            "type": "contour"
           }
          ],
          "contourcarpet": [
           {
            "colorbar": {
             "outlinewidth": 0,
             "ticks": ""
            },
            "type": "contourcarpet"
           }
          ],
          "heatmap": [
           {
            "colorbar": {
             "outlinewidth": 0,
             "ticks": ""
            },
            "colorscale": [
             [
              0,
              "#0d0887"
             ],
             [
              0.1111111111111111,
              "#46039f"
             ],
             [
              0.2222222222222222,
              "#7201a8"
             ],
             [
              0.3333333333333333,
              "#9c179e"
             ],
             [
              0.4444444444444444,
              "#bd3786"
             ],
             [
              0.5555555555555556,
              "#d8576b"
             ],
             [
              0.6666666666666666,
              "#ed7953"
             ],
             [
              0.7777777777777778,
              "#fb9f3a"
             ],
             [
              0.8888888888888888,
              "#fdca26"
             ],
             [
              1,
              "#f0f921"
             ]
            ],
            "type": "heatmap"
           }
          ],
          "heatmapgl": [
           {
            "colorbar": {
             "outlinewidth": 0,
             "ticks": ""
            },
            "colorscale": [
             [
              0,
              "#0d0887"
             ],
             [
              0.1111111111111111,
              "#46039f"
             ],
             [
              0.2222222222222222,
              "#7201a8"
             ],
             [
              0.3333333333333333,
              "#9c179e"
             ],
             [
              0.4444444444444444,
              "#bd3786"
             ],
             [
              0.5555555555555556,
              "#d8576b"
             ],
             [
              0.6666666666666666,
              "#ed7953"
             ],
             [
              0.7777777777777778,
              "#fb9f3a"
             ],
             [
              0.8888888888888888,
              "#fdca26"
             ],
             [
              1,
              "#f0f921"
             ]
            ],
            "type": "heatmapgl"
           }
          ],
          "histogram": [
           {
            "marker": {
             "pattern": {
              "fillmode": "overlay",
              "size": 10,
              "solidity": 0.2
             }
            },
            "type": "histogram"
           }
          ],
          "histogram2d": [
           {
            "colorbar": {
             "outlinewidth": 0,
             "ticks": ""
            },
            "colorscale": [
             [
              0,
              "#0d0887"
             ],
             [
              0.1111111111111111,
              "#46039f"
             ],
             [
              0.2222222222222222,
              "#7201a8"
             ],
             [
              0.3333333333333333,
              "#9c179e"
             ],
             [
              0.4444444444444444,
              "#bd3786"
             ],
             [
              0.5555555555555556,
              "#d8576b"
             ],
             [
              0.6666666666666666,
              "#ed7953"
             ],
             [
              0.7777777777777778,
              "#fb9f3a"
             ],
             [
              0.8888888888888888,
              "#fdca26"
             ],
             [
              1,
              "#f0f921"
             ]
            ],
            "type": "histogram2d"
           }
          ],
          "histogram2dcontour": [
           {
            "colorbar": {
             "outlinewidth": 0,
             "ticks": ""
            },
            "colorscale": [
             [
              0,
              "#0d0887"
             ],
             [
              0.1111111111111111,
              "#46039f"
             ],
             [
              0.2222222222222222,
              "#7201a8"
             ],
             [
              0.3333333333333333,
              "#9c179e"
             ],
             [
              0.4444444444444444,
              "#bd3786"
             ],
             [
              0.5555555555555556,
              "#d8576b"
             ],
             [
              0.6666666666666666,
              "#ed7953"
             ],
             [
              0.7777777777777778,
              "#fb9f3a"
             ],
             [
              0.8888888888888888,
              "#fdca26"
             ],
             [
              1,
              "#f0f921"
             ]
            ],
            "type": "histogram2dcontour"
           }
          ],
          "mesh3d": [
           {
            "colorbar": {
             "outlinewidth": 0,
             "ticks": ""
            },
            "type": "mesh3d"
           }
          ],
          "parcoords": [
           {
            "line": {
             "colorbar": {
              "outlinewidth": 0,
              "ticks": ""
             }
            },
            "type": "parcoords"
           }
          ],
          "pie": [
           {
            "automargin": true,
            "type": "pie"
           }
          ],
          "scatter": [
           {
            "fillpattern": {
             "fillmode": "overlay",
             "size": 10,
             "solidity": 0.2
            },
            "type": "scatter"
           }
          ],
          "scatter3d": [
           {
            "line": {
             "colorbar": {
              "outlinewidth": 0,
              "ticks": ""
             }
            },
            "marker": {
             "colorbar": {
              "outlinewidth": 0,
              "ticks": ""
             }
            },
            "type": "scatter3d"
           }
          ],
          "scattercarpet": [
           {
            "marker": {
             "colorbar": {
              "outlinewidth": 0,
              "ticks": ""
             }
            },
            "type": "scattercarpet"
           }
          ],
          "scattergeo": [
           {
            "marker": {
             "colorbar": {
              "outlinewidth": 0,
              "ticks": ""
             }
            },
            "type": "scattergeo"
           }
          ],
          "scattergl": [
           {
            "marker": {
             "colorbar": {
              "outlinewidth": 0,
              "ticks": ""
             }
            },
            "type": "scattergl"
           }
          ],
          "scattermapbox": [
           {
            "marker": {
             "colorbar": {
              "outlinewidth": 0,
              "ticks": ""
             }
            },
            "type": "scattermapbox"
           }
          ],
          "scatterpolar": [
           {
            "marker": {
             "colorbar": {
              "outlinewidth": 0,
              "ticks": ""
             }
            },
            "type": "scatterpolar"
           }
          ],
          "scatterpolargl": [
           {
            "marker": {
             "colorbar": {
              "outlinewidth": 0,
              "ticks": ""
             }
            },
            "type": "scatterpolargl"
           }
          ],
          "scatterternary": [
           {
            "marker": {
             "colorbar": {
              "outlinewidth": 0,
              "ticks": ""
             }
            },
            "type": "scatterternary"
           }
          ],
          "surface": [
           {
            "colorbar": {
             "outlinewidth": 0,
             "ticks": ""
            },
            "colorscale": [
             [
              0,
              "#0d0887"
             ],
             [
              0.1111111111111111,
              "#46039f"
             ],
             [
              0.2222222222222222,
              "#7201a8"
             ],
             [
              0.3333333333333333,
              "#9c179e"
             ],
             [
              0.4444444444444444,
              "#bd3786"
             ],
             [
              0.5555555555555556,
              "#d8576b"
             ],
             [
              0.6666666666666666,
              "#ed7953"
             ],
             [
              0.7777777777777778,
              "#fb9f3a"
             ],
             [
              0.8888888888888888,
              "#fdca26"
             ],
             [
              1,
              "#f0f921"
             ]
            ],
            "type": "surface"
           }
          ],
          "table": [
           {
            "cells": {
             "fill": {
              "color": "#EBF0F8"
             },
             "line": {
              "color": "white"
             }
            },
            "header": {
             "fill": {
              "color": "#C8D4E3"
             },
             "line": {
              "color": "white"
             }
            },
            "type": "table"
           }
          ]
         },
         "layout": {
          "annotationdefaults": {
           "arrowcolor": "#2a3f5f",
           "arrowhead": 0,
           "arrowwidth": 1
          },
          "autotypenumbers": "strict",
          "coloraxis": {
           "colorbar": {
            "outlinewidth": 0,
            "ticks": ""
           }
          },
          "colorscale": {
           "diverging": [
            [
             0,
             "#8e0152"
            ],
            [
             0.1,
             "#c51b7d"
            ],
            [
             0.2,
             "#de77ae"
            ],
            [
             0.3,
             "#f1b6da"
            ],
            [
             0.4,
             "#fde0ef"
            ],
            [
             0.5,
             "#f7f7f7"
            ],
            [
             0.6,
             "#e6f5d0"
            ],
            [
             0.7,
             "#b8e186"
            ],
            [
             0.8,
             "#7fbc41"
            ],
            [
             0.9,
             "#4d9221"
            ],
            [
             1,
             "#276419"
            ]
           ],
           "sequential": [
            [
             0,
             "#0d0887"
            ],
            [
             0.1111111111111111,
             "#46039f"
            ],
            [
             0.2222222222222222,
             "#7201a8"
            ],
            [
             0.3333333333333333,
             "#9c179e"
            ],
            [
             0.4444444444444444,
             "#bd3786"
            ],
            [
             0.5555555555555556,
             "#d8576b"
            ],
            [
             0.6666666666666666,
             "#ed7953"
            ],
            [
             0.7777777777777778,
             "#fb9f3a"
            ],
            [
             0.8888888888888888,
             "#fdca26"
            ],
            [
             1,
             "#f0f921"
            ]
           ],
           "sequentialminus": [
            [
             0,
             "#0d0887"
            ],
            [
             0.1111111111111111,
             "#46039f"
            ],
            [
             0.2222222222222222,
             "#7201a8"
            ],
            [
             0.3333333333333333,
             "#9c179e"
            ],
            [
             0.4444444444444444,
             "#bd3786"
            ],
            [
             0.5555555555555556,
             "#d8576b"
            ],
            [
             0.6666666666666666,
             "#ed7953"
            ],
            [
             0.7777777777777778,
             "#fb9f3a"
            ],
            [
             0.8888888888888888,
             "#fdca26"
            ],
            [
             1,
             "#f0f921"
            ]
           ]
          },
          "colorway": [
           "#636efa",
           "#EF553B",
           "#00cc96",
           "#ab63fa",
           "#FFA15A",
           "#19d3f3",
           "#FF6692",
           "#B6E880",
           "#FF97FF",
           "#FECB52"
          ],
          "font": {
           "color": "#2a3f5f"
          },
          "geo": {
           "bgcolor": "white",
           "lakecolor": "white",
           "landcolor": "white",
           "showlakes": true,
           "showland": true,
           "subunitcolor": "#C8D4E3"
          },
          "hoverlabel": {
           "align": "left"
          },
          "hovermode": "closest",
          "mapbox": {
           "style": "light"
          },
          "paper_bgcolor": "white",
          "plot_bgcolor": "white",
          "polar": {
           "angularaxis": {
            "gridcolor": "#EBF0F8",
            "linecolor": "#EBF0F8",
            "ticks": ""
           },
           "bgcolor": "white",
           "radialaxis": {
            "gridcolor": "#EBF0F8",
            "linecolor": "#EBF0F8",
            "ticks": ""
           }
          },
          "scene": {
           "xaxis": {
            "backgroundcolor": "white",
            "gridcolor": "#DFE8F3",
            "gridwidth": 2,
            "linecolor": "#EBF0F8",
            "showbackground": true,
            "ticks": "",
            "zerolinecolor": "#EBF0F8"
           },
           "yaxis": {
            "backgroundcolor": "white",
            "gridcolor": "#DFE8F3",
            "gridwidth": 2,
            "linecolor": "#EBF0F8",
            "showbackground": true,
            "ticks": "",
            "zerolinecolor": "#EBF0F8"
           },
           "zaxis": {
            "backgroundcolor": "white",
            "gridcolor": "#DFE8F3",
            "gridwidth": 2,
            "linecolor": "#EBF0F8",
            "showbackground": true,
            "ticks": "",
            "zerolinecolor": "#EBF0F8"
           }
          },
          "shapedefaults": {
           "line": {
            "color": "#2a3f5f"
           }
          },
          "ternary": {
           "aaxis": {
            "gridcolor": "#DFE8F3",
            "linecolor": "#A2B1C6",
            "ticks": ""
           },
           "baxis": {
            "gridcolor": "#DFE8F3",
            "linecolor": "#A2B1C6",
            "ticks": ""
           },
           "bgcolor": "white",
           "caxis": {
            "gridcolor": "#DFE8F3",
            "linecolor": "#A2B1C6",
            "ticks": ""
           }
          },
          "title": {
           "x": 0.05
          },
          "xaxis": {
           "automargin": true,
           "gridcolor": "#EBF0F8",
           "linecolor": "#EBF0F8",
           "ticks": "",
           "title": {
            "standoff": 15
           },
           "zerolinecolor": "#EBF0F8",
           "zerolinewidth": 2
          },
          "yaxis": {
           "automargin": true,
           "gridcolor": "#EBF0F8",
           "linecolor": "#EBF0F8",
           "ticks": "",
           "title": {
            "standoff": 15
           },
           "zerolinecolor": "#EBF0F8",
           "zerolinewidth": 2
          }
         }
        },
        "title": {
         "text": "Metropolitan Museum of Art Department Breakdown"
        },
        "updatemenus": [
         {
          "active": 0,
          "buttons": [
           {
            "args": [
             {
              "visible": [
               true,
               false
              ]
             },
             {
              "annotations": [],
              "title": "Metropolitan Museum of Art Department Breakdown"
             }
            ],
            "label": "Met",
            "method": "update"
           },
           {
            "args": [
             {
              "visible": [
               false,
               true
              ]
             },
             {
              "annotations": [],
              "title": "Modern Museum of Art Department Breakdown"
             }
            ],
            "label": "MoMA",
            "method": "update"
           }
          ]
         }
        ],
        "xaxis": {
         "autorange": true,
         "range": [
          -0.5,
          18.5
         ],
         "type": "category"
        },
        "yaxis": {
         "autorange": true,
         "range": [
          0,
          181715.7894736842
         ],
         "type": "linear"
        }
       }
      },
      "image/png": "[encoded data removed]",
      "text/html": [
       "<div>                            <div id=\"1ece69b1-42da-4e7c-a6f3-7efcd2929124\" class=\"plotly-graph-div\" style=\"height:700px; width:100%;\"></div>            <script type=\"text/javascript\">                require([\"plotly\"], function(Plotly) {                    window.PLOTLYENV=window.PLOTLYENV || {};                                    if (document.getElementById(\"1ece69b1-42da-4e7c-a6f3-7efcd2929124\")) {                    Plotly.newPlot(                        \"1ece69b1-42da-4e7c-a6f3-7efcd2929124\",                        [{\"marker\":{\"color\":\"#E81D2E\"},\"name\":\"Met Dept\",\"x\":[\"Ancient Near Eastern Art\",\"Arms and Armor\",\"Arts of Africa, Oceania, and the Americas\",\"Asian Art\",\"Costume Institute\",\"Drawings and Prints\",\"Egyptian Art\",\"European Paintings\",\"European Sculpture and Decorative Arts\",\"Greek and Roman Art\",\"Islamic Art\",\"Medieval Art\",\"Modern and Contemporary Art\",\"Musical Instruments\",\"Photographs\",\"Robert Lehman Collection\",\"The American Wing\",\"The Cloisters\",\"The Libraries\"],\"y\":[6223,13623,12367,37000,31652,172630,27969,2626,43051,33726,15573,7142,14696,5227,37459,2586,18532,2340,534],\"type\":\"bar\"},{\"marker\":{\"color\":\"Black\"},\"name\":\"MoMA Dept\",\"x\":[\"Architecture & Design\",\"Architecture & Design - Image Archive\",\"Drawings & Prints\",\"Film\",\"Fluxus Collection\",\"Media and Performance\",\"Painting & Sculpture\",\"Photography\"],\"y\":[20237,30,77791,874,1938,3006,3981,32991],\"type\":\"bar\"}],                        {\"template\":{\"data\":{\"barpolar\":[{\"marker\":{\"line\":{\"color\":\"white\",\"width\":0.5},\"pattern\":{\"fillmode\":\"overlay\",\"size\":10,\"solidity\":0.2}},\"type\":\"barpolar\"}],\"bar\":[{\"error_x\":{\"color\":\"#2a3f5f\"},\"error_y\":{\"color\":\"#2a3f5f\"},\"marker\":{\"line\":{\"color\":\"white\",\"width\":0.5},\"pattern\":{\"fillmode\":\"overlay\",\"size\":10,\"solidity\":0.2}},\"type\":\"bar\"}],\"carpet\":[{\"aaxis\":{\"endlinecolor\":\"#2a3f5f\",\"gridcolor\":\"#C8D4E3\",\"linecolor\":\"#C8D4E3\",\"minorgridcolor\":\"#C8D4E3\",\"startlinecolor\":\"#2a3f5f\"},\"baxis\":{\"endlinecolor\":\"#2a3f5f\",\"gridcolor\":\"#C8D4E3\",\"linecolor\":\"#C8D4E3\",\"minorgridcolor\":\"#C8D4E3\",\"startlinecolor\":\"#2a3f5f\"},\"type\":\"carpet\"}],\"choropleth\":[{\"colorbar\":{\"outlinewidth\":0,\"ticks\":\"\"},\"type\":\"choropleth\"}],\"contourcarpet\":[{\"colorbar\":{\"outlinewidth\":0,\"ticks\":\"\"},\"type\":\"contourcarpet\"}],\"contour\":[{\"colorbar\":{\"outlinewidth\":0,\"ticks\":\"\"},\"colorscale\":[[0.0,\"#0d0887\"],[0.1111111111111111,\"#46039f\"],[0.2222222222222222,\"#7201a8\"],[0.3333333333333333,\"#9c179e\"],[0.4444444444444444,\"#bd3786\"],[0.5555555555555556,\"#d8576b\"],[0.6666666666666666,\"#ed7953\"],[0.7777777777777778,\"#fb9f3a\"],[0.8888888888888888,\"#fdca26\"],[1.0,\"#f0f921\"]],\"type\":\"contour\"}],\"heatmapgl\":[{\"colorbar\":{\"outlinewidth\":0,\"ticks\":\"\"},\"colorscale\":[[0.0,\"#0d0887\"],[0.1111111111111111,\"#46039f\"],[0.2222222222222222,\"#7201a8\"],[0.3333333333333333,\"#9c179e\"],[0.4444444444444444,\"#bd3786\"],[0.5555555555555556,\"#d8576b\"],[0.6666666666666666,\"#ed7953\"],[0.7777777777777778,\"#fb9f3a\"],[0.8888888888888888,\"#fdca26\"],[1.0,\"#f0f921\"]],\"type\":\"heatmapgl\"}],\"heatmap\":[{\"colorbar\":{\"outlinewidth\":0,\"ticks\":\"\"},\"colorscale\":[[0.0,\"#0d0887\"],[0.1111111111111111,\"#46039f\"],[0.2222222222222222,\"#7201a8\"],[0.3333333333333333,\"#9c179e\"],[0.4444444444444444,\"#bd3786\"],[0.5555555555555556,\"#d8576b\"],[0.6666666666666666,\"#ed7953\"],[0.7777777777777778,\"#fb9f3a\"],[0.8888888888888888,\"#fdca26\"],[1.0,\"#f0f921\"]],\"type\":\"heatmap\"}],\"histogram2dcontour\":[{\"colorbar\":{\"outlinewidth\":0,\"ticks\":\"\"},\"colorscale\":[[0.0,\"#0d0887\"],[0.1111111111111111,\"#46039f\"],[0.2222222222222222,\"#7201a8\"],[0.3333333333333333,\"#9c179e\"],[0.4444444444444444,\"#bd3786\"],[0.5555555555555556,\"#d8576b\"],[0.6666666666666666,\"#ed7953\"],[0.7777777777777778,\"#fb9f3a\"],[0.8888888888888888,\"#fdca26\"],[1.0,\"#f0f921\"]],\"type\":\"histogram2dcontour\"}],\"histogram2d\":[{\"colorbar\":{\"outlinewidth\":0,\"ticks\":\"\"},\"colorscale\":[[0.0,\"#0d0887\"],[0.1111111111111111,\"#46039f\"],[0.2222222222222222,\"#7201a8\"],[0.3333333333333333,\"#9c179e\"],[0.4444444444444444,\"#bd3786\"],[0.5555555555555556,\"#d8576b\"],[0.6666666666666666,\"#ed7953\"],[0.7777777777777778,\"#fb9f3a\"],[0.8888888888888888,\"#fdca26\"],[1.0,\"#f0f921\"]],\"type\":\"histogram2d\"}],\"histogram\":[{\"marker\":{\"pattern\":{\"fillmode\":\"overlay\",\"size\":10,\"solidity\":0.2}},\"type\":\"histogram\"}],\"mesh3d\":[{\"colorbar\":{\"outlinewidth\":0,\"ticks\":\"\"},\"type\":\"mesh3d\"}],\"parcoords\":[{\"line\":{\"colorbar\":{\"outlinewidth\":0,\"ticks\":\"\"}},\"type\":\"parcoords\"}],\"pie\":[{\"automargin\":true,\"type\":\"pie\"}],\"scatter3d\":[{\"line\":{\"colorbar\":{\"outlinewidth\":0,\"ticks\":\"\"}},\"marker\":{\"colorbar\":{\"outlinewidth\":0,\"ticks\":\"\"}},\"type\":\"scatter3d\"}],\"scattercarpet\":[{\"marker\":{\"colorbar\":{\"outlinewidth\":0,\"ticks\":\"\"}},\"type\":\"scattercarpet\"}],\"scattergeo\":[{\"marker\":{\"colorbar\":{\"outlinewidth\":0,\"ticks\":\"\"}},\"type\":\"scattergeo\"}],\"scattergl\":[{\"marker\":{\"colorbar\":{\"outlinewidth\":0,\"ticks\":\"\"}},\"type\":\"scattergl\"}],\"scattermapbox\":[{\"marker\":{\"colorbar\":{\"outlinewidth\":0,\"ticks\":\"\"}},\"type\":\"scattermapbox\"}],\"scatterpolargl\":[{\"marker\":{\"colorbar\":{\"outlinewidth\":0,\"ticks\":\"\"}},\"type\":\"scatterpolargl\"}],\"scatterpolar\":[{\"marker\":{\"colorbar\":{\"outlinewidth\":0,\"ticks\":\"\"}},\"type\":\"scatterpolar\"}],\"scatter\":[{\"fillpattern\":{\"fillmode\":\"overlay\",\"size\":10,\"solidity\":0.2},\"type\":\"scatter\"}],\"scatterternary\":[{\"marker\":{\"colorbar\":{\"outlinewidth\":0,\"ticks\":\"\"}},\"type\":\"scatterternary\"}],\"surface\":[{\"colorbar\":{\"outlinewidth\":0,\"ticks\":\"\"},\"colorscale\":[[0.0,\"#0d0887\"],[0.1111111111111111,\"#46039f\"],[0.2222222222222222,\"#7201a8\"],[0.3333333333333333,\"#9c179e\"],[0.4444444444444444,\"#bd3786\"],[0.5555555555555556,\"#d8576b\"],[0.6666666666666666,\"#ed7953\"],[0.7777777777777778,\"#fb9f3a\"],[0.8888888888888888,\"#fdca26\"],[1.0,\"#f0f921\"]],\"type\":\"surface\"}],\"table\":[{\"cells\":{\"fill\":{\"color\":\"#EBF0F8\"},\"line\":{\"color\":\"white\"}},\"header\":{\"fill\":{\"color\":\"#C8D4E3\"},\"line\":{\"color\":\"white\"}},\"type\":\"table\"}]},\"layout\":{\"annotationdefaults\":{\"arrowcolor\":\"#2a3f5f\",\"arrowhead\":0,\"arrowwidth\":1},\"autotypenumbers\":\"strict\",\"coloraxis\":{\"colorbar\":{\"outlinewidth\":0,\"ticks\":\"\"}},\"colorscale\":{\"diverging\":[[0,\"#8e0152\"],[0.1,\"#c51b7d\"],[0.2,\"#de77ae\"],[0.3,\"#f1b6da\"],[0.4,\"#fde0ef\"],[0.5,\"#f7f7f7\"],[0.6,\"#e6f5d0\"],[0.7,\"#b8e186\"],[0.8,\"#7fbc41\"],[0.9,\"#4d9221\"],[1,\"#276419\"]],\"sequential\":[[0.0,\"#0d0887\"],[0.1111111111111111,\"#46039f\"],[0.2222222222222222,\"#7201a8\"],[0.3333333333333333,\"#9c179e\"],[0.4444444444444444,\"#bd3786\"],[0.5555555555555556,\"#d8576b\"],[0.6666666666666666,\"#ed7953\"],[0.7777777777777778,\"#fb9f3a\"],[0.8888888888888888,\"#fdca26\"],[1.0,\"#f0f921\"]],\"sequentialminus\":[[0.0,\"#0d0887\"],[0.1111111111111111,\"#46039f\"],[0.2222222222222222,\"#7201a8\"],[0.3333333333333333,\"#9c179e\"],[0.4444444444444444,\"#bd3786\"],[0.5555555555555556,\"#d8576b\"],[0.6666666666666666,\"#ed7953\"],[0.7777777777777778,\"#fb9f3a\"],[0.8888888888888888,\"#fdca26\"],[1.0,\"#f0f921\"]]},\"colorway\":[\"#636efa\",\"#EF553B\",\"#00cc96\",\"#ab63fa\",\"#FFA15A\",\"#19d3f3\",\"#FF6692\",\"#B6E880\",\"#FF97FF\",\"#FECB52\"],\"font\":{\"color\":\"#2a3f5f\"},\"geo\":{\"bgcolor\":\"white\",\"lakecolor\":\"white\",\"landcolor\":\"white\",\"showlakes\":true,\"showland\":true,\"subunitcolor\":\"#C8D4E3\"},\"hoverlabel\":{\"align\":\"left\"},\"hovermode\":\"closest\",\"mapbox\":{\"style\":\"light\"},\"paper_bgcolor\":\"white\",\"plot_bgcolor\":\"white\",\"polar\":{\"angularaxis\":{\"gridcolor\":\"#EBF0F8\",\"linecolor\":\"#EBF0F8\",\"ticks\":\"\"},\"bgcolor\":\"white\",\"radialaxis\":{\"gridcolor\":\"#EBF0F8\",\"linecolor\":\"#EBF0F8\",\"ticks\":\"\"}},\"scene\":{\"xaxis\":{\"backgroundcolor\":\"white\",\"gridcolor\":\"#DFE8F3\",\"gridwidth\":2,\"linecolor\":\"#EBF0F8\",\"showbackground\":true,\"ticks\":\"\",\"zerolinecolor\":\"#EBF0F8\"},\"yaxis\":{\"backgroundcolor\":\"white\",\"gridcolor\":\"#DFE8F3\",\"gridwidth\":2,\"linecolor\":\"#EBF0F8\",\"showbackground\":true,\"ticks\":\"\",\"zerolinecolor\":\"#EBF0F8\"},\"zaxis\":{\"backgroundcolor\":\"white\",\"gridcolor\":\"#DFE8F3\",\"gridwidth\":2,\"linecolor\":\"#EBF0F8\",\"showbackground\":true,\"ticks\":\"\",\"zerolinecolor\":\"#EBF0F8\"}},\"shapedefaults\":{\"line\":{\"color\":\"#2a3f5f\"}},\"ternary\":{\"aaxis\":{\"gridcolor\":\"#DFE8F3\",\"linecolor\":\"#A2B1C6\",\"ticks\":\"\"},\"baxis\":{\"gridcolor\":\"#DFE8F3\",\"linecolor\":\"#A2B1C6\",\"ticks\":\"\"},\"bgcolor\":\"white\",\"caxis\":{\"gridcolor\":\"#DFE8F3\",\"linecolor\":\"#A2B1C6\",\"ticks\":\"\"}},\"title\":{\"x\":0.05},\"xaxis\":{\"automargin\":true,\"gridcolor\":\"#EBF0F8\",\"linecolor\":\"#EBF0F8\",\"ticks\":\"\",\"title\":{\"standoff\":15},\"zerolinecolor\":\"#EBF0F8\",\"zerolinewidth\":2},\"yaxis\":{\"automargin\":true,\"gridcolor\":\"#EBF0F8\",\"linecolor\":\"#EBF0F8\",\"ticks\":\"\",\"title\":{\"standoff\":15},\"zerolinecolor\":\"#EBF0F8\",\"zerolinewidth\":2}}},\"updatemenus\":[{\"active\":0,\"buttons\":[{\"args\":[{\"visible\":[true,false]},{\"title\":\"Metropolitan Museum of Art Department Breakdown\",\"annotations\":[]}],\"label\":\"Met\",\"method\":\"update\"},{\"args\":[{\"visible\":[false,true]},{\"title\":\"Modern Museum of Art Department Breakdown\",\"annotations\":[]}],\"label\":\"MoMA\",\"method\":\"update\"}]}],\"title\":{\"text\":\"Number of Objects Held by Departments at Museums\"},\"height\":700},                        {\"responsive\": true}                    ).then(function(){\n",
       "                            \n",
       "var gd = document.getElementById('1ece69b1-42da-4e7c-a6f3-7efcd2929124');\n",
       "var x = new MutationObserver(function (mutations, observer) {{\n",
       "        var display = window.getComputedStyle(gd).display;\n",
       "        if (!display || display === 'none') {{\n",
       "            console.log([gd, 'removed!']);\n",
       "            Plotly.purge(gd);\n",
       "            observer.disconnect();\n",
       "        }}\n",
       "}});\n",
       "\n",
       "// Listen for the removal of the full notebook cells\n",
       "var notebookContainer = gd.closest('#notebook-container');\n",
       "if (notebookContainer) {{\n",
       "    x.observe(notebookContainer, {childList: true});\n",
       "}}\n",
       "\n",
       "// Listen for the clearing of the current output cell\n",
       "var outputEl = gd.closest('.output');\n",
       "if (outputEl) {{\n",
       "    x.observe(outputEl, {childList: true});\n",
       "}}\n",
       "\n",
       "                        })                };                });            </script>        </div>"
      ]
     },
     "metadata": {},
     "output_type": "display_data"
    }
   ],
   "source": [
    "fig = go.Figure()\n",
    "\n",
    "\n",
    "fig.add_trace(\n",
    "    go.Bar(x=met_dept['Department'], \n",
    "           y=met_dept['Counts'], \n",
    "           name='Met Dept',\n",
    "          marker=dict(color=\"#E81D2E\")))\n",
    "\n",
    "\n",
    "fig.add_trace(\n",
    "    go.Bar(x=moma_dept['Department'], \n",
    "           y=moma_dept['Counts'], \n",
    "           name='MoMA Dept',\n",
    "          marker=dict(color=\"Black\")))\n",
    "\n",
    "#add dropdown\n",
    "\n",
    "fig.update_layout(\n",
    "    updatemenus=[\n",
    "        dict(\n",
    "            active=0,\n",
    "            buttons=list([\n",
    "                dict(label=\"Met\",\n",
    "                    method=\"update\",\n",
    "                    args=[{\"visible\": [True, False]},\n",
    "                        {\"title\": \"Metropolitan Museum of Art Department Breakdown\",\n",
    "                         \"annotations\": []}]),\n",
    "                dict(label=\"MoMA\",\n",
    "                    method=\"update\",\n",
    "                    args=[{\"visible\": [False, True]},\n",
    "                        {\"title\": \"Modern Museum of Art Department Breakdown\",\n",
    "                         \"annotations\": []}])\n",
    "            ]))])\n",
    "\n",
    "fig.update_layout(title_text=\"Number of Objects Held by Departments at Museums\", \n",
    "                  height=700,\n",
    "                 template='plotly_white')\n",
    "fig.show()\n"
   ]
  },
  {
   "cell_type": "markdown",
   "metadata": {
    "tags": []
   },
   "source": [
    "## 1.2 Top Artists"
   ]
  },
  {
   "cell_type": "markdown",
   "metadata": {},
   "source": [
    "Excluding Unknown and Anonymous, of course. \n",
    "For met - excluding Companies - they are usually objects produced or owned by companies. "
   ]
  },
  {
   "cell_type": "code",
   "execution_count": 166,
   "metadata": {
    "tags": []
   },
   "outputs": [],
   "source": [
    "met_top_artist = pd.DataFrame(met.groupby(['Artist Display Name']).size()).reset_index()\n",
    "met_top_artist = met_top_artist.rename(columns={met_top_artist.columns[1]: 'Counts'})\n",
    "met_top_artist_with_Co = met_top_artist[(met_top_artist['Artist Display Name'] != 'Unknown') & \n",
    "                                ~met_top_artist['Artist Display Name'].str.contains('Anonymous', case=False) &\n",
    "                                (met_top_artist['Artist Display Name'] != 'Unidentified artist')]\n",
    "\n",
    "met_top_artist = met_top_artist[(met_top_artist['Artist Display Name'] != 'Unknown') & \n",
    "                                ~met_top_artist['Artist Display Name'].str.contains('Anonymous', case=False) &\n",
    "                                ~met_top_artist['Artist Display Name'].str.contains('company', case=False) &\n",
    "                                ~met_top_artist['Artist Display Name'].str.contains('Co.', case=False) &\n",
    "                                (met_top_artist['Artist Display Name'] != 'Unidentified artist')]\n",
    " \n",
    "moma_top_artist = pd.DataFrame(moma_artwork.groupby(['Artist']).size()).reset_index()\n",
    "moma_top_artist = moma_top_artist.rename(columns={moma_top_artist.columns[1]: 'Counts'})\n",
    "moma_top_artist = moma_top_artist[(moma_top_artist['Artist'] != 'Unknown') & \n",
    "                                  (moma_top_artist['Artist'] != 'Anonymous') &\n",
    "                                  ~moma_top_artist['Artist'].str.contains('Unidentified', case=False)]"
   ]
  },
  {
   "cell_type": "code",
   "execution_count": 159,
   "metadata": {
    "tags": []
   },
   "outputs": [],
   "source": [
    "met_top_30 = met_top_artist.loc[met_top_artist['Counts'].nlargest(30).index]\n",
    "moma_top_30 = moma_top_artist.loc[moma_top_artist['Counts'].nlargest(30).index]"
   ]
  },
  {
   "cell_type": "code",
   "execution_count": 184,
   "metadata": {
    "tags": []
   },
   "outputs": [],
   "source": [
    "met_30_artworks = met[met['Artist Display Name'].isin(met_top_30['Artist Display Name'])] \n",
    "moma_30_artworks = moma_artwork[moma_artwork['Artist'].isin(moma_top_30['Artist'])] "
   ]
  },
  {
   "cell_type": "code",
   "execution_count": 193,
   "metadata": {
    "tags": []
   },
   "outputs": [],
   "source": [
    "moma_30_work_breakdown = moma_30_artworks.groupby(['Artist', 'Department']).size().reset_index()\n",
    "moma_30_work_breakdown = moma_30_work_breakdown.rename(columns={moma_30_work_breakdown.columns[2]: 'Counts'})\n",
    "\n",
    "met_30_work_breakdown = met_30_artworks.groupby(['Artist Display Name', 'Department']).size().reset_index()\n",
    "met_30_work_breakdown = met_30_work_breakdown.rename(columns={met_30_work_breakdown.columns[2]: 'Counts'})\n"
   ]
  },
  {
   "cell_type": "code",
   "execution_count": 399,
   "metadata": {
    "tags": []
   },
   "outputs": [],
   "source": [
    "moma_30_work_pivot = moma_30_work_breakdown.pivot(index='Artist', columns='Department', values=\"Counts\").fillna(0)\n",
    "\n",
    "met_30_work_pivot = met_30_work_breakdown.pivot(index='Artist Display Name', columns='Department', values=\"Counts\").fillna(0)"
   ]
  },
  {
   "cell_type": "code",
   "execution_count": 400,
   "metadata": {
    "tags": []
   },
   "outputs": [],
   "source": [
    "order = moma_top_30['Artist'].values\n",
    "moma_30_work_pivot.index = pd.CategoricalIndex(moma_30_work_pivot.index, categories=order, ordered=True)\n",
    "moma_30_work_pivot = moma_30_work_pivot.sort_index()"
   ]
  },
  {
   "cell_type": "code",
   "execution_count": 401,
   "metadata": {
    "tags": []
   },
   "outputs": [],
   "source": [
    "order = met_top_30['Artist Display Name'].values\n",
    "met_30_work_pivot.index = pd.CategoricalIndex(met_30_work_pivot.index, categories=order, ordered=True)\n",
    "met_30_work_pivot = met_30_work_pivot.sort_index()"
   ]
  },
  {
   "cell_type": "code",
   "execution_count": 443,
   "metadata": {
    "tags": []
   },
   "outputs": [
    {
     "data": {
      "application/vnd.plotly.v1+json": {
       "config": {
        "plotlyServerURL": "https://plot.ly"
       },
       "data": [
        {
         "marker": {
          "color": "#3A6C8C",
          "line": {
           "color": "rgb(248, 248, 249)",
           "width": 1
          }
         },
         "name": "Architecture & Design",
         "orientation": "h",
         "type": "bar",
         "x": [
          0,
          0,
          2640,
          9,
          0,
          31,
          14,
          2,
          8,
          0,
          876,
          822,
          0,
          0,
          0,
          0,
          0,
          0,
          0,
          0,
          6,
          1,
          18,
          0,
          0,
          0,
          0,
          2,
          53,
          4
         ],
         "y": [
          "Eugène Atget",
          "Louise Bourgeois",
          "Ludwig Mies van der Rohe",
          "Jean Dubuffet",
          "Lee Friedlander",
          "Pablo Picasso",
          "Ellsworth Kelly",
          "Marc Chagall",
          "Henri Matisse",
          "Pierre Bonnard",
          "Frank Lloyd Wright",
          "Lilly Reich",
          "George Maciunas",
          "August Sander",
          "Ben Kinmont",
          "Georges Rouault",
          "Émile Bernard",
          "Sol LeWitt",
          "Aristide Maillol",
          "André Derain",
          "Raoul Dufy",
          "Maurice Denis",
          "Joan Miró",
          "Frédéric Bruly Bouabré",
          "Dorothea Lange",
          "Pierre Alechinsky",
          "Jan Dibbets",
          "Jasper Johns",
          "Various Artists",
          "Jim Dine"
         ]
        },
        {
         "marker": {
          "color": "#0F3D3F",
          "line": {
           "color": "rgb(248, 248, 249)",
           "width": 1
          }
         },
         "name": "Architecture & Design - Image Archive",
         "orientation": "h",
         "type": "bar",
         "x": [
          0,
          0,
          17,
          0,
          0,
          0,
          0,
          0,
          0,
          0,
          1,
          1,
          0,
          0,
          0,
          0,
          0,
          0,
          0,
          0,
          0,
          0,
          0,
          0,
          0,
          0,
          0,
          0,
          0,
          0
         ],
         "y": [
          "Eugène Atget",
          "Louise Bourgeois",
          "Ludwig Mies van der Rohe",
          "Jean Dubuffet",
          "Lee Friedlander",
          "Pablo Picasso",
          "Ellsworth Kelly",
          "Marc Chagall",
          "Henri Matisse",
          "Pierre Bonnard",
          "Frank Lloyd Wright",
          "Lilly Reich",
          "George Maciunas",
          "August Sander",
          "Ben Kinmont",
          "Georges Rouault",
          "Émile Bernard",
          "Sol LeWitt",
          "Aristide Maillol",
          "André Derain",
          "Raoul Dufy",
          "Maurice Denis",
          "Joan Miró",
          "Frédéric Bruly Bouabré",
          "Dorothea Lange",
          "Pierre Alechinsky",
          "Jan Dibbets",
          "Jasper Johns",
          "Various Artists",
          "Jim Dine"
         ]
        },
        {
         "marker": {
          "color": "#B3D8EB",
          "line": {
           "color": "rgb(248, 248, 249)",
           "width": 1
          }
         },
         "name": "Drawings & Prints",
         "orientation": "h",
         "type": "bar",
         "x": [
          0,
          3325,
          0,
          1394,
          0,
          1207,
          1201,
          1156,
          1004,
          896,
          1,
          0,
          473,
          0,
          665,
          629,
          629,
          607,
          571,
          561,
          537,
          503,
          440,
          482,
          0,
          428,
          18,
          411,
          338,
          390
         ],
         "y": [
          "Eugène Atget",
          "Louise Bourgeois",
          "Ludwig Mies van der Rohe",
          "Jean Dubuffet",
          "Lee Friedlander",
          "Pablo Picasso",
          "Ellsworth Kelly",
          "Marc Chagall",
          "Henri Matisse",
          "Pierre Bonnard",
          "Frank Lloyd Wright",
          "Lilly Reich",
          "George Maciunas",
          "August Sander",
          "Ben Kinmont",
          "Georges Rouault",
          "Émile Bernard",
          "Sol LeWitt",
          "Aristide Maillol",
          "André Derain",
          "Raoul Dufy",
          "Maurice Denis",
          "Joan Miró",
          "Frédéric Bruly Bouabré",
          "Dorothea Lange",
          "Pierre Alechinsky",
          "Jan Dibbets",
          "Jasper Johns",
          "Various Artists",
          "Jim Dine"
         ]
        },
        {
         "marker": {
          "color": "#728F4C",
          "line": {
           "color": "rgb(248, 248, 249)",
           "width": 1
          }
         },
         "name": "Film",
         "orientation": "h",
         "type": "bar",
         "x": [
          0,
          0,
          0,
          0,
          0,
          0,
          0,
          0,
          0,
          0,
          0,
          0,
          0,
          0,
          0,
          0,
          0,
          0,
          0,
          0,
          0,
          0,
          1,
          0,
          0,
          0,
          0,
          0,
          0,
          0
         ],
         "y": [
          "Eugène Atget",
          "Louise Bourgeois",
          "Ludwig Mies van der Rohe",
          "Jean Dubuffet",
          "Lee Friedlander",
          "Pablo Picasso",
          "Ellsworth Kelly",
          "Marc Chagall",
          "Henri Matisse",
          "Pierre Bonnard",
          "Frank Lloyd Wright",
          "Lilly Reich",
          "George Maciunas",
          "August Sander",
          "Ben Kinmont",
          "Georges Rouault",
          "Émile Bernard",
          "Sol LeWitt",
          "Aristide Maillol",
          "André Derain",
          "Raoul Dufy",
          "Maurice Denis",
          "Joan Miró",
          "Frédéric Bruly Bouabré",
          "Dorothea Lange",
          "Pierre Alechinsky",
          "Jan Dibbets",
          "Jasper Johns",
          "Various Artists",
          "Jim Dine"
         ]
        },
        {
         "marker": {
          "color": "#CEE0C6",
          "line": {
           "color": "rgb(248, 248, 249)",
           "width": 1
          }
         },
         "name": "Fluxus Collection",
         "orientation": "h",
         "type": "bar",
         "x": [
          0,
          0,
          0,
          0,
          0,
          0,
          0,
          0,
          0,
          0,
          0,
          0,
          348,
          0,
          0,
          0,
          0,
          0,
          0,
          0,
          0,
          0,
          0,
          0,
          0,
          0,
          0,
          0,
          13,
          1
         ],
         "y": [
          "Eugène Atget",
          "Louise Bourgeois",
          "Ludwig Mies van der Rohe",
          "Jean Dubuffet",
          "Lee Friedlander",
          "Pablo Picasso",
          "Ellsworth Kelly",
          "Marc Chagall",
          "Henri Matisse",
          "Pierre Bonnard",
          "Frank Lloyd Wright",
          "Lilly Reich",
          "George Maciunas",
          "August Sander",
          "Ben Kinmont",
          "Georges Rouault",
          "Émile Bernard",
          "Sol LeWitt",
          "Aristide Maillol",
          "André Derain",
          "Raoul Dufy",
          "Maurice Denis",
          "Joan Miró",
          "Frédéric Bruly Bouabré",
          "Dorothea Lange",
          "Pierre Alechinsky",
          "Jan Dibbets",
          "Jasper Johns",
          "Various Artists",
          "Jim Dine"
         ]
        },
        {
         "marker": {
          "color": "#242545",
          "line": {
           "color": "rgb(248, 248, 249)",
           "width": 1
          }
         },
         "name": "Media and Performance",
         "orientation": "h",
         "type": "bar",
         "x": [
          0,
          0,
          0,
          0,
          0,
          0,
          0,
          0,
          0,
          0,
          0,
          0,
          0,
          0,
          0,
          0,
          0,
          0,
          0,
          0,
          0,
          0,
          0,
          0,
          0,
          0,
          1,
          0,
          0,
          0
         ],
         "y": [
          "Eugène Atget",
          "Louise Bourgeois",
          "Ludwig Mies van der Rohe",
          "Jean Dubuffet",
          "Lee Friedlander",
          "Pablo Picasso",
          "Ellsworth Kelly",
          "Marc Chagall",
          "Henri Matisse",
          "Pierre Bonnard",
          "Frank Lloyd Wright",
          "Lilly Reich",
          "George Maciunas",
          "August Sander",
          "Ben Kinmont",
          "Georges Rouault",
          "Émile Bernard",
          "Sol LeWitt",
          "Aristide Maillol",
          "André Derain",
          "Raoul Dufy",
          "Maurice Denis",
          "Joan Miró",
          "Frédéric Bruly Bouabré",
          "Dorothea Lange",
          "Pierre Alechinsky",
          "Jan Dibbets",
          "Jasper Johns",
          "Various Artists",
          "Jim Dine"
         ]
        },
        {
         "marker": {
          "color": "#EF819C",
          "line": {
           "color": "rgb(248, 248, 249)",
           "width": 1
          }
         },
         "name": "Painting & Sculpture",
         "orientation": "h",
         "type": "bar",
         "x": [
          0,
          11,
          0,
          32,
          0,
          72,
          17,
          3,
          52,
          5,
          0,
          0,
          0,
          0,
          0,
          2,
          1,
          11,
          8,
          10,
          2,
          0,
          30,
          0,
          0,
          0,
          1,
          13,
          0,
          6
         ],
         "y": [
          "Eugène Atget",
          "Louise Bourgeois",
          "Ludwig Mies van der Rohe",
          "Jean Dubuffet",
          "Lee Friedlander",
          "Pablo Picasso",
          "Ellsworth Kelly",
          "Marc Chagall",
          "Henri Matisse",
          "Pierre Bonnard",
          "Frank Lloyd Wright",
          "Lilly Reich",
          "George Maciunas",
          "August Sander",
          "Ben Kinmont",
          "Georges Rouault",
          "Émile Bernard",
          "Sol LeWitt",
          "Aristide Maillol",
          "André Derain",
          "Raoul Dufy",
          "Maurice Denis",
          "Joan Miró",
          "Frédéric Bruly Bouabré",
          "Dorothea Lange",
          "Pierre Alechinsky",
          "Jan Dibbets",
          "Jasper Johns",
          "Various Artists",
          "Jim Dine"
         ]
        },
        {
         "marker": {
          "color": "#F4B8D4",
          "line": {
           "color": "rgb(248, 248, 249)",
           "width": 1
          }
         },
         "name": "Photography",
         "orientation": "h",
         "type": "bar",
         "x": [
          5050,
          0,
          0,
          0,
          1320,
          0,
          0,
          0,
          0,
          0,
          0,
          0,
          0,
          750,
          0,
          0,
          0,
          2,
          0,
          0,
          0,
          0,
          0,
          0,
          480,
          0,
          407,
          0,
          4,
          1
         ],
         "y": [
          "Eugène Atget",
          "Louise Bourgeois",
          "Ludwig Mies van der Rohe",
          "Jean Dubuffet",
          "Lee Friedlander",
          "Pablo Picasso",
          "Ellsworth Kelly",
          "Marc Chagall",
          "Henri Matisse",
          "Pierre Bonnard",
          "Frank Lloyd Wright",
          "Lilly Reich",
          "George Maciunas",
          "August Sander",
          "Ben Kinmont",
          "Georges Rouault",
          "Émile Bernard",
          "Sol LeWitt",
          "Aristide Maillol",
          "André Derain",
          "Raoul Dufy",
          "Maurice Denis",
          "Joan Miró",
          "Frédéric Bruly Bouabré",
          "Dorothea Lange",
          "Pierre Alechinsky",
          "Jan Dibbets",
          "Jasper Johns",
          "Various Artists",
          "Jim Dine"
         ]
        }
       ],
       "layout": {
        "autosize": true,
        "barmode": "stack",
        "height": 800,
        "margin": {
         "b": 80,
         "l": 120,
         "r": 10,
         "t": 140
        },
        "showlegend": true,
        "template": {
         "data": {
          "bar": [
           {
            "error_x": {
             "color": "#2a3f5f"
            },
            "error_y": {
             "color": "#2a3f5f"
            },
            "marker": {
             "line": {
              "color": "white",
              "width": 0.5
             },
             "pattern": {
              "fillmode": "overlay",
              "size": 10,
              "solidity": 0.2
             }
            },
            "type": "bar"
           }
          ],
          "barpolar": [
           {
            "marker": {
             "line": {
              "color": "white",
              "width": 0.5
             },
             "pattern": {
              "fillmode": "overlay",
              "size": 10,
              "solidity": 0.2
             }
            },
            "type": "barpolar"
           }
          ],
          "carpet": [
           {
            "aaxis": {
             "endlinecolor": "#2a3f5f",
             "gridcolor": "#C8D4E3",
             "linecolor": "#C8D4E3",
             "minorgridcolor": "#C8D4E3",
             "startlinecolor": "#2a3f5f"
            },
            "baxis": {
             "endlinecolor": "#2a3f5f",
             "gridcolor": "#C8D4E3",
             "linecolor": "#C8D4E3",
             "minorgridcolor": "#C8D4E3",
             "startlinecolor": "#2a3f5f"
            },
            "type": "carpet"
           }
          ],
          "choropleth": [
           {
            "colorbar": {
             "outlinewidth": 0,
             "ticks": ""
            },
            "type": "choropleth"
           }
          ],
          "contour": [
           {
            "colorbar": {
             "outlinewidth": 0,
             "ticks": ""
            },
            "colorscale": [
             [
              0,
              "#0d0887"
             ],
             [
              0.1111111111111111,
              "#46039f"
             ],
             [
              0.2222222222222222,
              "#7201a8"
             ],
             [
              0.3333333333333333,
              "#9c179e"
             ],
             [
              0.4444444444444444,
              "#bd3786"
             ],
             [
              0.5555555555555556,
              "#d8576b"
             ],
             [
              0.6666666666666666,
              "#ed7953"
             ],
             [
              0.7777777777777778,
              "#fb9f3a"
             ],
             [
              0.8888888888888888,
              "#fdca26"
             ],
             [
              1,
              "#f0f921"
             ]
            ],
            "type": "contour"
           }
          ],
          "contourcarpet": [
           {
            "colorbar": {
             "outlinewidth": 0,
             "ticks": ""
            },
            "type": "contourcarpet"
           }
          ],
          "heatmap": [
           {
            "colorbar": {
             "outlinewidth": 0,
             "ticks": ""
            },
            "colorscale": [
             [
              0,
              "#0d0887"
             ],
             [
              0.1111111111111111,
              "#46039f"
             ],
             [
              0.2222222222222222,
              "#7201a8"
             ],
             [
              0.3333333333333333,
              "#9c179e"
             ],
             [
              0.4444444444444444,
              "#bd3786"
             ],
             [
              0.5555555555555556,
              "#d8576b"
             ],
             [
              0.6666666666666666,
              "#ed7953"
             ],
             [
              0.7777777777777778,
              "#fb9f3a"
             ],
             [
              0.8888888888888888,
              "#fdca26"
             ],
             [
              1,
              "#f0f921"
             ]
            ],
            "type": "heatmap"
           }
          ],
          "heatmapgl": [
           {
            "colorbar": {
             "outlinewidth": 0,
             "ticks": ""
            },
            "colorscale": [
             [
              0,
              "#0d0887"
             ],
             [
              0.1111111111111111,
              "#46039f"
             ],
             [
              0.2222222222222222,
              "#7201a8"
             ],
             [
              0.3333333333333333,
              "#9c179e"
             ],
             [
              0.4444444444444444,
              "#bd3786"
             ],
             [
              0.5555555555555556,
              "#d8576b"
             ],
             [
              0.6666666666666666,
              "#ed7953"
             ],
             [
              0.7777777777777778,
              "#fb9f3a"
             ],
             [
              0.8888888888888888,
              "#fdca26"
             ],
             [
              1,
              "#f0f921"
             ]
            ],
            "type": "heatmapgl"
           }
          ],
          "histogram": [
           {
            "marker": {
             "pattern": {
              "fillmode": "overlay",
              "size": 10,
              "solidity": 0.2
             }
            },
            "type": "histogram"
           }
          ],
          "histogram2d": [
           {
            "colorbar": {
             "outlinewidth": 0,
             "ticks": ""
            },
            "colorscale": [
             [
              0,
              "#0d0887"
             ],
             [
              0.1111111111111111,
              "#46039f"
             ],
             [
              0.2222222222222222,
              "#7201a8"
             ],
             [
              0.3333333333333333,
              "#9c179e"
             ],
             [
              0.4444444444444444,
              "#bd3786"
             ],
             [
              0.5555555555555556,
              "#d8576b"
             ],
             [
              0.6666666666666666,
              "#ed7953"
             ],
             [
              0.7777777777777778,
              "#fb9f3a"
             ],
             [
              0.8888888888888888,
              "#fdca26"
             ],
             [
              1,
              "#f0f921"
             ]
            ],
            "type": "histogram2d"
           }
          ],
          "histogram2dcontour": [
           {
            "colorbar": {
             "outlinewidth": 0,
             "ticks": ""
            },
            "colorscale": [
             [
              0,
              "#0d0887"
             ],
             [
              0.1111111111111111,
              "#46039f"
             ],
             [
              0.2222222222222222,
              "#7201a8"
             ],
             [
              0.3333333333333333,
              "#9c179e"
             ],
             [
              0.4444444444444444,
              "#bd3786"
             ],
             [
              0.5555555555555556,
              "#d8576b"
             ],
             [
              0.6666666666666666,
              "#ed7953"
             ],
             [
              0.7777777777777778,
              "#fb9f3a"
             ],
             [
              0.8888888888888888,
              "#fdca26"
             ],
             [
              1,
              "#f0f921"
             ]
            ],
            "type": "histogram2dcontour"
           }
          ],
          "mesh3d": [
           {
            "colorbar": {
             "outlinewidth": 0,
             "ticks": ""
            },
            "type": "mesh3d"
           }
          ],
          "parcoords": [
           {
            "line": {
             "colorbar": {
              "outlinewidth": 0,
              "ticks": ""
             }
            },
            "type": "parcoords"
           }
          ],
          "pie": [
           {
            "automargin": true,
            "type": "pie"
           }
          ],
          "scatter": [
           {
            "fillpattern": {
             "fillmode": "overlay",
             "size": 10,
             "solidity": 0.2
            },
            "type": "scatter"
           }
          ],
          "scatter3d": [
           {
            "line": {
             "colorbar": {
              "outlinewidth": 0,
              "ticks": ""
             }
            },
            "marker": {
             "colorbar": {
              "outlinewidth": 0,
              "ticks": ""
             }
            },
            "type": "scatter3d"
           }
          ],
          "scattercarpet": [
           {
            "marker": {
             "colorbar": {
              "outlinewidth": 0,
              "ticks": ""
             }
            },
            "type": "scattercarpet"
           }
          ],
          "scattergeo": [
           {
            "marker": {
             "colorbar": {
              "outlinewidth": 0,
              "ticks": ""
             }
            },
            "type": "scattergeo"
           }
          ],
          "scattergl": [
           {
            "marker": {
             "colorbar": {
              "outlinewidth": 0,
              "ticks": ""
             }
            },
            "type": "scattergl"
           }
          ],
          "scattermapbox": [
           {
            "marker": {
             "colorbar": {
              "outlinewidth": 0,
              "ticks": ""
             }
            },
            "type": "scattermapbox"
           }
          ],
          "scatterpolar": [
           {
            "marker": {
             "colorbar": {
              "outlinewidth": 0,
              "ticks": ""
             }
            },
            "type": "scatterpolar"
           }
          ],
          "scatterpolargl": [
           {
            "marker": {
             "colorbar": {
              "outlinewidth": 0,
              "ticks": ""
             }
            },
            "type": "scatterpolargl"
           }
          ],
          "scatterternary": [
           {
            "marker": {
             "colorbar": {
              "outlinewidth": 0,
              "ticks": ""
             }
            },
            "type": "scatterternary"
           }
          ],
          "surface": [
           {
            "colorbar": {
             "outlinewidth": 0,
             "ticks": ""
            },
            "colorscale": [
             [
              0,
              "#0d0887"
             ],
             [
              0.1111111111111111,
              "#46039f"
             ],
             [
              0.2222222222222222,
              "#7201a8"
             ],
             [
              0.3333333333333333,
              "#9c179e"
             ],
             [
              0.4444444444444444,
              "#bd3786"
             ],
             [
              0.5555555555555556,
              "#d8576b"
             ],
             [
              0.6666666666666666,
              "#ed7953"
             ],
             [
              0.7777777777777778,
              "#fb9f3a"
             ],
             [
              0.8888888888888888,
              "#fdca26"
             ],
             [
              1,
              "#f0f921"
             ]
            ],
            "type": "surface"
           }
          ],
          "table": [
           {
            "cells": {
             "fill": {
              "color": "#EBF0F8"
             },
             "line": {
              "color": "white"
             }
            },
            "header": {
             "fill": {
              "color": "#C8D4E3"
             },
             "line": {
              "color": "white"
             }
            },
            "type": "table"
           }
          ]
         },
         "layout": {
          "annotationdefaults": {
           "arrowcolor": "#2a3f5f",
           "arrowhead": 0,
           "arrowwidth": 1
          },
          "autotypenumbers": "strict",
          "coloraxis": {
           "colorbar": {
            "outlinewidth": 0,
            "ticks": ""
           }
          },
          "colorscale": {
           "diverging": [
            [
             0,
             "#8e0152"
            ],
            [
             0.1,
             "#c51b7d"
            ],
            [
             0.2,
             "#de77ae"
            ],
            [
             0.3,
             "#f1b6da"
            ],
            [
             0.4,
             "#fde0ef"
            ],
            [
             0.5,
             "#f7f7f7"
            ],
            [
             0.6,
             "#e6f5d0"
            ],
            [
             0.7,
             "#b8e186"
            ],
            [
             0.8,
             "#7fbc41"
            ],
            [
             0.9,
             "#4d9221"
            ],
            [
             1,
             "#276419"
            ]
           ],
           "sequential": [
            [
             0,
             "#0d0887"
            ],
            [
             0.1111111111111111,
             "#46039f"
            ],
            [
             0.2222222222222222,
             "#7201a8"
            ],
            [
             0.3333333333333333,
             "#9c179e"
            ],
            [
             0.4444444444444444,
             "#bd3786"
            ],
            [
             0.5555555555555556,
             "#d8576b"
            ],
            [
             0.6666666666666666,
             "#ed7953"
            ],
            [
             0.7777777777777778,
             "#fb9f3a"
            ],
            [
             0.8888888888888888,
             "#fdca26"
            ],
            [
             1,
             "#f0f921"
            ]
           ],
           "sequentialminus": [
            [
             0,
             "#0d0887"
            ],
            [
             0.1111111111111111,
             "#46039f"
            ],
            [
             0.2222222222222222,
             "#7201a8"
            ],
            [
             0.3333333333333333,
             "#9c179e"
            ],
            [
             0.4444444444444444,
             "#bd3786"
            ],
            [
             0.5555555555555556,
             "#d8576b"
            ],
            [
             0.6666666666666666,
             "#ed7953"
            ],
            [
             0.7777777777777778,
             "#fb9f3a"
            ],
            [
             0.8888888888888888,
             "#fdca26"
            ],
            [
             1,
             "#f0f921"
            ]
           ]
          },
          "colorway": [
           "#636efa",
           "#EF553B",
           "#00cc96",
           "#ab63fa",
           "#FFA15A",
           "#19d3f3",
           "#FF6692",
           "#B6E880",
           "#FF97FF",
           "#FECB52"
          ],
          "font": {
           "color": "#2a3f5f"
          },
          "geo": {
           "bgcolor": "white",
           "lakecolor": "white",
           "landcolor": "white",
           "showlakes": true,
           "showland": true,
           "subunitcolor": "#C8D4E3"
          },
          "hoverlabel": {
           "align": "left"
          },
          "hovermode": "closest",
          "mapbox": {
           "style": "light"
          },
          "paper_bgcolor": "white",
          "plot_bgcolor": "white",
          "polar": {
           "angularaxis": {
            "gridcolor": "#EBF0F8",
            "linecolor": "#EBF0F8",
            "ticks": ""
           },
           "bgcolor": "white",
           "radialaxis": {
            "gridcolor": "#EBF0F8",
            "linecolor": "#EBF0F8",
            "ticks": ""
           }
          },
          "scene": {
           "xaxis": {
            "backgroundcolor": "white",
            "gridcolor": "#DFE8F3",
            "gridwidth": 2,
            "linecolor": "#EBF0F8",
            "showbackground": true,
            "ticks": "",
            "zerolinecolor": "#EBF0F8"
           },
           "yaxis": {
            "backgroundcolor": "white",
            "gridcolor": "#DFE8F3",
            "gridwidth": 2,
            "linecolor": "#EBF0F8",
            "showbackground": true,
            "ticks": "",
            "zerolinecolor": "#EBF0F8"
           },
           "zaxis": {
            "backgroundcolor": "white",
            "gridcolor": "#DFE8F3",
            "gridwidth": 2,
            "linecolor": "#EBF0F8",
            "showbackground": true,
            "ticks": "",
            "zerolinecolor": "#EBF0F8"
           }
          },
          "shapedefaults": {
           "line": {
            "color": "#2a3f5f"
           }
          },
          "ternary": {
           "aaxis": {
            "gridcolor": "#DFE8F3",
            "linecolor": "#A2B1C6",
            "ticks": ""
           },
           "baxis": {
            "gridcolor": "#DFE8F3",
            "linecolor": "#A2B1C6",
            "ticks": ""
           },
           "bgcolor": "white",
           "caxis": {
            "gridcolor": "#DFE8F3",
            "linecolor": "#A2B1C6",
            "ticks": ""
           }
          },
          "title": {
           "x": 0.05
          },
          "xaxis": {
           "automargin": true,
           "gridcolor": "#EBF0F8",
           "linecolor": "#EBF0F8",
           "ticks": "",
           "title": {
            "standoff": 15
           },
           "zerolinecolor": "#EBF0F8",
           "zerolinewidth": 2
          },
          "yaxis": {
           "automargin": true,
           "gridcolor": "#EBF0F8",
           "linecolor": "#EBF0F8",
           "ticks": "",
           "title": {
            "standoff": 15
           },
           "zerolinecolor": "#EBF0F8",
           "zerolinewidth": 2
          }
         }
        },
        "title": {
         "text": "Top 30 Artists whom MoMA Holds Most Works of"
        },
        "width": 1500,
        "xaxis": {
         "autorange": true,
         "range": [
          0,
          5315.789473684211
         ],
         "type": "linear"
        },
        "yaxis": {
         "autorange": true,
         "range": [
          29.5,
          -0.5
         ],
         "type": "category"
        }
       }
      },
      "image/png": "[encoded data removed]",
      "text/html": [
       "<div>                            <div id=\"061a7ed2-aac2-479d-aae5-12c102486b09\" class=\"plotly-graph-div\" style=\"height:800px; width:1500px;\"></div>            <script type=\"text/javascript\">                require([\"plotly\"], function(Plotly) {                    window.PLOTLYENV=window.PLOTLYENV || {};                                    if (document.getElementById(\"061a7ed2-aac2-479d-aae5-12c102486b09\")) {                    Plotly.newPlot(                        \"061a7ed2-aac2-479d-aae5-12c102486b09\",                        [{\"marker\":{\"color\":\"#3A6C8C\",\"line\":{\"color\":\"rgb(248, 248, 249)\",\"width\":1}},\"name\":\"Architecture & Design\",\"orientation\":\"h\",\"x\":[0.0,0.0,2640.0,9.0,0.0,31.0,14.0,2.0,8.0,0.0,876.0,822.0,0.0,0.0,0.0,0.0,0.0,0.0,0.0,0.0,6.0,1.0,18.0,0.0,0.0,0.0,0.0,2.0,53.0,4.0],\"y\":[\"Eug\\u00e8ne Atget\",\"Louise Bourgeois\",\"Ludwig Mies van der Rohe\",\"Jean Dubuffet\",\"Lee Friedlander\",\"Pablo Picasso\",\"Ellsworth Kelly\",\"Marc Chagall\",\"Henri Matisse\",\"Pierre Bonnard\",\"Frank Lloyd Wright\",\"Lilly Reich\",\"George Maciunas\",\"August Sander\",\"Ben Kinmont\",\"Georges Rouault\",\"\\u00c9mile Bernard\",\"Sol LeWitt\",\"Aristide Maillol\",\"Andr\\u00e9 Derain\",\"Raoul Dufy\",\"Maurice Denis\",\"Joan Mir\\u00f3\",\"Fr\\u00e9d\\u00e9ric Bruly Bouabr\\u00e9\",\"Dorothea Lange\",\"Pierre Alechinsky\",\"Jan Dibbets\",\"Jasper Johns\",\"Various Artists\",\"Jim Dine\"],\"type\":\"bar\"},{\"marker\":{\"color\":\"#0F3D3F\",\"line\":{\"color\":\"rgb(248, 248, 249)\",\"width\":1}},\"name\":\"Architecture & Design - Image Archive\",\"orientation\":\"h\",\"x\":[0.0,0.0,17.0,0.0,0.0,0.0,0.0,0.0,0.0,0.0,1.0,1.0,0.0,0.0,0.0,0.0,0.0,0.0,0.0,0.0,0.0,0.0,0.0,0.0,0.0,0.0,0.0,0.0,0.0,0.0],\"y\":[\"Eug\\u00e8ne Atget\",\"Louise Bourgeois\",\"Ludwig Mies van der Rohe\",\"Jean Dubuffet\",\"Lee Friedlander\",\"Pablo Picasso\",\"Ellsworth Kelly\",\"Marc Chagall\",\"Henri Matisse\",\"Pierre Bonnard\",\"Frank Lloyd Wright\",\"Lilly Reich\",\"George Maciunas\",\"August Sander\",\"Ben Kinmont\",\"Georges Rouault\",\"\\u00c9mile Bernard\",\"Sol LeWitt\",\"Aristide Maillol\",\"Andr\\u00e9 Derain\",\"Raoul Dufy\",\"Maurice Denis\",\"Joan Mir\\u00f3\",\"Fr\\u00e9d\\u00e9ric Bruly Bouabr\\u00e9\",\"Dorothea Lange\",\"Pierre Alechinsky\",\"Jan Dibbets\",\"Jasper Johns\",\"Various Artists\",\"Jim Dine\"],\"type\":\"bar\"},{\"marker\":{\"color\":\"#B3D8EB\",\"line\":{\"color\":\"rgb(248, 248, 249)\",\"width\":1}},\"name\":\"Drawings & Prints\",\"orientation\":\"h\",\"x\":[0.0,3325.0,0.0,1394.0,0.0,1207.0,1201.0,1156.0,1004.0,896.0,1.0,0.0,473.0,0.0,665.0,629.0,629.0,607.0,571.0,561.0,537.0,503.0,440.0,482.0,0.0,428.0,18.0,411.0,338.0,390.0],\"y\":[\"Eug\\u00e8ne Atget\",\"Louise Bourgeois\",\"Ludwig Mies van der Rohe\",\"Jean Dubuffet\",\"Lee Friedlander\",\"Pablo Picasso\",\"Ellsworth Kelly\",\"Marc Chagall\",\"Henri Matisse\",\"Pierre Bonnard\",\"Frank Lloyd Wright\",\"Lilly Reich\",\"George Maciunas\",\"August Sander\",\"Ben Kinmont\",\"Georges Rouault\",\"\\u00c9mile Bernard\",\"Sol LeWitt\",\"Aristide Maillol\",\"Andr\\u00e9 Derain\",\"Raoul Dufy\",\"Maurice Denis\",\"Joan Mir\\u00f3\",\"Fr\\u00e9d\\u00e9ric Bruly Bouabr\\u00e9\",\"Dorothea Lange\",\"Pierre Alechinsky\",\"Jan Dibbets\",\"Jasper Johns\",\"Various Artists\",\"Jim Dine\"],\"type\":\"bar\"},{\"marker\":{\"color\":\"#728F4C\",\"line\":{\"color\":\"rgb(248, 248, 249)\",\"width\":1}},\"name\":\"Film\",\"orientation\":\"h\",\"x\":[0.0,0.0,0.0,0.0,0.0,0.0,0.0,0.0,0.0,0.0,0.0,0.0,0.0,0.0,0.0,0.0,0.0,0.0,0.0,0.0,0.0,0.0,1.0,0.0,0.0,0.0,0.0,0.0,0.0,0.0],\"y\":[\"Eug\\u00e8ne Atget\",\"Louise Bourgeois\",\"Ludwig Mies van der Rohe\",\"Jean Dubuffet\",\"Lee Friedlander\",\"Pablo Picasso\",\"Ellsworth Kelly\",\"Marc Chagall\",\"Henri Matisse\",\"Pierre Bonnard\",\"Frank Lloyd Wright\",\"Lilly Reich\",\"George Maciunas\",\"August Sander\",\"Ben Kinmont\",\"Georges Rouault\",\"\\u00c9mile Bernard\",\"Sol LeWitt\",\"Aristide Maillol\",\"Andr\\u00e9 Derain\",\"Raoul Dufy\",\"Maurice Denis\",\"Joan Mir\\u00f3\",\"Fr\\u00e9d\\u00e9ric Bruly Bouabr\\u00e9\",\"Dorothea Lange\",\"Pierre Alechinsky\",\"Jan Dibbets\",\"Jasper Johns\",\"Various Artists\",\"Jim Dine\"],\"type\":\"bar\"},{\"marker\":{\"color\":\"#CEE0C6\",\"line\":{\"color\":\"rgb(248, 248, 249)\",\"width\":1}},\"name\":\"Fluxus Collection\",\"orientation\":\"h\",\"x\":[0.0,0.0,0.0,0.0,0.0,0.0,0.0,0.0,0.0,0.0,0.0,0.0,348.0,0.0,0.0,0.0,0.0,0.0,0.0,0.0,0.0,0.0,0.0,0.0,0.0,0.0,0.0,0.0,13.0,1.0],\"y\":[\"Eug\\u00e8ne Atget\",\"Louise Bourgeois\",\"Ludwig Mies van der Rohe\",\"Jean Dubuffet\",\"Lee Friedlander\",\"Pablo Picasso\",\"Ellsworth Kelly\",\"Marc Chagall\",\"Henri Matisse\",\"Pierre Bonnard\",\"Frank Lloyd Wright\",\"Lilly Reich\",\"George Maciunas\",\"August Sander\",\"Ben Kinmont\",\"Georges Rouault\",\"\\u00c9mile Bernard\",\"Sol LeWitt\",\"Aristide Maillol\",\"Andr\\u00e9 Derain\",\"Raoul Dufy\",\"Maurice Denis\",\"Joan Mir\\u00f3\",\"Fr\\u00e9d\\u00e9ric Bruly Bouabr\\u00e9\",\"Dorothea Lange\",\"Pierre Alechinsky\",\"Jan Dibbets\",\"Jasper Johns\",\"Various Artists\",\"Jim Dine\"],\"type\":\"bar\"},{\"marker\":{\"color\":\"#242545\",\"line\":{\"color\":\"rgb(248, 248, 249)\",\"width\":1}},\"name\":\"Media and Performance\",\"orientation\":\"h\",\"x\":[0.0,0.0,0.0,0.0,0.0,0.0,0.0,0.0,0.0,0.0,0.0,0.0,0.0,0.0,0.0,0.0,0.0,0.0,0.0,0.0,0.0,0.0,0.0,0.0,0.0,0.0,1.0,0.0,0.0,0.0],\"y\":[\"Eug\\u00e8ne Atget\",\"Louise Bourgeois\",\"Ludwig Mies van der Rohe\",\"Jean Dubuffet\",\"Lee Friedlander\",\"Pablo Picasso\",\"Ellsworth Kelly\",\"Marc Chagall\",\"Henri Matisse\",\"Pierre Bonnard\",\"Frank Lloyd Wright\",\"Lilly Reich\",\"George Maciunas\",\"August Sander\",\"Ben Kinmont\",\"Georges Rouault\",\"\\u00c9mile Bernard\",\"Sol LeWitt\",\"Aristide Maillol\",\"Andr\\u00e9 Derain\",\"Raoul Dufy\",\"Maurice Denis\",\"Joan Mir\\u00f3\",\"Fr\\u00e9d\\u00e9ric Bruly Bouabr\\u00e9\",\"Dorothea Lange\",\"Pierre Alechinsky\",\"Jan Dibbets\",\"Jasper Johns\",\"Various Artists\",\"Jim Dine\"],\"type\":\"bar\"},{\"marker\":{\"color\":\"#EF819C\",\"line\":{\"color\":\"rgb(248, 248, 249)\",\"width\":1}},\"name\":\"Painting & Sculpture\",\"orientation\":\"h\",\"x\":[0.0,11.0,0.0,32.0,0.0,72.0,17.0,3.0,52.0,5.0,0.0,0.0,0.0,0.0,0.0,2.0,1.0,11.0,8.0,10.0,2.0,0.0,30.0,0.0,0.0,0.0,1.0,13.0,0.0,6.0],\"y\":[\"Eug\\u00e8ne Atget\",\"Louise Bourgeois\",\"Ludwig Mies van der Rohe\",\"Jean Dubuffet\",\"Lee Friedlander\",\"Pablo Picasso\",\"Ellsworth Kelly\",\"Marc Chagall\",\"Henri Matisse\",\"Pierre Bonnard\",\"Frank Lloyd Wright\",\"Lilly Reich\",\"George Maciunas\",\"August Sander\",\"Ben Kinmont\",\"Georges Rouault\",\"\\u00c9mile Bernard\",\"Sol LeWitt\",\"Aristide Maillol\",\"Andr\\u00e9 Derain\",\"Raoul Dufy\",\"Maurice Denis\",\"Joan Mir\\u00f3\",\"Fr\\u00e9d\\u00e9ric Bruly Bouabr\\u00e9\",\"Dorothea Lange\",\"Pierre Alechinsky\",\"Jan Dibbets\",\"Jasper Johns\",\"Various Artists\",\"Jim Dine\"],\"type\":\"bar\"},{\"marker\":{\"color\":\"#F4B8D4\",\"line\":{\"color\":\"rgb(248, 248, 249)\",\"width\":1}},\"name\":\"Photography\",\"orientation\":\"h\",\"x\":[5050.0,0.0,0.0,0.0,1320.0,0.0,0.0,0.0,0.0,0.0,0.0,0.0,0.0,750.0,0.0,0.0,0.0,2.0,0.0,0.0,0.0,0.0,0.0,0.0,480.0,0.0,407.0,0.0,4.0,1.0],\"y\":[\"Eug\\u00e8ne Atget\",\"Louise Bourgeois\",\"Ludwig Mies van der Rohe\",\"Jean Dubuffet\",\"Lee Friedlander\",\"Pablo Picasso\",\"Ellsworth Kelly\",\"Marc Chagall\",\"Henri Matisse\",\"Pierre Bonnard\",\"Frank Lloyd Wright\",\"Lilly Reich\",\"George Maciunas\",\"August Sander\",\"Ben Kinmont\",\"Georges Rouault\",\"\\u00c9mile Bernard\",\"Sol LeWitt\",\"Aristide Maillol\",\"Andr\\u00e9 Derain\",\"Raoul Dufy\",\"Maurice Denis\",\"Joan Mir\\u00f3\",\"Fr\\u00e9d\\u00e9ric Bruly Bouabr\\u00e9\",\"Dorothea Lange\",\"Pierre Alechinsky\",\"Jan Dibbets\",\"Jasper Johns\",\"Various Artists\",\"Jim Dine\"],\"type\":\"bar\"}],                        {\"template\":{\"data\":{\"barpolar\":[{\"marker\":{\"line\":{\"color\":\"white\",\"width\":0.5},\"pattern\":{\"fillmode\":\"overlay\",\"size\":10,\"solidity\":0.2}},\"type\":\"barpolar\"}],\"bar\":[{\"error_x\":{\"color\":\"#2a3f5f\"},\"error_y\":{\"color\":\"#2a3f5f\"},\"marker\":{\"line\":{\"color\":\"white\",\"width\":0.5},\"pattern\":{\"fillmode\":\"overlay\",\"size\":10,\"solidity\":0.2}},\"type\":\"bar\"}],\"carpet\":[{\"aaxis\":{\"endlinecolor\":\"#2a3f5f\",\"gridcolor\":\"#C8D4E3\",\"linecolor\":\"#C8D4E3\",\"minorgridcolor\":\"#C8D4E3\",\"startlinecolor\":\"#2a3f5f\"},\"baxis\":{\"endlinecolor\":\"#2a3f5f\",\"gridcolor\":\"#C8D4E3\",\"linecolor\":\"#C8D4E3\",\"minorgridcolor\":\"#C8D4E3\",\"startlinecolor\":\"#2a3f5f\"},\"type\":\"carpet\"}],\"choropleth\":[{\"colorbar\":{\"outlinewidth\":0,\"ticks\":\"\"},\"type\":\"choropleth\"}],\"contourcarpet\":[{\"colorbar\":{\"outlinewidth\":0,\"ticks\":\"\"},\"type\":\"contourcarpet\"}],\"contour\":[{\"colorbar\":{\"outlinewidth\":0,\"ticks\":\"\"},\"colorscale\":[[0.0,\"#0d0887\"],[0.1111111111111111,\"#46039f\"],[0.2222222222222222,\"#7201a8\"],[0.3333333333333333,\"#9c179e\"],[0.4444444444444444,\"#bd3786\"],[0.5555555555555556,\"#d8576b\"],[0.6666666666666666,\"#ed7953\"],[0.7777777777777778,\"#fb9f3a\"],[0.8888888888888888,\"#fdca26\"],[1.0,\"#f0f921\"]],\"type\":\"contour\"}],\"heatmapgl\":[{\"colorbar\":{\"outlinewidth\":0,\"ticks\":\"\"},\"colorscale\":[[0.0,\"#0d0887\"],[0.1111111111111111,\"#46039f\"],[0.2222222222222222,\"#7201a8\"],[0.3333333333333333,\"#9c179e\"],[0.4444444444444444,\"#bd3786\"],[0.5555555555555556,\"#d8576b\"],[0.6666666666666666,\"#ed7953\"],[0.7777777777777778,\"#fb9f3a\"],[0.8888888888888888,\"#fdca26\"],[1.0,\"#f0f921\"]],\"type\":\"heatmapgl\"}],\"heatmap\":[{\"colorbar\":{\"outlinewidth\":0,\"ticks\":\"\"},\"colorscale\":[[0.0,\"#0d0887\"],[0.1111111111111111,\"#46039f\"],[0.2222222222222222,\"#7201a8\"],[0.3333333333333333,\"#9c179e\"],[0.4444444444444444,\"#bd3786\"],[0.5555555555555556,\"#d8576b\"],[0.6666666666666666,\"#ed7953\"],[0.7777777777777778,\"#fb9f3a\"],[0.8888888888888888,\"#fdca26\"],[1.0,\"#f0f921\"]],\"type\":\"heatmap\"}],\"histogram2dcontour\":[{\"colorbar\":{\"outlinewidth\":0,\"ticks\":\"\"},\"colorscale\":[[0.0,\"#0d0887\"],[0.1111111111111111,\"#46039f\"],[0.2222222222222222,\"#7201a8\"],[0.3333333333333333,\"#9c179e\"],[0.4444444444444444,\"#bd3786\"],[0.5555555555555556,\"#d8576b\"],[0.6666666666666666,\"#ed7953\"],[0.7777777777777778,\"#fb9f3a\"],[0.8888888888888888,\"#fdca26\"],[1.0,\"#f0f921\"]],\"type\":\"histogram2dcontour\"}],\"histogram2d\":[{\"colorbar\":{\"outlinewidth\":0,\"ticks\":\"\"},\"colorscale\":[[0.0,\"#0d0887\"],[0.1111111111111111,\"#46039f\"],[0.2222222222222222,\"#7201a8\"],[0.3333333333333333,\"#9c179e\"],[0.4444444444444444,\"#bd3786\"],[0.5555555555555556,\"#d8576b\"],[0.6666666666666666,\"#ed7953\"],[0.7777777777777778,\"#fb9f3a\"],[0.8888888888888888,\"#fdca26\"],[1.0,\"#f0f921\"]],\"type\":\"histogram2d\"}],\"histogram\":[{\"marker\":{\"pattern\":{\"fillmode\":\"overlay\",\"size\":10,\"solidity\":0.2}},\"type\":\"histogram\"}],\"mesh3d\":[{\"colorbar\":{\"outlinewidth\":0,\"ticks\":\"\"},\"type\":\"mesh3d\"}],\"parcoords\":[{\"line\":{\"colorbar\":{\"outlinewidth\":0,\"ticks\":\"\"}},\"type\":\"parcoords\"}],\"pie\":[{\"automargin\":true,\"type\":\"pie\"}],\"scatter3d\":[{\"line\":{\"colorbar\":{\"outlinewidth\":0,\"ticks\":\"\"}},\"marker\":{\"colorbar\":{\"outlinewidth\":0,\"ticks\":\"\"}},\"type\":\"scatter3d\"}],\"scattercarpet\":[{\"marker\":{\"colorbar\":{\"outlinewidth\":0,\"ticks\":\"\"}},\"type\":\"scattercarpet\"}],\"scattergeo\":[{\"marker\":{\"colorbar\":{\"outlinewidth\":0,\"ticks\":\"\"}},\"type\":\"scattergeo\"}],\"scattergl\":[{\"marker\":{\"colorbar\":{\"outlinewidth\":0,\"ticks\":\"\"}},\"type\":\"scattergl\"}],\"scattermapbox\":[{\"marker\":{\"colorbar\":{\"outlinewidth\":0,\"ticks\":\"\"}},\"type\":\"scattermapbox\"}],\"scatterpolargl\":[{\"marker\":{\"colorbar\":{\"outlinewidth\":0,\"ticks\":\"\"}},\"type\":\"scatterpolargl\"}],\"scatterpolar\":[{\"marker\":{\"colorbar\":{\"outlinewidth\":0,\"ticks\":\"\"}},\"type\":\"scatterpolar\"}],\"scatter\":[{\"fillpattern\":{\"fillmode\":\"overlay\",\"size\":10,\"solidity\":0.2},\"type\":\"scatter\"}],\"scatterternary\":[{\"marker\":{\"colorbar\":{\"outlinewidth\":0,\"ticks\":\"\"}},\"type\":\"scatterternary\"}],\"surface\":[{\"colorbar\":{\"outlinewidth\":0,\"ticks\":\"\"},\"colorscale\":[[0.0,\"#0d0887\"],[0.1111111111111111,\"#46039f\"],[0.2222222222222222,\"#7201a8\"],[0.3333333333333333,\"#9c179e\"],[0.4444444444444444,\"#bd3786\"],[0.5555555555555556,\"#d8576b\"],[0.6666666666666666,\"#ed7953\"],[0.7777777777777778,\"#fb9f3a\"],[0.8888888888888888,\"#fdca26\"],[1.0,\"#f0f921\"]],\"type\":\"surface\"}],\"table\":[{\"cells\":{\"fill\":{\"color\":\"#EBF0F8\"},\"line\":{\"color\":\"white\"}},\"header\":{\"fill\":{\"color\":\"#C8D4E3\"},\"line\":{\"color\":\"white\"}},\"type\":\"table\"}]},\"layout\":{\"annotationdefaults\":{\"arrowcolor\":\"#2a3f5f\",\"arrowhead\":0,\"arrowwidth\":1},\"autotypenumbers\":\"strict\",\"coloraxis\":{\"colorbar\":{\"outlinewidth\":0,\"ticks\":\"\"}},\"colorscale\":{\"diverging\":[[0,\"#8e0152\"],[0.1,\"#c51b7d\"],[0.2,\"#de77ae\"],[0.3,\"#f1b6da\"],[0.4,\"#fde0ef\"],[0.5,\"#f7f7f7\"],[0.6,\"#e6f5d0\"],[0.7,\"#b8e186\"],[0.8,\"#7fbc41\"],[0.9,\"#4d9221\"],[1,\"#276419\"]],\"sequential\":[[0.0,\"#0d0887\"],[0.1111111111111111,\"#46039f\"],[0.2222222222222222,\"#7201a8\"],[0.3333333333333333,\"#9c179e\"],[0.4444444444444444,\"#bd3786\"],[0.5555555555555556,\"#d8576b\"],[0.6666666666666666,\"#ed7953\"],[0.7777777777777778,\"#fb9f3a\"],[0.8888888888888888,\"#fdca26\"],[1.0,\"#f0f921\"]],\"sequentialminus\":[[0.0,\"#0d0887\"],[0.1111111111111111,\"#46039f\"],[0.2222222222222222,\"#7201a8\"],[0.3333333333333333,\"#9c179e\"],[0.4444444444444444,\"#bd3786\"],[0.5555555555555556,\"#d8576b\"],[0.6666666666666666,\"#ed7953\"],[0.7777777777777778,\"#fb9f3a\"],[0.8888888888888888,\"#fdca26\"],[1.0,\"#f0f921\"]]},\"colorway\":[\"#636efa\",\"#EF553B\",\"#00cc96\",\"#ab63fa\",\"#FFA15A\",\"#19d3f3\",\"#FF6692\",\"#B6E880\",\"#FF97FF\",\"#FECB52\"],\"font\":{\"color\":\"#2a3f5f\"},\"geo\":{\"bgcolor\":\"white\",\"lakecolor\":\"white\",\"landcolor\":\"white\",\"showlakes\":true,\"showland\":true,\"subunitcolor\":\"#C8D4E3\"},\"hoverlabel\":{\"align\":\"left\"},\"hovermode\":\"closest\",\"mapbox\":{\"style\":\"light\"},\"paper_bgcolor\":\"white\",\"plot_bgcolor\":\"white\",\"polar\":{\"angularaxis\":{\"gridcolor\":\"#EBF0F8\",\"linecolor\":\"#EBF0F8\",\"ticks\":\"\"},\"bgcolor\":\"white\",\"radialaxis\":{\"gridcolor\":\"#EBF0F8\",\"linecolor\":\"#EBF0F8\",\"ticks\":\"\"}},\"scene\":{\"xaxis\":{\"backgroundcolor\":\"white\",\"gridcolor\":\"#DFE8F3\",\"gridwidth\":2,\"linecolor\":\"#EBF0F8\",\"showbackground\":true,\"ticks\":\"\",\"zerolinecolor\":\"#EBF0F8\"},\"yaxis\":{\"backgroundcolor\":\"white\",\"gridcolor\":\"#DFE8F3\",\"gridwidth\":2,\"linecolor\":\"#EBF0F8\",\"showbackground\":true,\"ticks\":\"\",\"zerolinecolor\":\"#EBF0F8\"},\"zaxis\":{\"backgroundcolor\":\"white\",\"gridcolor\":\"#DFE8F3\",\"gridwidth\":2,\"linecolor\":\"#EBF0F8\",\"showbackground\":true,\"ticks\":\"\",\"zerolinecolor\":\"#EBF0F8\"}},\"shapedefaults\":{\"line\":{\"color\":\"#2a3f5f\"}},\"ternary\":{\"aaxis\":{\"gridcolor\":\"#DFE8F3\",\"linecolor\":\"#A2B1C6\",\"ticks\":\"\"},\"baxis\":{\"gridcolor\":\"#DFE8F3\",\"linecolor\":\"#A2B1C6\",\"ticks\":\"\"},\"bgcolor\":\"white\",\"caxis\":{\"gridcolor\":\"#DFE8F3\",\"linecolor\":\"#A2B1C6\",\"ticks\":\"\"}},\"title\":{\"x\":0.05},\"xaxis\":{\"automargin\":true,\"gridcolor\":\"#EBF0F8\",\"linecolor\":\"#EBF0F8\",\"ticks\":\"\",\"title\":{\"standoff\":15},\"zerolinecolor\":\"#EBF0F8\",\"zerolinewidth\":2},\"yaxis\":{\"automargin\":true,\"gridcolor\":\"#EBF0F8\",\"linecolor\":\"#EBF0F8\",\"ticks\":\"\",\"title\":{\"standoff\":15},\"zerolinecolor\":\"#EBF0F8\",\"zerolinewidth\":2}}},\"yaxis\":{\"autorange\":\"reversed\"},\"margin\":{\"l\":120,\"r\":10,\"t\":140,\"b\":80},\"height\":800,\"width\":1500,\"barmode\":\"stack\",\"showlegend\":true,\"autosize\":true,\"title\":{\"text\":\"Top 30 Artists whom MoMA Holds Most Works of\"}},                        {\"responsive\": true}                    ).then(function(){\n",
       "                            \n",
       "var gd = document.getElementById('061a7ed2-aac2-479d-aae5-12c102486b09');\n",
       "var x = new MutationObserver(function (mutations, observer) {{\n",
       "        var display = window.getComputedStyle(gd).display;\n",
       "        if (!display || display === 'none') {{\n",
       "            console.log([gd, 'removed!']);\n",
       "            Plotly.purge(gd);\n",
       "            observer.disconnect();\n",
       "        }}\n",
       "}});\n",
       "\n",
       "// Listen for the removal of the full notebook cells\n",
       "var notebookContainer = gd.closest('#notebook-container');\n",
       "if (notebookContainer) {{\n",
       "    x.observe(notebookContainer, {childList: true});\n",
       "}}\n",
       "\n",
       "// Listen for the clearing of the current output cell\n",
       "var outputEl = gd.closest('.output');\n",
       "if (outputEl) {{\n",
       "    x.observe(outputEl, {childList: true});\n",
       "}}\n",
       "\n",
       "                        })                };                });            </script>        </div>"
      ]
     },
     "metadata": {},
     "output_type": "display_data"
    }
   ],
   "source": [
    "fig = go.Figure()\n",
    "\n",
    "colors = ['#3A6C8C', '#0F3D3F','#B3D8EB','#728F4C','#CEE0C6','#242545','#EF819C','#F4B8D4']\n",
    "\n",
    "headings = ['Architecture & Design', 'Architecture & Design - Image Archive', 'Drawings & Prints', 'Film', 'Fluxus Collection', 'Media and Performance', 'Painting & Sculpture', 'Photography']\n",
    "\n",
    "\n",
    "\n",
    "import plotly.graph_objects as go\n",
    "\n",
    "\n",
    "x_data = np.transpose(moma_30_work_pivot.values)\n",
    "y_data = moma_30_work_pivot.index.values\n",
    "\n",
    "\n",
    "for heading, xd, colors in zip(headings, x_data, colors):\n",
    "    fig.add_trace(go.Bar(\n",
    "            x=xd, \n",
    "            y=y_data,\n",
    "            name=heading,\n",
    "            orientation='h',\n",
    "            marker=dict(\n",
    "                color=colors,\n",
    "                line=dict(color='rgb(248, 248, 249)', width=1)\n",
    "            )\n",
    "        ))\n",
    "\n",
    "fig.update_layout(\n",
    "    height=800,\n",
    "    width=1500,\n",
    "    yaxis=dict(autorange=\"reversed\"),\n",
    "    barmode='stack',\n",
    "    margin=dict(l=120, r=10, t=140, b=80),\n",
    "    showlegend=True,\n",
    "    template='plotly_white',\n",
    "    autosize=True,\n",
    "    title='Top 30 Artists whom MoMA Holds Most Works of'\n",
    ")\n",
    "\n",
    "\n",
    "\n",
    "fig.show()"
   ]
  },
  {
   "cell_type": "code",
   "execution_count": 444,
   "metadata": {
    "tags": []
   },
   "outputs": [
    {
     "data": {
      "application/vnd.plotly.v1+json": {
       "config": {
        "plotlyServerURL": "https://plot.ly"
       },
       "data": [
        {
         "marker": {
          "color": "#3A6C8C",
          "line": {
           "color": "rgb(248, 248, 249)",
           "width": 1
          }
         },
         "name": "Arts of Africa, Oceania, and the Americas",
         "orientation": "h",
         "type": "bar",
         "x": [
          14,
          0,
          0,
          0,
          0,
          0,
          0,
          0,
          0,
          0,
          0,
          0,
          0,
          0,
          0,
          0,
          0,
          0,
          0,
          0,
          0,
          0,
          0,
          0,
          0,
          0,
          0,
          0,
          0,
          0
         ],
         "y": [
          "Walker Evans",
          "Allen & Ginter",
          "Reginald Marsh",
          "Giovanni Battista Piranesi",
          "Auguste Edouart",
          "Jacques Callot|Israël Henriet",
          "Turkish Trophies Cigarettes",
          "Albrecht Dürer",
          "Jacques Androuet Du Cerceau",
          "Utagawa Hiroshige",
          "John Singer Sargent",
          "Jean Le Pautre|Pierre Mariette le fils",
          "Stefano della Bella",
          "T. Peters and Sons",
          "Giorgio di Sant'Angelo",
          "Jules-Edmond-Charles Lachaise|Eugène-Pierre Gourdet",
          "Jacques Callot",
          "James McNeill Whistler",
          "Meissen Manufactory",
          "André-Adolphe-Eugène Disdéri",
          "Stephen Shore",
          "Charles James",
          "Thomas Rowlandson",
          "Wenceslaus Hollar",
          "Alphonse Bertillon",
          "Katsushika Hokusai",
          "Currier & Ives",
          "David Octavius Hill|Robert  Adamson|Hill and Adamson",
          "Sir David Young Cameron",
          "Xie Zhiliu"
         ]
        },
        {
         "marker": {
          "color": "#dc596d",
          "line": {
           "color": "rgb(248, 248, 249)",
           "width": 1
          }
         },
         "name": "Asian Art",
         "orientation": "h",
         "type": "bar",
         "x": [
          0,
          0,
          0,
          0,
          0,
          0,
          0,
          0,
          0,
          664,
          0,
          0,
          0,
          0,
          0,
          0,
          0,
          0,
          0,
          0,
          0,
          0,
          0,
          0,
          0,
          384,
          0,
          0,
          0,
          365
         ],
         "y": [
          "Walker Evans",
          "Allen & Ginter",
          "Reginald Marsh",
          "Giovanni Battista Piranesi",
          "Auguste Edouart",
          "Jacques Callot|Israël Henriet",
          "Turkish Trophies Cigarettes",
          "Albrecht Dürer",
          "Jacques Androuet Du Cerceau",
          "Utagawa Hiroshige",
          "John Singer Sargent",
          "Jean Le Pautre|Pierre Mariette le fils",
          "Stefano della Bella",
          "T. Peters and Sons",
          "Giorgio di Sant'Angelo",
          "Jules-Edmond-Charles Lachaise|Eugène-Pierre Gourdet",
          "Jacques Callot",
          "James McNeill Whistler",
          "Meissen Manufactory",
          "André-Adolphe-Eugène Disdéri",
          "Stephen Shore",
          "Charles James",
          "Thomas Rowlandson",
          "Wenceslaus Hollar",
          "Alphonse Bertillon",
          "Katsushika Hokusai",
          "Currier & Ives",
          "David Octavius Hill|Robert  Adamson|Hill and Adamson",
          "Sir David Young Cameron",
          "Xie Zhiliu"
         ]
        },
        {
         "marker": {
          "color": "#B3D8EB",
          "line": {
           "color": "rgb(248, 248, 249)",
           "width": 1
          }
         },
         "name": "Costume Institute",
         "orientation": "h",
         "type": "bar",
         "x": [
          0,
          0,
          0,
          0,
          0,
          0,
          0,
          0,
          0,
          0,
          0,
          0,
          0,
          0,
          519,
          0,
          0,
          0,
          0,
          0,
          0,
          456,
          0,
          0,
          0,
          0,
          0,
          0,
          0,
          0
         ],
         "y": [
          "Walker Evans",
          "Allen & Ginter",
          "Reginald Marsh",
          "Giovanni Battista Piranesi",
          "Auguste Edouart",
          "Jacques Callot|Israël Henriet",
          "Turkish Trophies Cigarettes",
          "Albrecht Dürer",
          "Jacques Androuet Du Cerceau",
          "Utagawa Hiroshige",
          "John Singer Sargent",
          "Jean Le Pautre|Pierre Mariette le fils",
          "Stefano della Bella",
          "T. Peters and Sons",
          "Giorgio di Sant'Angelo",
          "Jules-Edmond-Charles Lachaise|Eugène-Pierre Gourdet",
          "Jacques Callot",
          "James McNeill Whistler",
          "Meissen Manufactory",
          "André-Adolphe-Eugène Disdéri",
          "Stephen Shore",
          "Charles James",
          "Thomas Rowlandson",
          "Wenceslaus Hollar",
          "Alphonse Bertillon",
          "Katsushika Hokusai",
          "Currier & Ives",
          "David Octavius Hill|Robert  Adamson|Hill and Adamson",
          "Sir David Young Cameron",
          "Xie Zhiliu"
         ]
        },
        {
         "marker": {
          "color": "#949EC3",
          "line": {
           "color": "rgb(248, 248, 249)",
           "width": 1
          }
         },
         "name": "Drawings and Prints",
         "orientation": "h",
         "type": "bar",
         "x": [
          0,
          2960,
          80,
          928,
          870,
          862,
          738,
          714,
          681,
          0,
          8,
          589,
          550,
          532,
          0,
          519,
          515,
          409,
          0,
          0,
          0,
          0,
          444,
          439,
          0,
          0,
          382,
          0,
          378,
          0
         ],
         "y": [
          "Walker Evans",
          "Allen & Ginter",
          "Reginald Marsh",
          "Giovanni Battista Piranesi",
          "Auguste Edouart",
          "Jacques Callot|Israël Henriet",
          "Turkish Trophies Cigarettes",
          "Albrecht Dürer",
          "Jacques Androuet Du Cerceau",
          "Utagawa Hiroshige",
          "John Singer Sargent",
          "Jean Le Pautre|Pierre Mariette le fils",
          "Stefano della Bella",
          "T. Peters and Sons",
          "Giorgio di Sant'Angelo",
          "Jules-Edmond-Charles Lachaise|Eugène-Pierre Gourdet",
          "Jacques Callot",
          "James McNeill Whistler",
          "Meissen Manufactory",
          "André-Adolphe-Eugène Disdéri",
          "Stephen Shore",
          "Charles James",
          "Thomas Rowlandson",
          "Wenceslaus Hollar",
          "Alphonse Bertillon",
          "Katsushika Hokusai",
          "Currier & Ives",
          "David Octavius Hill|Robert  Adamson|Hill and Adamson",
          "Sir David Young Cameron",
          "Xie Zhiliu"
         ]
        },
        {
         "marker": {
          "color": "#8B7099",
          "line": {
           "color": "rgb(248, 248, 249)",
           "width": 1
          }
         },
         "name": "European Paintings",
         "orientation": "h",
         "type": "bar",
         "x": [
          0,
          0,
          0,
          0,
          0,
          0,
          0,
          4,
          0,
          0,
          0,
          0,
          0,
          0,
          0,
          0,
          0,
          0,
          0,
          0,
          0,
          0,
          0,
          0,
          0,
          0,
          0,
          0,
          0,
          0
         ],
         "y": [
          "Walker Evans",
          "Allen & Ginter",
          "Reginald Marsh",
          "Giovanni Battista Piranesi",
          "Auguste Edouart",
          "Jacques Callot|Israël Henriet",
          "Turkish Trophies Cigarettes",
          "Albrecht Dürer",
          "Jacques Androuet Du Cerceau",
          "Utagawa Hiroshige",
          "John Singer Sargent",
          "Jean Le Pautre|Pierre Mariette le fils",
          "Stefano della Bella",
          "T. Peters and Sons",
          "Giorgio di Sant'Angelo",
          "Jules-Edmond-Charles Lachaise|Eugène-Pierre Gourdet",
          "Jacques Callot",
          "James McNeill Whistler",
          "Meissen Manufactory",
          "André-Adolphe-Eugène Disdéri",
          "Stephen Shore",
          "Charles James",
          "Thomas Rowlandson",
          "Wenceslaus Hollar",
          "Alphonse Bertillon",
          "Katsushika Hokusai",
          "Currier & Ives",
          "David Octavius Hill|Robert  Adamson|Hill and Adamson",
          "Sir David Young Cameron",
          "Xie Zhiliu"
         ]
        },
        {
         "marker": {
          "color": "#242545",
          "line": {
           "color": "rgb(248, 248, 249)",
           "width": 1
          }
         },
         "name": "European Sculpture and Decorative Arts",
         "orientation": "h",
         "type": "bar",
         "x": [
          0,
          0,
          0,
          0,
          0,
          0,
          0,
          2,
          4,
          0,
          0,
          0,
          0,
          0,
          0,
          0,
          0,
          0,
          497,
          0,
          0,
          0,
          0,
          2,
          0,
          0,
          0,
          0,
          0,
          0
         ],
         "y": [
          "Walker Evans",
          "Allen & Ginter",
          "Reginald Marsh",
          "Giovanni Battista Piranesi",
          "Auguste Edouart",
          "Jacques Callot|Israël Henriet",
          "Turkish Trophies Cigarettes",
          "Albrecht Dürer",
          "Jacques Androuet Du Cerceau",
          "Utagawa Hiroshige",
          "John Singer Sargent",
          "Jean Le Pautre|Pierre Mariette le fils",
          "Stefano della Bella",
          "T. Peters and Sons",
          "Giorgio di Sant'Angelo",
          "Jules-Edmond-Charles Lachaise|Eugène-Pierre Gourdet",
          "Jacques Callot",
          "James McNeill Whistler",
          "Meissen Manufactory",
          "André-Adolphe-Eugène Disdéri",
          "Stephen Shore",
          "Charles James",
          "Thomas Rowlandson",
          "Wenceslaus Hollar",
          "Alphonse Bertillon",
          "Katsushika Hokusai",
          "Currier & Ives",
          "David Octavius Hill|Robert  Adamson|Hill and Adamson",
          "Sir David Young Cameron",
          "Xie Zhiliu"
         ]
        },
        {
         "marker": {
          "color": "#EF819C",
          "line": {
           "color": "rgb(248, 248, 249)",
           "width": 1
          }
         },
         "name": "Modern and Contemporary Art",
         "orientation": "h",
         "type": "bar",
         "x": [
          0,
          0,
          925,
          0,
          0,
          0,
          0,
          0,
          0,
          0,
          4,
          0,
          0,
          0,
          0,
          0,
          0,
          1,
          0,
          0,
          0,
          0,
          0,
          0,
          0,
          0,
          0,
          0,
          0,
          0
         ],
         "y": [
          "Walker Evans",
          "Allen & Ginter",
          "Reginald Marsh",
          "Giovanni Battista Piranesi",
          "Auguste Edouart",
          "Jacques Callot|Israël Henriet",
          "Turkish Trophies Cigarettes",
          "Albrecht Dürer",
          "Jacques Androuet Du Cerceau",
          "Utagawa Hiroshige",
          "John Singer Sargent",
          "Jean Le Pautre|Pierre Mariette le fils",
          "Stefano della Bella",
          "T. Peters and Sons",
          "Giorgio di Sant'Angelo",
          "Jules-Edmond-Charles Lachaise|Eugène-Pierre Gourdet",
          "Jacques Callot",
          "James McNeill Whistler",
          "Meissen Manufactory",
          "André-Adolphe-Eugène Disdéri",
          "Stephen Shore",
          "Charles James",
          "Thomas Rowlandson",
          "Wenceslaus Hollar",
          "Alphonse Bertillon",
          "Katsushika Hokusai",
          "Currier & Ives",
          "David Octavius Hill|Robert  Adamson|Hill and Adamson",
          "Sir David Young Cameron",
          "Xie Zhiliu"
         ]
        },
        {
         "marker": {
          "color": "#F4B8D4",
          "line": {
           "color": "rgb(248, 248, 249)",
           "width": 1
          }
         },
         "name": "Photographs",
         "orientation": "h",
         "type": "bar",
         "x": [
          7541,
          0,
          0,
          1,
          0,
          0,
          0,
          0,
          0,
          0,
          0,
          0,
          0,
          0,
          0,
          0,
          0,
          0,
          0,
          491,
          477,
          0,
          0,
          0,
          439,
          0,
          0,
          378,
          0,
          0
         ],
         "y": [
          "Walker Evans",
          "Allen & Ginter",
          "Reginald Marsh",
          "Giovanni Battista Piranesi",
          "Auguste Edouart",
          "Jacques Callot|Israël Henriet",
          "Turkish Trophies Cigarettes",
          "Albrecht Dürer",
          "Jacques Androuet Du Cerceau",
          "Utagawa Hiroshige",
          "John Singer Sargent",
          "Jean Le Pautre|Pierre Mariette le fils",
          "Stefano della Bella",
          "T. Peters and Sons",
          "Giorgio di Sant'Angelo",
          "Jules-Edmond-Charles Lachaise|Eugène-Pierre Gourdet",
          "Jacques Callot",
          "James McNeill Whistler",
          "Meissen Manufactory",
          "André-Adolphe-Eugène Disdéri",
          "Stephen Shore",
          "Charles James",
          "Thomas Rowlandson",
          "Wenceslaus Hollar",
          "Alphonse Bertillon",
          "Katsushika Hokusai",
          "Currier & Ives",
          "David Octavius Hill|Robert  Adamson|Hill and Adamson",
          "Sir David Young Cameron",
          "Xie Zhiliu"
         ]
        },
        {
         "marker": {
          "color": "#728F4C",
          "line": {
           "color": "rgb(248, 248, 249)",
           "width": 1
          }
         },
         "name": "Robert Lehman Collection",
         "orientation": "h",
         "type": "bar",
         "x": [
          0,
          0,
          0,
          1,
          0,
          0,
          0,
          4,
          0,
          2,
          0,
          0,
          0,
          0,
          0,
          0,
          0,
          1,
          0,
          0,
          0,
          0,
          2,
          0,
          0,
          0,
          0,
          0,
          0,
          0
         ],
         "y": [
          "Walker Evans",
          "Allen & Ginter",
          "Reginald Marsh",
          "Giovanni Battista Piranesi",
          "Auguste Edouart",
          "Jacques Callot|Israël Henriet",
          "Turkish Trophies Cigarettes",
          "Albrecht Dürer",
          "Jacques Androuet Du Cerceau",
          "Utagawa Hiroshige",
          "John Singer Sargent",
          "Jean Le Pautre|Pierre Mariette le fils",
          "Stefano della Bella",
          "T. Peters and Sons",
          "Giorgio di Sant'Angelo",
          "Jules-Edmond-Charles Lachaise|Eugène-Pierre Gourdet",
          "Jacques Callot",
          "James McNeill Whistler",
          "Meissen Manufactory",
          "André-Adolphe-Eugène Disdéri",
          "Stephen Shore",
          "Charles James",
          "Thomas Rowlandson",
          "Wenceslaus Hollar",
          "Alphonse Bertillon",
          "Katsushika Hokusai",
          "Currier & Ives",
          "David Octavius Hill|Robert  Adamson|Hill and Adamson",
          "Sir David Young Cameron",
          "Xie Zhiliu"
         ]
        },
        {
         "marker": {
          "color": "#CEE0C6",
          "line": {
           "color": "rgb(248, 248, 249)",
           "width": 1
          }
         },
         "name": "The American Wing",
         "orientation": "h",
         "type": "bar",
         "x": [
          0,
          0,
          0,
          0,
          0,
          0,
          0,
          0,
          0,
          0,
          626,
          0,
          0,
          0,
          0,
          0,
          0,
          103,
          1,
          0,
          0,
          0,
          0,
          0,
          0,
          0,
          0,
          0,
          0,
          0
         ],
         "y": [
          "Walker Evans",
          "Allen & Ginter",
          "Reginald Marsh",
          "Giovanni Battista Piranesi",
          "Auguste Edouart",
          "Jacques Callot|Israël Henriet",
          "Turkish Trophies Cigarettes",
          "Albrecht Dürer",
          "Jacques Androuet Du Cerceau",
          "Utagawa Hiroshige",
          "John Singer Sargent",
          "Jean Le Pautre|Pierre Mariette le fils",
          "Stefano della Bella",
          "T. Peters and Sons",
          "Giorgio di Sant'Angelo",
          "Jules-Edmond-Charles Lachaise|Eugène-Pierre Gourdet",
          "Jacques Callot",
          "James McNeill Whistler",
          "Meissen Manufactory",
          "André-Adolphe-Eugène Disdéri",
          "Stephen Shore",
          "Charles James",
          "Thomas Rowlandson",
          "Wenceslaus Hollar",
          "Alphonse Bertillon",
          "Katsushika Hokusai",
          "Currier & Ives",
          "David Octavius Hill|Robert  Adamson|Hill and Adamson",
          "Sir David Young Cameron",
          "Xie Zhiliu"
         ]
        },
        {
         "marker": {
          "color": "#ffbb93",
          "line": {
           "color": "rgb(248, 248, 249)",
           "width": 1
          }
         },
         "name": "The Cloisters",
         "orientation": "h",
         "type": "bar",
         "x": [
          0,
          0,
          0,
          0,
          0,
          0,
          0,
          1,
          0,
          0,
          0,
          0,
          0,
          0,
          0,
          0,
          0,
          0,
          0,
          0,
          0,
          0,
          0,
          0,
          0,
          0,
          0,
          0,
          0,
          0
         ],
         "y": [
          "Walker Evans",
          "Allen & Ginter",
          "Reginald Marsh",
          "Giovanni Battista Piranesi",
          "Auguste Edouart",
          "Jacques Callot|Israël Henriet",
          "Turkish Trophies Cigarettes",
          "Albrecht Dürer",
          "Jacques Androuet Du Cerceau",
          "Utagawa Hiroshige",
          "John Singer Sargent",
          "Jean Le Pautre|Pierre Mariette le fils",
          "Stefano della Bella",
          "T. Peters and Sons",
          "Giorgio di Sant'Angelo",
          "Jules-Edmond-Charles Lachaise|Eugène-Pierre Gourdet",
          "Jacques Callot",
          "James McNeill Whistler",
          "Meissen Manufactory",
          "André-Adolphe-Eugène Disdéri",
          "Stephen Shore",
          "Charles James",
          "Thomas Rowlandson",
          "Wenceslaus Hollar",
          "Alphonse Bertillon",
          "Katsushika Hokusai",
          "Currier & Ives",
          "David Octavius Hill|Robert  Adamson|Hill and Adamson",
          "Sir David Young Cameron",
          "Xie Zhiliu"
         ]
        },
        {
         "marker": {
          "color": "#fa958f",
          "line": {
           "color": "rgb(248, 248, 249)",
           "width": 1
          }
         },
         "name": "The Libraries",
         "orientation": "h",
         "type": "bar",
         "x": [
          0,
          0,
          0,
          0,
          0,
          0,
          0,
          1,
          0,
          0,
          0,
          0,
          0,
          0,
          0,
          0,
          0,
          0,
          0,
          0,
          0,
          0,
          0,
          0,
          0,
          0,
          0,
          0,
          0,
          0
         ],
         "y": [
          "Walker Evans",
          "Allen & Ginter",
          "Reginald Marsh",
          "Giovanni Battista Piranesi",
          "Auguste Edouart",
          "Jacques Callot|Israël Henriet",
          "Turkish Trophies Cigarettes",
          "Albrecht Dürer",
          "Jacques Androuet Du Cerceau",
          "Utagawa Hiroshige",
          "John Singer Sargent",
          "Jean Le Pautre|Pierre Mariette le fils",
          "Stefano della Bella",
          "T. Peters and Sons",
          "Giorgio di Sant'Angelo",
          "Jules-Edmond-Charles Lachaise|Eugène-Pierre Gourdet",
          "Jacques Callot",
          "James McNeill Whistler",
          "Meissen Manufactory",
          "André-Adolphe-Eugène Disdéri",
          "Stephen Shore",
          "Charles James",
          "Thomas Rowlandson",
          "Wenceslaus Hollar",
          "Alphonse Bertillon",
          "Katsushika Hokusai",
          "Currier & Ives",
          "David Octavius Hill|Robert  Adamson|Hill and Adamson",
          "Sir David Young Cameron",
          "Xie Zhiliu"
         ]
        }
       ],
       "layout": {
        "autosize": true,
        "barmode": "stack",
        "height": 800,
        "margin": {
         "b": 80,
         "l": 120,
         "r": 10,
         "t": 140
        },
        "showlegend": true,
        "template": {
         "data": {
          "bar": [
           {
            "error_x": {
             "color": "#2a3f5f"
            },
            "error_y": {
             "color": "#2a3f5f"
            },
            "marker": {
             "line": {
              "color": "white",
              "width": 0.5
             },
             "pattern": {
              "fillmode": "overlay",
              "size": 10,
              "solidity": 0.2
             }
            },
            "type": "bar"
           }
          ],
          "barpolar": [
           {
            "marker": {
             "line": {
              "color": "white",
              "width": 0.5
             },
             "pattern": {
              "fillmode": "overlay",
              "size": 10,
              "solidity": 0.2
             }
            },
            "type": "barpolar"
           }
          ],
          "carpet": [
           {
            "aaxis": {
             "endlinecolor": "#2a3f5f",
             "gridcolor": "#C8D4E3",
             "linecolor": "#C8D4E3",
             "minorgridcolor": "#C8D4E3",
             "startlinecolor": "#2a3f5f"
            },
            "baxis": {
             "endlinecolor": "#2a3f5f",
             "gridcolor": "#C8D4E3",
             "linecolor": "#C8D4E3",
             "minorgridcolor": "#C8D4E3",
             "startlinecolor": "#2a3f5f"
            },
            "type": "carpet"
           }
          ],
          "choropleth": [
           {
            "colorbar": {
             "outlinewidth": 0,
             "ticks": ""
            },
            "type": "choropleth"
           }
          ],
          "contour": [
           {
            "colorbar": {
             "outlinewidth": 0,
             "ticks": ""
            },
            "colorscale": [
             [
              0,
              "#0d0887"
             ],
             [
              0.1111111111111111,
              "#46039f"
             ],
             [
              0.2222222222222222,
              "#7201a8"
             ],
             [
              0.3333333333333333,
              "#9c179e"
             ],
             [
              0.4444444444444444,
              "#bd3786"
             ],
             [
              0.5555555555555556,
              "#d8576b"
             ],
             [
              0.6666666666666666,
              "#ed7953"
             ],
             [
              0.7777777777777778,
              "#fb9f3a"
             ],
             [
              0.8888888888888888,
              "#fdca26"
             ],
             [
              1,
              "#f0f921"
             ]
            ],
            "type": "contour"
           }
          ],
          "contourcarpet": [
           {
            "colorbar": {
             "outlinewidth": 0,
             "ticks": ""
            },
            "type": "contourcarpet"
           }
          ],
          "heatmap": [
           {
            "colorbar": {
             "outlinewidth": 0,
             "ticks": ""
            },
            "colorscale": [
             [
              0,
              "#0d0887"
             ],
             [
              0.1111111111111111,
              "#46039f"
             ],
             [
              0.2222222222222222,
              "#7201a8"
             ],
             [
              0.3333333333333333,
              "#9c179e"
             ],
             [
              0.4444444444444444,
              "#bd3786"
             ],
             [
              0.5555555555555556,
              "#d8576b"
             ],
             [
              0.6666666666666666,
              "#ed7953"
             ],
             [
              0.7777777777777778,
              "#fb9f3a"
             ],
             [
              0.8888888888888888,
              "#fdca26"
             ],
             [
              1,
              "#f0f921"
             ]
            ],
            "type": "heatmap"
           }
          ],
          "heatmapgl": [
           {
            "colorbar": {
             "outlinewidth": 0,
             "ticks": ""
            },
            "colorscale": [
             [
              0,
              "#0d0887"
             ],
             [
              0.1111111111111111,
              "#46039f"
             ],
             [
              0.2222222222222222,
              "#7201a8"
             ],
             [
              0.3333333333333333,
              "#9c179e"
             ],
             [
              0.4444444444444444,
              "#bd3786"
             ],
             [
              0.5555555555555556,
              "#d8576b"
             ],
             [
              0.6666666666666666,
              "#ed7953"
             ],
             [
              0.7777777777777778,
              "#fb9f3a"
             ],
             [
              0.8888888888888888,
              "#fdca26"
             ],
             [
              1,
              "#f0f921"
             ]
            ],
            "type": "heatmapgl"
           }
          ],
          "histogram": [
           {
            "marker": {
             "pattern": {
              "fillmode": "overlay",
              "size": 10,
              "solidity": 0.2
             }
            },
            "type": "histogram"
           }
          ],
          "histogram2d": [
           {
            "colorbar": {
             "outlinewidth": 0,
             "ticks": ""
            },
            "colorscale": [
             [
              0,
              "#0d0887"
             ],
             [
              0.1111111111111111,
              "#46039f"
             ],
             [
              0.2222222222222222,
              "#7201a8"
             ],
             [
              0.3333333333333333,
              "#9c179e"
             ],
             [
              0.4444444444444444,
              "#bd3786"
             ],
             [
              0.5555555555555556,
              "#d8576b"
             ],
             [
              0.6666666666666666,
              "#ed7953"
             ],
             [
              0.7777777777777778,
              "#fb9f3a"
             ],
             [
              0.8888888888888888,
              "#fdca26"
             ],
             [
              1,
              "#f0f921"
             ]
            ],
            "type": "histogram2d"
           }
          ],
          "histogram2dcontour": [
           {
            "colorbar": {
             "outlinewidth": 0,
             "ticks": ""
            },
            "colorscale": [
             [
              0,
              "#0d0887"
             ],
             [
              0.1111111111111111,
              "#46039f"
             ],
             [
              0.2222222222222222,
              "#7201a8"
             ],
             [
              0.3333333333333333,
              "#9c179e"
             ],
             [
              0.4444444444444444,
              "#bd3786"
             ],
             [
              0.5555555555555556,
              "#d8576b"
             ],
             [
              0.6666666666666666,
              "#ed7953"
             ],
             [
              0.7777777777777778,
              "#fb9f3a"
             ],
             [
              0.8888888888888888,
              "#fdca26"
             ],
             [
              1,
              "#f0f921"
             ]
            ],
            "type": "histogram2dcontour"
           }
          ],
          "mesh3d": [
           {
            "colorbar": {
             "outlinewidth": 0,
             "ticks": ""
            },
            "type": "mesh3d"
           }
          ],
          "parcoords": [
           {
            "line": {
             "colorbar": {
              "outlinewidth": 0,
              "ticks": ""
             }
            },
            "type": "parcoords"
           }
          ],
          "pie": [
           {
            "automargin": true,
            "type": "pie"
           }
          ],
          "scatter": [
           {
            "fillpattern": {
             "fillmode": "overlay",
             "size": 10,
             "solidity": 0.2
            },
            "type": "scatter"
           }
          ],
          "scatter3d": [
           {
            "line": {
             "colorbar": {
              "outlinewidth": 0,
              "ticks": ""
             }
            },
            "marker": {
             "colorbar": {
              "outlinewidth": 0,
              "ticks": ""
             }
            },
            "type": "scatter3d"
           }
          ],
          "scattercarpet": [
           {
            "marker": {
             "colorbar": {
              "outlinewidth": 0,
              "ticks": ""
             }
            },
            "type": "scattercarpet"
           }
          ],
          "scattergeo": [
           {
            "marker": {
             "colorbar": {
              "outlinewidth": 0,
              "ticks": ""
             }
            },
            "type": "scattergeo"
           }
          ],
          "scattergl": [
           {
            "marker": {
             "colorbar": {
              "outlinewidth": 0,
              "ticks": ""
             }
            },
            "type": "scattergl"
           }
          ],
          "scattermapbox": [
           {
            "marker": {
             "colorbar": {
              "outlinewidth": 0,
              "ticks": ""
             }
            },
            "type": "scattermapbox"
           }
          ],
          "scatterpolar": [
           {
            "marker": {
             "colorbar": {
              "outlinewidth": 0,
              "ticks": ""
             }
            },
            "type": "scatterpolar"
           }
          ],
          "scatterpolargl": [
           {
            "marker": {
             "colorbar": {
              "outlinewidth": 0,
              "ticks": ""
             }
            },
            "type": "scatterpolargl"
           }
          ],
          "scatterternary": [
           {
            "marker": {
             "colorbar": {
              "outlinewidth": 0,
              "ticks": ""
             }
            },
            "type": "scatterternary"
           }
          ],
          "surface": [
           {
            "colorbar": {
             "outlinewidth": 0,
             "ticks": ""
            },
            "colorscale": [
             [
              0,
              "#0d0887"
             ],
             [
              0.1111111111111111,
              "#46039f"
             ],
             [
              0.2222222222222222,
              "#7201a8"
             ],
             [
              0.3333333333333333,
              "#9c179e"
             ],
             [
              0.4444444444444444,
              "#bd3786"
             ],
             [
              0.5555555555555556,
              "#d8576b"
             ],
             [
              0.6666666666666666,
              "#ed7953"
             ],
             [
              0.7777777777777778,
              "#fb9f3a"
             ],
             [
              0.8888888888888888,
              "#fdca26"
             ],
             [
              1,
              "#f0f921"
             ]
            ],
            "type": "surface"
           }
          ],
          "table": [
           {
            "cells": {
             "fill": {
              "color": "#EBF0F8"
             },
             "line": {
              "color": "white"
             }
            },
            "header": {
             "fill": {
              "color": "#C8D4E3"
             },
             "line": {
              "color": "white"
             }
            },
            "type": "table"
           }
          ]
         },
         "layout": {
          "annotationdefaults": {
           "arrowcolor": "#2a3f5f",
           "arrowhead": 0,
           "arrowwidth": 1
          },
          "autotypenumbers": "strict",
          "coloraxis": {
           "colorbar": {
            "outlinewidth": 0,
            "ticks": ""
           }
          },
          "colorscale": {
           "diverging": [
            [
             0,
             "#8e0152"
            ],
            [
             0.1,
             "#c51b7d"
            ],
            [
             0.2,
             "#de77ae"
            ],
            [
             0.3,
             "#f1b6da"
            ],
            [
             0.4,
             "#fde0ef"
            ],
            [
             0.5,
             "#f7f7f7"
            ],
            [
             0.6,
             "#e6f5d0"
            ],
            [
             0.7,
             "#b8e186"
            ],
            [
             0.8,
             "#7fbc41"
            ],
            [
             0.9,
             "#4d9221"
            ],
            [
             1,
             "#276419"
            ]
           ],
           "sequential": [
            [
             0,
             "#0d0887"
            ],
            [
             0.1111111111111111,
             "#46039f"
            ],
            [
             0.2222222222222222,
             "#7201a8"
            ],
            [
             0.3333333333333333,
             "#9c179e"
            ],
            [
             0.4444444444444444,
             "#bd3786"
            ],
            [
             0.5555555555555556,
             "#d8576b"
            ],
            [
             0.6666666666666666,
             "#ed7953"
            ],
            [
             0.7777777777777778,
             "#fb9f3a"
            ],
            [
             0.8888888888888888,
             "#fdca26"
            ],
            [
             1,
             "#f0f921"
            ]
           ],
           "sequentialminus": [
            [
             0,
             "#0d0887"
            ],
            [
             0.1111111111111111,
             "#46039f"
            ],
            [
             0.2222222222222222,
             "#7201a8"
            ],
            [
             0.3333333333333333,
             "#9c179e"
            ],
            [
             0.4444444444444444,
             "#bd3786"
            ],
            [
             0.5555555555555556,
             "#d8576b"
            ],
            [
             0.6666666666666666,
             "#ed7953"
            ],
            [
             0.7777777777777778,
             "#fb9f3a"
            ],
            [
             0.8888888888888888,
             "#fdca26"
            ],
            [
             1,
             "#f0f921"
            ]
           ]
          },
          "colorway": [
           "#636efa",
           "#EF553B",
           "#00cc96",
           "#ab63fa",
           "#FFA15A",
           "#19d3f3",
           "#FF6692",
           "#B6E880",
           "#FF97FF",
           "#FECB52"
          ],
          "font": {
           "color": "#2a3f5f"
          },
          "geo": {
           "bgcolor": "white",
           "lakecolor": "white",
           "landcolor": "white",
           "showlakes": true,
           "showland": true,
           "subunitcolor": "#C8D4E3"
          },
          "hoverlabel": {
           "align": "left"
          },
          "hovermode": "closest",
          "mapbox": {
           "style": "light"
          },
          "paper_bgcolor": "white",
          "plot_bgcolor": "white",
          "polar": {
           "angularaxis": {
            "gridcolor": "#EBF0F8",
            "linecolor": "#EBF0F8",
            "ticks": ""
           },
           "bgcolor": "white",
           "radialaxis": {
            "gridcolor": "#EBF0F8",
            "linecolor": "#EBF0F8",
            "ticks": ""
           }
          },
          "scene": {
           "xaxis": {
            "backgroundcolor": "white",
            "gridcolor": "#DFE8F3",
            "gridwidth": 2,
            "linecolor": "#EBF0F8",
            "showbackground": true,
            "ticks": "",
            "zerolinecolor": "#EBF0F8"
           },
           "yaxis": {
            "backgroundcolor": "white",
            "gridcolor": "#DFE8F3",
            "gridwidth": 2,
            "linecolor": "#EBF0F8",
            "showbackground": true,
            "ticks": "",
            "zerolinecolor": "#EBF0F8"
           },
           "zaxis": {
            "backgroundcolor": "white",
            "gridcolor": "#DFE8F3",
            "gridwidth": 2,
            "linecolor": "#EBF0F8",
            "showbackground": true,
            "ticks": "",
            "zerolinecolor": "#EBF0F8"
           }
          },
          "shapedefaults": {
           "line": {
            "color": "#2a3f5f"
           }
          },
          "ternary": {
           "aaxis": {
            "gridcolor": "#DFE8F3",
            "linecolor": "#A2B1C6",
            "ticks": ""
           },
           "baxis": {
            "gridcolor": "#DFE8F3",
            "linecolor": "#A2B1C6",
            "ticks": ""
           },
           "bgcolor": "white",
           "caxis": {
            "gridcolor": "#DFE8F3",
            "linecolor": "#A2B1C6",
            "ticks": ""
           }
          },
          "title": {
           "x": 0.05
          },
          "xaxis": {
           "automargin": true,
           "gridcolor": "#EBF0F8",
           "linecolor": "#EBF0F8",
           "ticks": "",
           "title": {
            "standoff": 15
           },
           "zerolinecolor": "#EBF0F8",
           "zerolinewidth": 2
          },
          "yaxis": {
           "automargin": true,
           "gridcolor": "#EBF0F8",
           "linecolor": "#EBF0F8",
           "ticks": "",
           "title": {
            "standoff": 15
           },
           "zerolinecolor": "#EBF0F8",
           "zerolinewidth": 2
          }
         }
        },
        "title": {
         "text": "Top 30 Artists whom the Met Holds Most Works of"
        },
        "width": 1500,
        "xaxis": {
         "autorange": true,
         "range": [
          0,
          7952.631578947368
         ],
         "type": "linear"
        },
        "yaxis": {
         "autorange": true,
         "range": [
          29.5,
          -0.5
         ],
         "type": "category"
        }
       }
      },
      "image/png": "[encoded data removed]",
      "text/html": [
       "<div>                            <div id=\"8eee827a-a97a-4d28-a4ab-59dfa57e87cb\" class=\"plotly-graph-div\" style=\"height:800px; width:1500px;\"></div>            <script type=\"text/javascript\">                require([\"plotly\"], function(Plotly) {                    window.PLOTLYENV=window.PLOTLYENV || {};                                    if (document.getElementById(\"8eee827a-a97a-4d28-a4ab-59dfa57e87cb\")) {                    Plotly.newPlot(                        \"8eee827a-a97a-4d28-a4ab-59dfa57e87cb\",                        [{\"marker\":{\"color\":\"#3A6C8C\",\"line\":{\"color\":\"rgb(248, 248, 249)\",\"width\":1}},\"name\":\"Arts of Africa, Oceania, and the Americas\",\"orientation\":\"h\",\"x\":[14.0,0.0,0.0,0.0,0.0,0.0,0.0,0.0,0.0,0.0,0.0,0.0,0.0,0.0,0.0,0.0,0.0,0.0,0.0,0.0,0.0,0.0,0.0,0.0,0.0,0.0,0.0,0.0,0.0,0.0],\"y\":[\"Walker Evans\",\"Allen & Ginter\",\"Reginald Marsh\",\"Giovanni Battista Piranesi\",\"Auguste Edouart\",\"Jacques Callot|Isra\\u00ebl Henriet\",\"Turkish Trophies Cigarettes\",\"Albrecht D\\u00fcrer\",\"Jacques Androuet Du Cerceau\",\"Utagawa Hiroshige\",\"John Singer Sargent\",\"Jean Le Pautre|Pierre Mariette le fils\",\"Stefano della Bella\",\"T. Peters and Sons\",\"Giorgio di Sant'Angelo\",\"Jules-Edmond-Charles Lachaise|Eug\\u00e8ne-Pierre Gourdet\",\"Jacques Callot\",\"James McNeill Whistler\",\"Meissen Manufactory\",\"Andr\\u00e9-Adolphe-Eug\\u00e8ne Disd\\u00e9ri\",\"Stephen Shore\",\"Charles James\",\"Thomas Rowlandson\",\"Wenceslaus Hollar\",\"Alphonse Bertillon\",\"Katsushika Hokusai\",\"Currier & Ives\",\"David Octavius Hill|Robert  Adamson|Hill and Adamson\",\"Sir David Young Cameron\",\"Xie Zhiliu\"],\"type\":\"bar\"},{\"marker\":{\"color\":\"#dc596d\",\"line\":{\"color\":\"rgb(248, 248, 249)\",\"width\":1}},\"name\":\"Asian Art\",\"orientation\":\"h\",\"x\":[0.0,0.0,0.0,0.0,0.0,0.0,0.0,0.0,0.0,664.0,0.0,0.0,0.0,0.0,0.0,0.0,0.0,0.0,0.0,0.0,0.0,0.0,0.0,0.0,0.0,384.0,0.0,0.0,0.0,365.0],\"y\":[\"Walker Evans\",\"Allen & Ginter\",\"Reginald Marsh\",\"Giovanni Battista Piranesi\",\"Auguste Edouart\",\"Jacques Callot|Isra\\u00ebl Henriet\",\"Turkish Trophies Cigarettes\",\"Albrecht D\\u00fcrer\",\"Jacques Androuet Du Cerceau\",\"Utagawa Hiroshige\",\"John Singer Sargent\",\"Jean Le Pautre|Pierre Mariette le fils\",\"Stefano della Bella\",\"T. Peters and Sons\",\"Giorgio di Sant'Angelo\",\"Jules-Edmond-Charles Lachaise|Eug\\u00e8ne-Pierre Gourdet\",\"Jacques Callot\",\"James McNeill Whistler\",\"Meissen Manufactory\",\"Andr\\u00e9-Adolphe-Eug\\u00e8ne Disd\\u00e9ri\",\"Stephen Shore\",\"Charles James\",\"Thomas Rowlandson\",\"Wenceslaus Hollar\",\"Alphonse Bertillon\",\"Katsushika Hokusai\",\"Currier & Ives\",\"David Octavius Hill|Robert  Adamson|Hill and Adamson\",\"Sir David Young Cameron\",\"Xie Zhiliu\"],\"type\":\"bar\"},{\"marker\":{\"color\":\"#B3D8EB\",\"line\":{\"color\":\"rgb(248, 248, 249)\",\"width\":1}},\"name\":\"Costume Institute\",\"orientation\":\"h\",\"x\":[0.0,0.0,0.0,0.0,0.0,0.0,0.0,0.0,0.0,0.0,0.0,0.0,0.0,0.0,519.0,0.0,0.0,0.0,0.0,0.0,0.0,456.0,0.0,0.0,0.0,0.0,0.0,0.0,0.0,0.0],\"y\":[\"Walker Evans\",\"Allen & Ginter\",\"Reginald Marsh\",\"Giovanni Battista Piranesi\",\"Auguste Edouart\",\"Jacques Callot|Isra\\u00ebl Henriet\",\"Turkish Trophies Cigarettes\",\"Albrecht D\\u00fcrer\",\"Jacques Androuet Du Cerceau\",\"Utagawa Hiroshige\",\"John Singer Sargent\",\"Jean Le Pautre|Pierre Mariette le fils\",\"Stefano della Bella\",\"T. Peters and Sons\",\"Giorgio di Sant'Angelo\",\"Jules-Edmond-Charles Lachaise|Eug\\u00e8ne-Pierre Gourdet\",\"Jacques Callot\",\"James McNeill Whistler\",\"Meissen Manufactory\",\"Andr\\u00e9-Adolphe-Eug\\u00e8ne Disd\\u00e9ri\",\"Stephen Shore\",\"Charles James\",\"Thomas Rowlandson\",\"Wenceslaus Hollar\",\"Alphonse Bertillon\",\"Katsushika Hokusai\",\"Currier & Ives\",\"David Octavius Hill|Robert  Adamson|Hill and Adamson\",\"Sir David Young Cameron\",\"Xie Zhiliu\"],\"type\":\"bar\"},{\"marker\":{\"color\":\"#949EC3\",\"line\":{\"color\":\"rgb(248, 248, 249)\",\"width\":1}},\"name\":\"Drawings and Prints\",\"orientation\":\"h\",\"x\":[0.0,2960.0,80.0,928.0,870.0,862.0,738.0,714.0,681.0,0.0,8.0,589.0,550.0,532.0,0.0,519.0,515.0,409.0,0.0,0.0,0.0,0.0,444.0,439.0,0.0,0.0,382.0,0.0,378.0,0.0],\"y\":[\"Walker Evans\",\"Allen & Ginter\",\"Reginald Marsh\",\"Giovanni Battista Piranesi\",\"Auguste Edouart\",\"Jacques Callot|Isra\\u00ebl Henriet\",\"Turkish Trophies Cigarettes\",\"Albrecht D\\u00fcrer\",\"Jacques Androuet Du Cerceau\",\"Utagawa Hiroshige\",\"John Singer Sargent\",\"Jean Le Pautre|Pierre Mariette le fils\",\"Stefano della Bella\",\"T. Peters and Sons\",\"Giorgio di Sant'Angelo\",\"Jules-Edmond-Charles Lachaise|Eug\\u00e8ne-Pierre Gourdet\",\"Jacques Callot\",\"James McNeill Whistler\",\"Meissen Manufactory\",\"Andr\\u00e9-Adolphe-Eug\\u00e8ne Disd\\u00e9ri\",\"Stephen Shore\",\"Charles James\",\"Thomas Rowlandson\",\"Wenceslaus Hollar\",\"Alphonse Bertillon\",\"Katsushika Hokusai\",\"Currier & Ives\",\"David Octavius Hill|Robert  Adamson|Hill and Adamson\",\"Sir David Young Cameron\",\"Xie Zhiliu\"],\"type\":\"bar\"},{\"marker\":{\"color\":\"#8B7099\",\"line\":{\"color\":\"rgb(248, 248, 249)\",\"width\":1}},\"name\":\"European Paintings\",\"orientation\":\"h\",\"x\":[0.0,0.0,0.0,0.0,0.0,0.0,0.0,4.0,0.0,0.0,0.0,0.0,0.0,0.0,0.0,0.0,0.0,0.0,0.0,0.0,0.0,0.0,0.0,0.0,0.0,0.0,0.0,0.0,0.0,0.0],\"y\":[\"Walker Evans\",\"Allen & Ginter\",\"Reginald Marsh\",\"Giovanni Battista Piranesi\",\"Auguste Edouart\",\"Jacques Callot|Isra\\u00ebl Henriet\",\"Turkish Trophies Cigarettes\",\"Albrecht D\\u00fcrer\",\"Jacques Androuet Du Cerceau\",\"Utagawa Hiroshige\",\"John Singer Sargent\",\"Jean Le Pautre|Pierre Mariette le fils\",\"Stefano della Bella\",\"T. Peters and Sons\",\"Giorgio di Sant'Angelo\",\"Jules-Edmond-Charles Lachaise|Eug\\u00e8ne-Pierre Gourdet\",\"Jacques Callot\",\"James McNeill Whistler\",\"Meissen Manufactory\",\"Andr\\u00e9-Adolphe-Eug\\u00e8ne Disd\\u00e9ri\",\"Stephen Shore\",\"Charles James\",\"Thomas Rowlandson\",\"Wenceslaus Hollar\",\"Alphonse Bertillon\",\"Katsushika Hokusai\",\"Currier & Ives\",\"David Octavius Hill|Robert  Adamson|Hill and Adamson\",\"Sir David Young Cameron\",\"Xie Zhiliu\"],\"type\":\"bar\"},{\"marker\":{\"color\":\"#242545\",\"line\":{\"color\":\"rgb(248, 248, 249)\",\"width\":1}},\"name\":\"European Sculpture and Decorative Arts\",\"orientation\":\"h\",\"x\":[0.0,0.0,0.0,0.0,0.0,0.0,0.0,2.0,4.0,0.0,0.0,0.0,0.0,0.0,0.0,0.0,0.0,0.0,497.0,0.0,0.0,0.0,0.0,2.0,0.0,0.0,0.0,0.0,0.0,0.0],\"y\":[\"Walker Evans\",\"Allen & Ginter\",\"Reginald Marsh\",\"Giovanni Battista Piranesi\",\"Auguste Edouart\",\"Jacques Callot|Isra\\u00ebl Henriet\",\"Turkish Trophies Cigarettes\",\"Albrecht D\\u00fcrer\",\"Jacques Androuet Du Cerceau\",\"Utagawa Hiroshige\",\"John Singer Sargent\",\"Jean Le Pautre|Pierre Mariette le fils\",\"Stefano della Bella\",\"T. Peters and Sons\",\"Giorgio di Sant'Angelo\",\"Jules-Edmond-Charles Lachaise|Eug\\u00e8ne-Pierre Gourdet\",\"Jacques Callot\",\"James McNeill Whistler\",\"Meissen Manufactory\",\"Andr\\u00e9-Adolphe-Eug\\u00e8ne Disd\\u00e9ri\",\"Stephen Shore\",\"Charles James\",\"Thomas Rowlandson\",\"Wenceslaus Hollar\",\"Alphonse Bertillon\",\"Katsushika Hokusai\",\"Currier & Ives\",\"David Octavius Hill|Robert  Adamson|Hill and Adamson\",\"Sir David Young Cameron\",\"Xie Zhiliu\"],\"type\":\"bar\"},{\"marker\":{\"color\":\"#EF819C\",\"line\":{\"color\":\"rgb(248, 248, 249)\",\"width\":1}},\"name\":\"Modern and Contemporary Art\",\"orientation\":\"h\",\"x\":[0.0,0.0,925.0,0.0,0.0,0.0,0.0,0.0,0.0,0.0,4.0,0.0,0.0,0.0,0.0,0.0,0.0,1.0,0.0,0.0,0.0,0.0,0.0,0.0,0.0,0.0,0.0,0.0,0.0,0.0],\"y\":[\"Walker Evans\",\"Allen & Ginter\",\"Reginald Marsh\",\"Giovanni Battista Piranesi\",\"Auguste Edouart\",\"Jacques Callot|Isra\\u00ebl Henriet\",\"Turkish Trophies Cigarettes\",\"Albrecht D\\u00fcrer\",\"Jacques Androuet Du Cerceau\",\"Utagawa Hiroshige\",\"John Singer Sargent\",\"Jean Le Pautre|Pierre Mariette le fils\",\"Stefano della Bella\",\"T. Peters and Sons\",\"Giorgio di Sant'Angelo\",\"Jules-Edmond-Charles Lachaise|Eug\\u00e8ne-Pierre Gourdet\",\"Jacques Callot\",\"James McNeill Whistler\",\"Meissen Manufactory\",\"Andr\\u00e9-Adolphe-Eug\\u00e8ne Disd\\u00e9ri\",\"Stephen Shore\",\"Charles James\",\"Thomas Rowlandson\",\"Wenceslaus Hollar\",\"Alphonse Bertillon\",\"Katsushika Hokusai\",\"Currier & Ives\",\"David Octavius Hill|Robert  Adamson|Hill and Adamson\",\"Sir David Young Cameron\",\"Xie Zhiliu\"],\"type\":\"bar\"},{\"marker\":{\"color\":\"#F4B8D4\",\"line\":{\"color\":\"rgb(248, 248, 249)\",\"width\":1}},\"name\":\"Photographs\",\"orientation\":\"h\",\"x\":[7541.0,0.0,0.0,1.0,0.0,0.0,0.0,0.0,0.0,0.0,0.0,0.0,0.0,0.0,0.0,0.0,0.0,0.0,0.0,491.0,477.0,0.0,0.0,0.0,439.0,0.0,0.0,378.0,0.0,0.0],\"y\":[\"Walker Evans\",\"Allen & Ginter\",\"Reginald Marsh\",\"Giovanni Battista Piranesi\",\"Auguste Edouart\",\"Jacques Callot|Isra\\u00ebl Henriet\",\"Turkish Trophies Cigarettes\",\"Albrecht D\\u00fcrer\",\"Jacques Androuet Du Cerceau\",\"Utagawa Hiroshige\",\"John Singer Sargent\",\"Jean Le Pautre|Pierre Mariette le fils\",\"Stefano della Bella\",\"T. Peters and Sons\",\"Giorgio di Sant'Angelo\",\"Jules-Edmond-Charles Lachaise|Eug\\u00e8ne-Pierre Gourdet\",\"Jacques Callot\",\"James McNeill Whistler\",\"Meissen Manufactory\",\"Andr\\u00e9-Adolphe-Eug\\u00e8ne Disd\\u00e9ri\",\"Stephen Shore\",\"Charles James\",\"Thomas Rowlandson\",\"Wenceslaus Hollar\",\"Alphonse Bertillon\",\"Katsushika Hokusai\",\"Currier & Ives\",\"David Octavius Hill|Robert  Adamson|Hill and Adamson\",\"Sir David Young Cameron\",\"Xie Zhiliu\"],\"type\":\"bar\"},{\"marker\":{\"color\":\"#728F4C\",\"line\":{\"color\":\"rgb(248, 248, 249)\",\"width\":1}},\"name\":\"Robert Lehman Collection\",\"orientation\":\"h\",\"x\":[0.0,0.0,0.0,1.0,0.0,0.0,0.0,4.0,0.0,2.0,0.0,0.0,0.0,0.0,0.0,0.0,0.0,1.0,0.0,0.0,0.0,0.0,2.0,0.0,0.0,0.0,0.0,0.0,0.0,0.0],\"y\":[\"Walker Evans\",\"Allen & Ginter\",\"Reginald Marsh\",\"Giovanni Battista Piranesi\",\"Auguste Edouart\",\"Jacques Callot|Isra\\u00ebl Henriet\",\"Turkish Trophies Cigarettes\",\"Albrecht D\\u00fcrer\",\"Jacques Androuet Du Cerceau\",\"Utagawa Hiroshige\",\"John Singer Sargent\",\"Jean Le Pautre|Pierre Mariette le fils\",\"Stefano della Bella\",\"T. Peters and Sons\",\"Giorgio di Sant'Angelo\",\"Jules-Edmond-Charles Lachaise|Eug\\u00e8ne-Pierre Gourdet\",\"Jacques Callot\",\"James McNeill Whistler\",\"Meissen Manufactory\",\"Andr\\u00e9-Adolphe-Eug\\u00e8ne Disd\\u00e9ri\",\"Stephen Shore\",\"Charles James\",\"Thomas Rowlandson\",\"Wenceslaus Hollar\",\"Alphonse Bertillon\",\"Katsushika Hokusai\",\"Currier & Ives\",\"David Octavius Hill|Robert  Adamson|Hill and Adamson\",\"Sir David Young Cameron\",\"Xie Zhiliu\"],\"type\":\"bar\"},{\"marker\":{\"color\":\"#CEE0C6\",\"line\":{\"color\":\"rgb(248, 248, 249)\",\"width\":1}},\"name\":\"The American Wing\",\"orientation\":\"h\",\"x\":[0.0,0.0,0.0,0.0,0.0,0.0,0.0,0.0,0.0,0.0,626.0,0.0,0.0,0.0,0.0,0.0,0.0,103.0,1.0,0.0,0.0,0.0,0.0,0.0,0.0,0.0,0.0,0.0,0.0,0.0],\"y\":[\"Walker Evans\",\"Allen & Ginter\",\"Reginald Marsh\",\"Giovanni Battista Piranesi\",\"Auguste Edouart\",\"Jacques Callot|Isra\\u00ebl Henriet\",\"Turkish Trophies Cigarettes\",\"Albrecht D\\u00fcrer\",\"Jacques Androuet Du Cerceau\",\"Utagawa Hiroshige\",\"John Singer Sargent\",\"Jean Le Pautre|Pierre Mariette le fils\",\"Stefano della Bella\",\"T. Peters and Sons\",\"Giorgio di Sant'Angelo\",\"Jules-Edmond-Charles Lachaise|Eug\\u00e8ne-Pierre Gourdet\",\"Jacques Callot\",\"James McNeill Whistler\",\"Meissen Manufactory\",\"Andr\\u00e9-Adolphe-Eug\\u00e8ne Disd\\u00e9ri\",\"Stephen Shore\",\"Charles James\",\"Thomas Rowlandson\",\"Wenceslaus Hollar\",\"Alphonse Bertillon\",\"Katsushika Hokusai\",\"Currier & Ives\",\"David Octavius Hill|Robert  Adamson|Hill and Adamson\",\"Sir David Young Cameron\",\"Xie Zhiliu\"],\"type\":\"bar\"},{\"marker\":{\"color\":\"#ffbb93\",\"line\":{\"color\":\"rgb(248, 248, 249)\",\"width\":1}},\"name\":\"The Cloisters\",\"orientation\":\"h\",\"x\":[0.0,0.0,0.0,0.0,0.0,0.0,0.0,1.0,0.0,0.0,0.0,0.0,0.0,0.0,0.0,0.0,0.0,0.0,0.0,0.0,0.0,0.0,0.0,0.0,0.0,0.0,0.0,0.0,0.0,0.0],\"y\":[\"Walker Evans\",\"Allen & Ginter\",\"Reginald Marsh\",\"Giovanni Battista Piranesi\",\"Auguste Edouart\",\"Jacques Callot|Isra\\u00ebl Henriet\",\"Turkish Trophies Cigarettes\",\"Albrecht D\\u00fcrer\",\"Jacques Androuet Du Cerceau\",\"Utagawa Hiroshige\",\"John Singer Sargent\",\"Jean Le Pautre|Pierre Mariette le fils\",\"Stefano della Bella\",\"T. Peters and Sons\",\"Giorgio di Sant'Angelo\",\"Jules-Edmond-Charles Lachaise|Eug\\u00e8ne-Pierre Gourdet\",\"Jacques Callot\",\"James McNeill Whistler\",\"Meissen Manufactory\",\"Andr\\u00e9-Adolphe-Eug\\u00e8ne Disd\\u00e9ri\",\"Stephen Shore\",\"Charles James\",\"Thomas Rowlandson\",\"Wenceslaus Hollar\",\"Alphonse Bertillon\",\"Katsushika Hokusai\",\"Currier & Ives\",\"David Octavius Hill|Robert  Adamson|Hill and Adamson\",\"Sir David Young Cameron\",\"Xie Zhiliu\"],\"type\":\"bar\"},{\"marker\":{\"color\":\"#fa958f\",\"line\":{\"color\":\"rgb(248, 248, 249)\",\"width\":1}},\"name\":\"The Libraries\",\"orientation\":\"h\",\"x\":[0.0,0.0,0.0,0.0,0.0,0.0,0.0,1.0,0.0,0.0,0.0,0.0,0.0,0.0,0.0,0.0,0.0,0.0,0.0,0.0,0.0,0.0,0.0,0.0,0.0,0.0,0.0,0.0,0.0,0.0],\"y\":[\"Walker Evans\",\"Allen & Ginter\",\"Reginald Marsh\",\"Giovanni Battista Piranesi\",\"Auguste Edouart\",\"Jacques Callot|Isra\\u00ebl Henriet\",\"Turkish Trophies Cigarettes\",\"Albrecht D\\u00fcrer\",\"Jacques Androuet Du Cerceau\",\"Utagawa Hiroshige\",\"John Singer Sargent\",\"Jean Le Pautre|Pierre Mariette le fils\",\"Stefano della Bella\",\"T. Peters and Sons\",\"Giorgio di Sant'Angelo\",\"Jules-Edmond-Charles Lachaise|Eug\\u00e8ne-Pierre Gourdet\",\"Jacques Callot\",\"James McNeill Whistler\",\"Meissen Manufactory\",\"Andr\\u00e9-Adolphe-Eug\\u00e8ne Disd\\u00e9ri\",\"Stephen Shore\",\"Charles James\",\"Thomas Rowlandson\",\"Wenceslaus Hollar\",\"Alphonse Bertillon\",\"Katsushika Hokusai\",\"Currier & Ives\",\"David Octavius Hill|Robert  Adamson|Hill and Adamson\",\"Sir David Young Cameron\",\"Xie Zhiliu\"],\"type\":\"bar\"}],                        {\"template\":{\"data\":{\"barpolar\":[{\"marker\":{\"line\":{\"color\":\"white\",\"width\":0.5},\"pattern\":{\"fillmode\":\"overlay\",\"size\":10,\"solidity\":0.2}},\"type\":\"barpolar\"}],\"bar\":[{\"error_x\":{\"color\":\"#2a3f5f\"},\"error_y\":{\"color\":\"#2a3f5f\"},\"marker\":{\"line\":{\"color\":\"white\",\"width\":0.5},\"pattern\":{\"fillmode\":\"overlay\",\"size\":10,\"solidity\":0.2}},\"type\":\"bar\"}],\"carpet\":[{\"aaxis\":{\"endlinecolor\":\"#2a3f5f\",\"gridcolor\":\"#C8D4E3\",\"linecolor\":\"#C8D4E3\",\"minorgridcolor\":\"#C8D4E3\",\"startlinecolor\":\"#2a3f5f\"},\"baxis\":{\"endlinecolor\":\"#2a3f5f\",\"gridcolor\":\"#C8D4E3\",\"linecolor\":\"#C8D4E3\",\"minorgridcolor\":\"#C8D4E3\",\"startlinecolor\":\"#2a3f5f\"},\"type\":\"carpet\"}],\"choropleth\":[{\"colorbar\":{\"outlinewidth\":0,\"ticks\":\"\"},\"type\":\"choropleth\"}],\"contourcarpet\":[{\"colorbar\":{\"outlinewidth\":0,\"ticks\":\"\"},\"type\":\"contourcarpet\"}],\"contour\":[{\"colorbar\":{\"outlinewidth\":0,\"ticks\":\"\"},\"colorscale\":[[0.0,\"#0d0887\"],[0.1111111111111111,\"#46039f\"],[0.2222222222222222,\"#7201a8\"],[0.3333333333333333,\"#9c179e\"],[0.4444444444444444,\"#bd3786\"],[0.5555555555555556,\"#d8576b\"],[0.6666666666666666,\"#ed7953\"],[0.7777777777777778,\"#fb9f3a\"],[0.8888888888888888,\"#fdca26\"],[1.0,\"#f0f921\"]],\"type\":\"contour\"}],\"heatmapgl\":[{\"colorbar\":{\"outlinewidth\":0,\"ticks\":\"\"},\"colorscale\":[[0.0,\"#0d0887\"],[0.1111111111111111,\"#46039f\"],[0.2222222222222222,\"#7201a8\"],[0.3333333333333333,\"#9c179e\"],[0.4444444444444444,\"#bd3786\"],[0.5555555555555556,\"#d8576b\"],[0.6666666666666666,\"#ed7953\"],[0.7777777777777778,\"#fb9f3a\"],[0.8888888888888888,\"#fdca26\"],[1.0,\"#f0f921\"]],\"type\":\"heatmapgl\"}],\"heatmap\":[{\"colorbar\":{\"outlinewidth\":0,\"ticks\":\"\"},\"colorscale\":[[0.0,\"#0d0887\"],[0.1111111111111111,\"#46039f\"],[0.2222222222222222,\"#7201a8\"],[0.3333333333333333,\"#9c179e\"],[0.4444444444444444,\"#bd3786\"],[0.5555555555555556,\"#d8576b\"],[0.6666666666666666,\"#ed7953\"],[0.7777777777777778,\"#fb9f3a\"],[0.8888888888888888,\"#fdca26\"],[1.0,\"#f0f921\"]],\"type\":\"heatmap\"}],\"histogram2dcontour\":[{\"colorbar\":{\"outlinewidth\":0,\"ticks\":\"\"},\"colorscale\":[[0.0,\"#0d0887\"],[0.1111111111111111,\"#46039f\"],[0.2222222222222222,\"#7201a8\"],[0.3333333333333333,\"#9c179e\"],[0.4444444444444444,\"#bd3786\"],[0.5555555555555556,\"#d8576b\"],[0.6666666666666666,\"#ed7953\"],[0.7777777777777778,\"#fb9f3a\"],[0.8888888888888888,\"#fdca26\"],[1.0,\"#f0f921\"]],\"type\":\"histogram2dcontour\"}],\"histogram2d\":[{\"colorbar\":{\"outlinewidth\":0,\"ticks\":\"\"},\"colorscale\":[[0.0,\"#0d0887\"],[0.1111111111111111,\"#46039f\"],[0.2222222222222222,\"#7201a8\"],[0.3333333333333333,\"#9c179e\"],[0.4444444444444444,\"#bd3786\"],[0.5555555555555556,\"#d8576b\"],[0.6666666666666666,\"#ed7953\"],[0.7777777777777778,\"#fb9f3a\"],[0.8888888888888888,\"#fdca26\"],[1.0,\"#f0f921\"]],\"type\":\"histogram2d\"}],\"histogram\":[{\"marker\":{\"pattern\":{\"fillmode\":\"overlay\",\"size\":10,\"solidity\":0.2}},\"type\":\"histogram\"}],\"mesh3d\":[{\"colorbar\":{\"outlinewidth\":0,\"ticks\":\"\"},\"type\":\"mesh3d\"}],\"parcoords\":[{\"line\":{\"colorbar\":{\"outlinewidth\":0,\"ticks\":\"\"}},\"type\":\"parcoords\"}],\"pie\":[{\"automargin\":true,\"type\":\"pie\"}],\"scatter3d\":[{\"line\":{\"colorbar\":{\"outlinewidth\":0,\"ticks\":\"\"}},\"marker\":{\"colorbar\":{\"outlinewidth\":0,\"ticks\":\"\"}},\"type\":\"scatter3d\"}],\"scattercarpet\":[{\"marker\":{\"colorbar\":{\"outlinewidth\":0,\"ticks\":\"\"}},\"type\":\"scattercarpet\"}],\"scattergeo\":[{\"marker\":{\"colorbar\":{\"outlinewidth\":0,\"ticks\":\"\"}},\"type\":\"scattergeo\"}],\"scattergl\":[{\"marker\":{\"colorbar\":{\"outlinewidth\":0,\"ticks\":\"\"}},\"type\":\"scattergl\"}],\"scattermapbox\":[{\"marker\":{\"colorbar\":{\"outlinewidth\":0,\"ticks\":\"\"}},\"type\":\"scattermapbox\"}],\"scatterpolargl\":[{\"marker\":{\"colorbar\":{\"outlinewidth\":0,\"ticks\":\"\"}},\"type\":\"scatterpolargl\"}],\"scatterpolar\":[{\"marker\":{\"colorbar\":{\"outlinewidth\":0,\"ticks\":\"\"}},\"type\":\"scatterpolar\"}],\"scatter\":[{\"fillpattern\":{\"fillmode\":\"overlay\",\"size\":10,\"solidity\":0.2},\"type\":\"scatter\"}],\"scatterternary\":[{\"marker\":{\"colorbar\":{\"outlinewidth\":0,\"ticks\":\"\"}},\"type\":\"scatterternary\"}],\"surface\":[{\"colorbar\":{\"outlinewidth\":0,\"ticks\":\"\"},\"colorscale\":[[0.0,\"#0d0887\"],[0.1111111111111111,\"#46039f\"],[0.2222222222222222,\"#7201a8\"],[0.3333333333333333,\"#9c179e\"],[0.4444444444444444,\"#bd3786\"],[0.5555555555555556,\"#d8576b\"],[0.6666666666666666,\"#ed7953\"],[0.7777777777777778,\"#fb9f3a\"],[0.8888888888888888,\"#fdca26\"],[1.0,\"#f0f921\"]],\"type\":\"surface\"}],\"table\":[{\"cells\":{\"fill\":{\"color\":\"#EBF0F8\"},\"line\":{\"color\":\"white\"}},\"header\":{\"fill\":{\"color\":\"#C8D4E3\"},\"line\":{\"color\":\"white\"}},\"type\":\"table\"}]},\"layout\":{\"annotationdefaults\":{\"arrowcolor\":\"#2a3f5f\",\"arrowhead\":0,\"arrowwidth\":1},\"autotypenumbers\":\"strict\",\"coloraxis\":{\"colorbar\":{\"outlinewidth\":0,\"ticks\":\"\"}},\"colorscale\":{\"diverging\":[[0,\"#8e0152\"],[0.1,\"#c51b7d\"],[0.2,\"#de77ae\"],[0.3,\"#f1b6da\"],[0.4,\"#fde0ef\"],[0.5,\"#f7f7f7\"],[0.6,\"#e6f5d0\"],[0.7,\"#b8e186\"],[0.8,\"#7fbc41\"],[0.9,\"#4d9221\"],[1,\"#276419\"]],\"sequential\":[[0.0,\"#0d0887\"],[0.1111111111111111,\"#46039f\"],[0.2222222222222222,\"#7201a8\"],[0.3333333333333333,\"#9c179e\"],[0.4444444444444444,\"#bd3786\"],[0.5555555555555556,\"#d8576b\"],[0.6666666666666666,\"#ed7953\"],[0.7777777777777778,\"#fb9f3a\"],[0.8888888888888888,\"#fdca26\"],[1.0,\"#f0f921\"]],\"sequentialminus\":[[0.0,\"#0d0887\"],[0.1111111111111111,\"#46039f\"],[0.2222222222222222,\"#7201a8\"],[0.3333333333333333,\"#9c179e\"],[0.4444444444444444,\"#bd3786\"],[0.5555555555555556,\"#d8576b\"],[0.6666666666666666,\"#ed7953\"],[0.7777777777777778,\"#fb9f3a\"],[0.8888888888888888,\"#fdca26\"],[1.0,\"#f0f921\"]]},\"colorway\":[\"#636efa\",\"#EF553B\",\"#00cc96\",\"#ab63fa\",\"#FFA15A\",\"#19d3f3\",\"#FF6692\",\"#B6E880\",\"#FF97FF\",\"#FECB52\"],\"font\":{\"color\":\"#2a3f5f\"},\"geo\":{\"bgcolor\":\"white\",\"lakecolor\":\"white\",\"landcolor\":\"white\",\"showlakes\":true,\"showland\":true,\"subunitcolor\":\"#C8D4E3\"},\"hoverlabel\":{\"align\":\"left\"},\"hovermode\":\"closest\",\"mapbox\":{\"style\":\"light\"},\"paper_bgcolor\":\"white\",\"plot_bgcolor\":\"white\",\"polar\":{\"angularaxis\":{\"gridcolor\":\"#EBF0F8\",\"linecolor\":\"#EBF0F8\",\"ticks\":\"\"},\"bgcolor\":\"white\",\"radialaxis\":{\"gridcolor\":\"#EBF0F8\",\"linecolor\":\"#EBF0F8\",\"ticks\":\"\"}},\"scene\":{\"xaxis\":{\"backgroundcolor\":\"white\",\"gridcolor\":\"#DFE8F3\",\"gridwidth\":2,\"linecolor\":\"#EBF0F8\",\"showbackground\":true,\"ticks\":\"\",\"zerolinecolor\":\"#EBF0F8\"},\"yaxis\":{\"backgroundcolor\":\"white\",\"gridcolor\":\"#DFE8F3\",\"gridwidth\":2,\"linecolor\":\"#EBF0F8\",\"showbackground\":true,\"ticks\":\"\",\"zerolinecolor\":\"#EBF0F8\"},\"zaxis\":{\"backgroundcolor\":\"white\",\"gridcolor\":\"#DFE8F3\",\"gridwidth\":2,\"linecolor\":\"#EBF0F8\",\"showbackground\":true,\"ticks\":\"\",\"zerolinecolor\":\"#EBF0F8\"}},\"shapedefaults\":{\"line\":{\"color\":\"#2a3f5f\"}},\"ternary\":{\"aaxis\":{\"gridcolor\":\"#DFE8F3\",\"linecolor\":\"#A2B1C6\",\"ticks\":\"\"},\"baxis\":{\"gridcolor\":\"#DFE8F3\",\"linecolor\":\"#A2B1C6\",\"ticks\":\"\"},\"bgcolor\":\"white\",\"caxis\":{\"gridcolor\":\"#DFE8F3\",\"linecolor\":\"#A2B1C6\",\"ticks\":\"\"}},\"title\":{\"x\":0.05},\"xaxis\":{\"automargin\":true,\"gridcolor\":\"#EBF0F8\",\"linecolor\":\"#EBF0F8\",\"ticks\":\"\",\"title\":{\"standoff\":15},\"zerolinecolor\":\"#EBF0F8\",\"zerolinewidth\":2},\"yaxis\":{\"automargin\":true,\"gridcolor\":\"#EBF0F8\",\"linecolor\":\"#EBF0F8\",\"ticks\":\"\",\"title\":{\"standoff\":15},\"zerolinecolor\":\"#EBF0F8\",\"zerolinewidth\":2}}},\"yaxis\":{\"autorange\":\"reversed\"},\"margin\":{\"l\":120,\"r\":10,\"t\":140,\"b\":80},\"height\":800,\"width\":1500,\"barmode\":\"stack\",\"showlegend\":true,\"autosize\":true,\"title\":{\"text\":\"Top 30 Artists whom the Met Holds Most Works of\"}},                        {\"responsive\": true}                    ).then(function(){\n",
       "                            \n",
       "var gd = document.getElementById('8eee827a-a97a-4d28-a4ab-59dfa57e87cb');\n",
       "var x = new MutationObserver(function (mutations, observer) {{\n",
       "        var display = window.getComputedStyle(gd).display;\n",
       "        if (!display || display === 'none') {{\n",
       "            console.log([gd, 'removed!']);\n",
       "            Plotly.purge(gd);\n",
       "            observer.disconnect();\n",
       "        }}\n",
       "}});\n",
       "\n",
       "// Listen for the removal of the full notebook cells\n",
       "var notebookContainer = gd.closest('#notebook-container');\n",
       "if (notebookContainer) {{\n",
       "    x.observe(notebookContainer, {childList: true});\n",
       "}}\n",
       "\n",
       "// Listen for the clearing of the current output cell\n",
       "var outputEl = gd.closest('.output');\n",
       "if (outputEl) {{\n",
       "    x.observe(outputEl, {childList: true});\n",
       "}}\n",
       "\n",
       "                        })                };                });            </script>        </div>"
      ]
     },
     "metadata": {},
     "output_type": "display_data"
    }
   ],
   "source": [
    "fig = go.Figure()\n",
    "\n",
    "colors = ['#3A6C8C','#dc596d','#B3D8EB','#949EC3', '#8B7099', '#242545','#EF819C','#F4B8D4','#728F4C','#CEE0C6', '#ffbb93', '#fa958f' ]\n",
    "\n",
    "headings = met_30_work_pivot.columns.to_numpy()\n",
    "\n",
    "\n",
    "\n",
    "import plotly.graph_objects as go\n",
    "\n",
    "\n",
    "x_data = np.transpose(met_30_work_pivot.values)\n",
    "y_data = met_30_work_pivot.index.values\n",
    "\n",
    "\n",
    "for heading, xd, colors in zip(headings, x_data, colors):\n",
    "    fig.add_trace(go.Bar(\n",
    "            x=xd, \n",
    "            y=y_data,\n",
    "            name=heading,\n",
    "            orientation='h',\n",
    "            marker=dict(\n",
    "                color=colors,\n",
    "                line=dict(color='rgb(248, 248, 249)', width=1)\n",
    "            )\n",
    "        ))\n",
    "\n",
    "fig.update_layout(\n",
    "    height=800,\n",
    "    width=1500,\n",
    "    yaxis=dict(autorange=\"reversed\"),\n",
    "    barmode='stack',\n",
    "    margin=dict(l=120, r=10, t=140, b=80),\n",
    "    showlegend=True,\n",
    "    template='plotly_white',\n",
    "    autosize=True,\n",
    "    title='Top 30 Artists whom the Met Holds Most Works of'\n",
    ")\n",
    "\n",
    "\n",
    "\n",
    "fig.show()"
   ]
  },
  {
   "cell_type": "markdown",
   "metadata": {},
   "source": [
    "## 1.3 Top Nationalities of Artists"
   ]
  },
  {
   "cell_type": "code",
   "execution_count": 424,
   "metadata": {
    "tags": []
   },
   "outputs": [
    {
     "data": {
      "text/html": [
       "<div>\n",
       "<style scoped>\n",
       "    .dataframe tbody tr th:only-of-type {\n",
       "        vertical-align: middle;\n",
       "    }\n",
       "\n",
       "    .dataframe tbody tr th {\n",
       "        vertical-align: top;\n",
       "    }\n",
       "\n",
       "    .dataframe thead th {\n",
       "        text-align: right;\n",
       "    }\n",
       "</style>\n",
       "<table border=\"1\" class=\"dataframe\">\n",
       "  <thead>\n",
       "    <tr style=\"text-align: right;\">\n",
       "      <th></th>\n",
       "      <th>Object Number</th>\n",
       "      <th>Is Highlight</th>\n",
       "      <th>Is Timeline Work</th>\n",
       "      <th>Is Public Domain</th>\n",
       "      <th>Object ID</th>\n",
       "      <th>Gallery Number</th>\n",
       "      <th>Department</th>\n",
       "      <th>AccessionYear</th>\n",
       "      <th>Object Name</th>\n",
       "      <th>Title</th>\n",
       "      <th>Culture</th>\n",
       "      <th>Period</th>\n",
       "      <th>Dynasty</th>\n",
       "      <th>Reign</th>\n",
       "      <th>Portfolio</th>\n",
       "      <th>Constituent ID</th>\n",
       "      <th>Artist Role</th>\n",
       "      <th>Artist Prefix</th>\n",
       "      <th>Artist Display Name</th>\n",
       "      <th>Artist Display Bio</th>\n",
       "      <th>Artist Suffix</th>\n",
       "      <th>Artist Alpha Sort</th>\n",
       "      <th>Artist Nationality</th>\n",
       "      <th>Artist Begin Date</th>\n",
       "      <th>Artist End Date</th>\n",
       "      <th>Artist Gender</th>\n",
       "      <th>Artist ULAN URL</th>\n",
       "      <th>Artist Wikidata URL</th>\n",
       "      <th>Object Date</th>\n",
       "      <th>Object Begin Date</th>\n",
       "      <th>Object End Date</th>\n",
       "      <th>Medium</th>\n",
       "      <th>Dimensions</th>\n",
       "      <th>Credit Line</th>\n",
       "      <th>Geography Type</th>\n",
       "      <th>City</th>\n",
       "      <th>State</th>\n",
       "      <th>County</th>\n",
       "      <th>Country</th>\n",
       "      <th>Region</th>\n",
       "      <th>Subregion</th>\n",
       "      <th>Locale</th>\n",
       "      <th>Locus</th>\n",
       "      <th>Excavation</th>\n",
       "      <th>River</th>\n",
       "      <th>Classification</th>\n",
       "      <th>Rights and Reproduction</th>\n",
       "      <th>Link Resource</th>\n",
       "      <th>Object Wikidata URL</th>\n",
       "      <th>Metadata Date</th>\n",
       "      <th>Repository</th>\n",
       "      <th>Tags</th>\n",
       "      <th>Tags AAT URL</th>\n",
       "      <th>Tags Wikidata URL</th>\n",
       "    </tr>\n",
       "  </thead>\n",
       "  <tbody>\n",
       "    <tr>\n",
       "      <th>0</th>\n",
       "      <td>1979.486.1</td>\n",
       "      <td>False</td>\n",
       "      <td>False</td>\n",
       "      <td>False</td>\n",
       "      <td>1</td>\n",
       "      <td>NaN</td>\n",
       "      <td>The American Wing</td>\n",
       "      <td>1979.0</td>\n",
       "      <td>Coin</td>\n",
       "      <td>One-dollar Liberty Head Coin</td>\n",
       "      <td>NaN</td>\n",
       "      <td>NaN</td>\n",
       "      <td>NaN</td>\n",
       "      <td>NaN</td>\n",
       "      <td>NaN</td>\n",
       "      <td>16429</td>\n",
       "      <td>Maker</td>\n",
       "      <td></td>\n",
       "      <td>James Barton Longacre</td>\n",
       "      <td>American, Delaware County, Pennsylvania 1794–1...</td>\n",
       "      <td></td>\n",
       "      <td>Longacre, James Barton</td>\n",
       "      <td>American</td>\n",
       "      <td>1794</td>\n",
       "      <td>1869</td>\n",
       "      <td>NaN</td>\n",
       "      <td>http://vocab.getty.edu/page/ulan/500011409</td>\n",
       "      <td>https://www.wikidata.org/wiki/Q3806459</td>\n",
       "      <td>1853</td>\n",
       "      <td>1853</td>\n",
       "      <td>1853</td>\n",
       "      <td>Gold</td>\n",
       "      <td>Dimensions unavailable</td>\n",
       "      <td>Gift of Heinz L. Stoppelmann, 1979</td>\n",
       "      <td>NaN</td>\n",
       "      <td>NaN</td>\n",
       "      <td>NaN</td>\n",
       "      <td>NaN</td>\n",
       "      <td>NaN</td>\n",
       "      <td>NaN</td>\n",
       "      <td>NaN</td>\n",
       "      <td>NaN</td>\n",
       "      <td>NaN</td>\n",
       "      <td>NaN</td>\n",
       "      <td>NaN</td>\n",
       "      <td>NaN</td>\n",
       "      <td>NaN</td>\n",
       "      <td>http://www.metmuseum.org/art/collection/search/1</td>\n",
       "      <td>NaN</td>\n",
       "      <td>NaN</td>\n",
       "      <td>Metropolitan Museum of Art, New York, NY</td>\n",
       "      <td>NaN</td>\n",
       "      <td>NaN</td>\n",
       "      <td>NaN</td>\n",
       "    </tr>\n",
       "    <tr>\n",
       "      <th>1</th>\n",
       "      <td>1980.264.5</td>\n",
       "      <td>False</td>\n",
       "      <td>False</td>\n",
       "      <td>False</td>\n",
       "      <td>2</td>\n",
       "      <td>NaN</td>\n",
       "      <td>The American Wing</td>\n",
       "      <td>1980.0</td>\n",
       "      <td>Coin</td>\n",
       "      <td>Ten-dollar Liberty Head Coin</td>\n",
       "      <td>NaN</td>\n",
       "      <td>NaN</td>\n",
       "      <td>NaN</td>\n",
       "      <td>NaN</td>\n",
       "      <td>NaN</td>\n",
       "      <td>107</td>\n",
       "      <td>Maker</td>\n",
       "      <td></td>\n",
       "      <td>Christian Gobrecht</td>\n",
       "      <td>1785–1844</td>\n",
       "      <td></td>\n",
       "      <td>Gobrecht, Christian</td>\n",
       "      <td>American</td>\n",
       "      <td>1785</td>\n",
       "      <td>1844</td>\n",
       "      <td>NaN</td>\n",
       "      <td>http://vocab.getty.edu/page/ulan/500077295</td>\n",
       "      <td>https://www.wikidata.org/wiki/Q5109648</td>\n",
       "      <td>1901</td>\n",
       "      <td>1901</td>\n",
       "      <td>1901</td>\n",
       "      <td>Gold</td>\n",
       "      <td>Dimensions unavailable</td>\n",
       "      <td>Gift of Heinz L. Stoppelmann, 1980</td>\n",
       "      <td>NaN</td>\n",
       "      <td>NaN</td>\n",
       "      <td>NaN</td>\n",
       "      <td>NaN</td>\n",
       "      <td>NaN</td>\n",
       "      <td>NaN</td>\n",
       "      <td>NaN</td>\n",
       "      <td>NaN</td>\n",
       "      <td>NaN</td>\n",
       "      <td>NaN</td>\n",
       "      <td>NaN</td>\n",
       "      <td>NaN</td>\n",
       "      <td>NaN</td>\n",
       "      <td>http://www.metmuseum.org/art/collection/search/2</td>\n",
       "      <td>NaN</td>\n",
       "      <td>NaN</td>\n",
       "      <td>Metropolitan Museum of Art, New York, NY</td>\n",
       "      <td>NaN</td>\n",
       "      <td>NaN</td>\n",
       "      <td>NaN</td>\n",
       "    </tr>\n",
       "    <tr>\n",
       "      <th>9</th>\n",
       "      <td>1979.486.3</td>\n",
       "      <td>False</td>\n",
       "      <td>False</td>\n",
       "      <td>False</td>\n",
       "      <td>10</td>\n",
       "      <td>NaN</td>\n",
       "      <td>The American Wing</td>\n",
       "      <td>1979.0</td>\n",
       "      <td>Coin</td>\n",
       "      <td>Two-and-a-half-dollar Indian Head Coin</td>\n",
       "      <td>NaN</td>\n",
       "      <td>NaN</td>\n",
       "      <td>NaN</td>\n",
       "      <td>NaN</td>\n",
       "      <td>NaN</td>\n",
       "      <td>108</td>\n",
       "      <td>Maker</td>\n",
       "      <td></td>\n",
       "      <td>Bela Lyon Pratt</td>\n",
       "      <td>1867–1917</td>\n",
       "      <td></td>\n",
       "      <td>Pratt, Bela Lyon</td>\n",
       "      <td>American</td>\n",
       "      <td>1867</td>\n",
       "      <td>1917</td>\n",
       "      <td>NaN</td>\n",
       "      <td>http://vocab.getty.edu/page/ulan/500095555</td>\n",
       "      <td>https://www.wikidata.org/wiki/Q4881787</td>\n",
       "      <td>1912</td>\n",
       "      <td>1912</td>\n",
       "      <td>1912</td>\n",
       "      <td>Gold</td>\n",
       "      <td>Dimensions unavailable</td>\n",
       "      <td>Gift of Heinz L. Stoppelmann, 1979</td>\n",
       "      <td>NaN</td>\n",
       "      <td>NaN</td>\n",
       "      <td>NaN</td>\n",
       "      <td>NaN</td>\n",
       "      <td>NaN</td>\n",
       "      <td>NaN</td>\n",
       "      <td>NaN</td>\n",
       "      <td>NaN</td>\n",
       "      <td>NaN</td>\n",
       "      <td>NaN</td>\n",
       "      <td>NaN</td>\n",
       "      <td>NaN</td>\n",
       "      <td>NaN</td>\n",
       "      <td>http://www.metmuseum.org/art/collection/search/10</td>\n",
       "      <td>NaN</td>\n",
       "      <td>NaN</td>\n",
       "      <td>Metropolitan Museum of Art, New York, NY</td>\n",
       "      <td>NaN</td>\n",
       "      <td>NaN</td>\n",
       "      <td>NaN</td>\n",
       "    </tr>\n",
       "    <tr>\n",
       "      <th>10</th>\n",
       "      <td>1979.486.2</td>\n",
       "      <td>False</td>\n",
       "      <td>False</td>\n",
       "      <td>False</td>\n",
       "      <td>11</td>\n",
       "      <td>NaN</td>\n",
       "      <td>The American Wing</td>\n",
       "      <td>1979.0</td>\n",
       "      <td>Coin</td>\n",
       "      <td>Two-and-a-half-dollar Liberty Head Coin</td>\n",
       "      <td>NaN</td>\n",
       "      <td>NaN</td>\n",
       "      <td>NaN</td>\n",
       "      <td>NaN</td>\n",
       "      <td>NaN</td>\n",
       "      <td>107</td>\n",
       "      <td>Maker</td>\n",
       "      <td></td>\n",
       "      <td>Christian Gobrecht</td>\n",
       "      <td>1785–1844</td>\n",
       "      <td></td>\n",
       "      <td>Gobrecht, Christian</td>\n",
       "      <td>American</td>\n",
       "      <td>1785</td>\n",
       "      <td>1844</td>\n",
       "      <td>NaN</td>\n",
       "      <td>http://vocab.getty.edu/page/ulan/500077295</td>\n",
       "      <td>https://www.wikidata.org/wiki/Q5109648</td>\n",
       "      <td>1907</td>\n",
       "      <td>1907</td>\n",
       "      <td>1907</td>\n",
       "      <td>Gold</td>\n",
       "      <td>Dimensions unavailable</td>\n",
       "      <td>Gift of Heinz L. Stoppelmann, 1979</td>\n",
       "      <td>NaN</td>\n",
       "      <td>NaN</td>\n",
       "      <td>NaN</td>\n",
       "      <td>NaN</td>\n",
       "      <td>NaN</td>\n",
       "      <td>NaN</td>\n",
       "      <td>NaN</td>\n",
       "      <td>NaN</td>\n",
       "      <td>NaN</td>\n",
       "      <td>NaN</td>\n",
       "      <td>NaN</td>\n",
       "      <td>NaN</td>\n",
       "      <td>NaN</td>\n",
       "      <td>http://www.metmuseum.org/art/collection/search/11</td>\n",
       "      <td>NaN</td>\n",
       "      <td>NaN</td>\n",
       "      <td>Metropolitan Museum of Art, New York, NY</td>\n",
       "      <td>NaN</td>\n",
       "      <td>NaN</td>\n",
       "      <td>NaN</td>\n",
       "    </tr>\n",
       "    <tr>\n",
       "      <th>11</th>\n",
       "      <td>1979.486.7</td>\n",
       "      <td>False</td>\n",
       "      <td>False</td>\n",
       "      <td>False</td>\n",
       "      <td>12</td>\n",
       "      <td>NaN</td>\n",
       "      <td>The American Wing</td>\n",
       "      <td>1979.0</td>\n",
       "      <td>Coin</td>\n",
       "      <td>Twenty-dollar Liberty Head Coin</td>\n",
       "      <td>NaN</td>\n",
       "      <td>NaN</td>\n",
       "      <td>NaN</td>\n",
       "      <td>NaN</td>\n",
       "      <td>NaN</td>\n",
       "      <td>16429</td>\n",
       "      <td>Maker</td>\n",
       "      <td></td>\n",
       "      <td>James Barton Longacre</td>\n",
       "      <td>American, Delaware County, Pennsylvania 1794–1...</td>\n",
       "      <td></td>\n",
       "      <td>Longacre, James Barton</td>\n",
       "      <td>American</td>\n",
       "      <td>1794</td>\n",
       "      <td>1869</td>\n",
       "      <td>NaN</td>\n",
       "      <td>http://vocab.getty.edu/page/ulan/500011409</td>\n",
       "      <td>https://www.wikidata.org/wiki/Q3806459</td>\n",
       "      <td>1876</td>\n",
       "      <td>1876</td>\n",
       "      <td>1876</td>\n",
       "      <td>Gold</td>\n",
       "      <td>Dimensions unavailable</td>\n",
       "      <td>Gift of Heinz L. Stoppelmann, 1979</td>\n",
       "      <td>NaN</td>\n",
       "      <td>NaN</td>\n",
       "      <td>NaN</td>\n",
       "      <td>NaN</td>\n",
       "      <td>NaN</td>\n",
       "      <td>NaN</td>\n",
       "      <td>NaN</td>\n",
       "      <td>NaN</td>\n",
       "      <td>NaN</td>\n",
       "      <td>NaN</td>\n",
       "      <td>NaN</td>\n",
       "      <td>NaN</td>\n",
       "      <td>NaN</td>\n",
       "      <td>http://www.metmuseum.org/art/collection/search/12</td>\n",
       "      <td>NaN</td>\n",
       "      <td>NaN</td>\n",
       "      <td>Metropolitan Museum of Art, New York, NY</td>\n",
       "      <td>NaN</td>\n",
       "      <td>NaN</td>\n",
       "      <td>NaN</td>\n",
       "    </tr>\n",
       "    <tr>\n",
       "      <th>12</th>\n",
       "      <td>1979.486.4</td>\n",
       "      <td>False</td>\n",
       "      <td>False</td>\n",
       "      <td>False</td>\n",
       "      <td>13</td>\n",
       "      <td>NaN</td>\n",
       "      <td>The American Wing</td>\n",
       "      <td>1979.0</td>\n",
       "      <td>Coin</td>\n",
       "      <td>Five-dollar Indian Head Coin</td>\n",
       "      <td>NaN</td>\n",
       "      <td>NaN</td>\n",
       "      <td>NaN</td>\n",
       "      <td>NaN</td>\n",
       "      <td>NaN</td>\n",
       "      <td>108</td>\n",
       "      <td>Maker</td>\n",
       "      <td></td>\n",
       "      <td>Bela Lyon Pratt</td>\n",
       "      <td>1867–1917</td>\n",
       "      <td></td>\n",
       "      <td>Pratt, Bela Lyon</td>\n",
       "      <td>American</td>\n",
       "      <td>1867</td>\n",
       "      <td>1917</td>\n",
       "      <td>NaN</td>\n",
       "      <td>http://vocab.getty.edu/page/ulan/500095555</td>\n",
       "      <td>https://www.wikidata.org/wiki/Q4881787</td>\n",
       "      <td>1910</td>\n",
       "      <td>1910</td>\n",
       "      <td>1910</td>\n",
       "      <td>Gold</td>\n",
       "      <td>Dimensions unavailable</td>\n",
       "      <td>Gift of Heinz L. Stoppelmann, 1979</td>\n",
       "      <td>NaN</td>\n",
       "      <td>NaN</td>\n",
       "      <td>NaN</td>\n",
       "      <td>NaN</td>\n",
       "      <td>NaN</td>\n",
       "      <td>NaN</td>\n",
       "      <td>NaN</td>\n",
       "      <td>NaN</td>\n",
       "      <td>NaN</td>\n",
       "      <td>NaN</td>\n",
       "      <td>NaN</td>\n",
       "      <td>NaN</td>\n",
       "      <td>NaN</td>\n",
       "      <td>http://www.metmuseum.org/art/collection/search/13</td>\n",
       "      <td>NaN</td>\n",
       "      <td>NaN</td>\n",
       "      <td>Metropolitan Museum of Art, New York, NY</td>\n",
       "      <td>NaN</td>\n",
       "      <td>NaN</td>\n",
       "      <td>NaN</td>\n",
       "    </tr>\n",
       "    <tr>\n",
       "      <th>13</th>\n",
       "      <td>1979.486.5</td>\n",
       "      <td>False</td>\n",
       "      <td>False</td>\n",
       "      <td>False</td>\n",
       "      <td>14</td>\n",
       "      <td>NaN</td>\n",
       "      <td>The American Wing</td>\n",
       "      <td>1979.0</td>\n",
       "      <td>Coin</td>\n",
       "      <td>Five-dollar Liberty Head Coin</td>\n",
       "      <td>NaN</td>\n",
       "      <td>NaN</td>\n",
       "      <td>NaN</td>\n",
       "      <td>NaN</td>\n",
       "      <td>NaN</td>\n",
       "      <td>107</td>\n",
       "      <td>Maker</td>\n",
       "      <td></td>\n",
       "      <td>Christian Gobrecht</td>\n",
       "      <td>1785–1844</td>\n",
       "      <td></td>\n",
       "      <td>Gobrecht, Christian</td>\n",
       "      <td>American</td>\n",
       "      <td>1785</td>\n",
       "      <td>1844</td>\n",
       "      <td>NaN</td>\n",
       "      <td>http://vocab.getty.edu/page/ulan/500077295</td>\n",
       "      <td>https://www.wikidata.org/wiki/Q5109648</td>\n",
       "      <td>1907</td>\n",
       "      <td>1907</td>\n",
       "      <td>1907</td>\n",
       "      <td>Gold</td>\n",
       "      <td>Dimensions unavailable</td>\n",
       "      <td>Gift of Heinz L. Stoppelmann, 1979</td>\n",
       "      <td>NaN</td>\n",
       "      <td>NaN</td>\n",
       "      <td>NaN</td>\n",
       "      <td>NaN</td>\n",
       "      <td>NaN</td>\n",
       "      <td>NaN</td>\n",
       "      <td>NaN</td>\n",
       "      <td>NaN</td>\n",
       "      <td>NaN</td>\n",
       "      <td>NaN</td>\n",
       "      <td>NaN</td>\n",
       "      <td>NaN</td>\n",
       "      <td>NaN</td>\n",
       "      <td>http://www.metmuseum.org/art/collection/search/14</td>\n",
       "      <td>NaN</td>\n",
       "      <td>NaN</td>\n",
       "      <td>Metropolitan Museum of Art, New York, NY</td>\n",
       "      <td>NaN</td>\n",
       "      <td>NaN</td>\n",
       "      <td>NaN</td>\n",
       "    </tr>\n",
       "    <tr>\n",
       "      <th>32</th>\n",
       "      <td>64.62</td>\n",
       "      <td>False</td>\n",
       "      <td>False</td>\n",
       "      <td>False</td>\n",
       "      <td>33</td>\n",
       "      <td>774</td>\n",
       "      <td>The American Wing</td>\n",
       "      <td>1964.0</td>\n",
       "      <td>Bust</td>\n",
       "      <td>Bust of Abraham Lincoln</td>\n",
       "      <td>American</td>\n",
       "      <td>NaN</td>\n",
       "      <td>NaN</td>\n",
       "      <td>NaN</td>\n",
       "      <td>NaN</td>\n",
       "      <td>16459</td>\n",
       "      <td>Maker</td>\n",
       "      <td></td>\n",
       "      <td>James Gillinder and Sons</td>\n",
       "      <td>American, 1861–ca. 1930</td>\n",
       "      <td></td>\n",
       "      <td>Gillinder and Sons, James</td>\n",
       "      <td>American</td>\n",
       "      <td>1861</td>\n",
       "      <td>1930</td>\n",
       "      <td>NaN</td>\n",
       "      <td>http://vocab.getty.edu/page/ulan/500524407</td>\n",
       "      <td>https://www.wikidata.org/wiki/Q99264077</td>\n",
       "      <td>1876</td>\n",
       "      <td>1876</td>\n",
       "      <td>1876</td>\n",
       "      <td>Pressed glass</td>\n",
       "      <td>2 3/4 x 3 1/2 x 2 3/4 in. (7 x 8.9 x 7 cm)</td>\n",
       "      <td>Gift of Teunis G. B. Cortelyou, 1964</td>\n",
       "      <td>Made in</td>\n",
       "      <td>Philadelphia</td>\n",
       "      <td>NaN</td>\n",
       "      <td>NaN</td>\n",
       "      <td>United States</td>\n",
       "      <td>NaN</td>\n",
       "      <td>NaN</td>\n",
       "      <td>NaN</td>\n",
       "      <td>NaN</td>\n",
       "      <td>NaN</td>\n",
       "      <td>NaN</td>\n",
       "      <td>NaN</td>\n",
       "      <td>NaN</td>\n",
       "      <td>http://www.metmuseum.org/art/collection/search/33</td>\n",
       "      <td>https://www.wikidata.org/wiki/Q116250677</td>\n",
       "      <td>NaN</td>\n",
       "      <td>Metropolitan Museum of Art, New York, NY</td>\n",
       "      <td>Men|Abraham Lincoln|Portraits</td>\n",
       "      <td>http://vocab.getty.edu/page/aat/300025928|http...</td>\n",
       "      <td>https://www.wikidata.org/wiki/Q8441|https://ww...</td>\n",
       "    </tr>\n",
       "    <tr>\n",
       "      <th>33</th>\n",
       "      <td>1970.289.6</td>\n",
       "      <td>False</td>\n",
       "      <td>False</td>\n",
       "      <td>True</td>\n",
       "      <td>34</td>\n",
       "      <td>774</td>\n",
       "      <td>The American Wing</td>\n",
       "      <td>1970.0</td>\n",
       "      <td>Clock</td>\n",
       "      <td>Acorn Clock</td>\n",
       "      <td>American</td>\n",
       "      <td>NaN</td>\n",
       "      <td>NaN</td>\n",
       "      <td>NaN</td>\n",
       "      <td>NaN</td>\n",
       "      <td>108</td>\n",
       "      <td>Maker</td>\n",
       "      <td></td>\n",
       "      <td>Forestville Manufacturing Company</td>\n",
       "      <td>1835–1853</td>\n",
       "      <td></td>\n",
       "      <td>Forestville Manufacturing Company</td>\n",
       "      <td>American</td>\n",
       "      <td>1835</td>\n",
       "      <td>1853</td>\n",
       "      <td>NaN</td>\n",
       "      <td>NaN</td>\n",
       "      <td>NaN</td>\n",
       "      <td>1847–50</td>\n",
       "      <td>1847</td>\n",
       "      <td>1850</td>\n",
       "      <td>Mahogany, laminated</td>\n",
       "      <td>24 3/8 x 14 5/8 x 5 1/8 in. (61.9 x 37.1 x 13 cm)</td>\n",
       "      <td>Gift of Mrs. Paul Moore, 1970</td>\n",
       "      <td>Made in</td>\n",
       "      <td>Bristol</td>\n",
       "      <td>NaN</td>\n",
       "      <td>NaN</td>\n",
       "      <td>United States</td>\n",
       "      <td>NaN</td>\n",
       "      <td>NaN</td>\n",
       "      <td>NaN</td>\n",
       "      <td>NaN</td>\n",
       "      <td>NaN</td>\n",
       "      <td>NaN</td>\n",
       "      <td>NaN</td>\n",
       "      <td>NaN</td>\n",
       "      <td>http://www.metmuseum.org/art/collection/search/34</td>\n",
       "      <td>https://www.wikidata.org/wiki/Q116373732</td>\n",
       "      <td>NaN</td>\n",
       "      <td>Metropolitan Museum of Art, New York, NY</td>\n",
       "      <td>Landscapes|Boats</td>\n",
       "      <td>http://vocab.getty.edu/page/aat/300132294|http...</td>\n",
       "      <td>https://www.wikidata.org/wiki/Q191163|https://...</td>\n",
       "    </tr>\n",
       "    <tr>\n",
       "      <th>34</th>\n",
       "      <td>04.1a–c</td>\n",
       "      <td>True</td>\n",
       "      <td>True</td>\n",
       "      <td>False</td>\n",
       "      <td>35</td>\n",
       "      <td>706</td>\n",
       "      <td>The American Wing</td>\n",
       "      <td>1904.0</td>\n",
       "      <td>Vase</td>\n",
       "      <td>The Adams Vase</td>\n",
       "      <td>American</td>\n",
       "      <td>NaN</td>\n",
       "      <td>NaN</td>\n",
       "      <td>NaN</td>\n",
       "      <td>NaN</td>\n",
       "      <td>108316253</td>\n",
       "      <td>Designer|Manufacturer</td>\n",
       "      <td>Designed by|Manufactured by</td>\n",
       "      <td>Paulding Farnham|Tiffany &amp; Co.</td>\n",
       "      <td>1859–1927|1837–present</td>\n",
       "      <td>|</td>\n",
       "      <td>Farnham, Paulding|Tiffany &amp; Co.</td>\n",
       "      <td>American|</td>\n",
       "      <td>1859      |1837</td>\n",
       "      <td>1927      |9999</td>\n",
       "      <td>|</td>\n",
       "      <td>http://vocab.getty.edu/page/ulan/500336597|htt...</td>\n",
       "      <td>https://www.wikidata.org/wiki/Q13476260|https:...</td>\n",
       "      <td>1893–95</td>\n",
       "      <td>1893</td>\n",
       "      <td>1895</td>\n",
       "      <td>Gold, amethysts, spessartites, tourmalines, fr...</td>\n",
       "      <td>Overall: 19 7/16 x 13 x 9 1/4 in. (49.4 x 33 x...</td>\n",
       "      <td>Gift of Edward D. Adams, 1904</td>\n",
       "      <td>Made in</td>\n",
       "      <td>New York</td>\n",
       "      <td>NaN</td>\n",
       "      <td>NaN</td>\n",
       "      <td>United States</td>\n",
       "      <td>NaN</td>\n",
       "      <td>NaN</td>\n",
       "      <td>NaN</td>\n",
       "      <td>NaN</td>\n",
       "      <td>NaN</td>\n",
       "      <td>NaN</td>\n",
       "      <td>NaN</td>\n",
       "      <td>NaN</td>\n",
       "      <td>http://www.metmuseum.org/art/collection/search/35</td>\n",
       "      <td>https://www.wikidata.org/wiki/Q83545838</td>\n",
       "      <td>NaN</td>\n",
       "      <td>Metropolitan Museum of Art, New York, NY</td>\n",
       "      <td>Animals|Garlands|Birds|Men</td>\n",
       "      <td>http://vocab.getty.edu/page/aat/300249525|http...</td>\n",
       "      <td>https://www.wikidata.org/wiki/Q729|https://www...</td>\n",
       "    </tr>\n",
       "  </tbody>\n",
       "</table>\n",
       "</div>"
      ],
      "text/plain": [
       "   Object Number  Is Highlight  Is Timeline Work  Is Public Domain  Object ID  \\\n",
       "0     1979.486.1         False             False             False          1   \n",
       "1     1980.264.5         False             False             False          2   \n",
       "9     1979.486.3         False             False             False         10   \n",
       "10    1979.486.2         False             False             False         11   \n",
       "11    1979.486.7         False             False             False         12   \n",
       "12    1979.486.4         False             False             False         13   \n",
       "13    1979.486.5         False             False             False         14   \n",
       "32         64.62         False             False             False         33   \n",
       "33    1970.289.6         False             False              True         34   \n",
       "34       04.1a–c          True              True             False         35   \n",
       "\n",
       "   Gallery Number         Department AccessionYear Object Name  \\\n",
       "0             NaN  The American Wing        1979.0        Coin   \n",
       "1             NaN  The American Wing        1980.0        Coin   \n",
       "9             NaN  The American Wing        1979.0        Coin   \n",
       "10            NaN  The American Wing        1979.0        Coin   \n",
       "11            NaN  The American Wing        1979.0        Coin   \n",
       "12            NaN  The American Wing        1979.0        Coin   \n",
       "13            NaN  The American Wing        1979.0        Coin   \n",
       "32            774  The American Wing        1964.0        Bust   \n",
       "33            774  The American Wing        1970.0       Clock   \n",
       "34            706  The American Wing        1904.0        Vase   \n",
       "\n",
       "                                      Title   Culture Period Dynasty Reign  \\\n",
       "0              One-dollar Liberty Head Coin       NaN    NaN     NaN   NaN   \n",
       "1              Ten-dollar Liberty Head Coin       NaN    NaN     NaN   NaN   \n",
       "9    Two-and-a-half-dollar Indian Head Coin       NaN    NaN     NaN   NaN   \n",
       "10  Two-and-a-half-dollar Liberty Head Coin       NaN    NaN     NaN   NaN   \n",
       "11          Twenty-dollar Liberty Head Coin       NaN    NaN     NaN   NaN   \n",
       "12             Five-dollar Indian Head Coin       NaN    NaN     NaN   NaN   \n",
       "13            Five-dollar Liberty Head Coin       NaN    NaN     NaN   NaN   \n",
       "32                  Bust of Abraham Lincoln  American    NaN     NaN   NaN   \n",
       "33                              Acorn Clock  American    NaN     NaN   NaN   \n",
       "34                           The Adams Vase  American    NaN     NaN   NaN   \n",
       "\n",
       "   Portfolio Constituent ID            Artist Role  \\\n",
       "0        NaN          16429                  Maker   \n",
       "1        NaN            107                  Maker   \n",
       "9        NaN            108                  Maker   \n",
       "10       NaN            107                  Maker   \n",
       "11       NaN          16429                  Maker   \n",
       "12       NaN            108                  Maker   \n",
       "13       NaN            107                  Maker   \n",
       "32       NaN          16459                  Maker   \n",
       "33       NaN            108                  Maker   \n",
       "34       NaN      108316253  Designer|Manufacturer   \n",
       "\n",
       "                  Artist Prefix                Artist Display Name  \\\n",
       "0                                            James Barton Longacre   \n",
       "1                                               Christian Gobrecht   \n",
       "9                                                  Bela Lyon Pratt   \n",
       "10                                              Christian Gobrecht   \n",
       "11                                           James Barton Longacre   \n",
       "12                                                 Bela Lyon Pratt   \n",
       "13                                              Christian Gobrecht   \n",
       "32                                        James Gillinder and Sons   \n",
       "33                               Forestville Manufacturing Company   \n",
       "34  Designed by|Manufactured by     Paulding Farnham|Tiffany & Co.   \n",
       "\n",
       "                                   Artist Display Bio Artist Suffix  \\\n",
       "0   American, Delaware County, Pennsylvania 1794–1...                 \n",
       "1                                           1785–1844                 \n",
       "9                                           1867–1917                 \n",
       "10                                          1785–1844                 \n",
       "11  American, Delaware County, Pennsylvania 1794–1...                 \n",
       "12                                          1867–1917                 \n",
       "13                                          1785–1844                 \n",
       "32                            American, 1861–ca. 1930                 \n",
       "33                                          1835–1853                 \n",
       "34                             1859–1927|1837–present            |    \n",
       "\n",
       "                     Artist Alpha Sort Artist Nationality  \\\n",
       "0               Longacre, James Barton           American   \n",
       "1                  Gobrecht, Christian           American   \n",
       "9                     Pratt, Bela Lyon           American   \n",
       "10                 Gobrecht, Christian           American   \n",
       "11              Longacre, James Barton           American   \n",
       "12                    Pratt, Bela Lyon           American   \n",
       "13                 Gobrecht, Christian           American   \n",
       "32           Gillinder and Sons, James           American   \n",
       "33  Forestville Manufacturing Company            American   \n",
       "34     Farnham, Paulding|Tiffany & Co.         American|    \n",
       "\n",
       "        Artist Begin Date        Artist End Date Artist Gender  \\\n",
       "0              1794                   1869                 NaN   \n",
       "1              1785                   1844                 NaN   \n",
       "9              1867                   1917                 NaN   \n",
       "10             1785                   1844                 NaN   \n",
       "11             1794                   1869                 NaN   \n",
       "12             1867                   1917                 NaN   \n",
       "13             1785                   1844                 NaN   \n",
       "32             1861                   1930                 NaN   \n",
       "33             1835                   1853                 NaN   \n",
       "34  1859      |1837        1927      |9999                   |   \n",
       "\n",
       "                                      Artist ULAN URL  \\\n",
       "0          http://vocab.getty.edu/page/ulan/500011409   \n",
       "1          http://vocab.getty.edu/page/ulan/500077295   \n",
       "9          http://vocab.getty.edu/page/ulan/500095555   \n",
       "10         http://vocab.getty.edu/page/ulan/500077295   \n",
       "11         http://vocab.getty.edu/page/ulan/500011409   \n",
       "12         http://vocab.getty.edu/page/ulan/500095555   \n",
       "13         http://vocab.getty.edu/page/ulan/500077295   \n",
       "32         http://vocab.getty.edu/page/ulan/500524407   \n",
       "33                                                NaN   \n",
       "34  http://vocab.getty.edu/page/ulan/500336597|htt...   \n",
       "\n",
       "                                  Artist Wikidata URL Object Date  \\\n",
       "0              https://www.wikidata.org/wiki/Q3806459        1853   \n",
       "1              https://www.wikidata.org/wiki/Q5109648        1901   \n",
       "9              https://www.wikidata.org/wiki/Q4881787        1912   \n",
       "10             https://www.wikidata.org/wiki/Q5109648        1907   \n",
       "11             https://www.wikidata.org/wiki/Q3806459        1876   \n",
       "12             https://www.wikidata.org/wiki/Q4881787        1910   \n",
       "13             https://www.wikidata.org/wiki/Q5109648        1907   \n",
       "32            https://www.wikidata.org/wiki/Q99264077        1876   \n",
       "33                                                NaN     1847–50   \n",
       "34  https://www.wikidata.org/wiki/Q13476260|https:...     1893–95   \n",
       "\n",
       "    Object Begin Date  Object End Date  \\\n",
       "0                1853             1853   \n",
       "1                1901             1901   \n",
       "9                1912             1912   \n",
       "10               1907             1907   \n",
       "11               1876             1876   \n",
       "12               1910             1910   \n",
       "13               1907             1907   \n",
       "32               1876             1876   \n",
       "33               1847             1850   \n",
       "34               1893             1895   \n",
       "\n",
       "                                               Medium  \\\n",
       "0                                                Gold   \n",
       "1                                                Gold   \n",
       "9                                                Gold   \n",
       "10                                               Gold   \n",
       "11                                               Gold   \n",
       "12                                               Gold   \n",
       "13                                               Gold   \n",
       "32                                      Pressed glass   \n",
       "33                                Mahogany, laminated   \n",
       "34  Gold, amethysts, spessartites, tourmalines, fr...   \n",
       "\n",
       "                                           Dimensions  \\\n",
       "0                              Dimensions unavailable   \n",
       "1                              Dimensions unavailable   \n",
       "9                              Dimensions unavailable   \n",
       "10                             Dimensions unavailable   \n",
       "11                             Dimensions unavailable   \n",
       "12                             Dimensions unavailable   \n",
       "13                             Dimensions unavailable   \n",
       "32         2 3/4 x 3 1/2 x 2 3/4 in. (7 x 8.9 x 7 cm)   \n",
       "33  24 3/8 x 14 5/8 x 5 1/8 in. (61.9 x 37.1 x 13 cm)   \n",
       "34  Overall: 19 7/16 x 13 x 9 1/4 in. (49.4 x 33 x...   \n",
       "\n",
       "                             Credit Line Geography Type          City State  \\\n",
       "0     Gift of Heinz L. Stoppelmann, 1979            NaN           NaN   NaN   \n",
       "1     Gift of Heinz L. Stoppelmann, 1980            NaN           NaN   NaN   \n",
       "9     Gift of Heinz L. Stoppelmann, 1979            NaN           NaN   NaN   \n",
       "10    Gift of Heinz L. Stoppelmann, 1979            NaN           NaN   NaN   \n",
       "11    Gift of Heinz L. Stoppelmann, 1979            NaN           NaN   NaN   \n",
       "12    Gift of Heinz L. Stoppelmann, 1979            NaN           NaN   NaN   \n",
       "13    Gift of Heinz L. Stoppelmann, 1979            NaN           NaN   NaN   \n",
       "32  Gift of Teunis G. B. Cortelyou, 1964        Made in  Philadelphia   NaN   \n",
       "33         Gift of Mrs. Paul Moore, 1970        Made in       Bristol   NaN   \n",
       "34         Gift of Edward D. Adams, 1904        Made in      New York   NaN   \n",
       "\n",
       "   County        Country Region Subregion Locale Locus Excavation River  \\\n",
       "0     NaN            NaN    NaN       NaN    NaN   NaN        NaN   NaN   \n",
       "1     NaN            NaN    NaN       NaN    NaN   NaN        NaN   NaN   \n",
       "9     NaN            NaN    NaN       NaN    NaN   NaN        NaN   NaN   \n",
       "10    NaN            NaN    NaN       NaN    NaN   NaN        NaN   NaN   \n",
       "11    NaN            NaN    NaN       NaN    NaN   NaN        NaN   NaN   \n",
       "12    NaN            NaN    NaN       NaN    NaN   NaN        NaN   NaN   \n",
       "13    NaN            NaN    NaN       NaN    NaN   NaN        NaN   NaN   \n",
       "32    NaN  United States    NaN       NaN    NaN   NaN        NaN   NaN   \n",
       "33    NaN  United States    NaN       NaN    NaN   NaN        NaN   NaN   \n",
       "34    NaN  United States    NaN       NaN    NaN   NaN        NaN   NaN   \n",
       "\n",
       "   Classification Rights and Reproduction  \\\n",
       "0             NaN                     NaN   \n",
       "1             NaN                     NaN   \n",
       "9             NaN                     NaN   \n",
       "10            NaN                     NaN   \n",
       "11            NaN                     NaN   \n",
       "12            NaN                     NaN   \n",
       "13            NaN                     NaN   \n",
       "32            NaN                     NaN   \n",
       "33            NaN                     NaN   \n",
       "34            NaN                     NaN   \n",
       "\n",
       "                                        Link Resource  \\\n",
       "0    http://www.metmuseum.org/art/collection/search/1   \n",
       "1    http://www.metmuseum.org/art/collection/search/2   \n",
       "9   http://www.metmuseum.org/art/collection/search/10   \n",
       "10  http://www.metmuseum.org/art/collection/search/11   \n",
       "11  http://www.metmuseum.org/art/collection/search/12   \n",
       "12  http://www.metmuseum.org/art/collection/search/13   \n",
       "13  http://www.metmuseum.org/art/collection/search/14   \n",
       "32  http://www.metmuseum.org/art/collection/search/33   \n",
       "33  http://www.metmuseum.org/art/collection/search/34   \n",
       "34  http://www.metmuseum.org/art/collection/search/35   \n",
       "\n",
       "                         Object Wikidata URL  Metadata Date  \\\n",
       "0                                        NaN            NaN   \n",
       "1                                        NaN            NaN   \n",
       "9                                        NaN            NaN   \n",
       "10                                       NaN            NaN   \n",
       "11                                       NaN            NaN   \n",
       "12                                       NaN            NaN   \n",
       "13                                       NaN            NaN   \n",
       "32  https://www.wikidata.org/wiki/Q116250677            NaN   \n",
       "33  https://www.wikidata.org/wiki/Q116373732            NaN   \n",
       "34   https://www.wikidata.org/wiki/Q83545838            NaN   \n",
       "\n",
       "                                  Repository                           Tags  \\\n",
       "0   Metropolitan Museum of Art, New York, NY                            NaN   \n",
       "1   Metropolitan Museum of Art, New York, NY                            NaN   \n",
       "9   Metropolitan Museum of Art, New York, NY                            NaN   \n",
       "10  Metropolitan Museum of Art, New York, NY                            NaN   \n",
       "11  Metropolitan Museum of Art, New York, NY                            NaN   \n",
       "12  Metropolitan Museum of Art, New York, NY                            NaN   \n",
       "13  Metropolitan Museum of Art, New York, NY                            NaN   \n",
       "32  Metropolitan Museum of Art, New York, NY  Men|Abraham Lincoln|Portraits   \n",
       "33  Metropolitan Museum of Art, New York, NY               Landscapes|Boats   \n",
       "34  Metropolitan Museum of Art, New York, NY     Animals|Garlands|Birds|Men   \n",
       "\n",
       "                                         Tags AAT URL  \\\n",
       "0                                                 NaN   \n",
       "1                                                 NaN   \n",
       "9                                                 NaN   \n",
       "10                                                NaN   \n",
       "11                                                NaN   \n",
       "12                                                NaN   \n",
       "13                                                NaN   \n",
       "32  http://vocab.getty.edu/page/aat/300025928|http...   \n",
       "33  http://vocab.getty.edu/page/aat/300132294|http...   \n",
       "34  http://vocab.getty.edu/page/aat/300249525|http...   \n",
       "\n",
       "                                    Tags Wikidata URL  \n",
       "0                                                 NaN  \n",
       "1                                                 NaN  \n",
       "9                                                 NaN  \n",
       "10                                                NaN  \n",
       "11                                                NaN  \n",
       "12                                                NaN  \n",
       "13                                                NaN  \n",
       "32  https://www.wikidata.org/wiki/Q8441|https://ww...  \n",
       "33  https://www.wikidata.org/wiki/Q191163|https://...  \n",
       "34  https://www.wikidata.org/wiki/Q729|https://www...  "
      ]
     },
     "execution_count": 424,
     "metadata": {},
     "output_type": "execute_result"
    }
   ],
   "source": [
    "filtered = met.dropna(subset=['Artist Nationality'])\n",
    "filtered.head(10)"
   ]
  },
  {
   "cell_type": "code",
   "execution_count": 432,
   "metadata": {
    "tags": []
   },
   "outputs": [
    {
     "data": {
      "text/html": [
       "<div>\n",
       "<style scoped>\n",
       "    .dataframe tbody tr th:only-of-type {\n",
       "        vertical-align: middle;\n",
       "    }\n",
       "\n",
       "    .dataframe tbody tr th {\n",
       "        vertical-align: top;\n",
       "    }\n",
       "\n",
       "    .dataframe thead th {\n",
       "        text-align: right;\n",
       "    }\n",
       "</style>\n",
       "<table border=\"1\" class=\"dataframe\">\n",
       "  <thead>\n",
       "    <tr style=\"text-align: right;\">\n",
       "      <th></th>\n",
       "      <th>0</th>\n",
       "    </tr>\n",
       "  </thead>\n",
       "  <tbody>\n",
       "    <tr>\n",
       "      <th>American</th>\n",
       "      <td>126558</td>\n",
       "    </tr>\n",
       "    <tr>\n",
       "      <th></th>\n",
       "      <td>117820</td>\n",
       "    </tr>\n",
       "    <tr>\n",
       "      <th>French</th>\n",
       "      <td>91399</td>\n",
       "    </tr>\n",
       "    <tr>\n",
       "      <th>British</th>\n",
       "      <td>57935</td>\n",
       "    </tr>\n",
       "    <tr>\n",
       "      <th>Italian</th>\n",
       "      <td>44062</td>\n",
       "    </tr>\n",
       "    <tr>\n",
       "      <th>German</th>\n",
       "      <td>19897</td>\n",
       "    </tr>\n",
       "    <tr>\n",
       "      <th>born</th>\n",
       "      <td>12840</td>\n",
       "    </tr>\n",
       "    <tr>\n",
       "      <th>Netherlandish</th>\n",
       "      <td>12649</td>\n",
       "    </tr>\n",
       "    <tr>\n",
       "      <th>Japanese</th>\n",
       "      <td>8342</td>\n",
       "    </tr>\n",
       "    <tr>\n",
       "      <th>Dutch</th>\n",
       "      <td>6608</td>\n",
       "    </tr>\n",
       "    <tr>\n",
       "      <th>Scottish</th>\n",
       "      <td>4492</td>\n",
       "    </tr>\n",
       "    <tr>\n",
       "      <th>Spanish</th>\n",
       "      <td>3780</td>\n",
       "    </tr>\n",
       "    <tr>\n",
       "      <th>Flemish</th>\n",
       "      <td>3684</td>\n",
       "    </tr>\n",
       "    <tr>\n",
       "      <th>Mexican</th>\n",
       "      <td>2897</td>\n",
       "    </tr>\n",
       "    <tr>\n",
       "      <th>Austrian</th>\n",
       "      <td>2859</td>\n",
       "    </tr>\n",
       "    <tr>\n",
       "      <th>Chinese</th>\n",
       "      <td>2461</td>\n",
       "    </tr>\n",
       "    <tr>\n",
       "      <th>Germany</th>\n",
       "      <td>2255</td>\n",
       "    </tr>\n",
       "    <tr>\n",
       "      <th>Swiss</th>\n",
       "      <td>1787</td>\n",
       "    </tr>\n",
       "    <tr>\n",
       "      <th>England</th>\n",
       "      <td>1536</td>\n",
       "    </tr>\n",
       "    <tr>\n",
       "      <th>Bohemian</th>\n",
       "      <td>1354</td>\n",
       "    </tr>\n",
       "    <tr>\n",
       "      <th>Russian</th>\n",
       "      <td>1275</td>\n",
       "    </tr>\n",
       "    <tr>\n",
       "      <th>Irish</th>\n",
       "      <td>1190</td>\n",
       "    </tr>\n",
       "    <tr>\n",
       "      <th>Ireland</th>\n",
       "      <td>897</td>\n",
       "    </tr>\n",
       "    <tr>\n",
       "      <th>Belgian</th>\n",
       "      <td>736</td>\n",
       "    </tr>\n",
       "    <tr>\n",
       "      <th>Russia</th>\n",
       "      <td>714</td>\n",
       "    </tr>\n",
       "    <tr>\n",
       "      <th>Iranian</th>\n",
       "      <td>713</td>\n",
       "    </tr>\n",
       "    <tr>\n",
       "      <th>and</th>\n",
       "      <td>691</td>\n",
       "    </tr>\n",
       "    <tr>\n",
       "      <th>Danish</th>\n",
       "      <td>640</td>\n",
       "    </tr>\n",
       "    <tr>\n",
       "      <th>Roman</th>\n",
       "      <td>604</td>\n",
       "    </tr>\n",
       "    <tr>\n",
       "      <th>Swedish</th>\n",
       "      <td>596</td>\n",
       "    </tr>\n",
       "    <tr>\n",
       "      <th>Switzerland</th>\n",
       "      <td>577</td>\n",
       "    </tr>\n",
       "    <tr>\n",
       "      <th>France</th>\n",
       "      <td>556</td>\n",
       "    </tr>\n",
       "    <tr>\n",
       "      <th>Canadian</th>\n",
       "      <td>497</td>\n",
       "    </tr>\n",
       "    <tr>\n",
       "      <th>Hungary</th>\n",
       "      <td>480</td>\n",
       "    </tr>\n",
       "    <tr>\n",
       "      <th>Indian</th>\n",
       "      <td>430</td>\n",
       "    </tr>\n",
       "    <tr>\n",
       "      <th>Algeria</th>\n",
       "      <td>409</td>\n",
       "    </tr>\n",
       "    <tr>\n",
       "      <th>Austria</th>\n",
       "      <td>381</td>\n",
       "    </tr>\n",
       "    <tr>\n",
       "      <th>Sweden</th>\n",
       "      <td>378</td>\n",
       "    </tr>\n",
       "    <tr>\n",
       "      <th>India</th>\n",
       "      <td>339</td>\n",
       "    </tr>\n",
       "    <tr>\n",
       "      <th>Scotland</th>\n",
       "      <td>337</td>\n",
       "    </tr>\n",
       "    <tr>\n",
       "      <th>(born</th>\n",
       "      <td>329</td>\n",
       "    </tr>\n",
       "    <tr>\n",
       "      <th>Italy</th>\n",
       "      <td>318</td>\n",
       "    </tr>\n",
       "    <tr>\n",
       "      <th>Poland</th>\n",
       "      <td>310</td>\n",
       "    </tr>\n",
       "    <tr>\n",
       "      <th>New</th>\n",
       "      <td>303</td>\n",
       "    </tr>\n",
       "    <tr>\n",
       "      <th>Czech</th>\n",
       "      <td>282</td>\n",
       "    </tr>\n",
       "    <tr>\n",
       "      <th>Netherlands</th>\n",
       "      <td>279</td>\n",
       "    </tr>\n",
       "    <tr>\n",
       "      <th>Guinea</th>\n",
       "      <td>278</td>\n",
       "    </tr>\n",
       "    <tr>\n",
       "      <th>Papua</th>\n",
       "      <td>277</td>\n",
       "    </tr>\n",
       "    <tr>\n",
       "      <th>Hungarian</th>\n",
       "      <td>272</td>\n",
       "    </tr>\n",
       "    <tr>\n",
       "      <th>Cuba</th>\n",
       "      <td>258</td>\n",
       "    </tr>\n",
       "    <tr>\n",
       "      <th>The</th>\n",
       "      <td>257</td>\n",
       "    </tr>\n",
       "    <tr>\n",
       "      <th>Greek</th>\n",
       "      <td>256</td>\n",
       "    </tr>\n",
       "    <tr>\n",
       "      <th>Prussia</th>\n",
       "      <td>250</td>\n",
       "    </tr>\n",
       "    <tr>\n",
       "      <th>Polish</th>\n",
       "      <td>231</td>\n",
       "    </tr>\n",
       "    <tr>\n",
       "      <th>Finnish</th>\n",
       "      <td>219</td>\n",
       "    </tr>\n",
       "    <tr>\n",
       "      <th>Greece</th>\n",
       "      <td>209</td>\n",
       "    </tr>\n",
       "    <tr>\n",
       "      <th>Canada</th>\n",
       "      <td>206</td>\n",
       "    </tr>\n",
       "    <tr>\n",
       "      <th>Welsh</th>\n",
       "      <td>193</td>\n",
       "    </tr>\n",
       "    <tr>\n",
       "      <th>Czechoslovakia</th>\n",
       "      <td>185</td>\n",
       "    </tr>\n",
       "    <tr>\n",
       "      <th>Alsatian</th>\n",
       "      <td>180</td>\n",
       "    </tr>\n",
       "    <tr>\n",
       "      <th>Japan</th>\n",
       "      <td>179</td>\n",
       "    </tr>\n",
       "    <tr>\n",
       "      <th>Lithuania</th>\n",
       "      <td>176</td>\n",
       "    </tr>\n",
       "    <tr>\n",
       "      <th>Spain)</th>\n",
       "      <td>173</td>\n",
       "    </tr>\n",
       "    <tr>\n",
       "      <th>or</th>\n",
       "      <td>173</td>\n",
       "    </tr>\n",
       "    <tr>\n",
       "      <th>French?</th>\n",
       "      <td>166</td>\n",
       "    </tr>\n",
       "    <tr>\n",
       "      <th>Norwegian</th>\n",
       "      <td>164</td>\n",
       "    </tr>\n",
       "    <tr>\n",
       "      <th>Ukraine</th>\n",
       "      <td>152</td>\n",
       "    </tr>\n",
       "    <tr>\n",
       "      <th>Luxembourg</th>\n",
       "      <td>145</td>\n",
       "    </tr>\n",
       "    <tr>\n",
       "      <th>London</th>\n",
       "      <td>142</td>\n",
       "    </tr>\n",
       "    <tr>\n",
       "      <th>Australian</th>\n",
       "      <td>122</td>\n",
       "    </tr>\n",
       "    <tr>\n",
       "      <th>Portuguese</th>\n",
       "      <td>117</td>\n",
       "    </tr>\n",
       "    <tr>\n",
       "      <th>active</th>\n",
       "      <td>117</td>\n",
       "    </tr>\n",
       "    <tr>\n",
       "      <th>Australia</th>\n",
       "      <td>114</td>\n",
       "    </tr>\n",
       "    <tr>\n",
       "      <th>United</th>\n",
       "      <td>111</td>\n",
       "    </tr>\n",
       "    <tr>\n",
       "      <th>States</th>\n",
       "      <td>109</td>\n",
       "    </tr>\n",
       "    <tr>\n",
       "      <th>African</th>\n",
       "      <td>107</td>\n",
       "    </tr>\n",
       "    <tr>\n",
       "      <th>Austria-Hungary</th>\n",
       "      <td>106</td>\n",
       "    </tr>\n",
       "    <tr>\n",
       "      <th>European</th>\n",
       "      <td>104</td>\n",
       "    </tr>\n",
       "    <tr>\n",
       "      <th>Armenia</th>\n",
       "      <td>100</td>\n",
       "    </tr>\n",
       "    <tr>\n",
       "      <th>South</th>\n",
       "      <td>100</td>\n",
       "    </tr>\n",
       "    <tr>\n",
       "      <th>Denmark</th>\n",
       "      <td>99</td>\n",
       "    </tr>\n",
       "    <tr>\n",
       "      <th>Central</th>\n",
       "      <td>96</td>\n",
       "    </tr>\n",
       "    <tr>\n",
       "      <th>(?)</th>\n",
       "      <td>90</td>\n",
       "    </tr>\n",
       "    <tr>\n",
       "      <th>Romania</th>\n",
       "      <td>90</td>\n",
       "    </tr>\n",
       "    <tr>\n",
       "      <th>Brazilian</th>\n",
       "      <td>83</td>\n",
       "    </tr>\n",
       "    <tr>\n",
       "      <th>First</th>\n",
       "      <td>82</td>\n",
       "    </tr>\n",
       "    <tr>\n",
       "      <th>Israeli</th>\n",
       "      <td>78</td>\n",
       "    </tr>\n",
       "    <tr>\n",
       "      <th>Dominican</th>\n",
       "      <td>77</td>\n",
       "    </tr>\n",
       "    <tr>\n",
       "      <th>Republic)</th>\n",
       "      <td>74</td>\n",
       "    </tr>\n",
       "    <tr>\n",
       "      <th>Netherlandish?</th>\n",
       "      <td>71</td>\n",
       "    </tr>\n",
       "    <tr>\n",
       "      <th>Native</th>\n",
       "      <td>70</td>\n",
       "    </tr>\n",
       "    <tr>\n",
       "      <th>Belgium</th>\n",
       "      <td>69</td>\n",
       "    </tr>\n",
       "    <tr>\n",
       "      <th>Korean</th>\n",
       "      <td>67</td>\n",
       "    </tr>\n",
       "    <tr>\n",
       "      <th>Nations</th>\n",
       "      <td>63</td>\n",
       "    </tr>\n",
       "    <tr>\n",
       "      <th>Peruvian</th>\n",
       "      <td>60</td>\n",
       "    </tr>\n",
       "    <tr>\n",
       "      <th>Ukrainian</th>\n",
       "      <td>58</td>\n",
       "    </tr>\n",
       "    <tr>\n",
       "      <th>Argentinian</th>\n",
       "      <td>58</td>\n",
       "    </tr>\n",
       "    <tr>\n",
       "      <th>Hanover</th>\n",
       "      <td>55</td>\n",
       "    </tr>\n",
       "    <tr>\n",
       "      <th>Finland</th>\n",
       "      <td>53</td>\n",
       "    </tr>\n",
       "    <tr>\n",
       "      <th>Egypt</th>\n",
       "      <td>53</td>\n",
       "    </tr>\n",
       "    <tr>\n",
       "      <th>British?</th>\n",
       "      <td>51</td>\n",
       "    </tr>\n",
       "    <tr>\n",
       "      <th>Latvia</th>\n",
       "      <td>49</td>\n",
       "    </tr>\n",
       "    <tr>\n",
       "      <th>Tunisia</th>\n",
       "      <td>49</td>\n",
       "    </tr>\n",
       "    <tr>\n",
       "      <th>Colombian</th>\n",
       "      <td>49</td>\n",
       "    </tr>\n",
       "    <tr>\n",
       "      <th>Malian</th>\n",
       "      <td>48</td>\n",
       "    </tr>\n",
       "    <tr>\n",
       "      <th>Wales</th>\n",
       "      <td>47</td>\n",
       "    </tr>\n",
       "    <tr>\n",
       "      <th>(Transylvania)</th>\n",
       "      <td>46</td>\n",
       "    </tr>\n",
       "    <tr>\n",
       "      <th>German?</th>\n",
       "      <td>44</td>\n",
       "    </tr>\n",
       "    <tr>\n",
       "      <th>Austro-Hungarian</th>\n",
       "      <td>44</td>\n",
       "    </tr>\n",
       "    <tr>\n",
       "      <th>Israel</th>\n",
       "      <td>44</td>\n",
       "    </tr>\n",
       "    <tr>\n",
       "      <th>Turkish</th>\n",
       "      <td>43</td>\n",
       "    </tr>\n",
       "    <tr>\n",
       "      <th>Uruguayan</th>\n",
       "      <td>40</td>\n",
       "    </tr>\n",
       "    <tr>\n",
       "      <th>Bulgaria</th>\n",
       "      <td>40</td>\n",
       "    </tr>\n",
       "    <tr>\n",
       "      <th>Nigerian</th>\n",
       "      <td>40</td>\n",
       "    </tr>\n",
       "    <tr>\n",
       "      <th>Argentine</th>\n",
       "      <td>38</td>\n",
       "    </tr>\n",
       "    <tr>\n",
       "      <th>American?</th>\n",
       "      <td>37</td>\n",
       "    </tr>\n",
       "    <tr>\n",
       "      <th>China</th>\n",
       "      <td>37</td>\n",
       "    </tr>\n",
       "    <tr>\n",
       "      <th>Ireland)</th>\n",
       "      <td>36</td>\n",
       "    </tr>\n",
       "    <tr>\n",
       "      <th>Czechoslovakian</th>\n",
       "      <td>35</td>\n",
       "    </tr>\n",
       "    <tr>\n",
       "      <th>French/Dutch</th>\n",
       "      <td>35</td>\n",
       "    </tr>\n",
       "    <tr>\n",
       "      <th>Lithuanian</th>\n",
       "      <td>33</td>\n",
       "    </tr>\n",
       "    <tr>\n",
       "      <th>Mexico</th>\n",
       "      <td>33</td>\n",
       "    </tr>\n",
       "    <tr>\n",
       "      <th>Haiti</th>\n",
       "      <td>32</td>\n",
       "    </tr>\n",
       "    <tr>\n",
       "      <th>Egyptian</th>\n",
       "      <td>31</td>\n",
       "    </tr>\n",
       "    <tr>\n",
       "      <th>Chilean</th>\n",
       "      <td>27</td>\n",
       "    </tr>\n",
       "    <tr>\n",
       "      <th>Turkey</th>\n",
       "      <td>27</td>\n",
       "    </tr>\n",
       "    <tr>\n",
       "      <th>Pakistani</th>\n",
       "      <td>26</td>\n",
       "    </tr>\n",
       "    <tr>\n",
       "      <th>Togolese</th>\n",
       "      <td>25</td>\n",
       "    </tr>\n",
       "    <tr>\n",
       "      <th>Germany)</th>\n",
       "      <td>24</td>\n",
       "    </tr>\n",
       "    <tr>\n",
       "      <th>Nation</th>\n",
       "      <td>23</td>\n",
       "    </tr>\n",
       "    <tr>\n",
       "      <th>Venezuelan</th>\n",
       "      <td>23</td>\n",
       "    </tr>\n",
       "    <tr>\n",
       "      <th>of</th>\n",
       "      <td>23</td>\n",
       "    </tr>\n",
       "    <tr>\n",
       "      <th>Romanian</th>\n",
       "      <td>22</td>\n",
       "    </tr>\n",
       "    <tr>\n",
       "      <th>Austrian?</th>\n",
       "      <td>22</td>\n",
       "    </tr>\n",
       "    <tr>\n",
       "      <th>Icelandic</th>\n",
       "      <td>22</td>\n",
       "    </tr>\n",
       "    <tr>\n",
       "      <th>Empire</th>\n",
       "      <td>22</td>\n",
       "    </tr>\n",
       "    <tr>\n",
       "      <th>Spain</th>\n",
       "      <td>22</td>\n",
       "    </tr>\n",
       "    <tr>\n",
       "      <th>Lebanese</th>\n",
       "      <td>21</td>\n",
       "    </tr>\n",
       "    <tr>\n",
       "      <th>Argentina</th>\n",
       "      <td>21</td>\n",
       "    </tr>\n",
       "    <tr>\n",
       "      <th>Cuban</th>\n",
       "      <td>19</td>\n",
       "    </tr>\n",
       "    <tr>\n",
       "      <th>Rican</th>\n",
       "      <td>19</td>\n",
       "    </tr>\n",
       "    <tr>\n",
       "      <th>Algerian</th>\n",
       "      <td>18</td>\n",
       "    </tr>\n",
       "    <tr>\n",
       "      <th>Croatian</th>\n",
       "      <td>18</td>\n",
       "    </tr>\n",
       "    <tr>\n",
       "      <th>Swedish?</th>\n",
       "      <td>18</td>\n",
       "    </tr>\n",
       "    <tr>\n",
       "      <th>Holland</th>\n",
       "      <td>17</td>\n",
       "    </tr>\n",
       "    <tr>\n",
       "      <th>Monaco</th>\n",
       "      <td>17</td>\n",
       "    </tr>\n",
       "    <tr>\n",
       "      <th>Middle</th>\n",
       "      <td>17</td>\n",
       "    </tr>\n",
       "    <tr>\n",
       "      <th>Ukraine]</th>\n",
       "      <td>17</td>\n",
       "    </tr>\n",
       "    <tr>\n",
       "      <th>[now</th>\n",
       "      <td>17</td>\n",
       "    </tr>\n",
       "    <tr>\n",
       "      <th>Puerto</th>\n",
       "      <td>17</td>\n",
       "    </tr>\n",
       "    <tr>\n",
       "      <th>Africa</th>\n",
       "      <td>16</td>\n",
       "    </tr>\n",
       "    <tr>\n",
       "      <th>East</th>\n",
       "      <td>16</td>\n",
       "    </tr>\n",
       "    <tr>\n",
       "      <th>Uruguayan-American</th>\n",
       "      <td>16</td>\n",
       "    </tr>\n",
       "    <tr>\n",
       "      <th>(Aboriginal)</th>\n",
       "      <td>15</td>\n",
       "    </tr>\n",
       "    <tr>\n",
       "      <th>Zealand</th>\n",
       "      <td>14</td>\n",
       "    </tr>\n",
       "    <tr>\n",
       "      <th>Uruguay</th>\n",
       "      <td>14</td>\n",
       "    </tr>\n",
       "    <tr>\n",
       "      <th>Southern</th>\n",
       "      <td>14</td>\n",
       "    </tr>\n",
       "    <tr>\n",
       "      <th>Morocco</th>\n",
       "      <td>13</td>\n",
       "    </tr>\n",
       "    <tr>\n",
       "      <th>Sri</th>\n",
       "      <td>13</td>\n",
       "    </tr>\n",
       "    <tr>\n",
       "      <th>Lankan</th>\n",
       "      <td>13</td>\n",
       "    </tr>\n",
       "    <tr>\n",
       "      <th>(Duchy</th>\n",
       "      <td>13</td>\n",
       "    </tr>\n",
       "    <tr>\n",
       "      <th>Brabant)</th>\n",
       "      <td>13</td>\n",
       "    </tr>\n",
       "    <tr>\n",
       "      <th>Iranian-American</th>\n",
       "      <td>12</td>\n",
       "    </tr>\n",
       "    <tr>\n",
       "      <th>Lebanese-American</th>\n",
       "      <td>12</td>\n",
       "    </tr>\n",
       "    <tr>\n",
       "      <th>Continental</th>\n",
       "      <td>12</td>\n",
       "    </tr>\n",
       "    <tr>\n",
       "      <th>Georgian</th>\n",
       "      <td>11</td>\n",
       "    </tr>\n",
       "    <tr>\n",
       "      <th>Korea</th>\n",
       "      <td>11</td>\n",
       "    </tr>\n",
       "    <tr>\n",
       "      <th>Britain</th>\n",
       "      <td>11</td>\n",
       "    </tr>\n",
       "    <tr>\n",
       "      <th>Scandinavian</th>\n",
       "      <td>11</td>\n",
       "    </tr>\n",
       "    <tr>\n",
       "      <th>Ethiopian</th>\n",
       "      <td>10</td>\n",
       "    </tr>\n",
       "    <tr>\n",
       "      <th>Northern</th>\n",
       "      <td>10</td>\n",
       "    </tr>\n",
       "    <tr>\n",
       "      <th>Panama</th>\n",
       "      <td>9</td>\n",
       "    </tr>\n",
       "    <tr>\n",
       "      <th>in</th>\n",
       "      <td>9</td>\n",
       "    </tr>\n",
       "    <tr>\n",
       "      <th>(active</th>\n",
       "      <td>9</td>\n",
       "    </tr>\n",
       "    <tr>\n",
       "      <th>Armenian</th>\n",
       "      <td>9</td>\n",
       "    </tr>\n",
       "    <tr>\n",
       "      <th>Limoges</th>\n",
       "      <td>9</td>\n",
       "    </tr>\n",
       "    <tr>\n",
       "      <th>(Augsburg)</th>\n",
       "      <td>8</td>\n",
       "    </tr>\n",
       "    <tr>\n",
       "      <th>Ghanaian</th>\n",
       "      <td>8</td>\n",
       "    </tr>\n",
       "    <tr>\n",
       "      <th>Franco-Netherlandish</th>\n",
       "      <td>8</td>\n",
       "    </tr>\n",
       "    <tr>\n",
       "      <th>Swiss?</th>\n",
       "      <td>8</td>\n",
       "    </tr>\n",
       "    <tr>\n",
       "      <th>Anglo-Irish</th>\n",
       "      <td>8</td>\n",
       "    </tr>\n",
       "    <tr>\n",
       "      <th>Westheim)</th>\n",
       "      <td>7</td>\n",
       "    </tr>\n",
       "    <tr>\n",
       "      <th>Geman</th>\n",
       "      <td>7</td>\n",
       "    </tr>\n",
       "    <tr>\n",
       "      <th>Dutch?</th>\n",
       "      <td>7</td>\n",
       "    </tr>\n",
       "    <tr>\n",
       "      <th>Samoan</th>\n",
       "      <td>7</td>\n",
       "    </tr>\n",
       "    <tr>\n",
       "      <th>Anglo-American</th>\n",
       "      <td>7</td>\n",
       "    </tr>\n",
       "    <tr>\n",
       "      <th>probably</th>\n",
       "      <td>7</td>\n",
       "    </tr>\n",
       "    <tr>\n",
       "      <th>Haitian</th>\n",
       "      <td>7</td>\n",
       "    </tr>\n",
       "    <tr>\n",
       "      <th>North</th>\n",
       "      <td>7</td>\n",
       "    </tr>\n",
       "    <tr>\n",
       "      <th>Republic</th>\n",
       "      <td>7</td>\n",
       "    </tr>\n",
       "    <tr>\n",
       "      <th>Georgia</th>\n",
       "      <td>6</td>\n",
       "    </tr>\n",
       "    <tr>\n",
       "      <th>Senegalese</th>\n",
       "      <td>6</td>\n",
       "    </tr>\n",
       "    <tr>\n",
       "      <th>Finish</th>\n",
       "      <td>6</td>\n",
       "    </tr>\n",
       "    <tr>\n",
       "      <th>(former</th>\n",
       "      <td>6</td>\n",
       "    </tr>\n",
       "    <tr>\n",
       "      <th>Malawi</th>\n",
       "      <td>6</td>\n",
       "    </tr>\n",
       "    <tr>\n",
       "      <th>Yugoslavia)</th>\n",
       "      <td>6</td>\n",
       "    </tr>\n",
       "    <tr>\n",
       "      <th>Croatia</th>\n",
       "      <td>6</td>\n",
       "    </tr>\n",
       "    <tr>\n",
       "      <th>Egyptian?</th>\n",
       "      <td>6</td>\n",
       "    </tr>\n",
       "    <tr>\n",
       "      <th>Spanish?</th>\n",
       "      <td>6</td>\n",
       "    </tr>\n",
       "    <tr>\n",
       "      <th>Ivorian</th>\n",
       "      <td>6</td>\n",
       "    </tr>\n",
       "    <tr>\n",
       "      <th>Philippines</th>\n",
       "      <td>6</td>\n",
       "    </tr>\n",
       "    <tr>\n",
       "      <th>Burkinabe</th>\n",
       "      <td>6</td>\n",
       "    </tr>\n",
       "    <tr>\n",
       "      <th>(Naples)</th>\n",
       "      <td>6</td>\n",
       "    </tr>\n",
       "    <tr>\n",
       "      <th>Macedonian</th>\n",
       "      <td>6</td>\n",
       "    </tr>\n",
       "    <tr>\n",
       "      <th>York</th>\n",
       "      <td>6</td>\n",
       "    </tr>\n",
       "    <tr>\n",
       "      <th>Inuit</th>\n",
       "      <td>5</td>\n",
       "    </tr>\n",
       "    <tr>\n",
       "      <th>Pueblo</th>\n",
       "      <td>5</td>\n",
       "    </tr>\n",
       "    <tr>\n",
       "      <th>Burkina</th>\n",
       "      <td>5</td>\n",
       "    </tr>\n",
       "    <tr>\n",
       "      <th>Faso</th>\n",
       "      <td>5</td>\n",
       "    </tr>\n",
       "    <tr>\n",
       "      <th>Congo</th>\n",
       "      <td>5</td>\n",
       "    </tr>\n",
       "    <tr>\n",
       "      <th>Italian?</th>\n",
       "      <td>5</td>\n",
       "    </tr>\n",
       "    <tr>\n",
       "      <th>Norway</th>\n",
       "      <td>5</td>\n",
       "    </tr>\n",
       "    <tr>\n",
       "      <th>West</th>\n",
       "      <td>5</td>\n",
       "    </tr>\n",
       "    <tr>\n",
       "      <th>Yugoslavian</th>\n",
       "      <td>5</td>\n",
       "    </tr>\n",
       "    <tr>\n",
       "      <th>Zealander</th>\n",
       "      <td>5</td>\n",
       "    </tr>\n",
       "    <tr>\n",
       "      <th>Saint</th>\n",
       "      <td>5</td>\n",
       "    </tr>\n",
       "    <tr>\n",
       "      <th>Lucian</th>\n",
       "      <td>5</td>\n",
       "    </tr>\n",
       "    <tr>\n",
       "      <th>the</th>\n",
       "      <td>5</td>\n",
       "    </tr>\n",
       "    <tr>\n",
       "      <th>Moravia</th>\n",
       "      <td>5</td>\n",
       "    </tr>\n",
       "    <tr>\n",
       "      <th>France)</th>\n",
       "      <td>5</td>\n",
       "    </tr>\n",
       "    <tr>\n",
       "      <th>Japanese-American</th>\n",
       "      <td>5</td>\n",
       "    </tr>\n",
       "    <tr>\n",
       "      <th>Serbian</th>\n",
       "      <td>5</td>\n",
       "    </tr>\n",
       "    <tr>\n",
       "      <th>(Prussian)</th>\n",
       "      <td>5</td>\n",
       "    </tr>\n",
       "    <tr>\n",
       "      <th>Russian?</th>\n",
       "      <td>5</td>\n",
       "    </tr>\n",
       "    <tr>\n",
       "      <th>Apache</th>\n",
       "      <td>5</td>\n",
       "    </tr>\n",
       "    <tr>\n",
       "      <th>Sioux</th>\n",
       "      <td>4</td>\n",
       "    </tr>\n",
       "    <tr>\n",
       "      <th>Belgian?</th>\n",
       "      <td>4</td>\n",
       "    </tr>\n",
       "    <tr>\n",
       "      <th>San</th>\n",
       "      <td>4</td>\n",
       "    </tr>\n",
       "    <tr>\n",
       "      <th>Pomerania</th>\n",
       "      <td>4</td>\n",
       "    </tr>\n",
       "    <tr>\n",
       "      <th>Australian-American</th>\n",
       "      <td>4</td>\n",
       "    </tr>\n",
       "    <tr>\n",
       "      <th>Cherokee</th>\n",
       "      <td>4</td>\n",
       "    </tr>\n",
       "    <tr>\n",
       "      <th>Flemish?</th>\n",
       "      <td>4</td>\n",
       "    </tr>\n",
       "    <tr>\n",
       "      <th>Costa</th>\n",
       "      <td>4</td>\n",
       "    </tr>\n",
       "    <tr>\n",
       "      <th>Burmese</th>\n",
       "      <td>4</td>\n",
       "    </tr>\n",
       "    <tr>\n",
       "      <th>Mexican?</th>\n",
       "      <td>4</td>\n",
       "    </tr>\n",
       "    <tr>\n",
       "      <th>Ildefonso</th>\n",
       "      <td>4</td>\n",
       "    </tr>\n",
       "    <tr>\n",
       "      <th>Slovakia</th>\n",
       "      <td>4</td>\n",
       "    </tr>\n",
       "    <tr>\n",
       "      <th>Britain)</th>\n",
       "      <td>4</td>\n",
       "    </tr>\n",
       "    <tr>\n",
       "      <th>Varese</th>\n",
       "      <td>4</td>\n",
       "    </tr>\n",
       "    <tr>\n",
       "      <th>Tuscany</th>\n",
       "      <td>4</td>\n",
       "    </tr>\n",
       "    <tr>\n",
       "      <th>Kenyan-American</th>\n",
       "      <td>4</td>\n",
       "    </tr>\n",
       "    <tr>\n",
       "      <th>Vietnam</th>\n",
       "      <td>4</td>\n",
       "    </tr>\n",
       "    <tr>\n",
       "      <th>Malaysian</th>\n",
       "      <td>4</td>\n",
       "    </tr>\n",
       "    <tr>\n",
       "      <th>(Stuttgart)</th>\n",
       "      <td>4</td>\n",
       "    </tr>\n",
       "    <tr>\n",
       "      <th>Guatemalan</th>\n",
       "      <td>4</td>\n",
       "    </tr>\n",
       "    <tr>\n",
       "      <th>Slovakian</th>\n",
       "      <td>4</td>\n",
       "    </tr>\n",
       "    <tr>\n",
       "      <th>Ethiopia</th>\n",
       "      <td>4</td>\n",
       "    </tr>\n",
       "    <tr>\n",
       "      <th>Danish-Icelandic</th>\n",
       "      <td>4</td>\n",
       "    </tr>\n",
       "    <tr>\n",
       "      <th>Mongolian</th>\n",
       "      <td>4</td>\n",
       "    </tr>\n",
       "    <tr>\n",
       "      <th>Venetian</th>\n",
       "      <td>3</td>\n",
       "    </tr>\n",
       "    <tr>\n",
       "      <th>USSR</th>\n",
       "      <td>3</td>\n",
       "    </tr>\n",
       "    <tr>\n",
       "      <th>Italy)</th>\n",
       "      <td>3</td>\n",
       "    </tr>\n",
       "    <tr>\n",
       "      <th>Kuwaiti</th>\n",
       "      <td>3</td>\n",
       "    </tr>\n",
       "    <tr>\n",
       "      <th>principality</th>\n",
       "      <td>3</td>\n",
       "    </tr>\n",
       "    <tr>\n",
       "      <th>(naturalized)</th>\n",
       "      <td>3</td>\n",
       "    </tr>\n",
       "    <tr>\n",
       "      <th>possibly</th>\n",
       "      <td>3</td>\n",
       "    </tr>\n",
       "    <tr>\n",
       "      <th>Canadian/British</th>\n",
       "      <td>3</td>\n",
       "    </tr>\n",
       "    <tr>\n",
       "      <th>Bulgarian</th>\n",
       "      <td>3</td>\n",
       "    </tr>\n",
       "    <tr>\n",
       "      <th>Persian</th>\n",
       "      <td>3</td>\n",
       "    </tr>\n",
       "    <tr>\n",
       "      <th>America</th>\n",
       "      <td>3</td>\n",
       "    </tr>\n",
       "    <tr>\n",
       "      <th>Cameroonian</th>\n",
       "      <td>3</td>\n",
       "    </tr>\n",
       "    <tr>\n",
       "      <th>Lakota/</th>\n",
       "      <td>3</td>\n",
       "    </tr>\n",
       "    <tr>\n",
       "      <th>Iraqi</th>\n",
       "      <td>3</td>\n",
       "    </tr>\n",
       "    <tr>\n",
       "      <th>Chile</th>\n",
       "      <td>3</td>\n",
       "    </tr>\n",
       "    <tr>\n",
       "      <th>Finland)</th>\n",
       "      <td>3</td>\n",
       "    </tr>\n",
       "    <tr>\n",
       "      <th>Palestine</th>\n",
       "      <td>3</td>\n",
       "    </tr>\n",
       "    <tr>\n",
       "      <th>Indies</th>\n",
       "      <td>3</td>\n",
       "    </tr>\n",
       "    <tr>\n",
       "      <th>Teton</th>\n",
       "      <td>3</td>\n",
       "    </tr>\n",
       "    <tr>\n",
       "      <th>Algeria)</th>\n",
       "      <td>3</td>\n",
       "    </tr>\n",
       "    <tr>\n",
       "      <th>Württemberg)</th>\n",
       "      <td>3</td>\n",
       "    </tr>\n",
       "    <tr>\n",
       "      <th>Greenlandic-Inuit</th>\n",
       "      <td>3</td>\n",
       "    </tr>\n",
       "    <tr>\n",
       "      <th>Indonesian</th>\n",
       "      <td>3</td>\n",
       "    </tr>\n",
       "    <tr>\n",
       "      <th>Ottoman</th>\n",
       "      <td>3</td>\n",
       "    </tr>\n",
       "    <tr>\n",
       "      <th>Brazil</th>\n",
       "      <td>3</td>\n",
       "    </tr>\n",
       "    <tr>\n",
       "      <th>(Stuttgart</th>\n",
       "      <td>3</td>\n",
       "    </tr>\n",
       "    <tr>\n",
       "      <th>Jamaican</th>\n",
       "      <td>3</td>\n",
       "    </tr>\n",
       "    <tr>\n",
       "      <th>Sienese</th>\n",
       "      <td>3</td>\n",
       "    </tr>\n",
       "    <tr>\n",
       "      <th>(Inuit)</th>\n",
       "      <td>2</td>\n",
       "    </tr>\n",
       "    <tr>\n",
       "      <th>Islamic</th>\n",
       "      <td>2</td>\n",
       "    </tr>\n",
       "    <tr>\n",
       "      <th>Washoe</th>\n",
       "      <td>2</td>\n",
       "    </tr>\n",
       "    <tr>\n",
       "      <th>French(?)</th>\n",
       "      <td>2</td>\n",
       "    </tr>\n",
       "    <tr>\n",
       "      <th>Byzantine</th>\n",
       "      <td>2</td>\n",
       "    </tr>\n",
       "    <tr>\n",
       "      <th>Transylvania</th>\n",
       "      <td>2</td>\n",
       "    </tr>\n",
       "    <tr>\n",
       "      <th>Burgundian</th>\n",
       "      <td>2</td>\n",
       "    </tr>\n",
       "    <tr>\n",
       "      <th>Siena</th>\n",
       "      <td>2</td>\n",
       "    </tr>\n",
       "    <tr>\n",
       "      <th>Gubbio</th>\n",
       "      <td>2</td>\n",
       "    </tr>\n",
       "    <tr>\n",
       "      <th>Kiowa</th>\n",
       "      <td>2</td>\n",
       "    </tr>\n",
       "    <tr>\n",
       "      <th>Netherlandish/French</th>\n",
       "      <td>2</td>\n",
       "    </tr>\n",
       "    <tr>\n",
       "      <th>italian</th>\n",
       "      <td>2</td>\n",
       "    </tr>\n",
       "    <tr>\n",
       "      <th>Anglo-Netherlandish</th>\n",
       "      <td>2</td>\n",
       "    </tr>\n",
       "    <tr>\n",
       "      <th>Nicaraguan</th>\n",
       "      <td>2</td>\n",
       "    </tr>\n",
       "    <tr>\n",
       "      <th>Pakistan</th>\n",
       "      <td>2</td>\n",
       "    </tr>\n",
       "    <tr>\n",
       "      <th>Incheon</th>\n",
       "      <td>2</td>\n",
       "    </tr>\n",
       "    <tr>\n",
       "      <th>Rome</th>\n",
       "      <td>2</td>\n",
       "    </tr>\n",
       "    <tr>\n",
       "      <th>Poland)</th>\n",
       "      <td>2</td>\n",
       "    </tr>\n",
       "    <tr>\n",
       "      <th>Syrian</th>\n",
       "      <td>2</td>\n",
       "    </tr>\n",
       "    <tr>\n",
       "      <th>Catalan</th>\n",
       "      <td>2</td>\n",
       "    </tr>\n",
       "    <tr>\n",
       "      <th>Mosan</th>\n",
       "      <td>2</td>\n",
       "    </tr>\n",
       "    <tr>\n",
       "      <th>Hunkpapa</th>\n",
       "      <td>2</td>\n",
       "    </tr>\n",
       "    <tr>\n",
       "      <th>Rhine</th>\n",
       "      <td>2</td>\n",
       "    </tr>\n",
       "    <tr>\n",
       "      <th>Rumanian</th>\n",
       "      <td>2</td>\n",
       "    </tr>\n",
       "    <tr>\n",
       "      <th>Irish-American</th>\n",
       "      <td>2</td>\n",
       "    </tr>\n",
       "    <tr>\n",
       "      <th>Turkish-Bulgarian</th>\n",
       "      <td>2</td>\n",
       "    </tr>\n",
       "    <tr>\n",
       "      <th>Florence</th>\n",
       "      <td>2</td>\n",
       "    </tr>\n",
       "    <tr>\n",
       "      <th>Kashmir</th>\n",
       "      <td>2</td>\n",
       "    </tr>\n",
       "    <tr>\n",
       "      <th>Malagasy</th>\n",
       "      <td>2</td>\n",
       "    </tr>\n",
       "    <tr>\n",
       "      <th>Kenyan</th>\n",
       "      <td>2</td>\n",
       "    </tr>\n",
       "    <tr>\n",
       "      <th>Pomo</th>\n",
       "      <td>2</td>\n",
       "    </tr>\n",
       "    <tr>\n",
       "      <th>Asmat</th>\n",
       "      <td>2</td>\n",
       "    </tr>\n",
       "    <tr>\n",
       "      <th>Irish?</th>\n",
       "      <td>2</td>\n",
       "    </tr>\n",
       "    <tr>\n",
       "      <th>Zaire</th>\n",
       "      <td>2</td>\n",
       "    </tr>\n",
       "    <tr>\n",
       "      <th>Continental/Swiss</th>\n",
       "      <td>2</td>\n",
       "    </tr>\n",
       "    <tr>\n",
       "      <th>Cambodian</th>\n",
       "      <td>2</td>\n",
       "    </tr>\n",
       "    <tr>\n",
       "      <th>Nunangat</th>\n",
       "      <td>2</td>\n",
       "    </tr>\n",
       "    <tr>\n",
       "      <th>Kingdom</th>\n",
       "      <td>2</td>\n",
       "    </tr>\n",
       "    <tr>\n",
       "      <th>Baoulé</th>\n",
       "      <td>2</td>\n",
       "    </tr>\n",
       "    <tr>\n",
       "      <th>Nigeria</th>\n",
       "      <td>2</td>\n",
       "    </tr>\n",
       "    <tr>\n",
       "      <th>Venezuela</th>\n",
       "      <td>2</td>\n",
       "    </tr>\n",
       "    <tr>\n",
       "      <th>Hannover</th>\n",
       "      <td>2</td>\n",
       "    </tr>\n",
       "    <tr>\n",
       "      <th>people</th>\n",
       "      <td>2</td>\n",
       "    </tr>\n",
       "    <tr>\n",
       "      <th>Seneca</th>\n",
       "      <td>2</td>\n",
       "    </tr>\n",
       "    <tr>\n",
       "      <th>Argentinian?</th>\n",
       "      <td>2</td>\n",
       "    </tr>\n",
       "    <tr>\n",
       "      <th>Martinican</th>\n",
       "      <td>2</td>\n",
       "    </tr>\n",
       "    <tr>\n",
       "      <th>English</th>\n",
       "      <td>2</td>\n",
       "    </tr>\n",
       "    <tr>\n",
       "      <th>Danish-American</th>\n",
       "      <td>2</td>\n",
       "    </tr>\n",
       "    <tr>\n",
       "      <th>Ancient</th>\n",
       "      <td>2</td>\n",
       "    </tr>\n",
       "    <tr>\n",
       "      <th>Estonian</th>\n",
       "      <td>2</td>\n",
       "    </tr>\n",
       "    <tr>\n",
       "      <th>German/Solingen</th>\n",
       "      <td>2</td>\n",
       "    </tr>\n",
       "    <tr>\n",
       "      <th>La</th>\n",
       "      <td>2</td>\n",
       "    </tr>\n",
       "    <tr>\n",
       "      <th>Latvian</th>\n",
       "      <td>2</td>\n",
       "    </tr>\n",
       "    <tr>\n",
       "      <th>Miwok</th>\n",
       "      <td>2</td>\n",
       "    </tr>\n",
       "    <tr>\n",
       "      <th>Citizen</th>\n",
       "      <td>2</td>\n",
       "    </tr>\n",
       "    <tr>\n",
       "      <th>Oklahoma</th>\n",
       "      <td>2</td>\n",
       "    </tr>\n",
       "    <tr>\n",
       "      <th>Paris</th>\n",
       "      <td>2</td>\n",
       "    </tr>\n",
       "    <tr>\n",
       "      <th>Canadian-Brazilian</th>\n",
       "      <td>2</td>\n",
       "    </tr>\n",
       "    <tr>\n",
       "      <th>Montenegrin</th>\n",
       "      <td>2</td>\n",
       "    </tr>\n",
       "    <tr>\n",
       "      <th>Lombard</th>\n",
       "      <td>2</td>\n",
       "    </tr>\n",
       "    <tr>\n",
       "      <th>Balinese</th>\n",
       "      <td>2</td>\n",
       "    </tr>\n",
       "    <tr>\n",
       "      <th>Toledo</th>\n",
       "      <td>2</td>\n",
       "    </tr>\n",
       "    <tr>\n",
       "      <th>Maltese</th>\n",
       "      <td>2</td>\n",
       "    </tr>\n",
       "    <tr>\n",
       "      <th>Nethrlandish</th>\n",
       "      <td>1</td>\n",
       "    </tr>\n",
       "    <tr>\n",
       "      <th>Ugandan)</th>\n",
       "      <td>1</td>\n",
       "    </tr>\n",
       "    <tr>\n",
       "      <th>day</th>\n",
       "      <td>1</td>\n",
       "    </tr>\n",
       "    <tr>\n",
       "      <th>1866–1932</th>\n",
       "      <td>1</td>\n",
       "    </tr>\n",
       "    <tr>\n",
       "      <th>Nigeria/Cameroon</th>\n",
       "      <td>1</td>\n",
       "    </tr>\n",
       "    <tr>\n",
       "      <th>Slovak</th>\n",
       "      <td>1</td>\n",
       "    </tr>\n",
       "    <tr>\n",
       "      <th>U.S.</th>\n",
       "      <td>1</td>\n",
       "    </tr>\n",
       "    <tr>\n",
       "      <th>(Boston)</th>\n",
       "      <td>1</td>\n",
       "    </tr>\n",
       "    <tr>\n",
       "      <th>Bremen</th>\n",
       "      <td>1</td>\n",
       "    </tr>\n",
       "    <tr>\n",
       "      <th>Naples</th>\n",
       "      <td>1</td>\n",
       "    </tr>\n",
       "    <tr>\n",
       "      <th>Possibly</th>\n",
       "      <td>1</td>\n",
       "    </tr>\n",
       "    <tr>\n",
       "      <th>Trinidadian</th>\n",
       "      <td>1</td>\n",
       "    </tr>\n",
       "    <tr>\n",
       "      <th>(Bohemian)</th>\n",
       "      <td>1</td>\n",
       "    </tr>\n",
       "    <tr>\n",
       "      <th>Slovenian</th>\n",
       "      <td>1</td>\n",
       "    </tr>\n",
       "    <tr>\n",
       "      <th>Bosnian</th>\n",
       "      <td>1</td>\n",
       "    </tr>\n",
       "    <tr>\n",
       "      <th>(Herzegovina)</th>\n",
       "      <td>1</td>\n",
       "    </tr>\n",
       "    <tr>\n",
       "      <th>Uzbek</th>\n",
       "      <td>1</td>\n",
       "    </tr>\n",
       "    <tr>\n",
       "      <th>Hanoverian</th>\n",
       "      <td>1</td>\n",
       "    </tr>\n",
       "    <tr>\n",
       "      <th>(German)</th>\n",
       "      <td>1</td>\n",
       "    </tr>\n",
       "    <tr>\n",
       "      <th>Ghana</th>\n",
       "      <td>1</td>\n",
       "    </tr>\n",
       "    <tr>\n",
       "      <th>British-Nigerian</th>\n",
       "      <td>1</td>\n",
       "    </tr>\n",
       "    <tr>\n",
       "      <th>Parayguayan</th>\n",
       "      <td>1</td>\n",
       "    </tr>\n",
       "    <tr>\n",
       "      <th>Bolivian</th>\n",
       "      <td>1</td>\n",
       "    </tr>\n",
       "    <tr>\n",
       "      <th>Mohawk</th>\n",
       "      <td>1</td>\n",
       "    </tr>\n",
       "    <tr>\n",
       "      <th>Bangladesh/</th>\n",
       "      <td>1</td>\n",
       "    </tr>\n",
       "    <tr>\n",
       "      <th>American-Palestinian</th>\n",
       "      <td>1</td>\n",
       "    </tr>\n",
       "    <tr>\n",
       "      <th>Bangladeshi</th>\n",
       "      <td>1</td>\n",
       "    </tr>\n",
       "    <tr>\n",
       "      <th>Colombia</th>\n",
       "      <td>1</td>\n",
       "    </tr>\n",
       "    <tr>\n",
       "      <th>Polish-Lithuanian</th>\n",
       "      <td>1</td>\n",
       "    </tr>\n",
       "    <tr>\n",
       "      <th>Roman-British</th>\n",
       "      <td>1</td>\n",
       "    </tr>\n",
       "    <tr>\n",
       "      <th>founded</th>\n",
       "      <td>1</td>\n",
       "    </tr>\n",
       "    <tr>\n",
       "      <th>1902</th>\n",
       "      <td>1</td>\n",
       "    </tr>\n",
       "    <tr>\n",
       "      <th>Britsh</th>\n",
       "      <td>1</td>\n",
       "    </tr>\n",
       "    <tr>\n",
       "      <th>Thai</th>\n",
       "      <td>1</td>\n",
       "    </tr>\n",
       "    <tr>\n",
       "      <th>Virginia</th>\n",
       "      <td>1</td>\n",
       "    </tr>\n",
       "    <tr>\n",
       "      <th>peoples</th>\n",
       "      <td>1</td>\n",
       "    </tr>\n",
       "    <tr>\n",
       "      <th>Savoyard-French</th>\n",
       "      <td>1</td>\n",
       "    </tr>\n",
       "    <tr>\n",
       "      <th>Leipzig</th>\n",
       "      <td>1</td>\n",
       "    </tr>\n",
       "    <tr>\n",
       "      <th>Italian(?)</th>\n",
       "      <td>1</td>\n",
       "    </tr>\n",
       "    <tr>\n",
       "      <th>Danish-German</th>\n",
       "      <td>1</td>\n",
       "    </tr>\n",
       "    <tr>\n",
       "      <th>Ethiopian-Armenian</th>\n",
       "      <td>1</td>\n",
       "    </tr>\n",
       "    <tr>\n",
       "      <th>British-American</th>\n",
       "      <td>1</td>\n",
       "    </tr>\n",
       "    <tr>\n",
       "      <th>Crusader</th>\n",
       "      <td>1</td>\n",
       "    </tr>\n",
       "    <tr>\n",
       "      <th>Morgantown</th>\n",
       "      <td>1</td>\n",
       "    </tr>\n",
       "    <tr>\n",
       "      <th>Tanzanian</th>\n",
       "      <td>1</td>\n",
       "    </tr>\n",
       "    <tr>\n",
       "      <th>Chicago</th>\n",
       "      <td>1</td>\n",
       "    </tr>\n",
       "    <tr>\n",
       "      <th>Bahamian</th>\n",
       "      <td>1</td>\n",
       "    </tr>\n",
       "    <tr>\n",
       "      <th>Nepalese</th>\n",
       "      <td>1</td>\n",
       "    </tr>\n",
       "    <tr>\n",
       "      <th>Pakistani-American</th>\n",
       "      <td>1</td>\n",
       "    </tr>\n",
       "    <tr>\n",
       "      <th>Hopi</th>\n",
       "      <td>1</td>\n",
       "    </tr>\n",
       "    <tr>\n",
       "      <th>Perm</th>\n",
       "      <td>1</td>\n",
       "    </tr>\n",
       "    <tr>\n",
       "      <th>Chinese-American</th>\n",
       "      <td>1</td>\n",
       "    </tr>\n",
       "    <tr>\n",
       "      <th>1898–1992</th>\n",
       "      <td>1</td>\n",
       "    </tr>\n",
       "    <tr>\n",
       "      <th>-</th>\n",
       "      <td>1</td>\n",
       "    </tr>\n",
       "    <tr>\n",
       "      <th>Ecuadorian</th>\n",
       "      <td>1</td>\n",
       "    </tr>\n",
       "    <tr>\n",
       "      <th>Carthaginian</th>\n",
       "      <td>1</td>\n",
       "    </tr>\n",
       "    <tr>\n",
       "      <th>1941</th>\n",
       "      <td>1</td>\n",
       "    </tr>\n",
       "    <tr>\n",
       "      <th>Klingenthal</th>\n",
       "      <td>1</td>\n",
       "    </tr>\n",
       "    <tr>\n",
       "      <th>Salvadoran</th>\n",
       "      <td>1</td>\n",
       "    </tr>\n",
       "    <tr>\n",
       "      <th>Iranian-Assyrian</th>\n",
       "      <td>1</td>\n",
       "    </tr>\n",
       "    <tr>\n",
       "      <th>Koblenz</th>\n",
       "      <td>1</td>\n",
       "    </tr>\n",
       "    <tr>\n",
       "      <th>Sudanese</th>\n",
       "      <td>1</td>\n",
       "    </tr>\n",
       "    <tr>\n",
       "      <th>Soviet</th>\n",
       "      <td>1</td>\n",
       "    </tr>\n",
       "    <tr>\n",
       "      <th>Bohemia)</th>\n",
       "      <td>1</td>\n",
       "    </tr>\n",
       "    <tr>\n",
       "      <th>Moroccan</th>\n",
       "      <td>1</td>\n",
       "    </tr>\n",
       "    <tr>\n",
       "      <th>Minneconjou</th>\n",
       "      <td>1</td>\n",
       "    </tr>\n",
       "    <tr>\n",
       "      <th>Lakota/Teton</th>\n",
       "      <td>1</td>\n",
       "    </tr>\n",
       "    <tr>\n",
       "      <th>Arapho</th>\n",
       "      <td>1</td>\n",
       "    </tr>\n",
       "    <tr>\n",
       "      <th>Wiyot-Karuk</th>\n",
       "      <td>1</td>\n",
       "    </tr>\n",
       "    <tr>\n",
       "      <th>Luxembourgish</th>\n",
       "      <td>1</td>\n",
       "    </tr>\n",
       "    <tr>\n",
       "      <th>Venezualan</th>\n",
       "      <td>1</td>\n",
       "    </tr>\n",
       "    <tr>\n",
       "      <th>Ukranian</th>\n",
       "      <td>1</td>\n",
       "    </tr>\n",
       "    <tr>\n",
       "      <th>Austrian-German</th>\n",
       "      <td>1</td>\n",
       "    </tr>\n",
       "    <tr>\n",
       "      <th>Og</th>\n",
       "      <td>1</td>\n",
       "    </tr>\n",
       "    <tr>\n",
       "      <th>Moldavian</th>\n",
       "      <td>1</td>\n",
       "    </tr>\n",
       "    <tr>\n",
       "      <th>Tachi</th>\n",
       "      <td>1</td>\n",
       "    </tr>\n",
       "    <tr>\n",
       "      <th>Yokuts</th>\n",
       "      <td>1</td>\n",
       "    </tr>\n",
       "    <tr>\n",
       "      <th>Haida</th>\n",
       "      <td>1</td>\n",
       "    </tr>\n",
       "    <tr>\n",
       "      <th>Flanders?</th>\n",
       "      <td>1</td>\n",
       "    </tr>\n",
       "    <tr>\n",
       "      <th>Jamaica</th>\n",
       "      <td>1</td>\n",
       "    </tr>\n",
       "    <tr>\n",
       "      <th>American-Canadian</th>\n",
       "      <td>1</td>\n",
       "    </tr>\n",
       "    <tr>\n",
       "      <th>(modern</th>\n",
       "      <td>1</td>\n",
       "    </tr>\n",
       "    <tr>\n",
       "      <th>Greenlandish</th>\n",
       "      <td>1</td>\n",
       "    </tr>\n",
       "    <tr>\n",
       "      <th>Soga</th>\n",
       "      <td>1</td>\n",
       "    </tr>\n",
       "    <tr>\n",
       "      <th>Merovingian</th>\n",
       "      <td>1</td>\n",
       "    </tr>\n",
       "    <tr>\n",
       "      <th>Prussian</th>\n",
       "      <td>1</td>\n",
       "    </tr>\n",
       "    <tr>\n",
       "      <th>Belarus</th>\n",
       "      <td>1</td>\n",
       "    </tr>\n",
       "    <tr>\n",
       "      <th>Albanian</th>\n",
       "      <td>1</td>\n",
       "    </tr>\n",
       "    <tr>\n",
       "      <th>Mexican-American</th>\n",
       "      <td>1</td>\n",
       "    </tr>\n",
       "    <tr>\n",
       "      <th>Yokayo</th>\n",
       "      <td>1</td>\n",
       "    </tr>\n",
       "    <tr>\n",
       "      <th>(Mendocino</th>\n",
       "      <td>1</td>\n",
       "    </tr>\n",
       "    <tr>\n",
       "      <th>County</th>\n",
       "      <td>1</td>\n",
       "    </tr>\n",
       "    <tr>\n",
       "      <th>California)</th>\n",
       "      <td>1</td>\n",
       "    </tr>\n",
       "    <tr>\n",
       "      <th>Papaua</th>\n",
       "      <td>1</td>\n",
       "    </tr>\n",
       "    <tr>\n",
       "      <th>Democratic</th>\n",
       "      <td>1</td>\n",
       "    </tr>\n",
       "    <tr>\n",
       "      <th>Javanese</th>\n",
       "      <td>1</td>\n",
       "    </tr>\n",
       "    <tr>\n",
       "      <th>Arapaho</th>\n",
       "      <td>1</td>\n",
       "    </tr>\n",
       "    <tr>\n",
       "      <th>Cochiti</th>\n",
       "      <td>1</td>\n",
       "    </tr>\n",
       "    <tr>\n",
       "      <th>Canadian?</th>\n",
       "      <td>1</td>\n",
       "    </tr>\n",
       "    <tr>\n",
       "      <th>early</th>\n",
       "      <td>1</td>\n",
       "    </tr>\n",
       "    <tr>\n",
       "      <th>Corsican</th>\n",
       "      <td>1</td>\n",
       "    </tr>\n",
       "    <tr>\n",
       "      <th>BRitish</th>\n",
       "      <td>1</td>\n",
       "    </tr>\n",
       "    <tr>\n",
       "      <th>Rican?</th>\n",
       "      <td>1</td>\n",
       "    </tr>\n",
       "    <tr>\n",
       "      <th>Belarussian</th>\n",
       "      <td>1</td>\n",
       "    </tr>\n",
       "    <tr>\n",
       "      <th>Polish?</th>\n",
       "      <td>1</td>\n",
       "    </tr>\n",
       "    <tr>\n",
       "      <th>Afghani</th>\n",
       "      <td>1</td>\n",
       "    </tr>\n",
       "    <tr>\n",
       "      <th>Lithunanian</th>\n",
       "      <td>1</td>\n",
       "    </tr>\n",
       "    <tr>\n",
       "      <th>Serbo-croat</th>\n",
       "      <td>1</td>\n",
       "    </tr>\n",
       "    <tr>\n",
       "      <th>Onondaga</th>\n",
       "      <td>1</td>\n",
       "    </tr>\n",
       "    <tr>\n",
       "      <th>Oneida</th>\n",
       "      <td>1</td>\n",
       "    </tr>\n",
       "    <tr>\n",
       "      <th>Mala</th>\n",
       "      <td>1</td>\n",
       "    </tr>\n",
       "    <tr>\n",
       "      <th>Panamanian</th>\n",
       "      <td>1</td>\n",
       "    </tr>\n",
       "    <tr>\n",
       "      <th>GErman</th>\n",
       "      <td>1</td>\n",
       "    </tr>\n",
       "    <tr>\n",
       "      <th>1870s</th>\n",
       "      <td>1</td>\n",
       "    </tr>\n",
       "    <tr>\n",
       "      <th>–</th>\n",
       "      <td>1</td>\n",
       "    </tr>\n",
       "    <tr>\n",
       "      <th>Singapore</th>\n",
       "      <td>1</td>\n",
       "    </tr>\n",
       "    <tr>\n",
       "      <th>Augsburg</th>\n",
       "      <td>1</td>\n",
       "    </tr>\n",
       "    <tr>\n",
       "      <th>Franco-American</th>\n",
       "      <td>1</td>\n",
       "    </tr>\n",
       "    <tr>\n",
       "      <th>Philadelphia</th>\n",
       "      <td>1</td>\n",
       "    </tr>\n",
       "    <tr>\n",
       "      <th>Cieszyn</th>\n",
       "      <td>1</td>\n",
       "    </tr>\n",
       "    <tr>\n",
       "      <th>(Silesian)</th>\n",
       "      <td>1</td>\n",
       "    </tr>\n",
       "    <tr>\n",
       "      <th>Aachen</th>\n",
       "      <td>1</td>\n",
       "    </tr>\n",
       "    <tr>\n",
       "      <th>Brescia</th>\n",
       "      <td>1</td>\n",
       "    </tr>\n",
       "    <tr>\n",
       "      <th>(Madrid)</th>\n",
       "      <td>1</td>\n",
       "    </tr>\n",
       "    <tr>\n",
       "      <th>Milan</th>\n",
       "      <td>1</td>\n",
       "    </tr>\n",
       "    <tr>\n",
       "      <th>Tibetan</th>\n",
       "      <td>1</td>\n",
       "    </tr>\n",
       "    <tr>\n",
       "      <th>Khitan</th>\n",
       "      <td>1</td>\n",
       "    </tr>\n",
       "    <tr>\n",
       "      <th>Manchu</th>\n",
       "      <td>1</td>\n",
       "    </tr>\n",
       "    <tr>\n",
       "      <th>Taiwan</th>\n",
       "      <td>1</td>\n",
       "    </tr>\n",
       "    <tr>\n",
       "      <th>Manufacturer</th>\n",
       "      <td>1</td>\n",
       "    </tr>\n",
       "    <tr>\n",
       "      <th>(Andalusian)</th>\n",
       "      <td>1</td>\n",
       "    </tr>\n",
       "    <tr>\n",
       "      <th>1860s</th>\n",
       "      <td>1</td>\n",
       "    </tr>\n",
       "    <tr>\n",
       "      <th>(b.</th>\n",
       "      <td>1</td>\n",
       "    </tr>\n",
       "    <tr>\n",
       "      <th>Switzerland)</th>\n",
       "      <td>1</td>\n",
       "    </tr>\n",
       "    <tr>\n",
       "      <th>(Amiens)</th>\n",
       "      <td>1</td>\n",
       "    </tr>\n",
       "    <tr>\n",
       "      <th>Franco-Flemish</th>\n",
       "      <td>1</td>\n",
       "    </tr>\n",
       "    <tr>\n",
       "      <th>(Arita)</th>\n",
       "      <td>1</td>\n",
       "    </tr>\n",
       "    <tr>\n",
       "      <th>Polish-American</th>\n",
       "      <td>1</td>\n",
       "    </tr>\n",
       "    <tr>\n",
       "      <th>?</th>\n",
       "      <td>1</td>\n",
       "    </tr>\n",
       "    <tr>\n",
       "      <th>Liechtensteiner</th>\n",
       "      <td>1</td>\n",
       "    </tr>\n",
       "    <tr>\n",
       "      <th>lived</th>\n",
       "      <td>1</td>\n",
       "    </tr>\n",
       "    <tr>\n",
       "      <th>Serbia</th>\n",
       "      <td>1</td>\n",
       "    </tr>\n",
       "    <tr>\n",
       "      <th>Albania</th>\n",
       "      <td>1</td>\n",
       "    </tr>\n",
       "    <tr>\n",
       "      <th>Algiers?</th>\n",
       "      <td>1</td>\n",
       "    </tr>\n",
       "    <tr>\n",
       "      <th>Federal</th>\n",
       "      <td>1</td>\n",
       "    </tr>\n",
       "    <tr>\n",
       "      <th>Tunisian</th>\n",
       "      <td>1</td>\n",
       "    </tr>\n",
       "    <tr>\n",
       "      <th>Brazilian?</th>\n",
       "      <td>1</td>\n",
       "    </tr>\n",
       "    <tr>\n",
       "      <th>Buganda</th>\n",
       "      <td>1</td>\n",
       "    </tr>\n",
       "    <tr>\n",
       "      <th>Bolivia</th>\n",
       "      <td>1</td>\n",
       "    </tr>\n",
       "    <tr>\n",
       "      <th>(Nuremberg)</th>\n",
       "      <td>1</td>\n",
       "    </tr>\n",
       "    <tr>\n",
       "      <th>Florentine</th>\n",
       "      <td>1</td>\n",
       "    </tr>\n",
       "    <tr>\n",
       "      <th>Rico</th>\n",
       "      <td>1</td>\n",
       "    </tr>\n",
       "    <tr>\n",
       "      <th>Lenape/Delaware</th>\n",
       "      <td>1</td>\n",
       "    </tr>\n",
       "    <tr>\n",
       "      <th>Rumani</th>\n",
       "      <td>1</td>\n",
       "    </tr>\n",
       "    <tr>\n",
       "      <th>Taiwanese</th>\n",
       "      <td>1</td>\n",
       "    </tr>\n",
       "    <tr>\n",
       "      <th>Bahamas</th>\n",
       "      <td>1</td>\n",
       "    </tr>\n",
       "    <tr>\n",
       "      <th>Andorran</th>\n",
       "      <td>1</td>\n",
       "    </tr>\n",
       "    <tr>\n",
       "      <th>China)</th>\n",
       "      <td>1</td>\n",
       "    </tr>\n",
       "    <tr>\n",
       "      <th>German/Swiss</th>\n",
       "      <td>1</td>\n",
       "    </tr>\n",
       "    <tr>\n",
       "      <th>England)</th>\n",
       "      <td>1</td>\n",
       "    </tr>\n",
       "    <tr>\n",
       "      <th>Tajikistan</th>\n",
       "      <td>1</td>\n",
       "    </tr>\n",
       "    <tr>\n",
       "      <th>Iraq</th>\n",
       "      <td>1</td>\n",
       "    </tr>\n",
       "    <tr>\n",
       "      <th>Coast</th>\n",
       "      <td>1</td>\n",
       "    </tr>\n",
       "    <tr>\n",
       "      <th>Leuven?)</th>\n",
       "      <td>1</td>\n",
       "    </tr>\n",
       "    <tr>\n",
       "      <th>Sierra</th>\n",
       "      <td>1</td>\n",
       "    </tr>\n",
       "    <tr>\n",
       "      <th>Leone</th>\n",
       "      <td>1</td>\n",
       "    </tr>\n",
       "    <tr>\n",
       "      <th>Uganda</th>\n",
       "      <td>1</td>\n",
       "    </tr>\n",
       "    <tr>\n",
       "      <th>Dem.</th>\n",
       "      <td>1</td>\n",
       "    </tr>\n",
       "    <tr>\n",
       "      <th>Chiricahua</th>\n",
       "      <td>1</td>\n",
       "    </tr>\n",
       "    <tr>\n",
       "      <th>Tyrolean</th>\n",
       "      <td>1</td>\n",
       "    </tr>\n",
       "    <tr>\n",
       "      <th>Iban</th>\n",
       "      <td>1</td>\n",
       "    </tr>\n",
       "    <tr>\n",
       "      <th>(Apache)</th>\n",
       "      <td>1</td>\n",
       "    </tr>\n",
       "    <tr>\n",
       "      <th>Western</th>\n",
       "      <td>1</td>\n",
       "    </tr>\n",
       "    <tr>\n",
       "      <th>Algonquin</th>\n",
       "      <td>1</td>\n",
       "    </tr>\n",
       "    <tr>\n",
       "      <th>family</th>\n",
       "      <td>1</td>\n",
       "    </tr>\n",
       "    <tr>\n",
       "      <th>(Sioux)</th>\n",
       "      <td>1</td>\n",
       "    </tr>\n",
       "    <tr>\n",
       "      <th>Mandinka</th>\n",
       "      <td>1</td>\n",
       "    </tr>\n",
       "    <tr>\n",
       "      <th>Bolognese</th>\n",
       "      <td>1</td>\n",
       "    </tr>\n",
       "    <tr>\n",
       "      <th>(Diest</th>\n",
       "      <td>1</td>\n",
       "    </tr>\n",
       "    <tr>\n",
       "      <th>Malayan</th>\n",
       "      <td>1</td>\n",
       "    </tr>\n",
       "    <tr>\n",
       "      <th>Cairo</th>\n",
       "      <td>1</td>\n",
       "    </tr>\n",
       "    <tr>\n",
       "      <th>Antiguan</th>\n",
       "      <td>1</td>\n",
       "    </tr>\n",
       "    <tr>\n",
       "      <th>Liberian</th>\n",
       "      <td>1</td>\n",
       "    </tr>\n",
       "    <tr>\n",
       "      <th>Mokawk</th>\n",
       "      <td>1</td>\n",
       "    </tr>\n",
       "    <tr>\n",
       "      <th>Brtiish</th>\n",
       "      <td>1</td>\n",
       "    </tr>\n",
       "    <tr>\n",
       "      <th>Brtish</th>\n",
       "      <td>1</td>\n",
       "    </tr>\n",
       "    <tr>\n",
       "      <th>Strassburg</th>\n",
       "      <td>1</td>\n",
       "    </tr>\n",
       "    <tr>\n",
       "      <th>Spainish</th>\n",
       "      <td>1</td>\n",
       "    </tr>\n",
       "    <tr>\n",
       "      <th>french</th>\n",
       "      <td>1</td>\n",
       "    </tr>\n",
       "    <tr>\n",
       "      <th>Spanish/Mexican</th>\n",
       "      <td>1</td>\n",
       "    </tr>\n",
       "    <tr>\n",
       "      <th>British/Irish</th>\n",
       "      <td>1</td>\n",
       "    </tr>\n",
       "    <tr>\n",
       "      <th>Yemini</th>\n",
       "      <td>1</td>\n",
       "    </tr>\n",
       "    <tr>\n",
       "      <th>Tunesia</th>\n",
       "      <td>1</td>\n",
       "    </tr>\n",
       "    <tr>\n",
       "      <th>Istanbul</th>\n",
       "      <td>1</td>\n",
       "    </tr>\n",
       "    <tr>\n",
       "      <th>Syria</th>\n",
       "      <td>1</td>\n",
       "    </tr>\n",
       "    <tr>\n",
       "      <th>Brabant</th>\n",
       "      <td>1</td>\n",
       "    </tr>\n",
       "    <tr>\n",
       "      <th>Iranian-British</th>\n",
       "      <td>1</td>\n",
       "    </tr>\n",
       "    <tr>\n",
       "      <th>Marches</th>\n",
       "      <td>1</td>\n",
       "    </tr>\n",
       "    <tr>\n",
       "      <th>Ancona)</th>\n",
       "      <td>1</td>\n",
       "    </tr>\n",
       "    <tr>\n",
       "      <th>(probably</th>\n",
       "      <td>1</td>\n",
       "    </tr>\n",
       "    <tr>\n",
       "      <th>Pavia)</th>\n",
       "      <td>1</td>\n",
       "    </tr>\n",
       "    <tr>\n",
       "      <th>/</th>\n",
       "      <td>1</td>\n",
       "    </tr>\n",
       "    <tr>\n",
       "      <th>Emilian</th>\n",
       "      <td>1</td>\n",
       "    </tr>\n",
       "    <tr>\n",
       "      <th>Upper</th>\n",
       "      <td>1</td>\n",
       "    </tr>\n",
       "    <tr>\n",
       "      <th>Venice</th>\n",
       "      <td>1</td>\n",
       "    </tr>\n",
       "    <tr>\n",
       "      <th>17th</th>\n",
       "      <td>1</td>\n",
       "    </tr>\n",
       "    <tr>\n",
       "      <th>century</th>\n",
       "      <td>1</td>\n",
       "    </tr>\n",
       "    <tr>\n",
       "      <th>Ghent</th>\n",
       "      <td>1</td>\n",
       "    </tr>\n",
       "    <tr>\n",
       "      <th>Veronese</th>\n",
       "      <td>1</td>\n",
       "    </tr>\n",
       "    <tr>\n",
       "      <th>AMerican</th>\n",
       "      <td>1</td>\n",
       "    </tr>\n",
       "  </tbody>\n",
       "</table>\n",
       "</div>"
      ],
      "text/plain": [
       "                           0\n",
       "American              126558\n",
       "                      117820\n",
       "French                 91399\n",
       "British                57935\n",
       "Italian                44062\n",
       "German                 19897\n",
       "born                   12840\n",
       "Netherlandish          12649\n",
       "Japanese                8342\n",
       "Dutch                   6608\n",
       "Scottish                4492\n",
       "Spanish                 3780\n",
       "Flemish                 3684\n",
       "Mexican                 2897\n",
       "Austrian                2859\n",
       "Chinese                 2461\n",
       "Germany                 2255\n",
       "Swiss                   1787\n",
       "England                 1536\n",
       "Bohemian                1354\n",
       "Russian                 1275\n",
       "Irish                   1190\n",
       "Ireland                  897\n",
       "Belgian                  736\n",
       "Russia                   714\n",
       "Iranian                  713\n",
       "and                      691\n",
       "Danish                   640\n",
       "Roman                    604\n",
       "Swedish                  596\n",
       "Switzerland              577\n",
       "France                   556\n",
       "Canadian                 497\n",
       "Hungary                  480\n",
       "Indian                   430\n",
       "Algeria                  409\n",
       "Austria                  381\n",
       "Sweden                   378\n",
       "India                    339\n",
       "Scotland                 337\n",
       "(born                    329\n",
       "Italy                    318\n",
       "Poland                   310\n",
       "New                      303\n",
       "Czech                    282\n",
       "Netherlands              279\n",
       "Guinea                   278\n",
       "Papua                    277\n",
       "Hungarian                272\n",
       "Cuba                     258\n",
       "The                      257\n",
       "Greek                    256\n",
       "Prussia                  250\n",
       "Polish                   231\n",
       "Finnish                  219\n",
       "Greece                   209\n",
       "Canada                   206\n",
       "Welsh                    193\n",
       "Czechoslovakia           185\n",
       "Alsatian                 180\n",
       "Japan                    179\n",
       "Lithuania                176\n",
       "Spain)                   173\n",
       "or                       173\n",
       "French?                  166\n",
       "Norwegian                164\n",
       "Ukraine                  152\n",
       "Luxembourg               145\n",
       "London                   142\n",
       "Australian               122\n",
       "Portuguese               117\n",
       "active                   117\n",
       "Australia                114\n",
       "United                   111\n",
       "States                   109\n",
       "African                  107\n",
       "Austria-Hungary          106\n",
       "European                 104\n",
       "Armenia                  100\n",
       "South                    100\n",
       "Denmark                   99\n",
       "Central                   96\n",
       "(?)                       90\n",
       "Romania                   90\n",
       "Brazilian                 83\n",
       "First                     82\n",
       "Israeli                   78\n",
       "Dominican                 77\n",
       "Republic)                 74\n",
       "Netherlandish?            71\n",
       "Native                    70\n",
       "Belgium                   69\n",
       "Korean                    67\n",
       "Nations                   63\n",
       "Peruvian                  60\n",
       "Ukrainian                 58\n",
       "Argentinian               58\n",
       "Hanover                   55\n",
       "Finland                   53\n",
       "Egypt                     53\n",
       "British?                  51\n",
       "Latvia                    49\n",
       "Tunisia                   49\n",
       "Colombian                 49\n",
       "Malian                    48\n",
       "Wales                     47\n",
       "(Transylvania)            46\n",
       "German?                   44\n",
       "Austro-Hungarian          44\n",
       "Israel                    44\n",
       "Turkish                   43\n",
       "Uruguayan                 40\n",
       "Bulgaria                  40\n",
       "Nigerian                  40\n",
       "Argentine                 38\n",
       "American?                 37\n",
       "China                     37\n",
       "Ireland)                  36\n",
       "Czechoslovakian           35\n",
       "French/Dutch              35\n",
       "Lithuanian                33\n",
       "Mexico                    33\n",
       "Haiti                     32\n",
       "Egyptian                  31\n",
       "Chilean                   27\n",
       "Turkey                    27\n",
       "Pakistani                 26\n",
       "Togolese                  25\n",
       "Germany)                  24\n",
       "Nation                    23\n",
       "Venezuelan                23\n",
       "of                        23\n",
       "Romanian                  22\n",
       "Austrian?                 22\n",
       "Icelandic                 22\n",
       "Empire                    22\n",
       "Spain                     22\n",
       "Lebanese                  21\n",
       "Argentina                 21\n",
       "Cuban                     19\n",
       "Rican                     19\n",
       "Algerian                  18\n",
       "Croatian                  18\n",
       "Swedish?                  18\n",
       "Holland                   17\n",
       "Monaco                    17\n",
       "Middle                    17\n",
       "Ukraine]                  17\n",
       "[now                      17\n",
       "Puerto                    17\n",
       "Africa                    16\n",
       "East                      16\n",
       "Uruguayan-American        16\n",
       "(Aboriginal)              15\n",
       "Zealand                   14\n",
       "Uruguay                   14\n",
       "Southern                  14\n",
       "Morocco                   13\n",
       "Sri                       13\n",
       "Lankan                    13\n",
       "(Duchy                    13\n",
       "Brabant)                  13\n",
       "Iranian-American          12\n",
       "Lebanese-American         12\n",
       "Continental               12\n",
       "Georgian                  11\n",
       "Korea                     11\n",
       "Britain                   11\n",
       "Scandinavian              11\n",
       "Ethiopian                 10\n",
       "Northern                  10\n",
       "Panama                     9\n",
       "in                         9\n",
       "(active                    9\n",
       "Armenian                   9\n",
       "Limoges                    9\n",
       "(Augsburg)                 8\n",
       "Ghanaian                   8\n",
       "Franco-Netherlandish       8\n",
       "Swiss?                     8\n",
       "Anglo-Irish                8\n",
       "Westheim)                  7\n",
       "Geman                      7\n",
       "Dutch?                     7\n",
       "Samoan                     7\n",
       "Anglo-American             7\n",
       "probably                   7\n",
       "Haitian                    7\n",
       "North                      7\n",
       "Republic                   7\n",
       "Georgia                    6\n",
       "Senegalese                 6\n",
       "Finish                     6\n",
       "(former                    6\n",
       "Malawi                     6\n",
       "Yugoslavia)                6\n",
       "Croatia                    6\n",
       "Egyptian?                  6\n",
       "Spanish?                   6\n",
       "Ivorian                    6\n",
       "Philippines                6\n",
       "Burkinabe                  6\n",
       "(Naples)                   6\n",
       "Macedonian                 6\n",
       "York                       6\n",
       "Inuit                      5\n",
       "Pueblo                     5\n",
       "Burkina                    5\n",
       "Faso                       5\n",
       "Congo                      5\n",
       "Italian?                   5\n",
       "Norway                     5\n",
       "West                       5\n",
       "Yugoslavian                5\n",
       "Zealander                  5\n",
       "Saint                      5\n",
       "Lucian                     5\n",
       "the                        5\n",
       "Moravia                    5\n",
       "France)                    5\n",
       "Japanese-American          5\n",
       "Serbian                    5\n",
       "(Prussian)                 5\n",
       "Russian?                   5\n",
       "Apache                     5\n",
       "Sioux                      4\n",
       "Belgian?                   4\n",
       "San                        4\n",
       "Pomerania                  4\n",
       "Australian-American        4\n",
       "Cherokee                   4\n",
       "Flemish?                   4\n",
       "Costa                      4\n",
       "Burmese                    4\n",
       "Mexican?                   4\n",
       "Ildefonso                  4\n",
       "Slovakia                   4\n",
       "Britain)                   4\n",
       "Varese                     4\n",
       "Tuscany                    4\n",
       "Kenyan-American            4\n",
       "Vietnam                    4\n",
       "Malaysian                  4\n",
       "(Stuttgart)                4\n",
       "Guatemalan                 4\n",
       "Slovakian                  4\n",
       "Ethiopia                   4\n",
       "Danish-Icelandic           4\n",
       "Mongolian                  4\n",
       "Venetian                   3\n",
       "USSR                       3\n",
       "Italy)                     3\n",
       "Kuwaiti                    3\n",
       "principality               3\n",
       "(naturalized)              3\n",
       "possibly                   3\n",
       "Canadian/British           3\n",
       "Bulgarian                  3\n",
       "Persian                    3\n",
       "America                    3\n",
       "Cameroonian                3\n",
       "Lakota/                    3\n",
       "Iraqi                      3\n",
       "Chile                      3\n",
       "Finland)                   3\n",
       "Palestine                  3\n",
       "Indies                     3\n",
       "Teton                      3\n",
       "Algeria)                   3\n",
       "Württemberg)               3\n",
       "Greenlandic-Inuit          3\n",
       "Indonesian                 3\n",
       "Ottoman                    3\n",
       "Brazil                     3\n",
       "(Stuttgart                 3\n",
       "Jamaican                   3\n",
       "Sienese                    3\n",
       "(Inuit)                    2\n",
       "Islamic                    2\n",
       "Washoe                     2\n",
       "French(?)                  2\n",
       "Byzantine                  2\n",
       "Transylvania               2\n",
       "Burgundian                 2\n",
       "Siena                      2\n",
       "Gubbio                     2\n",
       "Kiowa                      2\n",
       "Netherlandish/French       2\n",
       "italian                    2\n",
       "Anglo-Netherlandish        2\n",
       "Nicaraguan                 2\n",
       "Pakistan                   2\n",
       "Incheon                    2\n",
       "Rome                       2\n",
       "Poland)                    2\n",
       "Syrian                     2\n",
       "Catalan                    2\n",
       "Mosan                      2\n",
       "Hunkpapa                   2\n",
       "Rhine                      2\n",
       "Rumanian                   2\n",
       "Irish-American             2\n",
       "Turkish-Bulgarian          2\n",
       "Florence                   2\n",
       "Kashmir                    2\n",
       "Malagasy                   2\n",
       "Kenyan                     2\n",
       "Pomo                       2\n",
       "Asmat                      2\n",
       "Irish?                     2\n",
       "Zaire                      2\n",
       "Continental/Swiss          2\n",
       "Cambodian                  2\n",
       "Nunangat                   2\n",
       "Kingdom                    2\n",
       "Baoulé                     2\n",
       "Nigeria                    2\n",
       "Venezuela                  2\n",
       "Hannover                   2\n",
       "people                     2\n",
       "Seneca                     2\n",
       "Argentinian?               2\n",
       "Martinican                 2\n",
       "English                    2\n",
       "Danish-American            2\n",
       "Ancient                    2\n",
       "Estonian                   2\n",
       "German/Solingen            2\n",
       "La                         2\n",
       "Latvian                    2\n",
       "Miwok                      2\n",
       "Citizen                    2\n",
       "Oklahoma                   2\n",
       "Paris                      2\n",
       "Canadian-Brazilian         2\n",
       "Montenegrin                2\n",
       "Lombard                    2\n",
       "Balinese                   2\n",
       "Toledo                     2\n",
       "Maltese                    2\n",
       "Nethrlandish               1\n",
       "Ugandan)                   1\n",
       "day                        1\n",
       "1866–1932                  1\n",
       "Nigeria/Cameroon           1\n",
       "Slovak                     1\n",
       "U.S.                       1\n",
       "(Boston)                   1\n",
       "Bremen                     1\n",
       "Naples                     1\n",
       "Possibly                   1\n",
       "Trinidadian                1\n",
       "(Bohemian)                 1\n",
       "Slovenian                  1\n",
       "Bosnian                    1\n",
       "(Herzegovina)              1\n",
       "Uzbek                      1\n",
       "Hanoverian                 1\n",
       "(German)                   1\n",
       "Ghana                      1\n",
       "British-Nigerian           1\n",
       "Parayguayan                1\n",
       "Bolivian                   1\n",
       "Mohawk                     1\n",
       "Bangladesh/                1\n",
       "American-Palestinian       1\n",
       "Bangladeshi                1\n",
       "Colombia                   1\n",
       "Polish-Lithuanian          1\n",
       "Roman-British              1\n",
       "founded                    1\n",
       "1902                       1\n",
       "Britsh                     1\n",
       "Thai                       1\n",
       "Virginia                   1\n",
       "peoples                    1\n",
       "Savoyard-French            1\n",
       "Leipzig                    1\n",
       "Italian(?)                 1\n",
       "Danish-German              1\n",
       "Ethiopian-Armenian         1\n",
       "British-American           1\n",
       "Crusader                   1\n",
       "Morgantown                 1\n",
       "Tanzanian                  1\n",
       "Chicago                    1\n",
       "Bahamian                   1\n",
       "Nepalese                   1\n",
       "Pakistani-American         1\n",
       "Hopi                       1\n",
       "Perm                       1\n",
       "Chinese-American           1\n",
       "1898–1992                  1\n",
       "-                          1\n",
       "Ecuadorian                 1\n",
       "Carthaginian               1\n",
       "1941                       1\n",
       "Klingenthal                1\n",
       "Salvadoran                 1\n",
       "Iranian-Assyrian           1\n",
       "Koblenz                    1\n",
       "Sudanese                   1\n",
       "Soviet                     1\n",
       "Bohemia)                   1\n",
       "Moroccan                   1\n",
       "Minneconjou                1\n",
       "Lakota/Teton               1\n",
       "Arapho                     1\n",
       "Wiyot-Karuk                1\n",
       "Luxembourgish              1\n",
       "Venezualan                 1\n",
       "Ukranian                   1\n",
       "Austrian-German            1\n",
       "Og                         1\n",
       "Moldavian                  1\n",
       "Tachi                      1\n",
       "Yokuts                     1\n",
       "Haida                      1\n",
       "Flanders?                  1\n",
       "Jamaica                    1\n",
       "American-Canadian          1\n",
       "(modern                    1\n",
       "Greenlandish               1\n",
       "Soga                       1\n",
       "Merovingian                1\n",
       "Prussian                   1\n",
       "Belarus                    1\n",
       "Albanian                   1\n",
       "Mexican-American           1\n",
       "Yokayo                     1\n",
       "(Mendocino                 1\n",
       "County                     1\n",
       "California)                1\n",
       "Papaua                     1\n",
       "Democratic                 1\n",
       "Javanese                   1\n",
       "Arapaho                    1\n",
       "Cochiti                    1\n",
       "Canadian?                  1\n",
       "early                      1\n",
       "Corsican                   1\n",
       "BRitish                    1\n",
       "Rican?                     1\n",
       "Belarussian                1\n",
       "Polish?                    1\n",
       "Afghani                    1\n",
       "Lithunanian                1\n",
       "Serbo-croat                1\n",
       "Onondaga                   1\n",
       "Oneida                     1\n",
       "Mala                       1\n",
       "Panamanian                 1\n",
       "GErman                     1\n",
       "1870s                      1\n",
       "–                          1\n",
       "Singapore                  1\n",
       "Augsburg                   1\n",
       "Franco-American            1\n",
       "Philadelphia               1\n",
       "Cieszyn                    1\n",
       "(Silesian)                 1\n",
       "Aachen                     1\n",
       "Brescia                    1\n",
       "(Madrid)                   1\n",
       "Milan                      1\n",
       "Tibetan                    1\n",
       "Khitan                     1\n",
       "Manchu                     1\n",
       "Taiwan                     1\n",
       "Manufacturer               1\n",
       "(Andalusian)               1\n",
       "1860s                      1\n",
       "(b.                        1\n",
       "Switzerland)               1\n",
       "(Amiens)                   1\n",
       "Franco-Flemish             1\n",
       "(Arita)                    1\n",
       "Polish-American            1\n",
       "?                          1\n",
       "Liechtensteiner            1\n",
       "lived                      1\n",
       "Serbia                     1\n",
       "Albania                    1\n",
       "Algiers?                   1\n",
       "Federal                    1\n",
       "Tunisian                   1\n",
       "Brazilian?                 1\n",
       "Buganda                    1\n",
       "Bolivia                    1\n",
       "(Nuremberg)                1\n",
       "Florentine                 1\n",
       "Rico                       1\n",
       "Lenape/Delaware            1\n",
       "Rumani                     1\n",
       "Taiwanese                  1\n",
       "Bahamas                    1\n",
       "Andorran                   1\n",
       "China)                     1\n",
       "German/Swiss               1\n",
       "England)                   1\n",
       "Tajikistan                 1\n",
       "Iraq                       1\n",
       "Coast                      1\n",
       "Leuven?)                   1\n",
       "Sierra                     1\n",
       "Leone                      1\n",
       "Uganda                     1\n",
       "Dem.                       1\n",
       "Chiricahua                 1\n",
       "Tyrolean                   1\n",
       "Iban                       1\n",
       "(Apache)                   1\n",
       "Western                    1\n",
       "Algonquin                  1\n",
       "family                     1\n",
       "(Sioux)                    1\n",
       "Mandinka                   1\n",
       "Bolognese                  1\n",
       "(Diest                     1\n",
       "Malayan                    1\n",
       "Cairo                      1\n",
       "Antiguan                   1\n",
       "Liberian                   1\n",
       "Mokawk                     1\n",
       "Brtiish                    1\n",
       "Brtish                     1\n",
       "Strassburg                 1\n",
       "Spainish                   1\n",
       "french                     1\n",
       "Spanish/Mexican            1\n",
       "British/Irish              1\n",
       "Yemini                     1\n",
       "Tunesia                    1\n",
       "Istanbul                   1\n",
       "Syria                      1\n",
       "Brabant                    1\n",
       "Iranian-British            1\n",
       "Marches                    1\n",
       "Ancona)                    1\n",
       "(probably                  1\n",
       "Pavia)                     1\n",
       "/                          1\n",
       "Emilian                    1\n",
       "Upper                      1\n",
       "Venice                     1\n",
       "17th                       1\n",
       "century                    1\n",
       "Ghent                      1\n",
       "Veronese                   1\n",
       "AMerican                   1"
      ]
     },
     "execution_count": 432,
     "metadata": {},
     "output_type": "execute_result"
    }
   ],
   "source": [
    "word_counts = filtered['Artist Nationality'].str.split('[\\s,|]', expand=True).stack().value_counts()\n",
    "word_counts = pd.DataFrame(word_counts)\n",
    "word_counts"
   ]
  },
  {
   "cell_type": "markdown",
   "metadata": {},
   "source": [
    "# 2. Digital Access to Collection Comparison - Chinese Art as an Example"
   ]
  },
  {
   "cell_type": "markdown",
   "metadata": {},
   "source": [
    "This section shows three levels / ways of acquiring digital collection information, which involves different levels of resources and dedication from the museum. "
   ]
  },
  {
   "cell_type": "markdown",
   "metadata": {
    "tags": []
   },
   "source": [
    "## 2.1 MET - Open Access CSV / JSON file"
   ]
  },
  {
   "cell_type": "code",
   "execution_count": 71,
   "metadata": {
    "tags": []
   },
   "outputs": [],
   "source": [
    "met_china_art = met.loc[(met['Culture'] == \"China\") & (met['Is Highlight'] == True)]"
   ]
  },
  {
   "cell_type": "code",
   "execution_count": 72,
   "metadata": {
    "tags": []
   },
   "outputs": [
    {
     "data": {
      "text/html": [
       "<div>\n",
       "<style scoped>\n",
       "    .dataframe tbody tr th:only-of-type {\n",
       "        vertical-align: middle;\n",
       "    }\n",
       "\n",
       "    .dataframe tbody tr th {\n",
       "        vertical-align: top;\n",
       "    }\n",
       "\n",
       "    .dataframe thead th {\n",
       "        text-align: right;\n",
       "    }\n",
       "</style>\n",
       "<table border=\"1\" class=\"dataframe\">\n",
       "  <thead>\n",
       "    <tr style=\"text-align: right;\">\n",
       "      <th></th>\n",
       "      <th>Object Number</th>\n",
       "      <th>Is Highlight</th>\n",
       "      <th>Is Timeline Work</th>\n",
       "      <th>Is Public Domain</th>\n",
       "      <th>Object ID</th>\n",
       "      <th>Gallery Number</th>\n",
       "      <th>Department</th>\n",
       "      <th>AccessionYear</th>\n",
       "      <th>Object Name</th>\n",
       "      <th>Title</th>\n",
       "      <th>Culture</th>\n",
       "      <th>Period</th>\n",
       "      <th>Dynasty</th>\n",
       "      <th>Reign</th>\n",
       "      <th>Portfolio</th>\n",
       "      <th>Constituent ID</th>\n",
       "      <th>Artist Role</th>\n",
       "      <th>Artist Prefix</th>\n",
       "      <th>Artist Display Name</th>\n",
       "      <th>Artist Display Bio</th>\n",
       "      <th>Artist Suffix</th>\n",
       "      <th>Artist Alpha Sort</th>\n",
       "      <th>Artist Nationality</th>\n",
       "      <th>Artist Begin Date</th>\n",
       "      <th>Artist End Date</th>\n",
       "      <th>Artist Gender</th>\n",
       "      <th>Artist ULAN URL</th>\n",
       "      <th>Artist Wikidata URL</th>\n",
       "      <th>Object Date</th>\n",
       "      <th>Object Begin Date</th>\n",
       "      <th>Object End Date</th>\n",
       "      <th>Medium</th>\n",
       "      <th>Dimensions</th>\n",
       "      <th>Credit Line</th>\n",
       "      <th>Geography Type</th>\n",
       "      <th>City</th>\n",
       "      <th>State</th>\n",
       "      <th>County</th>\n",
       "      <th>Country</th>\n",
       "      <th>Region</th>\n",
       "      <th>Subregion</th>\n",
       "      <th>Locale</th>\n",
       "      <th>Locus</th>\n",
       "      <th>Excavation</th>\n",
       "      <th>River</th>\n",
       "      <th>Classification</th>\n",
       "      <th>Rights and Reproduction</th>\n",
       "      <th>Link Resource</th>\n",
       "      <th>Object Wikidata URL</th>\n",
       "      <th>Metadata Date</th>\n",
       "      <th>Repository</th>\n",
       "      <th>Tags</th>\n",
       "      <th>Tags AAT URL</th>\n",
       "      <th>Tags Wikidata URL</th>\n",
       "    </tr>\n",
       "  </thead>\n",
       "  <tbody>\n",
       "    <tr>\n",
       "      <th>30457</th>\n",
       "      <td>1981.4.1a–o</td>\n",
       "      <td>True</td>\n",
       "      <td>False</td>\n",
       "      <td>True</td>\n",
       "      <td>36131</td>\n",
       "      <td>NaN</td>\n",
       "      <td>Asian Art</td>\n",
       "      <td>1981.0</td>\n",
       "      <td>Album</td>\n",
       "      <td>清   龔賢   墨筆山水詩畫   冊|清　龔賢　自題 山水十六開   冊|Landscap...</td>\n",
       "      <td>China</td>\n",
       "      <td>Qing dynasty (1644–1911)</td>\n",
       "      <td>NaN</td>\n",
       "      <td>NaN</td>\n",
       "      <td>NaN</td>\n",
       "      <td>1170</td>\n",
       "      <td>Artist</td>\n",
       "      <td></td>\n",
       "      <td>Gong Xian</td>\n",
       "      <td>Chinese, 1619–1689</td>\n",
       "      <td></td>\n",
       "      <td>GONG XIAN</td>\n",
       "      <td>Chinese</td>\n",
       "      <td>1619</td>\n",
       "      <td>1689</td>\n",
       "      <td>NaN</td>\n",
       "      <td>http://vocab.getty.edu/page/ulan/500125754</td>\n",
       "      <td>https://www.wikidata.org/wiki/Q3110482</td>\n",
       "      <td>1688</td>\n",
       "      <td>1688</td>\n",
       "      <td>1688</td>\n",
       "      <td>Fifteen leaves from an album (1980.516.2a–c an...</td>\n",
       "      <td>10 3/4 x 16 1/8 in. (27.3 x 41 cm)</td>\n",
       "      <td>Gift of Douglas Dillon, 1981</td>\n",
       "      <td>NaN</td>\n",
       "      <td>NaN</td>\n",
       "      <td>NaN</td>\n",
       "      <td>NaN</td>\n",
       "      <td>NaN</td>\n",
       "      <td>NaN</td>\n",
       "      <td>NaN</td>\n",
       "      <td>NaN</td>\n",
       "      <td>NaN</td>\n",
       "      <td>NaN</td>\n",
       "      <td>NaN</td>\n",
       "      <td>Paintings</td>\n",
       "      <td>NaN</td>\n",
       "      <td>http://www.metmuseum.org/art/collection/search...</td>\n",
       "      <td>https://www.wikidata.org/wiki/Q29383237</td>\n",
       "      <td>NaN</td>\n",
       "      <td>Metropolitan Museum of Art, New York, NY</td>\n",
       "      <td>Poetry|Landscapes</td>\n",
       "      <td>http://vocab.getty.edu/page/aat/300055931|http...</td>\n",
       "      <td>https://www.wikidata.org/wiki/Q482|https://www...</td>\n",
       "    </tr>\n",
       "    <tr>\n",
       "      <th>33815</th>\n",
       "      <td>1985.214.99</td>\n",
       "      <td>True</td>\n",
       "      <td>True</td>\n",
       "      <td>True</td>\n",
       "      <td>39637</td>\n",
       "      <td>NaN</td>\n",
       "      <td>Asian Art</td>\n",
       "      <td>1985.0</td>\n",
       "      <td>Pendant</td>\n",
       "      <td>戰國 絞絲龍形玉佩|Knotted dragon pendant</td>\n",
       "      <td>China</td>\n",
       "      <td>Eastern Zhou dynasty (770–256 B.C.)</td>\n",
       "      <td>NaN</td>\n",
       "      <td>NaN</td>\n",
       "      <td>NaN</td>\n",
       "      <td>NaN</td>\n",
       "      <td>NaN</td>\n",
       "      <td>NaN</td>\n",
       "      <td>NaN</td>\n",
       "      <td>NaN</td>\n",
       "      <td>NaN</td>\n",
       "      <td>NaN</td>\n",
       "      <td>NaN</td>\n",
       "      <td>NaN</td>\n",
       "      <td>NaN</td>\n",
       "      <td>NaN</td>\n",
       "      <td>NaN</td>\n",
       "      <td>NaN</td>\n",
       "      <td>3rd century BCE</td>\n",
       "      <td>-299</td>\n",
       "      <td>-99</td>\n",
       "      <td>Jade (nephrite)</td>\n",
       "      <td>H. 3 1/8 in. (7.9 cm); W. 2 1/16 in. (5.2 cm)</td>\n",
       "      <td>Gift of Ernest Erickson Foundation, 1985</td>\n",
       "      <td>NaN</td>\n",
       "      <td>NaN</td>\n",
       "      <td>NaN</td>\n",
       "      <td>NaN</td>\n",
       "      <td>NaN</td>\n",
       "      <td>NaN</td>\n",
       "      <td>NaN</td>\n",
       "      <td>NaN</td>\n",
       "      <td>NaN</td>\n",
       "      <td>NaN</td>\n",
       "      <td>NaN</td>\n",
       "      <td>Jade</td>\n",
       "      <td>NaN</td>\n",
       "      <td>http://www.metmuseum.org/art/collection/search...</td>\n",
       "      <td>https://www.wikidata.org/wiki/Q29383288</td>\n",
       "      <td>NaN</td>\n",
       "      <td>Metropolitan Museum of Art, New York, NY</td>\n",
       "      <td>Dragons</td>\n",
       "      <td>http://vocab.getty.edu/page/aat/300375726</td>\n",
       "      <td>https://www.wikidata.org/wiki/Q7559</td>\n",
       "    </tr>\n",
       "    <tr>\n",
       "      <th>33827</th>\n",
       "      <td>18.56.36</td>\n",
       "      <td>True</td>\n",
       "      <td>True</td>\n",
       "      <td>True</td>\n",
       "      <td>39649</td>\n",
       "      <td>204.0</td>\n",
       "      <td>Asian Art</td>\n",
       "      <td>1918.0</td>\n",
       "      <td>Bowl</td>\n",
       "      <td>NaN</td>\n",
       "      <td>China</td>\n",
       "      <td>Five Dynasties (907–960)</td>\n",
       "      <td>NaN</td>\n",
       "      <td>NaN</td>\n",
       "      <td>NaN</td>\n",
       "      <td>NaN</td>\n",
       "      <td>NaN</td>\n",
       "      <td>NaN</td>\n",
       "      <td>NaN</td>\n",
       "      <td>NaN</td>\n",
       "      <td>NaN</td>\n",
       "      <td>NaN</td>\n",
       "      <td>NaN</td>\n",
       "      <td>NaN</td>\n",
       "      <td>NaN</td>\n",
       "      <td>NaN</td>\n",
       "      <td>NaN</td>\n",
       "      <td>NaN</td>\n",
       "      <td>10th century</td>\n",
       "      <td>900</td>\n",
       "      <td>960</td>\n",
       "      <td>Stoneware with carved and incised decoration u...</td>\n",
       "      <td>H. 4 1/2 in. (11 .4 cm); Diam. 10 5/8 in. (27 cm)</td>\n",
       "      <td>Rogers Fund, 1918</td>\n",
       "      <td>NaN</td>\n",
       "      <td>NaN</td>\n",
       "      <td>NaN</td>\n",
       "      <td>NaN</td>\n",
       "      <td>NaN</td>\n",
       "      <td>NaN</td>\n",
       "      <td>NaN</td>\n",
       "      <td>NaN</td>\n",
       "      <td>NaN</td>\n",
       "      <td>NaN</td>\n",
       "      <td>NaN</td>\n",
       "      <td>Ceramics</td>\n",
       "      <td>NaN</td>\n",
       "      <td>http://www.metmuseum.org/art/collection/search...</td>\n",
       "      <td>https://www.wikidata.org/wiki/Q29383290</td>\n",
       "      <td>NaN</td>\n",
       "      <td>Metropolitan Museum of Art, New York, NY</td>\n",
       "      <td>Dragons</td>\n",
       "      <td>http://vocab.getty.edu/page/aat/300375726</td>\n",
       "      <td>https://www.wikidata.org/wiki/Q7559</td>\n",
       "    </tr>\n",
       "    <tr>\n",
       "      <th>33842</th>\n",
       "      <td>37.191.1</td>\n",
       "      <td>True</td>\n",
       "      <td>True</td>\n",
       "      <td>True</td>\n",
       "      <td>39666</td>\n",
       "      <td>202.0</td>\n",
       "      <td>Asian Art</td>\n",
       "      <td>1937.0</td>\n",
       "      <td>Jar</td>\n",
       "      <td>NaN</td>\n",
       "      <td>China</td>\n",
       "      <td>Ming dynasty (1368–1644), Xuande mark and peri...</td>\n",
       "      <td>NaN</td>\n",
       "      <td>NaN</td>\n",
       "      <td>NaN</td>\n",
       "      <td>NaN</td>\n",
       "      <td>NaN</td>\n",
       "      <td>NaN</td>\n",
       "      <td>NaN</td>\n",
       "      <td>NaN</td>\n",
       "      <td>NaN</td>\n",
       "      <td>NaN</td>\n",
       "      <td>NaN</td>\n",
       "      <td>NaN</td>\n",
       "      <td>NaN</td>\n",
       "      <td>NaN</td>\n",
       "      <td>NaN</td>\n",
       "      <td>NaN</td>\n",
       "      <td>early 15th century</td>\n",
       "      <td>1400</td>\n",
       "      <td>1433</td>\n",
       "      <td>Porcelain painted with cobalt blue under trans...</td>\n",
       "      <td>H. 19 in. (48.3 cm); Diam. 19 in. (48.3 cm)</td>\n",
       "      <td>Gift of Robert E. Tod, 1937</td>\n",
       "      <td>NaN</td>\n",
       "      <td>NaN</td>\n",
       "      <td>NaN</td>\n",
       "      <td>NaN</td>\n",
       "      <td>NaN</td>\n",
       "      <td>NaN</td>\n",
       "      <td>NaN</td>\n",
       "      <td>NaN</td>\n",
       "      <td>NaN</td>\n",
       "      <td>NaN</td>\n",
       "      <td>NaN</td>\n",
       "      <td>Ceramics</td>\n",
       "      <td>NaN</td>\n",
       "      <td>http://www.metmuseum.org/art/collection/search...</td>\n",
       "      <td>https://www.wikidata.org/wiki/Q29383294</td>\n",
       "      <td>NaN</td>\n",
       "      <td>Metropolitan Museum of Art, New York, NY</td>\n",
       "      <td>Dragons</td>\n",
       "      <td>http://vocab.getty.edu/page/aat/300375726</td>\n",
       "      <td>https://www.wikidata.org/wiki/Q7559</td>\n",
       "    </tr>\n",
       "    <tr>\n",
       "      <th>33844</th>\n",
       "      <td>1981.276</td>\n",
       "      <td>True</td>\n",
       "      <td>True</td>\n",
       "      <td>True</td>\n",
       "      <td>39668</td>\n",
       "      <td>NaN</td>\n",
       "      <td>Asian Art</td>\n",
       "      <td>1981.0</td>\n",
       "      <td>Handscroll</td>\n",
       "      <td>北宋    郭熙    樹色平遠圖    卷  |Old Trees, Level Dist...</td>\n",
       "      <td>China</td>\n",
       "      <td>Northern Song dynasty (960–1127)</td>\n",
       "      <td>NaN</td>\n",
       "      <td>NaN</td>\n",
       "      <td>NaN</td>\n",
       "      <td>1149</td>\n",
       "      <td>Artist</td>\n",
       "      <td></td>\n",
       "      <td>Guo Xi</td>\n",
       "      <td>Chinese, ca. 1000–ca. 1090</td>\n",
       "      <td></td>\n",
       "      <td>Guo Xi</td>\n",
       "      <td>Chinese</td>\n",
       "      <td>1000</td>\n",
       "      <td>1090</td>\n",
       "      <td>NaN</td>\n",
       "      <td>http://vocab.getty.edu/page/ulan/500125758</td>\n",
       "      <td>https://www.wikidata.org/wiki/Q536645</td>\n",
       "      <td>ca. 1080</td>\n",
       "      <td>1070</td>\n",
       "      <td>1090</td>\n",
       "      <td>Handscroll; ink and color on silk</td>\n",
       "      <td>Image: 14 × 41 1/8 in. (35.6 × 104.4 cm)\\r\\nOv...</td>\n",
       "      <td>Gift of John M. Crawford Jr., in honor of Doug...</td>\n",
       "      <td>NaN</td>\n",
       "      <td>NaN</td>\n",
       "      <td>NaN</td>\n",
       "      <td>NaN</td>\n",
       "      <td>NaN</td>\n",
       "      <td>NaN</td>\n",
       "      <td>NaN</td>\n",
       "      <td>NaN</td>\n",
       "      <td>NaN</td>\n",
       "      <td>NaN</td>\n",
       "      <td>NaN</td>\n",
       "      <td>Paintings</td>\n",
       "      <td>NaN</td>\n",
       "      <td>http://www.metmuseum.org/art/collection/search...</td>\n",
       "      <td>https://www.wikidata.org/wiki/Q29383298</td>\n",
       "      <td>NaN</td>\n",
       "      <td>Metropolitan Museum of Art, New York, NY</td>\n",
       "      <td>Trees|Landscapes</td>\n",
       "      <td>http://vocab.getty.edu/page/aat/300132410|http...</td>\n",
       "      <td>https://www.wikidata.org/wiki/Q10884|https://w...</td>\n",
       "    </tr>\n",
       "    <tr>\n",
       "      <th>33903</th>\n",
       "      <td>1989.140</td>\n",
       "      <td>True</td>\n",
       "      <td>True</td>\n",
       "      <td>True</td>\n",
       "      <td>39738</td>\n",
       "      <td>NaN</td>\n",
       "      <td>Asian Art</td>\n",
       "      <td>1989.0</td>\n",
       "      <td>Mandala</td>\n",
       "      <td>元 緙絲 須彌山曼陀羅|Cosmological Mandala with Mount Meru</td>\n",
       "      <td>China</td>\n",
       "      <td>Yuan dynasty (1271–1368)</td>\n",
       "      <td>NaN</td>\n",
       "      <td>NaN</td>\n",
       "      <td>NaN</td>\n",
       "      <td>NaN</td>\n",
       "      <td>NaN</td>\n",
       "      <td>NaN</td>\n",
       "      <td>NaN</td>\n",
       "      <td>NaN</td>\n",
       "      <td>NaN</td>\n",
       "      <td>NaN</td>\n",
       "      <td>NaN</td>\n",
       "      <td>NaN</td>\n",
       "      <td>NaN</td>\n",
       "      <td>NaN</td>\n",
       "      <td>NaN</td>\n",
       "      <td>NaN</td>\n",
       "      <td>14th century</td>\n",
       "      <td>1300</td>\n",
       "      <td>1368</td>\n",
       "      <td>Silk tapestry (kesi)</td>\n",
       "      <td>Overall: 33 x 33 in. (83.8 x 83.8cm)\\r\\nMount:...</td>\n",
       "      <td>Purchase, Fletcher Fund and Joseph E. Hotung a...</td>\n",
       "      <td>NaN</td>\n",
       "      <td>NaN</td>\n",
       "      <td>NaN</td>\n",
       "      <td>NaN</td>\n",
       "      <td>NaN</td>\n",
       "      <td>NaN</td>\n",
       "      <td>NaN</td>\n",
       "      <td>NaN</td>\n",
       "      <td>NaN</td>\n",
       "      <td>NaN</td>\n",
       "      <td>NaN</td>\n",
       "      <td>Textiles-Tapestries</td>\n",
       "      <td>NaN</td>\n",
       "      <td>http://www.metmuseum.org/art/collection/search...</td>\n",
       "      <td>https://www.wikidata.org/wiki/Q29383306</td>\n",
       "      <td>NaN</td>\n",
       "      <td>Metropolitan Museum of Art, New York, NY</td>\n",
       "      <td>Mountains</td>\n",
       "      <td>http://vocab.getty.edu/page/aat/300008795</td>\n",
       "      <td>https://www.wikidata.org/wiki/Q8502</td>\n",
       "    </tr>\n",
       "    <tr>\n",
       "      <th>34025</th>\n",
       "      <td>1977.78</td>\n",
       "      <td>True</td>\n",
       "      <td>True</td>\n",
       "      <td>True</td>\n",
       "      <td>39901</td>\n",
       "      <td>NaN</td>\n",
       "      <td>Asian Art</td>\n",
       "      <td>1977.0</td>\n",
       "      <td>Handscroll</td>\n",
       "      <td>唐 韓幹 照夜白圖 卷|Night-Shining White</td>\n",
       "      <td>China</td>\n",
       "      <td>Tang dynasty (618–907)</td>\n",
       "      <td>NaN</td>\n",
       "      <td>NaN</td>\n",
       "      <td>NaN</td>\n",
       "      <td>1157</td>\n",
       "      <td>Artist</td>\n",
       "      <td></td>\n",
       "      <td>Han Gan</td>\n",
       "      <td>Chinese, active ca. 742–756</td>\n",
       "      <td></td>\n",
       "      <td>Han Gan</td>\n",
       "      <td>Chinese</td>\n",
       "      <td>0742</td>\n",
       "      <td>0756</td>\n",
       "      <td>NaN</td>\n",
       "      <td>http://vocab.getty.edu/page/ulan/500125882</td>\n",
       "      <td>https://www.wikidata.org/wiki/Q561952</td>\n",
       "      <td>ca. 750</td>\n",
       "      <td>740</td>\n",
       "      <td>760</td>\n",
       "      <td>Handscroll; ink on paper</td>\n",
       "      <td>Image: 12 1/8 x 13 3/8 in. (30.8 x 34 cm)\\r\\nO...</td>\n",
       "      <td>Purchase, The Dillon Fund Gift, 1977</td>\n",
       "      <td>NaN</td>\n",
       "      <td>NaN</td>\n",
       "      <td>NaN</td>\n",
       "      <td>NaN</td>\n",
       "      <td>NaN</td>\n",
       "      <td>NaN</td>\n",
       "      <td>NaN</td>\n",
       "      <td>NaN</td>\n",
       "      <td>NaN</td>\n",
       "      <td>NaN</td>\n",
       "      <td>NaN</td>\n",
       "      <td>Paintings</td>\n",
       "      <td>NaN</td>\n",
       "      <td>http://www.metmuseum.org/art/collection/search...</td>\n",
       "      <td>https://www.wikidata.org/wiki/Q28092249</td>\n",
       "      <td>NaN</td>\n",
       "      <td>Metropolitan Museum of Art, New York, NY</td>\n",
       "      <td>Horses</td>\n",
       "      <td>http://vocab.getty.edu/page/aat/300250148</td>\n",
       "      <td>https://www.wikidata.org/wiki/Q726</td>\n",
       "    </tr>\n",
       "    <tr>\n",
       "      <th>34039</th>\n",
       "      <td>1973.120.1</td>\n",
       "      <td>True</td>\n",
       "      <td>True</td>\n",
       "      <td>True</td>\n",
       "      <td>39915</td>\n",
       "      <td>NaN</td>\n",
       "      <td>Asian Art</td>\n",
       "      <td>1973.0</td>\n",
       "      <td>Handscroll</td>\n",
       "      <td>北宋 傳屈鼎 夏山圖 卷|Summer Mountains</td>\n",
       "      <td>China</td>\n",
       "      <td>Northern Song dynasty (960–1127)</td>\n",
       "      <td>NaN</td>\n",
       "      <td>NaN</td>\n",
       "      <td>NaN</td>\n",
       "      <td>1157</td>\n",
       "      <td>Artist</td>\n",
       "      <td>Attributed to</td>\n",
       "      <td>Qu Ding</td>\n",
       "      <td>Chinese, active ca. 1023–ca. 1056</td>\n",
       "      <td></td>\n",
       "      <td>QU DING</td>\n",
       "      <td>Chinese</td>\n",
       "      <td>0950</td>\n",
       "      <td>1150</td>\n",
       "      <td>NaN</td>\n",
       "      <td>http://vocab.getty.edu/page/ulan/500125182</td>\n",
       "      <td>https://www.wikidata.org/wiki/Q7268210</td>\n",
       "      <td>ca. 1050</td>\n",
       "      <td>1040</td>\n",
       "      <td>1060</td>\n",
       "      <td>Handscroll; ink and color on silk</td>\n",
       "      <td>Image: 17 7/8 × 45 3/8 in. (45.4 × 115.3 cm)\\r...</td>\n",
       "      <td>Ex coll.: C. C. Wang Family, Gift of The Dillo...</td>\n",
       "      <td>NaN</td>\n",
       "      <td>NaN</td>\n",
       "      <td>NaN</td>\n",
       "      <td>NaN</td>\n",
       "      <td>NaN</td>\n",
       "      <td>NaN</td>\n",
       "      <td>NaN</td>\n",
       "      <td>NaN</td>\n",
       "      <td>NaN</td>\n",
       "      <td>NaN</td>\n",
       "      <td>NaN</td>\n",
       "      <td>Paintings</td>\n",
       "      <td>NaN</td>\n",
       "      <td>http://www.metmuseum.org/art/collection/search...</td>\n",
       "      <td>https://www.wikidata.org/wiki/Q29383308</td>\n",
       "      <td>NaN</td>\n",
       "      <td>Metropolitan Museum of Art, New York, NY</td>\n",
       "      <td>Mountains|Landscapes</td>\n",
       "      <td>http://vocab.getty.edu/page/aat/300008795|http...</td>\n",
       "      <td>https://www.wikidata.org/wiki/Q8502|https://ww...</td>\n",
       "    </tr>\n",
       "    <tr>\n",
       "      <th>34042</th>\n",
       "      <td>1989.363.4</td>\n",
       "      <td>True</td>\n",
       "      <td>True</td>\n",
       "      <td>True</td>\n",
       "      <td>39918</td>\n",
       "      <td>NaN</td>\n",
       "      <td>Asian Art</td>\n",
       "      <td>1989.0</td>\n",
       "      <td>Handscroll</td>\n",
       "      <td>北宋 黃庭堅 草書廉頗藺相如傳 卷|Biographies of Lian Po and L...</td>\n",
       "      <td>China</td>\n",
       "      <td>Northern Song dynasty (960–1127)</td>\n",
       "      <td>NaN</td>\n",
       "      <td>NaN</td>\n",
       "      <td>NaN</td>\n",
       "      <td>1158</td>\n",
       "      <td>Calligrapher</td>\n",
       "      <td></td>\n",
       "      <td>Huang Tingjian</td>\n",
       "      <td>Chinese, 1045–1105</td>\n",
       "      <td></td>\n",
       "      <td>HUANG TINGJIAN</td>\n",
       "      <td>Chinese</td>\n",
       "      <td>1045</td>\n",
       "      <td>1105</td>\n",
       "      <td>NaN</td>\n",
       "      <td>http://vocab.getty.edu/page/ulan/500319755</td>\n",
       "      <td>https://www.wikidata.org/wiki/Q709460</td>\n",
       "      <td>ca. 1095</td>\n",
       "      <td>1085</td>\n",
       "      <td>1105</td>\n",
       "      <td>Handscroll; ink on paper</td>\n",
       "      <td>Image: 13 1/4 in. × 60 ft. 4 1/2 in. (33.7 × 1...</td>\n",
       "      <td>Bequest of John M. Crawford Jr., 1988</td>\n",
       "      <td>NaN</td>\n",
       "      <td>NaN</td>\n",
       "      <td>NaN</td>\n",
       "      <td>NaN</td>\n",
       "      <td>NaN</td>\n",
       "      <td>NaN</td>\n",
       "      <td>NaN</td>\n",
       "      <td>NaN</td>\n",
       "      <td>NaN</td>\n",
       "      <td>NaN</td>\n",
       "      <td>NaN</td>\n",
       "      <td>Calligraphy</td>\n",
       "      <td>NaN</td>\n",
       "      <td>http://www.metmuseum.org/art/collection/search...</td>\n",
       "      <td>https://www.wikidata.org/wiki/Q29383310</td>\n",
       "      <td>NaN</td>\n",
       "      <td>Metropolitan Museum of Art, New York, NY</td>\n",
       "      <td>Calligraphy</td>\n",
       "      <td>http://vocab.getty.edu/page/aat/300266660</td>\n",
       "      <td>https://www.wikidata.org/wiki/Q12681</td>\n",
       "    </tr>\n",
       "    <tr>\n",
       "      <th>34057</th>\n",
       "      <td>1981.278</td>\n",
       "      <td>True</td>\n",
       "      <td>True</td>\n",
       "      <td>True</td>\n",
       "      <td>39936</td>\n",
       "      <td>NaN</td>\n",
       "      <td>Asian Art</td>\n",
       "      <td>1981.0</td>\n",
       "      <td>Handscroll</td>\n",
       "      <td>北宋   徽宗   竹禽圖   卷|Finches and bamboo</td>\n",
       "      <td>China</td>\n",
       "      <td>Northern Song dynasty (960–1127)</td>\n",
       "      <td>NaN</td>\n",
       "      <td>NaN</td>\n",
       "      <td>NaN</td>\n",
       "      <td>1158</td>\n",
       "      <td>Artist</td>\n",
       "      <td></td>\n",
       "      <td>Emperor Huizong</td>\n",
       "      <td>Chinese, 1082–1135; r. 1100–25</td>\n",
       "      <td></td>\n",
       "      <td>Huizong, Emperor</td>\n",
       "      <td>Chinese</td>\n",
       "      <td>1082</td>\n",
       "      <td>1135</td>\n",
       "      <td>NaN</td>\n",
       "      <td>http://vocab.getty.edu/page/ulan/500334306</td>\n",
       "      <td>https://www.wikidata.org/wiki/Q7486</td>\n",
       "      <td>early 12th century</td>\n",
       "      <td>1100</td>\n",
       "      <td>1127</td>\n",
       "      <td>Handscroll; ink and color on silk</td>\n",
       "      <td>Image: 13 1/4 × 21 13/16 in. (33.7 × 55.4 cm)\\...</td>\n",
       "      <td>John M. Crawford Jr. Collection, Purchase, Dou...</td>\n",
       "      <td>NaN</td>\n",
       "      <td>NaN</td>\n",
       "      <td>NaN</td>\n",
       "      <td>NaN</td>\n",
       "      <td>NaN</td>\n",
       "      <td>NaN</td>\n",
       "      <td>NaN</td>\n",
       "      <td>NaN</td>\n",
       "      <td>NaN</td>\n",
       "      <td>NaN</td>\n",
       "      <td>NaN</td>\n",
       "      <td>Paintings</td>\n",
       "      <td>NaN</td>\n",
       "      <td>http://www.metmuseum.org/art/collection/search...</td>\n",
       "      <td>https://www.wikidata.org/wiki/Q29383312</td>\n",
       "      <td>NaN</td>\n",
       "      <td>Metropolitan Museum of Art, New York, NY</td>\n",
       "      <td>Birds|Bamboo</td>\n",
       "      <td>http://vocab.getty.edu/page/aat/300266506|http...</td>\n",
       "      <td>https://www.wikidata.org/wiki/Q5113|https://ww...</td>\n",
       "    </tr>\n",
       "    <tr>\n",
       "      <th>34158</th>\n",
       "      <td>41.138</td>\n",
       "      <td>True</td>\n",
       "      <td>True</td>\n",
       "      <td>True</td>\n",
       "      <td>40055</td>\n",
       "      <td>NaN</td>\n",
       "      <td>Asian Art</td>\n",
       "      <td>1941.0</td>\n",
       "      <td>Hanging scroll</td>\n",
       "      <td>南宋 佚名 明皇幸蜀圖 軸|Emperor Xuanzong's Flight to Shu</td>\n",
       "      <td>China</td>\n",
       "      <td>Southern Song dynasty (1127–1279)</td>\n",
       "      <td>NaN</td>\n",
       "      <td>NaN</td>\n",
       "      <td>NaN</td>\n",
       "      <td>3750</td>\n",
       "      <td>Artist</td>\n",
       "      <td></td>\n",
       "      <td>Unidentified artist</td>\n",
       "      <td></td>\n",
       "      <td>Chinese, active mid-12th century</td>\n",
       "      <td>Unidentified artist</td>\n",
       "      <td></td>\n",
       "      <td></td>\n",
       "      <td></td>\n",
       "      <td>NaN</td>\n",
       "      <td>NaN</td>\n",
       "      <td>NaN</td>\n",
       "      <td>mid-12th century</td>\n",
       "      <td>1134</td>\n",
       "      <td>1166</td>\n",
       "      <td>Hanging scroll; ink, color, and gold on silk</td>\n",
       "      <td>Image: 44 3/4 × 32 5/8 in. (113.7 × 82.9 cm)\\r...</td>\n",
       "      <td>Rogers Fund, 1941</td>\n",
       "      <td>NaN</td>\n",
       "      <td>NaN</td>\n",
       "      <td>NaN</td>\n",
       "      <td>NaN</td>\n",
       "      <td>NaN</td>\n",
       "      <td>NaN</td>\n",
       "      <td>NaN</td>\n",
       "      <td>NaN</td>\n",
       "      <td>NaN</td>\n",
       "      <td>NaN</td>\n",
       "      <td>NaN</td>\n",
       "      <td>Paintings</td>\n",
       "      <td>NaN</td>\n",
       "      <td>http://www.metmuseum.org/art/collection/search...</td>\n",
       "      <td>https://www.wikidata.org/wiki/Q29383316</td>\n",
       "      <td>NaN</td>\n",
       "      <td>Metropolitan Museum of Art, New York, NY</td>\n",
       "      <td>Men|Landscapes|Horses</td>\n",
       "      <td>http://vocab.getty.edu/page/aat/300025928|http...</td>\n",
       "      <td>https://www.wikidata.org/wiki/Q8441|https://ww...</td>\n",
       "    </tr>\n",
       "    <tr>\n",
       "      <th>34181</th>\n",
       "      <td>1973.120.6</td>\n",
       "      <td>True</td>\n",
       "      <td>True</td>\n",
       "      <td>True</td>\n",
       "      <td>40081</td>\n",
       "      <td>NaN</td>\n",
       "      <td>Asian Art</td>\n",
       "      <td>1973.0</td>\n",
       "      <td>Handscroll</td>\n",
       "      <td>元　錢選　王羲之觀鵝圖　卷|Wang Xizhi watching geese</td>\n",
       "      <td>China</td>\n",
       "      <td>Yuan dynasty (1271–1368)</td>\n",
       "      <td>NaN</td>\n",
       "      <td>NaN</td>\n",
       "      <td>NaN</td>\n",
       "      <td>1166</td>\n",
       "      <td>Artist</td>\n",
       "      <td></td>\n",
       "      <td>Qian Xuan</td>\n",
       "      <td>Chinese, 1239–1301</td>\n",
       "      <td></td>\n",
       "      <td>QIAN XUAN</td>\n",
       "      <td>Chinese</td>\n",
       "      <td>1239</td>\n",
       "      <td>1301</td>\n",
       "      <td>NaN</td>\n",
       "      <td>http://vocab.getty.edu/page/ulan/500324493</td>\n",
       "      <td>https://www.wikidata.org/wiki/Q951585</td>\n",
       "      <td>ca. 1295</td>\n",
       "      <td>1285</td>\n",
       "      <td>1305</td>\n",
       "      <td>Handscroll; ink, color, and gold on paper</td>\n",
       "      <td>Image: 9 1/8 x 36 1/2 in. (23.2 x 92.7 cm)\\r\\n...</td>\n",
       "      <td>Ex coll.: C. C. Wang Family, Gift of The Dillo...</td>\n",
       "      <td>NaN</td>\n",
       "      <td>NaN</td>\n",
       "      <td>NaN</td>\n",
       "      <td>NaN</td>\n",
       "      <td>NaN</td>\n",
       "      <td>NaN</td>\n",
       "      <td>NaN</td>\n",
       "      <td>NaN</td>\n",
       "      <td>NaN</td>\n",
       "      <td>NaN</td>\n",
       "      <td>NaN</td>\n",
       "      <td>Paintings</td>\n",
       "      <td>NaN</td>\n",
       "      <td>http://www.metmuseum.org/art/collection/search...</td>\n",
       "      <td>https://www.wikidata.org/wiki/Q29383319</td>\n",
       "      <td>NaN</td>\n",
       "      <td>Metropolitan Museum of Art, New York, NY</td>\n",
       "      <td>Pavilions|Men</td>\n",
       "      <td>http://vocab.getty.edu/page/aat/300002660|http...</td>\n",
       "      <td>https://www.wikidata.org/wiki/Q276173|https://...</td>\n",
       "    </tr>\n",
       "    <tr>\n",
       "      <th>36151</th>\n",
       "      <td>38.158.1a–n</td>\n",
       "      <td>True</td>\n",
       "      <td>True</td>\n",
       "      <td>True</td>\n",
       "      <td>42162</td>\n",
       "      <td>207.0</td>\n",
       "      <td>Asian Art</td>\n",
       "      <td>1938.0</td>\n",
       "      <td>Altarpiece</td>\n",
       "      <td>北魏正光五年 鎏金青銅彌勒佛像|Buddha Maitreya (Mile) Altarpiece</td>\n",
       "      <td>China</td>\n",
       "      <td>Northern Wei dynasty (386–534)</td>\n",
       "      <td>NaN</td>\n",
       "      <td>NaN</td>\n",
       "      <td>NaN</td>\n",
       "      <td>NaN</td>\n",
       "      <td>NaN</td>\n",
       "      <td>NaN</td>\n",
       "      <td>NaN</td>\n",
       "      <td>NaN</td>\n",
       "      <td>NaN</td>\n",
       "      <td>NaN</td>\n",
       "      <td>NaN</td>\n",
       "      <td>NaN</td>\n",
       "      <td>NaN</td>\n",
       "      <td>NaN</td>\n",
       "      <td>NaN</td>\n",
       "      <td>NaN</td>\n",
       "      <td>dated 524 (5th year of Zhengguang reign)</td>\n",
       "      <td>524</td>\n",
       "      <td>524</td>\n",
       "      <td>Gilt bronze</td>\n",
       "      <td>H. 30 1/4 (76.8 cm); W. 16 in. (40.6 cm); D. 9...</td>\n",
       "      <td>Rogers Fund, 1938</td>\n",
       "      <td>NaN</td>\n",
       "      <td>NaN</td>\n",
       "      <td>NaN</td>\n",
       "      <td>NaN</td>\n",
       "      <td>NaN</td>\n",
       "      <td>NaN</td>\n",
       "      <td>NaN</td>\n",
       "      <td>NaN</td>\n",
       "      <td>NaN</td>\n",
       "      <td>NaN</td>\n",
       "      <td>NaN</td>\n",
       "      <td>Sculpture</td>\n",
       "      <td>NaN</td>\n",
       "      <td>http://www.metmuseum.org/art/collection/search...</td>\n",
       "      <td>https://www.wikidata.org/wiki/Q29383322</td>\n",
       "      <td>NaN</td>\n",
       "      <td>Metropolitan Museum of Art, New York, NY</td>\n",
       "      <td>Buddhism|Buddha|Maitreya</td>\n",
       "      <td>http://vocab.getty.edu/page/aat/300073738|http...</td>\n",
       "      <td>https://www.wikidata.org/wiki/Q748|https://www...</td>\n",
       "    </tr>\n",
       "    <tr>\n",
       "      <th>36152</th>\n",
       "      <td>19.186</td>\n",
       "      <td>True</td>\n",
       "      <td>True</td>\n",
       "      <td>True</td>\n",
       "      <td>42163</td>\n",
       "      <td>208.0</td>\n",
       "      <td>Asian Art</td>\n",
       "      <td>1919.0</td>\n",
       "      <td>Figure</td>\n",
       "      <td>唐 彩繪塗金夾紵漆阿彌陀佛像|Buddha, probably Amitabha</td>\n",
       "      <td>China</td>\n",
       "      <td>Tang dynasty (618–907)</td>\n",
       "      <td>NaN</td>\n",
       "      <td>NaN</td>\n",
       "      <td>NaN</td>\n",
       "      <td>NaN</td>\n",
       "      <td>NaN</td>\n",
       "      <td>NaN</td>\n",
       "      <td>NaN</td>\n",
       "      <td>NaN</td>\n",
       "      <td>NaN</td>\n",
       "      <td>NaN</td>\n",
       "      <td>NaN</td>\n",
       "      <td>NaN</td>\n",
       "      <td>NaN</td>\n",
       "      <td>NaN</td>\n",
       "      <td>NaN</td>\n",
       "      <td>NaN</td>\n",
       "      <td>early 7th century</td>\n",
       "      <td>600</td>\n",
       "      <td>633</td>\n",
       "      <td>Dry lacquer with polychrome pigment and gilding</td>\n",
       "      <td>H. 38 in. (96.5 cm); W. 27 in. (68.6 cm); D. 2...</td>\n",
       "      <td>Rogers Fund, 1919</td>\n",
       "      <td>NaN</td>\n",
       "      <td>NaN</td>\n",
       "      <td>NaN</td>\n",
       "      <td>NaN</td>\n",
       "      <td>NaN</td>\n",
       "      <td>NaN</td>\n",
       "      <td>NaN</td>\n",
       "      <td>NaN</td>\n",
       "      <td>NaN</td>\n",
       "      <td>NaN</td>\n",
       "      <td>NaN</td>\n",
       "      <td>Sculpture</td>\n",
       "      <td>NaN</td>\n",
       "      <td>http://www.metmuseum.org/art/collection/search...</td>\n",
       "      <td>https://www.wikidata.org/wiki/Q29383324</td>\n",
       "      <td>NaN</td>\n",
       "      <td>Metropolitan Museum of Art, New York, NY</td>\n",
       "      <td>Buddhism|Buddha</td>\n",
       "      <td>http://vocab.getty.edu/page/aat/300073738|http...</td>\n",
       "      <td>https://www.wikidata.org/wiki/Q748|https://www...</td>\n",
       "    </tr>\n",
       "    <tr>\n",
       "      <th>36167</th>\n",
       "      <td>1992.165.19</td>\n",
       "      <td>True</td>\n",
       "      <td>True</td>\n",
       "      <td>True</td>\n",
       "      <td>42178</td>\n",
       "      <td>207.0</td>\n",
       "      <td>Asian Art</td>\n",
       "      <td>1992.0</td>\n",
       "      <td>Figure</td>\n",
       "      <td>西漢 彩繪陶舞俑|Female Dancer</td>\n",
       "      <td>China</td>\n",
       "      <td>Western Han dynasty (206 B.C.–A.D. 9)</td>\n",
       "      <td>NaN</td>\n",
       "      <td>NaN</td>\n",
       "      <td>NaN</td>\n",
       "      <td>NaN</td>\n",
       "      <td>NaN</td>\n",
       "      <td>NaN</td>\n",
       "      <td>NaN</td>\n",
       "      <td>NaN</td>\n",
       "      <td>NaN</td>\n",
       "      <td>NaN</td>\n",
       "      <td>NaN</td>\n",
       "      <td>NaN</td>\n",
       "      <td>NaN</td>\n",
       "      <td>NaN</td>\n",
       "      <td>NaN</td>\n",
       "      <td>NaN</td>\n",
       "      <td>2nd century BCE</td>\n",
       "      <td>-199</td>\n",
       "      <td>-100</td>\n",
       "      <td>Earthenware with slip and pigment</td>\n",
       "      <td>H. 21 in. (53.3 cm); W. 9 3/4 in. (24.8 cm); D...</td>\n",
       "      <td>Charlotte C. and John C. Weber Collection, Gif...</td>\n",
       "      <td>NaN</td>\n",
       "      <td>NaN</td>\n",
       "      <td>NaN</td>\n",
       "      <td>NaN</td>\n",
       "      <td>NaN</td>\n",
       "      <td>NaN</td>\n",
       "      <td>NaN</td>\n",
       "      <td>NaN</td>\n",
       "      <td>NaN</td>\n",
       "      <td>NaN</td>\n",
       "      <td>NaN</td>\n",
       "      <td>Tomb Pottery</td>\n",
       "      <td>NaN</td>\n",
       "      <td>http://www.metmuseum.org/art/collection/search...</td>\n",
       "      <td>https://www.wikidata.org/wiki/Q29383327</td>\n",
       "      <td>NaN</td>\n",
       "      <td>Metropolitan Museum of Art, New York, NY</td>\n",
       "      <td>Women|Dancers</td>\n",
       "      <td>http://vocab.getty.edu/page/aat/300025943|http...</td>\n",
       "      <td>https://www.wikidata.org/wiki/Q467|https://www...</td>\n",
       "    </tr>\n",
       "    <tr>\n",
       "      <th>36172</th>\n",
       "      <td>1974.268.11</td>\n",
       "      <td>True</td>\n",
       "      <td>True</td>\n",
       "      <td>True</td>\n",
       "      <td>42183</td>\n",
       "      <td>207.0</td>\n",
       "      <td>Asian Art</td>\n",
       "      <td>1974.0</td>\n",
       "      <td>Dish</td>\n",
       "      <td>唐 葉形鎏金銀盤|Dish in the shape of a leaf</td>\n",
       "      <td>China</td>\n",
       "      <td>Tang dynasty (618–907)</td>\n",
       "      <td>NaN</td>\n",
       "      <td>NaN</td>\n",
       "      <td>NaN</td>\n",
       "      <td>NaN</td>\n",
       "      <td>NaN</td>\n",
       "      <td>NaN</td>\n",
       "      <td>NaN</td>\n",
       "      <td>NaN</td>\n",
       "      <td>NaN</td>\n",
       "      <td>NaN</td>\n",
       "      <td>NaN</td>\n",
       "      <td>NaN</td>\n",
       "      <td>NaN</td>\n",
       "      <td>NaN</td>\n",
       "      <td>NaN</td>\n",
       "      <td>NaN</td>\n",
       "      <td>late 7th–early 8th century</td>\n",
       "      <td>667</td>\n",
       "      <td>733</td>\n",
       "      <td>Silver with parcel gilding</td>\n",
       "      <td>L. 5 3/4 in. (14.6 cm)</td>\n",
       "      <td>Purchase, Arthur M. Sackler Gift, 1974</td>\n",
       "      <td>NaN</td>\n",
       "      <td>NaN</td>\n",
       "      <td>NaN</td>\n",
       "      <td>NaN</td>\n",
       "      <td>NaN</td>\n",
       "      <td>NaN</td>\n",
       "      <td>NaN</td>\n",
       "      <td>NaN</td>\n",
       "      <td>NaN</td>\n",
       "      <td>NaN</td>\n",
       "      <td>NaN</td>\n",
       "      <td>Metalwork</td>\n",
       "      <td>NaN</td>\n",
       "      <td>http://www.metmuseum.org/art/collection/search...</td>\n",
       "      <td>https://www.wikidata.org/wiki/Q29383329</td>\n",
       "      <td>NaN</td>\n",
       "      <td>Metropolitan Museum of Art, New York, NY</td>\n",
       "      <td>Leaves</td>\n",
       "      <td>http://vocab.getty.edu/page/aat/300011892</td>\n",
       "      <td>https://www.wikidata.org/wiki/Q33971</td>\n",
       "    </tr>\n",
       "    <tr>\n",
       "      <th>36215</th>\n",
       "      <td>14.40.377</td>\n",
       "      <td>True</td>\n",
       "      <td>False</td>\n",
       "      <td>True</td>\n",
       "      <td>42229</td>\n",
       "      <td>200.0</td>\n",
       "      <td>Asian Art</td>\n",
       "      <td>1914.0</td>\n",
       "      <td>Vase</td>\n",
       "      <td>NaN</td>\n",
       "      <td>China</td>\n",
       "      <td>Qing dynasty (1644–1911), Kangxi mark and peri...</td>\n",
       "      <td>NaN</td>\n",
       "      <td>NaN</td>\n",
       "      <td>NaN</td>\n",
       "      <td>NaN</td>\n",
       "      <td>NaN</td>\n",
       "      <td>NaN</td>\n",
       "      <td>NaN</td>\n",
       "      <td>NaN</td>\n",
       "      <td>NaN</td>\n",
       "      <td>NaN</td>\n",
       "      <td>NaN</td>\n",
       "      <td>NaN</td>\n",
       "      <td>NaN</td>\n",
       "      <td>NaN</td>\n",
       "      <td>NaN</td>\n",
       "      <td>NaN</td>\n",
       "      <td>1713–22</td>\n",
       "      <td>1713</td>\n",
       "      <td>1722</td>\n",
       "      <td>Porcelain with peach-bloom glaze (Jingdezhen w...</td>\n",
       "      <td>H. 7 3/4 in. (19.7 cm)</td>\n",
       "      <td>Bequest of Benjamin Altman, 1913</td>\n",
       "      <td>NaN</td>\n",
       "      <td>NaN</td>\n",
       "      <td>NaN</td>\n",
       "      <td>NaN</td>\n",
       "      <td>NaN</td>\n",
       "      <td>NaN</td>\n",
       "      <td>NaN</td>\n",
       "      <td>NaN</td>\n",
       "      <td>NaN</td>\n",
       "      <td>NaN</td>\n",
       "      <td>NaN</td>\n",
       "      <td>Ceramics</td>\n",
       "      <td>NaN</td>\n",
       "      <td>http://www.metmuseum.org/art/collection/search...</td>\n",
       "      <td>https://www.wikidata.org/wiki/Q29383331</td>\n",
       "      <td>NaN</td>\n",
       "      <td>Metropolitan Museum of Art, New York, NY</td>\n",
       "      <td>NaN</td>\n",
       "      <td>NaN</td>\n",
       "      <td>NaN</td>\n",
       "    </tr>\n",
       "    <tr>\n",
       "      <th>36602</th>\n",
       "      <td>65.29.2</td>\n",
       "      <td>True</td>\n",
       "      <td>True</td>\n",
       "      <td>True</td>\n",
       "      <td>42716</td>\n",
       "      <td>206.0</td>\n",
       "      <td>Asian Art</td>\n",
       "      <td>1965.0</td>\n",
       "      <td>Wall painting</td>\n",
       "      <td>元　廣勝寺　藥師佛法會圖壁畫|Buddha of Medicine Bhaishajyagu...</td>\n",
       "      <td>China</td>\n",
       "      <td>Yuan dynasty (1271–1368)</td>\n",
       "      <td>NaN</td>\n",
       "      <td>NaN</td>\n",
       "      <td>NaN</td>\n",
       "      <td>NaN</td>\n",
       "      <td>NaN</td>\n",
       "      <td>NaN</td>\n",
       "      <td>NaN</td>\n",
       "      <td>NaN</td>\n",
       "      <td>NaN</td>\n",
       "      <td>NaN</td>\n",
       "      <td>NaN</td>\n",
       "      <td>NaN</td>\n",
       "      <td>NaN</td>\n",
       "      <td>NaN</td>\n",
       "      <td>NaN</td>\n",
       "      <td>NaN</td>\n",
       "      <td>ca. 1319</td>\n",
       "      <td>1309</td>\n",
       "      <td>1329</td>\n",
       "      <td>Water-based pigment over foundation of clay mi...</td>\n",
       "      <td>H. 24 ft. 8 in. (751.8 cm); W. 49 ft. 7 in. (1...</td>\n",
       "      <td>Gift of Arthur M. Sackler, in honor of his par...</td>\n",
       "      <td>NaN</td>\n",
       "      <td>NaN</td>\n",
       "      <td>NaN</td>\n",
       "      <td>NaN</td>\n",
       "      <td>NaN</td>\n",
       "      <td>NaN</td>\n",
       "      <td>NaN</td>\n",
       "      <td>NaN</td>\n",
       "      <td>NaN</td>\n",
       "      <td>NaN</td>\n",
       "      <td>NaN</td>\n",
       "      <td>Paintings</td>\n",
       "      <td>NaN</td>\n",
       "      <td>http://www.metmuseum.org/art/collection/search...</td>\n",
       "      <td>https://www.wikidata.org/wiki/Q18683181</td>\n",
       "      <td>NaN</td>\n",
       "      <td>Metropolitan Museum of Art, New York, NY</td>\n",
       "      <td>Buddhism|Buddha|Medicine|Bodhisattvas</td>\n",
       "      <td>http://vocab.getty.edu/page/aat/300073738|http...</td>\n",
       "      <td>https://www.wikidata.org/wiki/Q748|https://www...</td>\n",
       "    </tr>\n",
       "    <tr>\n",
       "      <th>42057</th>\n",
       "      <td>1986.266.4</td>\n",
       "      <td>True</td>\n",
       "      <td>True</td>\n",
       "      <td>True</td>\n",
       "      <td>48948</td>\n",
       "      <td>NaN</td>\n",
       "      <td>Asian Art</td>\n",
       "      <td>1986.0</td>\n",
       "      <td>Handscroll</td>\n",
       "      <td>明  吳彬  十六羅漢圖  卷|The Sixteen Luohans</td>\n",
       "      <td>China</td>\n",
       "      <td>Ming dynasty (1368–1644)</td>\n",
       "      <td>NaN</td>\n",
       "      <td>NaN</td>\n",
       "      <td>NaN</td>\n",
       "      <td>1164</td>\n",
       "      <td>Artist</td>\n",
       "      <td></td>\n",
       "      <td>Wu Bin</td>\n",
       "      <td>active ca. 1583–1626</td>\n",
       "      <td></td>\n",
       "      <td>Wu Bin</td>\n",
       "      <td>Chinese</td>\n",
       "      <td>1583</td>\n",
       "      <td>1626</td>\n",
       "      <td>NaN</td>\n",
       "      <td>http://vocab.getty.edu/page/ulan/500328298</td>\n",
       "      <td>https://www.wikidata.org/wiki/Q453832</td>\n",
       "      <td>dated 1591</td>\n",
       "      <td>1591</td>\n",
       "      <td>1591</td>\n",
       "      <td>Handscroll; ink and color on paper</td>\n",
       "      <td>Image: 12 5/8 x 163 9/16 in. (32.1 x 415.4 cm)...</td>\n",
       "      <td>Edward Elliott Family Collection, Gift of Doug...</td>\n",
       "      <td>NaN</td>\n",
       "      <td>NaN</td>\n",
       "      <td>NaN</td>\n",
       "      <td>NaN</td>\n",
       "      <td>NaN</td>\n",
       "      <td>NaN</td>\n",
       "      <td>NaN</td>\n",
       "      <td>NaN</td>\n",
       "      <td>NaN</td>\n",
       "      <td>NaN</td>\n",
       "      <td>NaN</td>\n",
       "      <td>Paintings</td>\n",
       "      <td>NaN</td>\n",
       "      <td>http://www.metmuseum.org/art/collection/search...</td>\n",
       "      <td>https://www.wikidata.org/wiki/Q29383349</td>\n",
       "      <td>NaN</td>\n",
       "      <td>Metropolitan Museum of Art, New York, NY</td>\n",
       "      <td>Men|Buddhism</td>\n",
       "      <td>http://vocab.getty.edu/page/aat/300025928|http...</td>\n",
       "      <td>https://www.wikidata.org/wiki/Q8441|https://ww...</td>\n",
       "    </tr>\n",
       "    <tr>\n",
       "      <th>42236</th>\n",
       "      <td>1979.5a–d</td>\n",
       "      <td>True</td>\n",
       "      <td>True</td>\n",
       "      <td>True</td>\n",
       "      <td>49156</td>\n",
       "      <td>NaN</td>\n",
       "      <td>Asian Art</td>\n",
       "      <td>1979.0</td>\n",
       "      <td>Handscroll</td>\n",
       "      <td>清　王翬等　康熙南巡圖　（卷三: 濟南至泰山）　卷|The Kangxi Emperor's...</td>\n",
       "      <td>China</td>\n",
       "      <td>Qing dynasty (1644–1911)</td>\n",
       "      <td>NaN</td>\n",
       "      <td>NaN</td>\n",
       "      <td>NaN</td>\n",
       "      <td>1163</td>\n",
       "      <td>Artist</td>\n",
       "      <td></td>\n",
       "      <td>Wang Hui</td>\n",
       "      <td>Chinese, 1632–1717</td>\n",
       "      <td>and assistants</td>\n",
       "      <td>Wang Hui</td>\n",
       "      <td>Chinese</td>\n",
       "      <td>1632</td>\n",
       "      <td>1717</td>\n",
       "      <td>NaN</td>\n",
       "      <td>http://vocab.getty.edu/page/ulan/500327902</td>\n",
       "      <td>https://www.wikidata.org/wiki/Q716222</td>\n",
       "      <td>datable to 1698</td>\n",
       "      <td>1698</td>\n",
       "      <td>1698</td>\n",
       "      <td>Handscroll; ink and color on silk</td>\n",
       "      <td>Image: 26 3/4 in. x 45 ft. 8 3/4 in. (67.9 x 1...</td>\n",
       "      <td>Purchase, The Dillon Fund Gift, 1979</td>\n",
       "      <td>NaN</td>\n",
       "      <td>NaN</td>\n",
       "      <td>NaN</td>\n",
       "      <td>NaN</td>\n",
       "      <td>NaN</td>\n",
       "      <td>NaN</td>\n",
       "      <td>NaN</td>\n",
       "      <td>NaN</td>\n",
       "      <td>NaN</td>\n",
       "      <td>NaN</td>\n",
       "      <td>NaN</td>\n",
       "      <td>Paintings</td>\n",
       "      <td>NaN</td>\n",
       "      <td>http://www.metmuseum.org/art/collection/search...</td>\n",
       "      <td>https://www.wikidata.org/wiki/Q22342935</td>\n",
       "      <td>NaN</td>\n",
       "      <td>Metropolitan Museum of Art, New York, NY</td>\n",
       "      <td>Mountains|Landscapes</td>\n",
       "      <td>http://vocab.getty.edu/page/aat/300008795|http...</td>\n",
       "      <td>https://www.wikidata.org/wiki/Q8502|https://ww...</td>\n",
       "    </tr>\n",
       "    <tr>\n",
       "      <th>52571</th>\n",
       "      <td>2001.584a–c</td>\n",
       "      <td>True</td>\n",
       "      <td>True</td>\n",
       "      <td>True</td>\n",
       "      <td>60870</td>\n",
       "      <td>NaN</td>\n",
       "      <td>Asian Art</td>\n",
       "      <td>2001.0</td>\n",
       "      <td>Sutra box</td>\n",
       "      <td>明永樂    紅漆戧金雲龍紋經箱|Sutra box with dragons amid c...</td>\n",
       "      <td>China</td>\n",
       "      <td>Ming dynasty (1368–1644), Yongle period (1403–24)</td>\n",
       "      <td>NaN</td>\n",
       "      <td>NaN</td>\n",
       "      <td>NaN</td>\n",
       "      <td>NaN</td>\n",
       "      <td>NaN</td>\n",
       "      <td>NaN</td>\n",
       "      <td>NaN</td>\n",
       "      <td>NaN</td>\n",
       "      <td>NaN</td>\n",
       "      <td>NaN</td>\n",
       "      <td>NaN</td>\n",
       "      <td>NaN</td>\n",
       "      <td>NaN</td>\n",
       "      <td>NaN</td>\n",
       "      <td>NaN</td>\n",
       "      <td>NaN</td>\n",
       "      <td>NaN</td>\n",
       "      <td>1403</td>\n",
       "      <td>1424</td>\n",
       "      <td>Red lacquer with incised decoration inlaid wit...</td>\n",
       "      <td>H. 5 1/2 in. (14 cm); W. 5 in. (12.7 cm); L. 1...</td>\n",
       "      <td>Purchase, Sir Joseph Hotung and The Vincent As...</td>\n",
       "      <td>NaN</td>\n",
       "      <td>NaN</td>\n",
       "      <td>NaN</td>\n",
       "      <td>NaN</td>\n",
       "      <td>NaN</td>\n",
       "      <td>NaN</td>\n",
       "      <td>NaN</td>\n",
       "      <td>NaN</td>\n",
       "      <td>NaN</td>\n",
       "      <td>NaN</td>\n",
       "      <td>NaN</td>\n",
       "      <td>Lacquer</td>\n",
       "      <td>NaN</td>\n",
       "      <td>http://www.metmuseum.org/art/collection/search...</td>\n",
       "      <td>https://www.wikidata.org/wiki/Q29383364</td>\n",
       "      <td>NaN</td>\n",
       "      <td>Metropolitan Museum of Art, New York, NY</td>\n",
       "      <td>Dragons</td>\n",
       "      <td>http://vocab.getty.edu/page/aat/300375726</td>\n",
       "      <td>https://www.wikidata.org/wiki/Q7559</td>\n",
       "    </tr>\n",
       "    <tr>\n",
       "      <th>64960</th>\n",
       "      <td>24.72.1–.14</td>\n",
       "      <td>True</td>\n",
       "      <td>False</td>\n",
       "      <td>True</td>\n",
       "      <td>76974</td>\n",
       "      <td>NaN</td>\n",
       "      <td>Asian Art</td>\n",
       "      <td>1924.0</td>\n",
       "      <td>Altar set</td>\n",
       "      <td>NaN</td>\n",
       "      <td>China</td>\n",
       "      <td>Shang dynasty–Western Zhou dynasty (1046–771 B...</td>\n",
       "      <td>NaN</td>\n",
       "      <td>NaN</td>\n",
       "      <td>NaN</td>\n",
       "      <td>NaN</td>\n",
       "      <td>NaN</td>\n",
       "      <td>NaN</td>\n",
       "      <td>NaN</td>\n",
       "      <td>NaN</td>\n",
       "      <td>NaN</td>\n",
       "      <td>NaN</td>\n",
       "      <td>NaN</td>\n",
       "      <td>NaN</td>\n",
       "      <td>NaN</td>\n",
       "      <td>NaN</td>\n",
       "      <td>NaN</td>\n",
       "      <td>NaN</td>\n",
       "      <td>late 11th century BCE</td>\n",
       "      <td>-1035</td>\n",
       "      <td>-1000</td>\n",
       "      <td>Bronze</td>\n",
       "      <td>Overall (table): H. 7 1/8 in. (18.1 cm); W. 18...</td>\n",
       "      <td>Munsey Fund, 1931</td>\n",
       "      <td>NaN</td>\n",
       "      <td>NaN</td>\n",
       "      <td>NaN</td>\n",
       "      <td>NaN</td>\n",
       "      <td>NaN</td>\n",
       "      <td>NaN</td>\n",
       "      <td>NaN</td>\n",
       "      <td>NaN</td>\n",
       "      <td>NaN</td>\n",
       "      <td>NaN</td>\n",
       "      <td>NaN</td>\n",
       "      <td>Metalwork</td>\n",
       "      <td>NaN</td>\n",
       "      <td>http://www.metmuseum.org/art/collection/search...</td>\n",
       "      <td>https://www.wikidata.org/wiki/Q29383381</td>\n",
       "      <td>NaN</td>\n",
       "      <td>Metropolitan Museum of Art, New York, NY</td>\n",
       "      <td>NaN</td>\n",
       "      <td>NaN</td>\n",
       "      <td>NaN</td>\n",
       "    </tr>\n",
       "  </tbody>\n",
       "</table>\n",
       "</div>"
      ],
      "text/plain": [
       "      Object Number  Is Highlight  Is Timeline Work  Is Public Domain  \\\n",
       "30457   1981.4.1a–o          True             False              True   \n",
       "33815   1985.214.99          True              True              True   \n",
       "33827      18.56.36          True              True              True   \n",
       "33842      37.191.1          True              True              True   \n",
       "33844      1981.276          True              True              True   \n",
       "33903      1989.140          True              True              True   \n",
       "34025       1977.78          True              True              True   \n",
       "34039    1973.120.1          True              True              True   \n",
       "34042    1989.363.4          True              True              True   \n",
       "34057      1981.278          True              True              True   \n",
       "34158        41.138          True              True              True   \n",
       "34181    1973.120.6          True              True              True   \n",
       "36151   38.158.1a–n          True              True              True   \n",
       "36152        19.186          True              True              True   \n",
       "36167   1992.165.19          True              True              True   \n",
       "36172   1974.268.11          True              True              True   \n",
       "36215     14.40.377          True             False              True   \n",
       "36602       65.29.2          True              True              True   \n",
       "42057    1986.266.4          True              True              True   \n",
       "42236     1979.5a–d          True              True              True   \n",
       "52571   2001.584a–c          True              True              True   \n",
       "64960   24.72.1–.14          True             False              True   \n",
       "\n",
       "       Object ID Gallery Number Department AccessionYear     Object Name  \\\n",
       "30457      36131            NaN  Asian Art        1981.0           Album   \n",
       "33815      39637            NaN  Asian Art        1985.0         Pendant   \n",
       "33827      39649          204.0  Asian Art        1918.0            Bowl   \n",
       "33842      39666          202.0  Asian Art        1937.0             Jar   \n",
       "33844      39668            NaN  Asian Art        1981.0      Handscroll   \n",
       "33903      39738            NaN  Asian Art        1989.0         Mandala   \n",
       "34025      39901            NaN  Asian Art        1977.0      Handscroll   \n",
       "34039      39915            NaN  Asian Art        1973.0      Handscroll   \n",
       "34042      39918            NaN  Asian Art        1989.0      Handscroll   \n",
       "34057      39936            NaN  Asian Art        1981.0      Handscroll   \n",
       "34158      40055            NaN  Asian Art        1941.0  Hanging scroll   \n",
       "34181      40081            NaN  Asian Art        1973.0      Handscroll   \n",
       "36151      42162          207.0  Asian Art        1938.0      Altarpiece   \n",
       "36152      42163          208.0  Asian Art        1919.0          Figure   \n",
       "36167      42178          207.0  Asian Art        1992.0          Figure   \n",
       "36172      42183          207.0  Asian Art        1974.0            Dish   \n",
       "36215      42229          200.0  Asian Art        1914.0            Vase   \n",
       "36602      42716          206.0  Asian Art        1965.0   Wall painting   \n",
       "42057      48948            NaN  Asian Art        1986.0      Handscroll   \n",
       "42236      49156            NaN  Asian Art        1979.0      Handscroll   \n",
       "52571      60870            NaN  Asian Art        2001.0       Sutra box   \n",
       "64960      76974            NaN  Asian Art        1924.0       Altar set   \n",
       "\n",
       "                                                   Title Culture  \\\n",
       "30457  清   龔賢   墨筆山水詩畫   冊|清　龔賢　自題 山水十六開   冊|Landscap...   China   \n",
       "33815                   戰國 絞絲龍形玉佩|Knotted dragon pendant   China   \n",
       "33827                                                NaN   China   \n",
       "33842                                                NaN   China   \n",
       "33844  北宋    郭熙    樹色平遠圖    卷  |Old Trees, Level Dist...   China   \n",
       "33903   元 緙絲 須彌山曼陀羅|Cosmological Mandala with Mount Meru   China   \n",
       "34025                    唐 韓幹 照夜白圖 卷|Night-Shining White   China   \n",
       "34039                      北宋 傳屈鼎 夏山圖 卷|Summer Mountains   China   \n",
       "34042  北宋 黃庭堅 草書廉頗藺相如傳 卷|Biographies of Lian Po and L...   China   \n",
       "34057               北宋   徽宗   竹禽圖   卷|Finches and bamboo   China   \n",
       "34158     南宋 佚名 明皇幸蜀圖 軸|Emperor Xuanzong's Flight to Shu   China   \n",
       "34181            元　錢選　王羲之觀鵝圖　卷|Wang Xizhi watching geese   China   \n",
       "36151  北魏正光五年 鎏金青銅彌勒佛像|Buddha Maitreya (Mile) Altarpiece   China   \n",
       "36152           唐 彩繪塗金夾紵漆阿彌陀佛像|Buddha, probably Amitabha   China   \n",
       "36167                             西漢 彩繪陶舞俑|Female Dancer   China   \n",
       "36172               唐 葉形鎏金銀盤|Dish in the shape of a leaf   China   \n",
       "36215                                                NaN   China   \n",
       "36602  元　廣勝寺　藥師佛法會圖壁畫|Buddha of Medicine Bhaishajyagu...   China   \n",
       "42057                明  吳彬  十六羅漢圖  卷|The Sixteen Luohans   China   \n",
       "42236  清　王翬等　康熙南巡圖　（卷三: 濟南至泰山）　卷|The Kangxi Emperor's...   China   \n",
       "52571  明永樂    紅漆戧金雲龍紋經箱|Sutra box with dragons amid c...   China   \n",
       "64960                                                NaN   China   \n",
       "\n",
       "                                                  Period Dynasty Reign  \\\n",
       "30457                           Qing dynasty (1644–1911)     NaN   NaN   \n",
       "33815                Eastern Zhou dynasty (770–256 B.C.)     NaN   NaN   \n",
       "33827                           Five Dynasties (907–960)     NaN   NaN   \n",
       "33842  Ming dynasty (1368–1644), Xuande mark and peri...     NaN   NaN   \n",
       "33844                   Northern Song dynasty (960–1127)     NaN   NaN   \n",
       "33903                           Yuan dynasty (1271–1368)     NaN   NaN   \n",
       "34025                             Tang dynasty (618–907)     NaN   NaN   \n",
       "34039                   Northern Song dynasty (960–1127)     NaN   NaN   \n",
       "34042                   Northern Song dynasty (960–1127)     NaN   NaN   \n",
       "34057                   Northern Song dynasty (960–1127)     NaN   NaN   \n",
       "34158                  Southern Song dynasty (1127–1279)     NaN   NaN   \n",
       "34181                           Yuan dynasty (1271–1368)     NaN   NaN   \n",
       "36151                     Northern Wei dynasty (386–534)     NaN   NaN   \n",
       "36152                             Tang dynasty (618–907)     NaN   NaN   \n",
       "36167              Western Han dynasty (206 B.C.–A.D. 9)     NaN   NaN   \n",
       "36172                             Tang dynasty (618–907)     NaN   NaN   \n",
       "36215  Qing dynasty (1644–1911), Kangxi mark and peri...     NaN   NaN   \n",
       "36602                           Yuan dynasty (1271–1368)     NaN   NaN   \n",
       "42057                           Ming dynasty (1368–1644)     NaN   NaN   \n",
       "42236                           Qing dynasty (1644–1911)     NaN   NaN   \n",
       "52571  Ming dynasty (1368–1644), Yongle period (1403–24)     NaN   NaN   \n",
       "64960  Shang dynasty–Western Zhou dynasty (1046–771 B...     NaN   NaN   \n",
       "\n",
       "      Portfolio Constituent ID   Artist Role  Artist Prefix  \\\n",
       "30457       NaN           1170        Artist                  \n",
       "33815       NaN            NaN           NaN            NaN   \n",
       "33827       NaN            NaN           NaN            NaN   \n",
       "33842       NaN            NaN           NaN            NaN   \n",
       "33844       NaN           1149        Artist                  \n",
       "33903       NaN            NaN           NaN            NaN   \n",
       "34025       NaN           1157        Artist                  \n",
       "34039       NaN           1157        Artist  Attributed to   \n",
       "34042       NaN           1158  Calligrapher                  \n",
       "34057       NaN           1158        Artist                  \n",
       "34158       NaN           3750        Artist                  \n",
       "34181       NaN           1166        Artist                  \n",
       "36151       NaN            NaN           NaN            NaN   \n",
       "36152       NaN            NaN           NaN            NaN   \n",
       "36167       NaN            NaN           NaN            NaN   \n",
       "36172       NaN            NaN           NaN            NaN   \n",
       "36215       NaN            NaN           NaN            NaN   \n",
       "36602       NaN            NaN           NaN            NaN   \n",
       "42057       NaN           1164        Artist                  \n",
       "42236       NaN           1163        Artist                  \n",
       "52571       NaN            NaN           NaN            NaN   \n",
       "64960       NaN            NaN           NaN            NaN   \n",
       "\n",
       "       Artist Display Name                 Artist Display Bio  \\\n",
       "30457            Gong Xian                 Chinese, 1619–1689   \n",
       "33815                  NaN                                NaN   \n",
       "33827                  NaN                                NaN   \n",
       "33842                  NaN                                NaN   \n",
       "33844               Guo Xi         Chinese, ca. 1000–ca. 1090   \n",
       "33903                  NaN                                NaN   \n",
       "34025              Han Gan        Chinese, active ca. 742–756   \n",
       "34039              Qu Ding  Chinese, active ca. 1023–ca. 1056   \n",
       "34042       Huang Tingjian                 Chinese, 1045–1105   \n",
       "34057      Emperor Huizong     Chinese, 1082–1135; r. 1100–25   \n",
       "34158  Unidentified artist                                      \n",
       "34181            Qian Xuan                 Chinese, 1239–1301   \n",
       "36151                  NaN                                NaN   \n",
       "36152                  NaN                                NaN   \n",
       "36167                  NaN                                NaN   \n",
       "36172                  NaN                                NaN   \n",
       "36215                  NaN                                NaN   \n",
       "36602                  NaN                                NaN   \n",
       "42057               Wu Bin               active ca. 1583–1626   \n",
       "42236             Wang Hui                 Chinese, 1632–1717   \n",
       "52571                  NaN                                NaN   \n",
       "64960                  NaN                                NaN   \n",
       "\n",
       "                          Artist Suffix    Artist Alpha Sort  \\\n",
       "30457                                              GONG XIAN   \n",
       "33815                               NaN                  NaN   \n",
       "33827                               NaN                  NaN   \n",
       "33842                               NaN                  NaN   \n",
       "33844                                                 Guo Xi   \n",
       "33903                               NaN                  NaN   \n",
       "34025                                                Han Gan   \n",
       "34039                                                QU DING   \n",
       "34042                                         HUANG TINGJIAN   \n",
       "34057                                       Huizong, Emperor   \n",
       "34158  Chinese, active mid-12th century  Unidentified artist   \n",
       "34181                                              QIAN XUAN   \n",
       "36151                               NaN                  NaN   \n",
       "36152                               NaN                  NaN   \n",
       "36167                               NaN                  NaN   \n",
       "36172                               NaN                  NaN   \n",
       "36215                               NaN                  NaN   \n",
       "36602                               NaN                  NaN   \n",
       "42057                                                 Wu Bin   \n",
       "42236                    and assistants             Wang Hui   \n",
       "52571                               NaN                  NaN   \n",
       "64960                               NaN                  NaN   \n",
       "\n",
       "      Artist Nationality Artist Begin Date Artist End Date Artist Gender  \\\n",
       "30457            Chinese        1619            1689                 NaN   \n",
       "33815                NaN               NaN             NaN           NaN   \n",
       "33827                NaN               NaN             NaN           NaN   \n",
       "33842                NaN               NaN             NaN           NaN   \n",
       "33844            Chinese        1000            1090                 NaN   \n",
       "33903                NaN               NaN             NaN           NaN   \n",
       "34025            Chinese        0742            0756                 NaN   \n",
       "34039            Chinese        0950            1150                 NaN   \n",
       "34042            Chinese        1045            1105                 NaN   \n",
       "34057            Chinese        1082            1135                 NaN   \n",
       "34158                                                                NaN   \n",
       "34181            Chinese        1239            1301                 NaN   \n",
       "36151                NaN               NaN             NaN           NaN   \n",
       "36152                NaN               NaN             NaN           NaN   \n",
       "36167                NaN               NaN             NaN           NaN   \n",
       "36172                NaN               NaN             NaN           NaN   \n",
       "36215                NaN               NaN             NaN           NaN   \n",
       "36602                NaN               NaN             NaN           NaN   \n",
       "42057            Chinese        1583            1626                 NaN   \n",
       "42236            Chinese        1632            1717                 NaN   \n",
       "52571                NaN               NaN             NaN           NaN   \n",
       "64960                NaN               NaN             NaN           NaN   \n",
       "\n",
       "                                  Artist ULAN URL  \\\n",
       "30457  http://vocab.getty.edu/page/ulan/500125754   \n",
       "33815                                         NaN   \n",
       "33827                                         NaN   \n",
       "33842                                         NaN   \n",
       "33844  http://vocab.getty.edu/page/ulan/500125758   \n",
       "33903                                         NaN   \n",
       "34025  http://vocab.getty.edu/page/ulan/500125882   \n",
       "34039  http://vocab.getty.edu/page/ulan/500125182   \n",
       "34042  http://vocab.getty.edu/page/ulan/500319755   \n",
       "34057  http://vocab.getty.edu/page/ulan/500334306   \n",
       "34158                                         NaN   \n",
       "34181  http://vocab.getty.edu/page/ulan/500324493   \n",
       "36151                                         NaN   \n",
       "36152                                         NaN   \n",
       "36167                                         NaN   \n",
       "36172                                         NaN   \n",
       "36215                                         NaN   \n",
       "36602                                         NaN   \n",
       "42057  http://vocab.getty.edu/page/ulan/500328298   \n",
       "42236  http://vocab.getty.edu/page/ulan/500327902   \n",
       "52571                                         NaN   \n",
       "64960                                         NaN   \n",
       "\n",
       "                          Artist Wikidata URL  \\\n",
       "30457  https://www.wikidata.org/wiki/Q3110482   \n",
       "33815                                     NaN   \n",
       "33827                                     NaN   \n",
       "33842                                     NaN   \n",
       "33844   https://www.wikidata.org/wiki/Q536645   \n",
       "33903                                     NaN   \n",
       "34025   https://www.wikidata.org/wiki/Q561952   \n",
       "34039  https://www.wikidata.org/wiki/Q7268210   \n",
       "34042   https://www.wikidata.org/wiki/Q709460   \n",
       "34057     https://www.wikidata.org/wiki/Q7486   \n",
       "34158                                     NaN   \n",
       "34181   https://www.wikidata.org/wiki/Q951585   \n",
       "36151                                     NaN   \n",
       "36152                                     NaN   \n",
       "36167                                     NaN   \n",
       "36172                                     NaN   \n",
       "36215                                     NaN   \n",
       "36602                                     NaN   \n",
       "42057   https://www.wikidata.org/wiki/Q453832   \n",
       "42236   https://www.wikidata.org/wiki/Q716222   \n",
       "52571                                     NaN   \n",
       "64960                                     NaN   \n",
       "\n",
       "                                    Object Date  Object Begin Date  \\\n",
       "30457                                      1688               1688   \n",
       "33815                           3rd century BCE               -299   \n",
       "33827                              10th century                900   \n",
       "33842                        early 15th century               1400   \n",
       "33844                                  ca. 1080               1070   \n",
       "33903                              14th century               1300   \n",
       "34025                                   ca. 750                740   \n",
       "34039                                  ca. 1050               1040   \n",
       "34042                                  ca. 1095               1085   \n",
       "34057                        early 12th century               1100   \n",
       "34158                          mid-12th century               1134   \n",
       "34181                                  ca. 1295               1285   \n",
       "36151  dated 524 (5th year of Zhengguang reign)                524   \n",
       "36152                         early 7th century                600   \n",
       "36167                           2nd century BCE               -199   \n",
       "36172                late 7th–early 8th century                667   \n",
       "36215                                   1713–22               1713   \n",
       "36602                                  ca. 1319               1309   \n",
       "42057                                dated 1591               1591   \n",
       "42236                           datable to 1698               1698   \n",
       "52571                                       NaN               1403   \n",
       "64960                     late 11th century BCE              -1035   \n",
       "\n",
       "       Object End Date                                             Medium  \\\n",
       "30457             1688  Fifteen leaves from an album (1980.516.2a–c an...   \n",
       "33815              -99                                    Jade (nephrite)   \n",
       "33827              960  Stoneware with carved and incised decoration u...   \n",
       "33842             1433  Porcelain painted with cobalt blue under trans...   \n",
       "33844             1090                  Handscroll; ink and color on silk   \n",
       "33903             1368                               Silk tapestry (kesi)   \n",
       "34025              760                           Handscroll; ink on paper   \n",
       "34039             1060                  Handscroll; ink and color on silk   \n",
       "34042             1105                           Handscroll; ink on paper   \n",
       "34057             1127                  Handscroll; ink and color on silk   \n",
       "34158             1166       Hanging scroll; ink, color, and gold on silk   \n",
       "34181             1305          Handscroll; ink, color, and gold on paper   \n",
       "36151              524                                        Gilt bronze   \n",
       "36152              633    Dry lacquer with polychrome pigment and gilding   \n",
       "36167             -100                  Earthenware with slip and pigment   \n",
       "36172              733                         Silver with parcel gilding   \n",
       "36215             1722  Porcelain with peach-bloom glaze (Jingdezhen w...   \n",
       "36602             1329  Water-based pigment over foundation of clay mi...   \n",
       "42057             1591                 Handscroll; ink and color on paper   \n",
       "42236             1698                  Handscroll; ink and color on silk   \n",
       "52571             1424  Red lacquer with incised decoration inlaid wit...   \n",
       "64960            -1000                                             Bronze   \n",
       "\n",
       "                                              Dimensions  \\\n",
       "30457                 10 3/4 x 16 1/8 in. (27.3 x 41 cm)   \n",
       "33815      H. 3 1/8 in. (7.9 cm); W. 2 1/16 in. (5.2 cm)   \n",
       "33827  H. 4 1/2 in. (11 .4 cm); Diam. 10 5/8 in. (27 cm)   \n",
       "33842        H. 19 in. (48.3 cm); Diam. 19 in. (48.3 cm)   \n",
       "33844  Image: 14 × 41 1/8 in. (35.6 × 104.4 cm)\\r\\nOv...   \n",
       "33903  Overall: 33 x 33 in. (83.8 x 83.8cm)\\r\\nMount:...   \n",
       "34025  Image: 12 1/8 x 13 3/8 in. (30.8 x 34 cm)\\r\\nO...   \n",
       "34039  Image: 17 7/8 × 45 3/8 in. (45.4 × 115.3 cm)\\r...   \n",
       "34042  Image: 13 1/4 in. × 60 ft. 4 1/2 in. (33.7 × 1...   \n",
       "34057  Image: 13 1/4 × 21 13/16 in. (33.7 × 55.4 cm)\\...   \n",
       "34158  Image: 44 3/4 × 32 5/8 in. (113.7 × 82.9 cm)\\r...   \n",
       "34181  Image: 9 1/8 x 36 1/2 in. (23.2 x 92.7 cm)\\r\\n...   \n",
       "36151  H. 30 1/4 (76.8 cm); W. 16 in. (40.6 cm); D. 9...   \n",
       "36152  H. 38 in. (96.5 cm); W. 27 in. (68.6 cm); D. 2...   \n",
       "36167  H. 21 in. (53.3 cm); W. 9 3/4 in. (24.8 cm); D...   \n",
       "36172                             L. 5 3/4 in. (14.6 cm)   \n",
       "36215                             H. 7 3/4 in. (19.7 cm)   \n",
       "36602  H. 24 ft. 8 in. (751.8 cm); W. 49 ft. 7 in. (1...   \n",
       "42057  Image: 12 5/8 x 163 9/16 in. (32.1 x 415.4 cm)...   \n",
       "42236  Image: 26 3/4 in. x 45 ft. 8 3/4 in. (67.9 x 1...   \n",
       "52571  H. 5 1/2 in. (14 cm); W. 5 in. (12.7 cm); L. 1...   \n",
       "64960  Overall (table): H. 7 1/8 in. (18.1 cm); W. 18...   \n",
       "\n",
       "                                             Credit Line Geography Type City  \\\n",
       "30457                       Gift of Douglas Dillon, 1981            NaN  NaN   \n",
       "33815           Gift of Ernest Erickson Foundation, 1985            NaN  NaN   \n",
       "33827                                  Rogers Fund, 1918            NaN  NaN   \n",
       "33842                        Gift of Robert E. Tod, 1937            NaN  NaN   \n",
       "33844  Gift of John M. Crawford Jr., in honor of Doug...            NaN  NaN   \n",
       "33903  Purchase, Fletcher Fund and Joseph E. Hotung a...            NaN  NaN   \n",
       "34025               Purchase, The Dillon Fund Gift, 1977            NaN  NaN   \n",
       "34039  Ex coll.: C. C. Wang Family, Gift of The Dillo...            NaN  NaN   \n",
       "34042              Bequest of John M. Crawford Jr., 1988            NaN  NaN   \n",
       "34057  John M. Crawford Jr. Collection, Purchase, Dou...            NaN  NaN   \n",
       "34158                                  Rogers Fund, 1941            NaN  NaN   \n",
       "34181  Ex coll.: C. C. Wang Family, Gift of The Dillo...            NaN  NaN   \n",
       "36151                                  Rogers Fund, 1938            NaN  NaN   \n",
       "36152                                  Rogers Fund, 1919            NaN  NaN   \n",
       "36167  Charlotte C. and John C. Weber Collection, Gif...            NaN  NaN   \n",
       "36172             Purchase, Arthur M. Sackler Gift, 1974            NaN  NaN   \n",
       "36215                   Bequest of Benjamin Altman, 1913            NaN  NaN   \n",
       "36602  Gift of Arthur M. Sackler, in honor of his par...            NaN  NaN   \n",
       "42057  Edward Elliott Family Collection, Gift of Doug...            NaN  NaN   \n",
       "42236               Purchase, The Dillon Fund Gift, 1979            NaN  NaN   \n",
       "52571  Purchase, Sir Joseph Hotung and The Vincent As...            NaN  NaN   \n",
       "64960                                  Munsey Fund, 1931            NaN  NaN   \n",
       "\n",
       "      State County Country Region Subregion Locale Locus Excavation River  \\\n",
       "30457   NaN    NaN     NaN    NaN       NaN    NaN   NaN        NaN   NaN   \n",
       "33815   NaN    NaN     NaN    NaN       NaN    NaN   NaN        NaN   NaN   \n",
       "33827   NaN    NaN     NaN    NaN       NaN    NaN   NaN        NaN   NaN   \n",
       "33842   NaN    NaN     NaN    NaN       NaN    NaN   NaN        NaN   NaN   \n",
       "33844   NaN    NaN     NaN    NaN       NaN    NaN   NaN        NaN   NaN   \n",
       "33903   NaN    NaN     NaN    NaN       NaN    NaN   NaN        NaN   NaN   \n",
       "34025   NaN    NaN     NaN    NaN       NaN    NaN   NaN        NaN   NaN   \n",
       "34039   NaN    NaN     NaN    NaN       NaN    NaN   NaN        NaN   NaN   \n",
       "34042   NaN    NaN     NaN    NaN       NaN    NaN   NaN        NaN   NaN   \n",
       "34057   NaN    NaN     NaN    NaN       NaN    NaN   NaN        NaN   NaN   \n",
       "34158   NaN    NaN     NaN    NaN       NaN    NaN   NaN        NaN   NaN   \n",
       "34181   NaN    NaN     NaN    NaN       NaN    NaN   NaN        NaN   NaN   \n",
       "36151   NaN    NaN     NaN    NaN       NaN    NaN   NaN        NaN   NaN   \n",
       "36152   NaN    NaN     NaN    NaN       NaN    NaN   NaN        NaN   NaN   \n",
       "36167   NaN    NaN     NaN    NaN       NaN    NaN   NaN        NaN   NaN   \n",
       "36172   NaN    NaN     NaN    NaN       NaN    NaN   NaN        NaN   NaN   \n",
       "36215   NaN    NaN     NaN    NaN       NaN    NaN   NaN        NaN   NaN   \n",
       "36602   NaN    NaN     NaN    NaN       NaN    NaN   NaN        NaN   NaN   \n",
       "42057   NaN    NaN     NaN    NaN       NaN    NaN   NaN        NaN   NaN   \n",
       "42236   NaN    NaN     NaN    NaN       NaN    NaN   NaN        NaN   NaN   \n",
       "52571   NaN    NaN     NaN    NaN       NaN    NaN   NaN        NaN   NaN   \n",
       "64960   NaN    NaN     NaN    NaN       NaN    NaN   NaN        NaN   NaN   \n",
       "\n",
       "            Classification Rights and Reproduction  \\\n",
       "30457            Paintings                     NaN   \n",
       "33815                 Jade                     NaN   \n",
       "33827             Ceramics                     NaN   \n",
       "33842             Ceramics                     NaN   \n",
       "33844            Paintings                     NaN   \n",
       "33903  Textiles-Tapestries                     NaN   \n",
       "34025            Paintings                     NaN   \n",
       "34039            Paintings                     NaN   \n",
       "34042          Calligraphy                     NaN   \n",
       "34057            Paintings                     NaN   \n",
       "34158            Paintings                     NaN   \n",
       "34181            Paintings                     NaN   \n",
       "36151            Sculpture                     NaN   \n",
       "36152            Sculpture                     NaN   \n",
       "36167         Tomb Pottery                     NaN   \n",
       "36172            Metalwork                     NaN   \n",
       "36215             Ceramics                     NaN   \n",
       "36602            Paintings                     NaN   \n",
       "42057            Paintings                     NaN   \n",
       "42236            Paintings                     NaN   \n",
       "52571              Lacquer                     NaN   \n",
       "64960            Metalwork                     NaN   \n",
       "\n",
       "                                           Link Resource  \\\n",
       "30457  http://www.metmuseum.org/art/collection/search...   \n",
       "33815  http://www.metmuseum.org/art/collection/search...   \n",
       "33827  http://www.metmuseum.org/art/collection/search...   \n",
       "33842  http://www.metmuseum.org/art/collection/search...   \n",
       "33844  http://www.metmuseum.org/art/collection/search...   \n",
       "33903  http://www.metmuseum.org/art/collection/search...   \n",
       "34025  http://www.metmuseum.org/art/collection/search...   \n",
       "34039  http://www.metmuseum.org/art/collection/search...   \n",
       "34042  http://www.metmuseum.org/art/collection/search...   \n",
       "34057  http://www.metmuseum.org/art/collection/search...   \n",
       "34158  http://www.metmuseum.org/art/collection/search...   \n",
       "34181  http://www.metmuseum.org/art/collection/search...   \n",
       "36151  http://www.metmuseum.org/art/collection/search...   \n",
       "36152  http://www.metmuseum.org/art/collection/search...   \n",
       "36167  http://www.metmuseum.org/art/collection/search...   \n",
       "36172  http://www.metmuseum.org/art/collection/search...   \n",
       "36215  http://www.metmuseum.org/art/collection/search...   \n",
       "36602  http://www.metmuseum.org/art/collection/search...   \n",
       "42057  http://www.metmuseum.org/art/collection/search...   \n",
       "42236  http://www.metmuseum.org/art/collection/search...   \n",
       "52571  http://www.metmuseum.org/art/collection/search...   \n",
       "64960  http://www.metmuseum.org/art/collection/search...   \n",
       "\n",
       "                           Object Wikidata URL  Metadata Date  \\\n",
       "30457  https://www.wikidata.org/wiki/Q29383237            NaN   \n",
       "33815  https://www.wikidata.org/wiki/Q29383288            NaN   \n",
       "33827  https://www.wikidata.org/wiki/Q29383290            NaN   \n",
       "33842  https://www.wikidata.org/wiki/Q29383294            NaN   \n",
       "33844  https://www.wikidata.org/wiki/Q29383298            NaN   \n",
       "33903  https://www.wikidata.org/wiki/Q29383306            NaN   \n",
       "34025  https://www.wikidata.org/wiki/Q28092249            NaN   \n",
       "34039  https://www.wikidata.org/wiki/Q29383308            NaN   \n",
       "34042  https://www.wikidata.org/wiki/Q29383310            NaN   \n",
       "34057  https://www.wikidata.org/wiki/Q29383312            NaN   \n",
       "34158  https://www.wikidata.org/wiki/Q29383316            NaN   \n",
       "34181  https://www.wikidata.org/wiki/Q29383319            NaN   \n",
       "36151  https://www.wikidata.org/wiki/Q29383322            NaN   \n",
       "36152  https://www.wikidata.org/wiki/Q29383324            NaN   \n",
       "36167  https://www.wikidata.org/wiki/Q29383327            NaN   \n",
       "36172  https://www.wikidata.org/wiki/Q29383329            NaN   \n",
       "36215  https://www.wikidata.org/wiki/Q29383331            NaN   \n",
       "36602  https://www.wikidata.org/wiki/Q18683181            NaN   \n",
       "42057  https://www.wikidata.org/wiki/Q29383349            NaN   \n",
       "42236  https://www.wikidata.org/wiki/Q22342935            NaN   \n",
       "52571  https://www.wikidata.org/wiki/Q29383364            NaN   \n",
       "64960  https://www.wikidata.org/wiki/Q29383381            NaN   \n",
       "\n",
       "                                     Repository  \\\n",
       "30457  Metropolitan Museum of Art, New York, NY   \n",
       "33815  Metropolitan Museum of Art, New York, NY   \n",
       "33827  Metropolitan Museum of Art, New York, NY   \n",
       "33842  Metropolitan Museum of Art, New York, NY   \n",
       "33844  Metropolitan Museum of Art, New York, NY   \n",
       "33903  Metropolitan Museum of Art, New York, NY   \n",
       "34025  Metropolitan Museum of Art, New York, NY   \n",
       "34039  Metropolitan Museum of Art, New York, NY   \n",
       "34042  Metropolitan Museum of Art, New York, NY   \n",
       "34057  Metropolitan Museum of Art, New York, NY   \n",
       "34158  Metropolitan Museum of Art, New York, NY   \n",
       "34181  Metropolitan Museum of Art, New York, NY   \n",
       "36151  Metropolitan Museum of Art, New York, NY   \n",
       "36152  Metropolitan Museum of Art, New York, NY   \n",
       "36167  Metropolitan Museum of Art, New York, NY   \n",
       "36172  Metropolitan Museum of Art, New York, NY   \n",
       "36215  Metropolitan Museum of Art, New York, NY   \n",
       "36602  Metropolitan Museum of Art, New York, NY   \n",
       "42057  Metropolitan Museum of Art, New York, NY   \n",
       "42236  Metropolitan Museum of Art, New York, NY   \n",
       "52571  Metropolitan Museum of Art, New York, NY   \n",
       "64960  Metropolitan Museum of Art, New York, NY   \n",
       "\n",
       "                                        Tags  \\\n",
       "30457                      Poetry|Landscapes   \n",
       "33815                                Dragons   \n",
       "33827                                Dragons   \n",
       "33842                                Dragons   \n",
       "33844                       Trees|Landscapes   \n",
       "33903                              Mountains   \n",
       "34025                                 Horses   \n",
       "34039                   Mountains|Landscapes   \n",
       "34042                            Calligraphy   \n",
       "34057                           Birds|Bamboo   \n",
       "34158                  Men|Landscapes|Horses   \n",
       "34181                          Pavilions|Men   \n",
       "36151               Buddhism|Buddha|Maitreya   \n",
       "36152                        Buddhism|Buddha   \n",
       "36167                          Women|Dancers   \n",
       "36172                                 Leaves   \n",
       "36215                                    NaN   \n",
       "36602  Buddhism|Buddha|Medicine|Bodhisattvas   \n",
       "42057                           Men|Buddhism   \n",
       "42236                   Mountains|Landscapes   \n",
       "52571                                Dragons   \n",
       "64960                                    NaN   \n",
       "\n",
       "                                            Tags AAT URL  \\\n",
       "30457  http://vocab.getty.edu/page/aat/300055931|http...   \n",
       "33815          http://vocab.getty.edu/page/aat/300375726   \n",
       "33827          http://vocab.getty.edu/page/aat/300375726   \n",
       "33842          http://vocab.getty.edu/page/aat/300375726   \n",
       "33844  http://vocab.getty.edu/page/aat/300132410|http...   \n",
       "33903          http://vocab.getty.edu/page/aat/300008795   \n",
       "34025          http://vocab.getty.edu/page/aat/300250148   \n",
       "34039  http://vocab.getty.edu/page/aat/300008795|http...   \n",
       "34042          http://vocab.getty.edu/page/aat/300266660   \n",
       "34057  http://vocab.getty.edu/page/aat/300266506|http...   \n",
       "34158  http://vocab.getty.edu/page/aat/300025928|http...   \n",
       "34181  http://vocab.getty.edu/page/aat/300002660|http...   \n",
       "36151  http://vocab.getty.edu/page/aat/300073738|http...   \n",
       "36152  http://vocab.getty.edu/page/aat/300073738|http...   \n",
       "36167  http://vocab.getty.edu/page/aat/300025943|http...   \n",
       "36172          http://vocab.getty.edu/page/aat/300011892   \n",
       "36215                                                NaN   \n",
       "36602  http://vocab.getty.edu/page/aat/300073738|http...   \n",
       "42057  http://vocab.getty.edu/page/aat/300025928|http...   \n",
       "42236  http://vocab.getty.edu/page/aat/300008795|http...   \n",
       "52571          http://vocab.getty.edu/page/aat/300375726   \n",
       "64960                                                NaN   \n",
       "\n",
       "                                       Tags Wikidata URL  \n",
       "30457  https://www.wikidata.org/wiki/Q482|https://www...  \n",
       "33815                https://www.wikidata.org/wiki/Q7559  \n",
       "33827                https://www.wikidata.org/wiki/Q7559  \n",
       "33842                https://www.wikidata.org/wiki/Q7559  \n",
       "33844  https://www.wikidata.org/wiki/Q10884|https://w...  \n",
       "33903                https://www.wikidata.org/wiki/Q8502  \n",
       "34025                 https://www.wikidata.org/wiki/Q726  \n",
       "34039  https://www.wikidata.org/wiki/Q8502|https://ww...  \n",
       "34042               https://www.wikidata.org/wiki/Q12681  \n",
       "34057  https://www.wikidata.org/wiki/Q5113|https://ww...  \n",
       "34158  https://www.wikidata.org/wiki/Q8441|https://ww...  \n",
       "34181  https://www.wikidata.org/wiki/Q276173|https://...  \n",
       "36151  https://www.wikidata.org/wiki/Q748|https://www...  \n",
       "36152  https://www.wikidata.org/wiki/Q748|https://www...  \n",
       "36167  https://www.wikidata.org/wiki/Q467|https://www...  \n",
       "36172               https://www.wikidata.org/wiki/Q33971  \n",
       "36215                                                NaN  \n",
       "36602  https://www.wikidata.org/wiki/Q748|https://www...  \n",
       "42057  https://www.wikidata.org/wiki/Q8441|https://ww...  \n",
       "42236  https://www.wikidata.org/wiki/Q8502|https://ww...  \n",
       "52571                https://www.wikidata.org/wiki/Q7559  \n",
       "64960                                                NaN  "
      ]
     },
     "execution_count": 72,
     "metadata": {},
     "output_type": "execute_result"
    }
   ],
   "source": [
    "met_china_art"
   ]
  },
  {
   "cell_type": "code",
   "execution_count": 11,
   "metadata": {
    "tags": []
   },
   "outputs": [],
   "source": []
  },
  {
   "cell_type": "code",
   "execution_count": 13,
   "metadata": {
    "tags": []
   },
   "outputs": [
    {
     "data": {
      "text/html": [
       "<div>\n",
       "<style scoped>\n",
       "    .dataframe tbody tr th:only-of-type {\n",
       "        vertical-align: middle;\n",
       "    }\n",
       "\n",
       "    .dataframe tbody tr th {\n",
       "        vertical-align: top;\n",
       "    }\n",
       "\n",
       "    .dataframe thead th {\n",
       "        text-align: right;\n",
       "    }\n",
       "</style>\n",
       "<table border=\"1\" class=\"dataframe\">\n",
       "  <thead>\n",
       "    <tr style=\"text-align: right;\">\n",
       "      <th></th>\n",
       "      <th>ConstituentID</th>\n",
       "      <th>DisplayName</th>\n",
       "      <th>ArtistBio</th>\n",
       "      <th>Nationality</th>\n",
       "      <th>Gender</th>\n",
       "      <th>BeginDate</th>\n",
       "      <th>EndDate</th>\n",
       "      <th>Wiki QID</th>\n",
       "      <th>ULAN</th>\n",
       "    </tr>\n",
       "  </thead>\n",
       "  <tbody>\n",
       "    <tr>\n",
       "      <th>0</th>\n",
       "      <td>1</td>\n",
       "      <td>Robert Arneson</td>\n",
       "      <td>American, 1930–1992</td>\n",
       "      <td>American</td>\n",
       "      <td>Male</td>\n",
       "      <td>1930</td>\n",
       "      <td>1992</td>\n",
       "      <td>NaN</td>\n",
       "      <td>NaN</td>\n",
       "    </tr>\n",
       "    <tr>\n",
       "      <th>1</th>\n",
       "      <td>2</td>\n",
       "      <td>Doroteo Arnaiz</td>\n",
       "      <td>Spanish, born 1936</td>\n",
       "      <td>Spanish</td>\n",
       "      <td>Male</td>\n",
       "      <td>1936</td>\n",
       "      <td>0</td>\n",
       "      <td>NaN</td>\n",
       "      <td>NaN</td>\n",
       "    </tr>\n",
       "    <tr>\n",
       "      <th>2</th>\n",
       "      <td>3</td>\n",
       "      <td>Bill Arnold</td>\n",
       "      <td>American, born 1941</td>\n",
       "      <td>American</td>\n",
       "      <td>Male</td>\n",
       "      <td>1941</td>\n",
       "      <td>0</td>\n",
       "      <td>NaN</td>\n",
       "      <td>NaN</td>\n",
       "    </tr>\n",
       "    <tr>\n",
       "      <th>3</th>\n",
       "      <td>4</td>\n",
       "      <td>Charles Arnoldi</td>\n",
       "      <td>American, born 1946</td>\n",
       "      <td>American</td>\n",
       "      <td>Male</td>\n",
       "      <td>1946</td>\n",
       "      <td>0</td>\n",
       "      <td>Q1063584</td>\n",
       "      <td>500027998.0</td>\n",
       "    </tr>\n",
       "    <tr>\n",
       "      <th>4</th>\n",
       "      <td>5</td>\n",
       "      <td>Per Arnoldi</td>\n",
       "      <td>Danish, born 1941</td>\n",
       "      <td>Danish</td>\n",
       "      <td>Male</td>\n",
       "      <td>1941</td>\n",
       "      <td>0</td>\n",
       "      <td>NaN</td>\n",
       "      <td>NaN</td>\n",
       "    </tr>\n",
       "  </tbody>\n",
       "</table>\n",
       "</div>"
      ],
      "text/plain": [
       "   ConstituentID      DisplayName            ArtistBio Nationality Gender  \\\n",
       "0              1   Robert Arneson  American, 1930–1992    American   Male   \n",
       "1              2   Doroteo Arnaiz   Spanish, born 1936     Spanish   Male   \n",
       "2              3      Bill Arnold  American, born 1941    American   Male   \n",
       "3              4  Charles Arnoldi  American, born 1946    American   Male   \n",
       "4              5      Per Arnoldi    Danish, born 1941      Danish   Male   \n",
       "\n",
       "   BeginDate  EndDate  Wiki QID         ULAN  \n",
       "0       1930     1992       NaN          NaN  \n",
       "1       1936        0       NaN          NaN  \n",
       "2       1941        0       NaN          NaN  \n",
       "3       1946        0  Q1063584  500027998.0  \n",
       "4       1941        0       NaN          NaN  "
      ]
     },
     "execution_count": 13,
     "metadata": {},
     "output_type": "execute_result"
    }
   ],
   "source": [
    "moma_artist.head()"
   ]
  },
  {
   "cell_type": "markdown",
   "metadata": {},
   "source": [
    "## 2.2 British Museum and VAM - Access Search Result Download "
   ]
  },
  {
   "cell_type": "code",
   "execution_count": null,
   "metadata": {},
   "outputs": [],
   "source": []
  },
  {
   "cell_type": "code",
   "execution_count": null,
   "metadata": {},
   "outputs": [],
   "source": []
  },
  {
   "cell_type": "markdown",
   "metadata": {},
   "source": [
    "## 2.3 Web Scrapping - Philadelphia Museum of Art as an example "
   ]
  },
  {
   "cell_type": "code",
   "execution_count": null,
   "metadata": {},
   "outputs": [],
   "source": []
  },
  {
   "cell_type": "code",
   "execution_count": null,
   "metadata": {},
   "outputs": [],
   "source": []
  }
 ],
 "metadata": {
  "kernelspec": {
   "display_name": "Python 3 (ipykernel)",
   "language": "python",
   "name": "python3"
  },
  "language_info": {
   "codemirror_mode": {
    "name": "ipython",
    "version": 3
   },
   "file_extension": ".py",
   "mimetype": "text/x-python",
   "name": "python",
   "nbconvert_exporter": "python",
   "pygments_lexer": "ipython3",
   "version": "3.10.12"
  },
  "vscode": {
   "interpreter": {
    "hash": "31f2aee4e71d21fbe5cf8b01ff0e069b9275f58929596ceb00d14d90e3e16cd6"
   }
  }
 },
 "nbformat": 4,
 "nbformat_minor": 4
}
